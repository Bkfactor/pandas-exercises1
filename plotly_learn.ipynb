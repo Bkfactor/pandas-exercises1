{
 "cells": [
  {
   "cell_type": "code",
   "execution_count": 1,
   "id": "a5dda995-16e2-4445-b6d7-cdae989ed294",
   "metadata": {},
   "outputs": [],
   "source": [
    "import numpy as np\n",
    "import pandas as pd"
   ]
  },
  {
   "cell_type": "code",
   "execution_count": 2,
   "id": "cc7e6d72-721b-4aae-a94f-5100e7f7365d",
   "metadata": {},
   "outputs": [
    {
     "name": "stdout",
     "output_type": "stream",
     "text": [
      "5.24.1\n"
     ]
    }
   ],
   "source": [
    "import plotly\n",
    "print(plotly.__version__)\n"
   ]
  },
  {
   "cell_type": "code",
   "execution_count": 3,
   "id": "88925a1a-da5b-4810-850c-4a4150b52059",
   "metadata": {},
   "outputs": [],
   "source": [
    "import cufflinks as cf"
   ]
  },
  {
   "cell_type": "code",
   "execution_count": 4,
   "id": "0ecb8f27-f2e5-439c-bc54-80a7e0c80f43",
   "metadata": {},
   "outputs": [],
   "source": [
    "from plotly.offline import download_plotlyjs,init_notebook_mode,plot,iplot"
   ]
  },
  {
   "cell_type": "code",
   "execution_count": 5,
   "id": "bb91d43b-d49c-4980-afe3-6cdb3f123ed6",
   "metadata": {},
   "outputs": [
    {
     "data": {
      "text/html": [
       "        <script type=\"text/javascript\">\n",
       "        window.PlotlyConfig = {MathJaxConfig: 'local'};\n",
       "        if (window.MathJax && window.MathJax.Hub && window.MathJax.Hub.Config) {window.MathJax.Hub.Config({SVG: {font: \"STIX-Web\"}});}\n",
       "        if (typeof require !== 'undefined') {\n",
       "        require.undef(\"plotly\");\n",
       "        requirejs.config({\n",
       "            paths: {\n",
       "                'plotly': ['https://cdn.plot.ly/plotly-2.35.2.min']\n",
       "            }\n",
       "        });\n",
       "        require(['plotly'], function(Plotly) {\n",
       "            window._Plotly = Plotly;\n",
       "        });\n",
       "        }\n",
       "        </script>\n",
       "        "
      ]
     },
     "metadata": {},
     "output_type": "display_data"
    }
   ],
   "source": [
    "init_notebook_mode(connected=True)"
   ]
  },
  {
   "cell_type": "code",
   "execution_count": 6,
   "id": "71595548-b778-4768-bc12-1fc30113788e",
   "metadata": {},
   "outputs": [
    {
     "data": {
      "text/html": [
       "        <script type=\"text/javascript\">\n",
       "        window.PlotlyConfig = {MathJaxConfig: 'local'};\n",
       "        if (window.MathJax && window.MathJax.Hub && window.MathJax.Hub.Config) {window.MathJax.Hub.Config({SVG: {font: \"STIX-Web\"}});}\n",
       "        if (typeof require !== 'undefined') {\n",
       "        require.undef(\"plotly\");\n",
       "        requirejs.config({\n",
       "            paths: {\n",
       "                'plotly': ['https://cdn.plot.ly/plotly-2.35.2.min']\n",
       "            }\n",
       "        });\n",
       "        require(['plotly'], function(Plotly) {\n",
       "            window._Plotly = Plotly;\n",
       "        });\n",
       "        }\n",
       "        </script>\n",
       "        "
      ]
     },
     "metadata": {},
     "output_type": "display_data"
    }
   ],
   "source": [
    "cf.go_offline()"
   ]
  },
  {
   "cell_type": "code",
   "execution_count": 7,
   "id": "d0fb37d1-9fea-45dc-82a6-75af6ce8c2cc",
   "metadata": {},
   "outputs": [],
   "source": [
    "df=pd.DataFrame(np.random.randn(100,4),columns=['John','Doe','Jane','Alice'])"
   ]
  },
  {
   "cell_type": "code",
   "execution_count": 8,
   "id": "22b36ea3-c5a5-462a-bb92-171db9051892",
   "metadata": {},
   "outputs": [
    {
     "data": {
      "text/html": [
       "<div>\n",
       "<style scoped>\n",
       "    .dataframe tbody tr th:only-of-type {\n",
       "        vertical-align: middle;\n",
       "    }\n",
       "\n",
       "    .dataframe tbody tr th {\n",
       "        vertical-align: top;\n",
       "    }\n",
       "\n",
       "    .dataframe thead th {\n",
       "        text-align: right;\n",
       "    }\n",
       "</style>\n",
       "<table border=\"1\" class=\"dataframe\">\n",
       "  <thead>\n",
       "    <tr style=\"text-align: right;\">\n",
       "      <th></th>\n",
       "      <th>John</th>\n",
       "      <th>Doe</th>\n",
       "      <th>Jane</th>\n",
       "      <th>Alice</th>\n",
       "    </tr>\n",
       "  </thead>\n",
       "  <tbody>\n",
       "    <tr>\n",
       "      <th>0</th>\n",
       "      <td>0.019643</td>\n",
       "      <td>0.189323</td>\n",
       "      <td>0.020344</td>\n",
       "      <td>0.249370</td>\n",
       "    </tr>\n",
       "    <tr>\n",
       "      <th>1</th>\n",
       "      <td>0.510298</td>\n",
       "      <td>1.328166</td>\n",
       "      <td>0.346207</td>\n",
       "      <td>-1.291424</td>\n",
       "    </tr>\n",
       "    <tr>\n",
       "      <th>2</th>\n",
       "      <td>0.244493</td>\n",
       "      <td>0.082604</td>\n",
       "      <td>0.174759</td>\n",
       "      <td>-0.488401</td>\n",
       "    </tr>\n",
       "    <tr>\n",
       "      <th>3</th>\n",
       "      <td>-0.099644</td>\n",
       "      <td>0.197663</td>\n",
       "      <td>1.509063</td>\n",
       "      <td>0.953261</td>\n",
       "    </tr>\n",
       "    <tr>\n",
       "      <th>4</th>\n",
       "      <td>-0.833630</td>\n",
       "      <td>-1.351976</td>\n",
       "      <td>-0.412221</td>\n",
       "      <td>2.347701</td>\n",
       "    </tr>\n",
       "    <tr>\n",
       "      <th>...</th>\n",
       "      <td>...</td>\n",
       "      <td>...</td>\n",
       "      <td>...</td>\n",
       "      <td>...</td>\n",
       "    </tr>\n",
       "    <tr>\n",
       "      <th>95</th>\n",
       "      <td>0.482978</td>\n",
       "      <td>-0.538102</td>\n",
       "      <td>-0.882089</td>\n",
       "      <td>0.093090</td>\n",
       "    </tr>\n",
       "    <tr>\n",
       "      <th>96</th>\n",
       "      <td>1.508427</td>\n",
       "      <td>-0.513215</td>\n",
       "      <td>-0.357131</td>\n",
       "      <td>0.774276</td>\n",
       "    </tr>\n",
       "    <tr>\n",
       "      <th>97</th>\n",
       "      <td>-1.917566</td>\n",
       "      <td>-0.310656</td>\n",
       "      <td>0.006772</td>\n",
       "      <td>0.616844</td>\n",
       "    </tr>\n",
       "    <tr>\n",
       "      <th>98</th>\n",
       "      <td>-0.741375</td>\n",
       "      <td>0.894469</td>\n",
       "      <td>0.109353</td>\n",
       "      <td>-0.762326</td>\n",
       "    </tr>\n",
       "    <tr>\n",
       "      <th>99</th>\n",
       "      <td>-0.139802</td>\n",
       "      <td>-0.513230</td>\n",
       "      <td>1.359680</td>\n",
       "      <td>-0.733000</td>\n",
       "    </tr>\n",
       "  </tbody>\n",
       "</table>\n",
       "<p>100 rows × 4 columns</p>\n",
       "</div>"
      ],
      "text/plain": [
       "        John       Doe      Jane     Alice\n",
       "0   0.019643  0.189323  0.020344  0.249370\n",
       "1   0.510298  1.328166  0.346207 -1.291424\n",
       "2   0.244493  0.082604  0.174759 -0.488401\n",
       "3  -0.099644  0.197663  1.509063  0.953261\n",
       "4  -0.833630 -1.351976 -0.412221  2.347701\n",
       "..       ...       ...       ...       ...\n",
       "95  0.482978 -0.538102 -0.882089  0.093090\n",
       "96  1.508427 -0.513215 -0.357131  0.774276\n",
       "97 -1.917566 -0.310656  0.006772  0.616844\n",
       "98 -0.741375  0.894469  0.109353 -0.762326\n",
       "99 -0.139802 -0.513230  1.359680 -0.733000\n",
       "\n",
       "[100 rows x 4 columns]"
      ]
     },
     "execution_count": 8,
     "metadata": {},
     "output_type": "execute_result"
    }
   ],
   "source": [
    "df"
   ]
  },
  {
   "cell_type": "code",
   "execution_count": 9,
   "id": "1ff0301e-3492-43f3-8216-b1090e39c5a5",
   "metadata": {},
   "outputs": [],
   "source": [
    "df2=pd.DataFrame({'Category':['John','Doe','Jane','Alice'],'Values':[55,73,98,125]})"
   ]
  },
  {
   "cell_type": "code",
   "execution_count": 10,
   "id": "fa6121ee-8fb7-439b-9021-0ec970d9cb65",
   "metadata": {},
   "outputs": [
    {
     "data": {
      "text/plain": [
       "<Axes: >"
      ]
     },
     "execution_count": 10,
     "metadata": {},
     "output_type": "execute_result"
    },
    {
     "data": {
      "image/png": "[encoded data removed]",
      "text/plain": [
       "<Figure size 640x480 with 1 Axes>"
      ]
     },
     "metadata": {},
     "output_type": "display_data"
    }
   ],
   "source": [
    "df.plot()"
   ]
  },
  {
   "cell_type": "code",
   "execution_count": 11,
   "id": "4c7c1cbb-f77f-464b-80c1-94a1a8588376",
   "metadata": {},
   "outputs": [
    {
     "data": {
      "application/vnd.plotly.v1+json": {
       "config": {
        "linkText": "Export to plot.ly",
        "plotlyServerURL": "https://plot.ly",
        "showLink": true
       },
       "data": [
        {
         "line": {
          "color": "rgba(255, 153, 51, 1.0)",
          "dash": "solid",
          "shape": "linear",
          "width": 1.3
         },
         "mode": "lines",
         "name": "John",
         "text": "",
         "type": "scatter",
         "x": [
          0,
          1,
          2,
          3,
          4,
          5,
          6,
          7,
          8,
          9,
          10,
          11,
          12,
          13,
          14,
          15,
          16,
          17,
          18,
          19,
          20,
          21,
          22,
          23,
          24,
          25,
          26,
          27,
          28,
          29,
          30,
          31,
          32,
          33,
          34,
          35,
          36,
          37,
          38,
          39,
          40,
          41,
          42,
          43,
          44,
          45,
          46,
          47,
          48,
          49,
          50,
          51,
          52,
          53,
          54,
          55,
          56,
          57,
          58,
          59,
          60,
          61,
          62,
          63,
          64,
          65,
          66,
          67,
          68,
          69,
          70,
          71,
          72,
          73,
          74,
          75,
          76,
          77,
          78,
          79,
          80,
          81,
          82,
          83,
          84,
          85,
          86,
          87,
          88,
          89,
          90,
          91,
          92,
          93,
          94,
          95,
          96,
          97,
          98,
          99
         ],
         "y": [
          0.019642646998532538,
          0.5102977624801204,
          0.24449280881659421,
          -0.09964374543098901,
          -0.8336301504091984,
          0.7633960938278734,
          0.008888279313414483,
          -0.04559506706851624,
          0.1928875749925488,
          0.03414630485056338,
          0.7264465808915783,
          1.0658884808652351,
          0.38523365088508876,
          1.5124214398730913,
          -1.6377485347546827,
          -0.7010980666045677,
          0.45739260615720606,
          0.4876140496185153,
          -1.0773443173458792,
          0.1156850759183294,
          -1.7276705506695154,
          -0.7605787719199244,
          -1.0185765341213795,
          -0.6973825682764789,
          0.6891443271530647,
          0.2866451570554162,
          -0.6019547431882285,
          1.0946069931759237,
          -0.25809283296644064,
          0.3711605045232904,
          2.016529005040461,
          1.4362079476882181,
          -1.8065697572276622,
          0.41709344375999546,
          -0.952273483938806,
          -0.33790763860390516,
          1.4653354860476666,
          -1.0364187829767437,
          -0.5958291555412103,
          -0.9095925468162066,
          -0.03443570936609096,
          0.41796253085085777,
          0.4985597267149191,
          1.256230814302931,
          0.3041815809519573,
          -0.7314944255391029,
          0.1347390648641512,
          0.36668711521731945,
          -1.345745456849986,
          -0.3024870212580657,
          0.38946023142969144,
          -2.2080623777024857,
          0.14690798112419792,
          -0.10214577252644914,
          -0.7558190914775792,
          1.636096524673409,
          -0.9350054629918986,
          -0.834717261048946,
          0.9042211849377907,
          -0.970097819261639,
          0.08302084353049828,
          0.122533351733746,
          -0.5668598556840447,
          1.2122897430202741,
          -0.2628230583023596,
          -1.319033630348968,
          -1.2725064526718661,
          2.0358158967569318,
          -0.8468257533048923,
          1.4882729870233895,
          -1.2205022462300505,
          -0.05757188230792311,
          1.367768040891796,
          -0.19921297667841037,
          0.4697389292048797,
          -1.3381417318782258,
          0.6524847805507301,
          -1.7994321764509653,
          -1.077881485573476,
          -1.3625099426155498,
          0.045648147491829216,
          0.563618810148228,
          -0.4786892358293386,
          0.47606615646569794,
          -0.8543313928147953,
          0.0925095317870382,
          -0.21597284215262857,
          0.4834183462334682,
          -0.9360044456206287,
          -0.6269954947934127,
          2.1712068293506985,
          0.016129286645642983,
          -0.8759971648778004,
          1.1406389788304063,
          -1.500404007263379,
          0.4829784953373957,
          1.5084272190275951,
          -1.9175664929088536,
          -0.7413752267077025,
          -0.13980204256336462
         ]
        },
        {
         "line": {
          "color": "rgba(55, 128, 191, 1.0)",
          "dash": "solid",
          "shape": "linear",
          "width": 1.3
         },
         "mode": "lines",
         "name": "Doe",
         "text": "",
         "type": "scatter",
         "x": [
          0,
          1,
          2,
          3,
          4,
          5,
          6,
          7,
          8,
          9,
          10,
          11,
          12,
          13,
          14,
          15,
          16,
          17,
          18,
          19,
          20,
          21,
          22,
          23,
          24,
          25,
          26,
          27,
          28,
          29,
          30,
          31,
          32,
          33,
          34,
          35,
          36,
          37,
          38,
          39,
          40,
          41,
          42,
          43,
          44,
          45,
          46,
          47,
          48,
          49,
          50,
          51,
          52,
          53,
          54,
          55,
          56,
          57,
          58,
          59,
          60,
          61,
          62,
          63,
          64,
          65,
          66,
          67,
          68,
          69,
          70,
          71,
          72,
          73,
          74,
          75,
          76,
          77,
          78,
          79,
          80,
          81,
          82,
          83,
          84,
          85,
          86,
          87,
          88,
          89,
          90,
          91,
          92,
          93,
          94,
          95,
          96,
          97,
          98,
          99
         ],
         "y": [
          0.18932288313259496,
          1.3281660265941044,
          0.08260420682700166,
          0.19766344985332351,
          -1.3519755938004667,
          0.7152547986319213,
          2.1061290065425045,
          -0.4536884731298851,
          -1.314290670147277,
          1.2162156869830907,
          0.38627757098814897,
          1.0778958970219656,
          1.0172005524466166,
          -0.8363987977283873,
          0.6219718214710519,
          -0.10941421275248397,
          0.1834145301165497,
          1.6905631473724685,
          0.2830379714000602,
          0.8209176571110884,
          0.2712601644922478,
          2.6709808829839905,
          -0.038019966272632134,
          -0.800964216187689,
          -0.9772594874158484,
          -0.9996924316330814,
          0.6757843694951967,
          -0.9172910777638664,
          0.21534798195889704,
          -0.6649356062395503,
          -1.2190835483281803,
          1.6237785328878958,
          -0.17059875405261618,
          0.5863516626635352,
          -0.10759342108696314,
          -0.593705778613284,
          0.8306281292382299,
          2.1589815543497193,
          -1.0911341602641766,
          -0.40761643718218465,
          -2.383684095369639,
          0.009333505772728184,
          0.08093342989807364,
          -0.33071099419622413,
          -0.26004567740817947,
          -0.06395831153582572,
          -0.5989402137637061,
          -0.6142660522286667,
          -2.1372805837605546,
          1.5015600737392012,
          -1.4841755895742048,
          -0.4063083689229514,
          -1.4867589787693356,
          -0.7562643323620777,
          0.4865696831994064,
          -0.6436237599111508,
          -0.05723995074100056,
          0.41887052392231416,
          0.3141993864196437,
          -0.24322500286511342,
          0.7610647654161666,
          -0.5576576400296814,
          -0.01206385658904262,
          -0.9750812100109979,
          0.684081164985671,
          -1.5261851048875195,
          0.37714545839915764,
          -0.8713897574661608,
          -0.2241657499226878,
          -0.6870427813507797,
          -0.47336276072954436,
          0.26368992576199496,
          -0.20034751046151145,
          0.45876070741422004,
          -0.16879611580477616,
          1.576773398907753,
          0.30704353862755446,
          -0.4911660185041354,
          0.6111210148978148,
          -2.213938060785341,
          0.020347578904885685,
          -0.5256163213064886,
          -1.693539773930717,
          -0.2737625049855568,
          1.1277007342060812,
          -0.4849370930878959,
          -0.5219300157008511,
          -1.112720153303619,
          1.4405568615058983,
          -1.7859008692500788,
          1.2443992275160747,
          -0.3448053249356195,
          -1.1315614753988137,
          0.40563336698552666,
          0.4595262640725895,
          -0.5381022646055008,
          -0.5132149097842915,
          -0.31065608999022215,
          0.8944689282816258,
          -0.5132298585680108
         ]
        },
        {
         "line": {
          "color": "rgba(50, 171, 96, 1.0)",
          "dash": "solid",
          "shape": "linear",
          "width": 1.3
         },
         "mode": "lines",
         "name": "Jane",
         "text": "",
         "type": "scatter",
         "x": [
          0,
          1,
          2,
          3,
          4,
          5,
          6,
          7,
          8,
          9,
          10,
          11,
          12,
          13,
          14,
          15,
          16,
          17,
          18,
          19,
          20,
          21,
          22,
          23,
          24,
          25,
          26,
          27,
          28,
          29,
          30,
          31,
          32,
          33,
          34,
          35,
          36,
          37,
          38,
          39,
          40,
          41,
          42,
          43,
          44,
          45,
          46,
          47,
          48,
          49,
          50,
          51,
          52,
          53,
          54,
          55,
          56,
          57,
          58,
          59,
          60,
          61,
          62,
          63,
          64,
          65,
          66,
          67,
          68,
          69,
          70,
          71,
          72,
          73,
          74,
          75,
          76,
          77,
          78,
          79,
          80,
          81,
          82,
          83,
          84,
          85,
          86,
          87,
          88,
          89,
          90,
          91,
          92,
          93,
          94,
          95,
          96,
          97,
          98,
          99
         ],
         "y": [
          0.020344460919605414,
          0.3462067161994248,
          0.17475916773203,
          1.5090626015195374,
          -0.4122208025818858,
          1.325337250095666,
          1.029866726130267,
          0.35064166507739725,
          0.9018799479323362,
          0.5046379467013828,
          0.534879942562968,
          0.10842387462848369,
          0.588422036103608,
          -0.01982207886584693,
          -0.6602670412667222,
          2.0594232095291405,
          -1.0664536958778772,
          0.9971590272421421,
          -0.419793450722026,
          -0.2868524725708644,
          1.5868280287464456,
          1.3642100845066147,
          0.4340492999209859,
          0.45187959111753234,
          0.7078472047688987,
          0.09622795159705001,
          -1.1278129617893926,
          0.9977539884117823,
          0.3898509544393391,
          -1.4453076915556564,
          -1.576959872160643,
          -1.7046069712375977,
          -0.9231990158881069,
          -1.539771719932798,
          0.1566058015997379,
          0.9036201624310277,
          0.40922130611714763,
          -0.614293801940151,
          -0.6273421217949555,
          1.2278507854586656,
          -0.6407675535419343,
          0.6540944755362336,
          0.7604357209718133,
          -1.5958031294720738,
          0.6384119218048553,
          1.6936312784352094,
          0.027377691105506207,
          0.5974207515989416,
          0.9732777312488076,
          -0.7983686208973904,
          -0.45929109595605755,
          0.42291223822053114,
          -0.3962140944152771,
          -2.0538570270466128,
          0.8055831452517226,
          0.08283220045954048,
          -2.0530799664162123,
          0.99407542444314,
          -0.6081559207174255,
          -0.6100039706517446,
          -0.059202928282162136,
          0.7638558716751972,
          1.5591072081500168,
          0.1407648608438338,
          0.1305287174305653,
          -0.24890282654787316,
          0.1960182491909555,
          -0.7395354388428351,
          -0.4900693987853215,
          -0.5829714807721302,
          0.4102840775139383,
          -0.8148124122744025,
          -0.0925608094388613,
          0.28783455859141643,
          -0.14238079545525237,
          -0.6251148156843083,
          0.6926933942593309,
          1.1229363887483916,
          -0.3104205138275535,
          1.2285728076630065,
          0.7072976367701932,
          -0.451354424910134,
          0.8305601329639444,
          1.6559291353284744,
          -0.331227360650665,
          0.45302812066839865,
          -0.4871842256267353,
          -2.0964124991912985,
          -0.6806087424626511,
          0.058105948903216506,
          3.202042974898475,
          -0.7410960417431232,
          0.18837589717535844,
          -0.31757443030843835,
          -0.09035881966556931,
          -0.8820890438553275,
          -0.357131255166717,
          0.006772012697767498,
          0.10935341583295807,
          1.359680187829212
         ]
        },
        {
         "line": {
          "color": "rgba(128, 0, 128, 1.0)",
          "dash": "solid",
          "shape": "linear",
          "width": 1.3
         },
         "mode": "lines",
         "name": "Alice",
         "text": "",
         "type": "scatter",
         "x": [
          0,
          1,
          2,
          3,
          4,
          5,
          6,
          7,
          8,
          9,
          10,
          11,
          12,
          13,
          14,
          15,
          16,
          17,
          18,
          19,
          20,
          21,
          22,
          23,
          24,
          25,
          26,
          27,
          28,
          29,
          30,
          31,
          32,
          33,
          34,
          35,
          36,
          37,
          38,
          39,
          40,
          41,
          42,
          43,
          44,
          45,
          46,
          47,
          48,
          49,
          50,
          51,
          52,
          53,
          54,
          55,
          56,
          57,
          58,
          59,
          60,
          61,
          62,
          63,
          64,
          65,
          66,
          67,
          68,
          69,
          70,
          71,
          72,
          73,
          74,
          75,
          76,
          77,
          78,
          79,
          80,
          81,
          82,
          83,
          84,
          85,
          86,
          87,
          88,
          89,
          90,
          91,
          92,
          93,
          94,
          95,
          96,
          97,
          98,
          99
         ],
         "y": [
          0.24937027334314316,
          -1.291424215603698,
          -0.4884012392345033,
          0.9532605534879363,
          2.3477005384206446,
          -1.0144239588546686,
          0.977099564603622,
          0.6168188802196694,
          -0.47560848458068333,
          0.8824737194957732,
          -1.4446977790153614,
          0.12627289529585273,
          0.24452288567558209,
          1.4803110759003795,
          1.8756290628133423,
          1.508162373590915,
          1.599052533345483,
          0.2618922581459752,
          2.12104217913582,
          0.808950397331336,
          -1.109094108308861,
          1.602083088917013,
          1.5768855759488984,
          1.005546370581314,
          -0.028537663788296124,
          -0.9521565165466842,
          -0.2694289632388691,
          0.33914099158362493,
          1.4848879735793097,
          -0.15952953831767577,
          0.5182428314779433,
          1.1493720658921305,
          0.30439104363373704,
          2.205722994703418,
          -0.9470086306875309,
          1.177834410972747,
          -0.9282409641187047,
          -1.1566182571832813,
          -0.5294052252444668,
          0.902653589829433,
          1.483146465740587,
          0.03747260476148352,
          -1.9110923237948987,
          -0.6612479030226804,
          0.5060241559272375,
          -1.7917820122316197,
          -0.4334998009209104,
          -1.6900226944935148,
          0.32390106016061765,
          -1.7753081467012586,
          1.7314152310140727,
          1.105940310866183,
          1.1211825454639375,
          -1.6068916682728345,
          -0.720547522323849,
          0.18068597517981844,
          -1.955738411816919,
          0.6726488254609667,
          0.5008582854675393,
          -0.6348169547283224,
          0.7258906936858436,
          -1.6280533559714265,
          -0.8452387063567807,
          -1.3127124095500966,
          1.4963497910833603,
          -0.27598207528628477,
          -0.22898495696167098,
          3.2675260228973384,
          -0.1862118745000819,
          0.352276323220306,
          0.29507517067968014,
          -0.3942808789972401,
          1.0284427652707993,
          1.2898001084397912,
          0.7705846439237007,
          -0.07355561105383403,
          -0.8449567375803194,
          -0.2530211972433086,
          -0.554226570610661,
          1.3099790240284408,
          -1.4976695060801464,
          -0.584939513569232,
          1.5641595185858919,
          1.018081520470552,
          1.4032815131925347,
          -0.6098160950068922,
          1.7619258459944727,
          -0.10746200784864435,
          -1.5375281243471617,
          -1.922579834123578,
          -0.8169181127599872,
          -0.0786697122584202,
          0.7677043271127714,
          0.33516517396777745,
          0.08496112422441039,
          0.09309029552920575,
          0.774275523501191,
          0.6168438544923766,
          -0.762326463653972,
          -0.7329996342331008
         ]
        }
       ],
       "layout": {
        "legend": {
         "bgcolor": "#F5F6F9",
         "font": {
          "color": "#4D5663"
         }
        },
        "paper_bgcolor": "#F5F6F9",
        "plot_bgcolor": "#F5F6F9",
        "template": {
         "data": {
          "bar": [
           {
            "error_x": {
             "color": "#2a3f5f"
            },
            "error_y": {
             "color": "#2a3f5f"
            },
            "marker": {
             "line": {
              "color": "#E5ECF6",
              "width": 0.5
             },
             "pattern": {
              "fillmode": "overlay",
              "size": 10,
              "solidity": 0.2
             }
            },
            "type": "bar"
           }
          ],
          "barpolar": [
           {
            "marker": {
             "line": {
              "color": "#E5ECF6",
              "width": 0.5
             },
             "pattern": {
              "fillmode": "overlay",
              "size": 10,
              "solidity": 0.2
             }
            },
            "type": "barpolar"
           }
          ],
          "carpet": [
           {
            "aaxis": {
             "endlinecolor": "#2a3f5f",
             "gridcolor": "white",
             "linecolor": "white",
             "minorgridcolor": "white",
             "startlinecolor": "#2a3f5f"
            },
            "baxis": {
             "endlinecolor": "#2a3f5f",
             "gridcolor": "white",
             "linecolor": "white",
             "minorgridcolor": "white",
             "startlinecolor": "#2a3f5f"
            },
            "type": "carpet"
           }
          ],
          "choropleth": [
           {
            "colorbar": {
             "outlinewidth": 0,
             "ticks": ""
            },
            "type": "choropleth"
           }
          ],
          "contour": [
           {
            "colorbar": {
             "outlinewidth": 0,
             "ticks": ""
            },
            "colorscale": [
             [
              0,
              "#0d0887"
             ],
             [
              0.1111111111111111,
              "#46039f"
             ],
             [
              0.2222222222222222,
              "#7201a8"
             ],
             [
              0.3333333333333333,
              "#9c179e"
             ],
             [
              0.4444444444444444,
              "#bd3786"
             ],
             [
              0.5555555555555556,
              "#d8576b"
             ],
             [
              0.6666666666666666,
              "#ed7953"
             ],
             [
              0.7777777777777778,
              "#fb9f3a"
             ],
             [
              0.8888888888888888,
              "#fdca26"
             ],
             [
              1,
              "#f0f921"
             ]
            ],
            "type": "contour"
           }
          ],
          "contourcarpet": [
           {
            "colorbar": {
             "outlinewidth": 0,
             "ticks": ""
            },
            "type": "contourcarpet"
           }
          ],
          "heatmap": [
           {
            "colorbar": {
             "outlinewidth": 0,
             "ticks": ""
            },
            "colorscale": [
             [
              0,
              "#0d0887"
             ],
             [
              0.1111111111111111,
              "#46039f"
             ],
             [
              0.2222222222222222,
              "#7201a8"
             ],
             [
              0.3333333333333333,
              "#9c179e"
             ],
             [
              0.4444444444444444,
              "#bd3786"
             ],
             [
              0.5555555555555556,
              "#d8576b"
             ],
             [
              0.6666666666666666,
              "#ed7953"
             ],
             [
              0.7777777777777778,
              "#fb9f3a"
             ],
             [
              0.8888888888888888,
              "#fdca26"
             ],
             [
              1,
              "#f0f921"
             ]
            ],
            "type": "heatmap"
           }
          ],
          "heatmapgl": [
           {
            "colorbar": {
             "outlinewidth": 0,
             "ticks": ""
            },
            "colorscale": [
             [
              0,
              "#0d0887"
             ],
             [
              0.1111111111111111,
              "#46039f"
             ],
             [
              0.2222222222222222,
              "#7201a8"
             ],
             [
              0.3333333333333333,
              "#9c179e"
             ],
             [
              0.4444444444444444,
              "#bd3786"
             ],
             [
              0.5555555555555556,
              "#d8576b"
             ],
             [
              0.6666666666666666,
              "#ed7953"
             ],
             [
              0.7777777777777778,
              "#fb9f3a"
             ],
             [
              0.8888888888888888,
              "#fdca26"
             ],
             [
              1,
              "#f0f921"
             ]
            ],
            "type": "heatmapgl"
           }
          ],
          "histogram": [
           {
            "marker": {
             "pattern": {
              "fillmode": "overlay",
              "size": 10,
              "solidity": 0.2
             }
            },
            "type": "histogram"
           }
          ],
          "histogram2d": [
           {
            "colorbar": {
             "outlinewidth": 0,
             "ticks": ""
            },
            "colorscale": [
             [
              0,
              "#0d0887"
             ],
             [
              0.1111111111111111,
              "#46039f"
             ],
             [
              0.2222222222222222,
              "#7201a8"
             ],
             [
              0.3333333333333333,
              "#9c179e"
             ],
             [
              0.4444444444444444,
              "#bd3786"
             ],
             [
              0.5555555555555556,
              "#d8576b"
             ],
             [
              0.6666666666666666,
              "#ed7953"
             ],
             [
              0.7777777777777778,
              "#fb9f3a"
             ],
             [
              0.8888888888888888,
              "#fdca26"
             ],
             [
              1,
              "#f0f921"
             ]
            ],
            "type": "histogram2d"
           }
          ],
          "histogram2dcontour": [
           {
            "colorbar": {
             "outlinewidth": 0,
             "ticks": ""
            },
            "colorscale": [
             [
              0,
              "#0d0887"
             ],
             [
              0.1111111111111111,
              "#46039f"
             ],
             [
              0.2222222222222222,
              "#7201a8"
             ],
             [
              0.3333333333333333,
              "#9c179e"
             ],
             [
              0.4444444444444444,
              "#bd3786"
             ],
             [
              0.5555555555555556,
              "#d8576b"
             ],
             [
              0.6666666666666666,
              "#ed7953"
             ],
             [
              0.7777777777777778,
              "#fb9f3a"
             ],
             [
              0.8888888888888888,
              "#fdca26"
             ],
             [
              1,
              "#f0f921"
             ]
            ],
            "type": "histogram2dcontour"
           }
          ],
          "mesh3d": [
           {
            "colorbar": {
             "outlinewidth": 0,
             "ticks": ""
            },
            "type": "mesh3d"
           }
          ],
          "parcoords": [
           {
            "line": {
             "colorbar": {
              "outlinewidth": 0,
              "ticks": ""
             }
            },
            "type": "parcoords"
           }
          ],
          "pie": [
           {
            "automargin": true,
            "type": "pie"
           }
          ],
          "scatter": [
           {
            "fillpattern": {
             "fillmode": "overlay",
             "size": 10,
             "solidity": 0.2
            },
            "type": "scatter"
           }
          ],
          "scatter3d": [
           {
            "line": {
             "colorbar": {
              "outlinewidth": 0,
              "ticks": ""
             }
            },
            "marker": {
             "colorbar": {
              "outlinewidth": 0,
              "ticks": ""
             }
            },
            "type": "scatter3d"
           }
          ],
          "scattercarpet": [
           {
            "marker": {
             "colorbar": {
              "outlinewidth": 0,
              "ticks": ""
             }
            },
            "type": "scattercarpet"
           }
          ],
          "scattergeo": [
           {
            "marker": {
             "colorbar": {
              "outlinewidth": 0,
              "ticks": ""
             }
            },
            "type": "scattergeo"
           }
          ],
          "scattergl": [
           {
            "marker": {
             "colorbar": {
              "outlinewidth": 0,
              "ticks": ""
             }
            },
            "type": "scattergl"
           }
          ],
          "scattermapbox": [
           {
            "marker": {
             "colorbar": {
              "outlinewidth": 0,
              "ticks": ""
             }
            },
            "type": "scattermapbox"
           }
          ],
          "scatterpolar": [
           {
            "marker": {
             "colorbar": {
              "outlinewidth": 0,
              "ticks": ""
             }
            },
            "type": "scatterpolar"
           }
          ],
          "scatterpolargl": [
           {
            "marker": {
             "colorbar": {
              "outlinewidth": 0,
              "ticks": ""
             }
            },
            "type": "scatterpolargl"
           }
          ],
          "scatterternary": [
           {
            "marker": {
             "colorbar": {
              "outlinewidth": 0,
              "ticks": ""
             }
            },
            "type": "scatterternary"
           }
          ],
          "surface": [
           {
            "colorbar": {
             "outlinewidth": 0,
             "ticks": ""
            },
            "colorscale": [
             [
              0,
              "#0d0887"
             ],
             [
              0.1111111111111111,
              "#46039f"
             ],
             [
              0.2222222222222222,
              "#7201a8"
             ],
             [
              0.3333333333333333,
              "#9c179e"
             ],
             [
              0.4444444444444444,
              "#bd3786"
             ],
             [
              0.5555555555555556,
              "#d8576b"
             ],
             [
              0.6666666666666666,
              "#ed7953"
             ],
             [
              0.7777777777777778,
              "#fb9f3a"
             ],
             [
              0.8888888888888888,
              "#fdca26"
             ],
             [
              1,
              "#f0f921"
             ]
            ],
            "type": "surface"
           }
          ],
          "table": [
           {
            "cells": {
             "fill": {
              "color": "#EBF0F8"
             },
             "line": {
              "color": "white"
             }
            },
            "header": {
             "fill": {
              "color": "#C8D4E3"
             },
             "line": {
              "color": "white"
             }
            },
            "type": "table"
           }
          ]
         },
         "layout": {
          "annotationdefaults": {
           "arrowcolor": "#2a3f5f",
           "arrowhead": 0,
           "arrowwidth": 1
          },
          "autotypenumbers": "strict",
          "coloraxis": {
           "colorbar": {
            "outlinewidth": 0,
            "ticks": ""
           }
          },
          "colorscale": {
           "diverging": [
            [
             0,
             "#8e0152"
            ],
            [
             0.1,
             "#c51b7d"
            ],
            [
             0.2,
             "#de77ae"
            ],
            [
             0.3,
             "#f1b6da"
            ],
            [
             0.4,
             "#fde0ef"
            ],
            [
             0.5,
             "#f7f7f7"
            ],
            [
             0.6,
             "#e6f5d0"
            ],
            [
             0.7,
             "#b8e186"
            ],
            [
             0.8,
             "#7fbc41"
            ],
            [
             0.9,
             "#4d9221"
            ],
            [
             1,
             "#276419"
            ]
           ],
           "sequential": [
            [
             0,
             "#0d0887"
            ],
            [
             0.1111111111111111,
             "#46039f"
            ],
            [
             0.2222222222222222,
             "#7201a8"
            ],
            [
             0.3333333333333333,
             "#9c179e"
            ],
            [
             0.4444444444444444,
             "#bd3786"
            ],
            [
             0.5555555555555556,
             "#d8576b"
            ],
            [
             0.6666666666666666,
             "#ed7953"
            ],
            [
             0.7777777777777778,
             "#fb9f3a"
            ],
            [
             0.8888888888888888,
             "#fdca26"
            ],
            [
             1,
             "#f0f921"
            ]
           ],
           "sequentialminus": [
            [
             0,
             "#0d0887"
            ],
            [
             0.1111111111111111,
             "#46039f"
            ],
            [
             0.2222222222222222,
             "#7201a8"
            ],
            [
             0.3333333333333333,
             "#9c179e"
            ],
            [
             0.4444444444444444,
             "#bd3786"
            ],
            [
             0.5555555555555556,
             "#d8576b"
            ],
            [
             0.6666666666666666,
             "#ed7953"
            ],
            [
             0.7777777777777778,
             "#fb9f3a"
            ],
            [
             0.8888888888888888,
             "#fdca26"
            ],
            [
             1,
             "#f0f921"
            ]
           ]
          },
          "colorway": [
           "#636efa",
           "#EF553B",
           "#00cc96",
           "#ab63fa",
           "#FFA15A",
           "#19d3f3",
           "#FF6692",
           "#B6E880",
           "#FF97FF",
           "#FECB52"
          ],
          "font": {
           "color": "#2a3f5f"
          },
          "geo": {
           "bgcolor": "white",
           "lakecolor": "white",
           "landcolor": "#E5ECF6",
           "showlakes": true,
           "showland": true,
           "subunitcolor": "white"
          },
          "hoverlabel": {
           "align": "left"
          },
          "hovermode": "closest",
          "mapbox": {
           "style": "light"
          },
          "paper_bgcolor": "white",
          "plot_bgcolor": "#E5ECF6",
          "polar": {
           "angularaxis": {
            "gridcolor": "white",
            "linecolor": "white",
            "ticks": ""
           },
           "bgcolor": "#E5ECF6",
           "radialaxis": {
            "gridcolor": "white",
            "linecolor": "white",
            "ticks": ""
           }
          },
          "scene": {
           "xaxis": {
            "backgroundcolor": "#E5ECF6",
            "gridcolor": "white",
            "gridwidth": 2,
            "linecolor": "white",
            "showbackground": true,
            "ticks": "",
            "zerolinecolor": "white"
           },
           "yaxis": {
            "backgroundcolor": "#E5ECF6",
            "gridcolor": "white",
            "gridwidth": 2,
            "linecolor": "white",
            "showbackground": true,
            "ticks": "",
            "zerolinecolor": "white"
           },
           "zaxis": {
            "backgroundcolor": "#E5ECF6",
            "gridcolor": "white",
            "gridwidth": 2,
            "linecolor": "white",
            "showbackground": true,
            "ticks": "",
            "zerolinecolor": "white"
           }
          },
          "shapedefaults": {
           "line": {
            "color": "#2a3f5f"
           }
          },
          "ternary": {
           "aaxis": {
            "gridcolor": "white",
            "linecolor": "white",
            "ticks": ""
           },
           "baxis": {
            "gridcolor": "white",
            "linecolor": "white",
            "ticks": ""
           },
           "bgcolor": "#E5ECF6",
           "caxis": {
            "gridcolor": "white",
            "linecolor": "white",
            "ticks": ""
           }
          },
          "title": {
           "x": 0.05
          },
          "xaxis": {
           "automargin": true,
           "gridcolor": "white",
           "linecolor": "white",
           "ticks": "",
           "title": {
            "standoff": 15
           },
           "zerolinecolor": "white",
           "zerolinewidth": 2
          },
          "yaxis": {
           "automargin": true,
           "gridcolor": "white",
           "linecolor": "white",
           "ticks": "",
           "title": {
            "standoff": 15
           },
           "zerolinecolor": "white",
           "zerolinewidth": 2
          }
         }
        },
        "title": {
         "font": {
          "color": "#4D5663"
         }
        },
        "xaxis": {
         "gridcolor": "#E1E5ED",
         "showgrid": true,
         "tickfont": {
          "color": "#4D5663"
         },
         "title": {
          "font": {
           "color": "#4D5663"
          },
          "text": ""
         },
         "zerolinecolor": "#E1E5ED"
        },
        "yaxis": {
         "gridcolor": "#E1E5ED",
         "showgrid": true,
         "tickfont": {
          "color": "#4D5663"
         },
         "title": {
          "font": {
           "color": "#4D5663"
          },
          "text": ""
         },
         "zerolinecolor": "#E1E5ED"
        }
       }
      },
      "text/html": [
       "<div>                            <div id=\"d0a90370-378e-4c84-b6b0-f61aaac0b7d1\" class=\"plotly-graph-div\" style=\"height:525px; width:100%;\"></div>            <script type=\"text/javascript\">                require([\"plotly\"], function(Plotly) {                    window.PLOTLYENV=window.PLOTLYENV || {};\n",
       "                    window.PLOTLYENV.BASE_URL='https://plot.ly';                                    if (document.getElementById(\"d0a90370-378e-4c84-b6b0-f61aaac0b7d1\")) {                    Plotly.newPlot(                        \"d0a90370-378e-4c84-b6b0-f61aaac0b7d1\",                        [{\"line\":{\"color\":\"rgba(255, 153, 51, 1.0)\",\"dash\":\"solid\",\"shape\":\"linear\",\"width\":1.3},\"mode\":\"lines\",\"name\":\"John\",\"text\":\"\",\"x\":[0,1,2,3,4,5,6,7,8,9,10,11,12,13,14,15,16,17,18,19,20,21,22,23,24,25,26,27,28,29,30,31,32,33,34,35,36,37,38,39,40,41,42,43,44,45,46,47,48,49,50,51,52,53,54,55,56,57,58,59,60,61,62,63,64,65,66,67,68,69,70,71,72,73,74,75,76,77,78,79,80,81,82,83,84,85,86,87,88,89,90,91,92,93,94,95,96,97,98,99],\"y\":[0.019642646998532538,0.5102977624801204,0.24449280881659421,-0.09964374543098901,-0.8336301504091984,0.7633960938278734,0.008888279313414483,-0.04559506706851624,0.1928875749925488,0.03414630485056338,0.7264465808915783,1.0658884808652351,0.38523365088508876,1.5124214398730913,-1.6377485347546827,-0.7010980666045677,0.45739260615720606,0.4876140496185153,-1.0773443173458792,0.1156850759183294,-1.7276705506695154,-0.7605787719199244,-1.0185765341213795,-0.6973825682764789,0.6891443271530647,0.2866451570554162,-0.6019547431882285,1.0946069931759237,-0.25809283296644064,0.3711605045232904,2.016529005040461,1.4362079476882181,-1.8065697572276622,0.41709344375999546,-0.952273483938806,-0.33790763860390516,1.4653354860476666,-1.0364187829767437,-0.5958291555412103,-0.9095925468162066,-0.03443570936609096,0.41796253085085777,0.4985597267149191,1.256230814302931,0.3041815809519573,-0.7314944255391029,0.1347390648641512,0.36668711521731945,-1.345745456849986,-0.3024870212580657,0.38946023142969144,-2.2080623777024857,0.14690798112419792,-0.10214577252644914,-0.7558190914775792,1.636096524673409,-0.9350054629918986,-0.834717261048946,0.9042211849377907,-0.970097819261639,0.08302084353049828,0.122533351733746,-0.5668598556840447,1.2122897430202741,-0.2628230583023596,-1.319033630348968,-1.2725064526718661,2.0358158967569318,-0.8468257533048923,1.4882729870233895,-1.2205022462300505,-0.05757188230792311,1.367768040891796,-0.19921297667841037,0.4697389292048797,-1.3381417318782258,0.6524847805507301,-1.7994321764509653,-1.077881485573476,-1.3625099426155498,0.045648147491829216,0.563618810148228,-0.4786892358293386,0.47606615646569794,-0.8543313928147953,0.0925095317870382,-0.21597284215262857,0.4834183462334682,-0.9360044456206287,-0.6269954947934127,2.1712068293506985,0.016129286645642983,-0.8759971648778004,1.1406389788304063,-1.500404007263379,0.4829784953373957,1.5084272190275951,-1.9175664929088536,-0.7413752267077025,-0.13980204256336462],\"type\":\"scatter\"},{\"line\":{\"color\":\"rgba(55, 128, 191, 1.0)\",\"dash\":\"solid\",\"shape\":\"linear\",\"width\":1.3},\"mode\":\"lines\",\"name\":\"Doe\",\"text\":\"\",\"x\":[0,1,2,3,4,5,6,7,8,9,10,11,12,13,14,15,16,17,18,19,20,21,22,23,24,25,26,27,28,29,30,31,32,33,34,35,36,37,38,39,40,41,42,43,44,45,46,47,48,49,50,51,52,53,54,55,56,57,58,59,60,61,62,63,64,65,66,67,68,69,70,71,72,73,74,75,76,77,78,79,80,81,82,83,84,85,86,87,88,89,90,91,92,93,94,95,96,97,98,99],\"y\":[0.18932288313259496,1.3281660265941044,0.08260420682700166,0.19766344985332351,-1.3519755938004667,0.7152547986319213,2.1061290065425045,-0.4536884731298851,-1.314290670147277,1.2162156869830907,0.38627757098814897,1.0778958970219656,1.0172005524466166,-0.8363987977283873,0.6219718214710519,-0.10941421275248397,0.1834145301165497,1.6905631473724685,0.2830379714000602,0.8209176571110884,0.2712601644922478,2.6709808829839905,-0.038019966272632134,-0.800964216187689,-0.9772594874158484,-0.9996924316330814,0.6757843694951967,-0.9172910777638664,0.21534798195889704,-0.6649356062395503,-1.2190835483281803,1.6237785328878958,-0.17059875405261618,0.5863516626635352,-0.10759342108696314,-0.593705778613284,0.8306281292382299,2.1589815543497193,-1.0911341602641766,-0.40761643718218465,-2.383684095369639,0.009333505772728184,0.08093342989807364,-0.33071099419622413,-0.26004567740817947,-0.06395831153582572,-0.5989402137637061,-0.6142660522286667,-2.1372805837605546,1.5015600737392012,-1.4841755895742048,-0.4063083689229514,-1.4867589787693356,-0.7562643323620777,0.4865696831994064,-0.6436237599111508,-0.05723995074100056,0.41887052392231416,0.3141993864196437,-0.24322500286511342,0.7610647654161666,-0.5576576400296814,-0.01206385658904262,-0.9750812100109979,0.684081164985671,-1.5261851048875195,0.37714545839915764,-0.8713897574661608,-0.2241657499226878,-0.6870427813507797,-0.47336276072954436,0.26368992576199496,-0.20034751046151145,0.45876070741422004,-0.16879611580477616,1.576773398907753,0.30704353862755446,-0.4911660185041354,0.6111210148978148,-2.213938060785341,0.020347578904885685,-0.5256163213064886,-1.693539773930717,-0.2737625049855568,1.1277007342060812,-0.4849370930878959,-0.5219300157008511,-1.112720153303619,1.4405568615058983,-1.7859008692500788,1.2443992275160747,-0.3448053249356195,-1.1315614753988137,0.40563336698552666,0.4595262640725895,-0.5381022646055008,-0.5132149097842915,-0.31065608999022215,0.8944689282816258,-0.5132298585680108],\"type\":\"scatter\"},{\"line\":{\"color\":\"rgba(50, 171, 96, 1.0)\",\"dash\":\"solid\",\"shape\":\"linear\",\"width\":1.3},\"mode\":\"lines\",\"name\":\"Jane\",\"text\":\"\",\"x\":[0,1,2,3,4,5,6,7,8,9,10,11,12,13,14,15,16,17,18,19,20,21,22,23,24,25,26,27,28,29,30,31,32,33,34,35,36,37,38,39,40,41,42,43,44,45,46,47,48,49,50,51,52,53,54,55,56,57,58,59,60,61,62,63,64,65,66,67,68,69,70,71,72,73,74,75,76,77,78,79,80,81,82,83,84,85,86,87,88,89,90,91,92,93,94,95,96,97,98,99],\"y\":[0.020344460919605414,0.3462067161994248,0.17475916773203,1.5090626015195374,-0.4122208025818858,1.325337250095666,1.029866726130267,0.35064166507739725,0.9018799479323362,0.5046379467013828,0.534879942562968,0.10842387462848369,0.588422036103608,-0.01982207886584693,-0.6602670412667222,2.0594232095291405,-1.0664536958778772,0.9971590272421421,-0.419793450722026,-0.2868524725708644,1.5868280287464456,1.3642100845066147,0.4340492999209859,0.45187959111753234,0.7078472047688987,0.09622795159705001,-1.1278129617893926,0.9977539884117823,0.3898509544393391,-1.4453076915556564,-1.576959872160643,-1.7046069712375977,-0.9231990158881069,-1.539771719932798,0.1566058015997379,0.9036201624310277,0.40922130611714763,-0.614293801940151,-0.6273421217949555,1.2278507854586656,-0.6407675535419343,0.6540944755362336,0.7604357209718133,-1.5958031294720738,0.6384119218048553,1.6936312784352094,0.027377691105506207,0.5974207515989416,0.9732777312488076,-0.7983686208973904,-0.45929109595605755,0.42291223822053114,-0.3962140944152771,-2.0538570270466128,0.8055831452517226,0.08283220045954048,-2.0530799664162123,0.99407542444314,-0.6081559207174255,-0.6100039706517446,-0.059202928282162136,0.7638558716751972,1.5591072081500168,0.1407648608438338,0.1305287174305653,-0.24890282654787316,0.1960182491909555,-0.7395354388428351,-0.4900693987853215,-0.5829714807721302,0.4102840775139383,-0.8148124122744025,-0.0925608094388613,0.28783455859141643,-0.14238079545525237,-0.6251148156843083,0.6926933942593309,1.1229363887483916,-0.3104205138275535,1.2285728076630065,0.7072976367701932,-0.451354424910134,0.8305601329639444,1.6559291353284744,-0.331227360650665,0.45302812066839865,-0.4871842256267353,-2.0964124991912985,-0.6806087424626511,0.058105948903216506,3.202042974898475,-0.7410960417431232,0.18837589717535844,-0.31757443030843835,-0.09035881966556931,-0.8820890438553275,-0.357131255166717,0.006772012697767498,0.10935341583295807,1.359680187829212],\"type\":\"scatter\"},{\"line\":{\"color\":\"rgba(128, 0, 128, 1.0)\",\"dash\":\"solid\",\"shape\":\"linear\",\"width\":1.3},\"mode\":\"lines\",\"name\":\"Alice\",\"text\":\"\",\"x\":[0,1,2,3,4,5,6,7,8,9,10,11,12,13,14,15,16,17,18,19,20,21,22,23,24,25,26,27,28,29,30,31,32,33,34,35,36,37,38,39,40,41,42,43,44,45,46,47,48,49,50,51,52,53,54,55,56,57,58,59,60,61,62,63,64,65,66,67,68,69,70,71,72,73,74,75,76,77,78,79,80,81,82,83,84,85,86,87,88,89,90,91,92,93,94,95,96,97,98,99],\"y\":[0.24937027334314316,-1.291424215603698,-0.4884012392345033,0.9532605534879363,2.3477005384206446,-1.0144239588546686,0.977099564603622,0.6168188802196694,-0.47560848458068333,0.8824737194957732,-1.4446977790153614,0.12627289529585273,0.24452288567558209,1.4803110759003795,1.8756290628133423,1.508162373590915,1.599052533345483,0.2618922581459752,2.12104217913582,0.808950397331336,-1.109094108308861,1.602083088917013,1.5768855759488984,1.005546370581314,-0.028537663788296124,-0.9521565165466842,-0.2694289632388691,0.33914099158362493,1.4848879735793097,-0.15952953831767577,0.5182428314779433,1.1493720658921305,0.30439104363373704,2.205722994703418,-0.9470086306875309,1.177834410972747,-0.9282409641187047,-1.1566182571832813,-0.5294052252444668,0.902653589829433,1.483146465740587,0.03747260476148352,-1.9110923237948987,-0.6612479030226804,0.5060241559272375,-1.7917820122316197,-0.4334998009209104,-1.6900226944935148,0.32390106016061765,-1.7753081467012586,1.7314152310140727,1.105940310866183,1.1211825454639375,-1.6068916682728345,-0.720547522323849,0.18068597517981844,-1.955738411816919,0.6726488254609667,0.5008582854675393,-0.6348169547283224,0.7258906936858436,-1.6280533559714265,-0.8452387063567807,-1.3127124095500966,1.4963497910833603,-0.27598207528628477,-0.22898495696167098,3.2675260228973384,-0.1862118745000819,0.352276323220306,0.29507517067968014,-0.3942808789972401,1.0284427652707993,1.2898001084397912,0.7705846439237007,-0.07355561105383403,-0.8449567375803194,-0.2530211972433086,-0.554226570610661,1.3099790240284408,-1.4976695060801464,-0.584939513569232,1.5641595185858919,1.018081520470552,1.4032815131925347,-0.6098160950068922,1.7619258459944727,-0.10746200784864435,-1.5375281243471617,-1.922579834123578,-0.8169181127599872,-0.0786697122584202,0.7677043271127714,0.33516517396777745,0.08496112422441039,0.09309029552920575,0.774275523501191,0.6168438544923766,-0.762326463653972,-0.7329996342331008],\"type\":\"scatter\"}],                        {\"legend\":{\"bgcolor\":\"#F5F6F9\",\"font\":{\"color\":\"#4D5663\"}},\"paper_bgcolor\":\"#F5F6F9\",\"plot_bgcolor\":\"#F5F6F9\",\"template\":{\"data\":{\"barpolar\":[{\"marker\":{\"line\":{\"color\":\"#E5ECF6\",\"width\":0.5},\"pattern\":{\"fillmode\":\"overlay\",\"size\":10,\"solidity\":0.2}},\"type\":\"barpolar\"}],\"bar\":[{\"error_x\":{\"color\":\"#2a3f5f\"},\"error_y\":{\"color\":\"#2a3f5f\"},\"marker\":{\"line\":{\"color\":\"#E5ECF6\",\"width\":0.5},\"pattern\":{\"fillmode\":\"overlay\",\"size\":10,\"solidity\":0.2}},\"type\":\"bar\"}],\"carpet\":[{\"aaxis\":{\"endlinecolor\":\"#2a3f5f\",\"gridcolor\":\"white\",\"linecolor\":\"white\",\"minorgridcolor\":\"white\",\"startlinecolor\":\"#2a3f5f\"},\"baxis\":{\"endlinecolor\":\"#2a3f5f\",\"gridcolor\":\"white\",\"linecolor\":\"white\",\"minorgridcolor\":\"white\",\"startlinecolor\":\"#2a3f5f\"},\"type\":\"carpet\"}],\"choropleth\":[{\"colorbar\":{\"outlinewidth\":0,\"ticks\":\"\"},\"type\":\"choropleth\"}],\"contourcarpet\":[{\"colorbar\":{\"outlinewidth\":0,\"ticks\":\"\"},\"type\":\"contourcarpet\"}],\"contour\":[{\"colorbar\":{\"outlinewidth\":0,\"ticks\":\"\"},\"colorscale\":[[0.0,\"#0d0887\"],[0.1111111111111111,\"#46039f\"],[0.2222222222222222,\"#7201a8\"],[0.3333333333333333,\"#9c179e\"],[0.4444444444444444,\"#bd3786\"],[0.5555555555555556,\"#d8576b\"],[0.6666666666666666,\"#ed7953\"],[0.7777777777777778,\"#fb9f3a\"],[0.8888888888888888,\"#fdca26\"],[1.0,\"#f0f921\"]],\"type\":\"contour\"}],\"heatmapgl\":[{\"colorbar\":{\"outlinewidth\":0,\"ticks\":\"\"},\"colorscale\":[[0.0,\"#0d0887\"],[0.1111111111111111,\"#46039f\"],[0.2222222222222222,\"#7201a8\"],[0.3333333333333333,\"#9c179e\"],[0.4444444444444444,\"#bd3786\"],[0.5555555555555556,\"#d8576b\"],[0.6666666666666666,\"#ed7953\"],[0.7777777777777778,\"#fb9f3a\"],[0.8888888888888888,\"#fdca26\"],[1.0,\"#f0f921\"]],\"type\":\"heatmapgl\"}],\"heatmap\":[{\"colorbar\":{\"outlinewidth\":0,\"ticks\":\"\"},\"colorscale\":[[0.0,\"#0d0887\"],[0.1111111111111111,\"#46039f\"],[0.2222222222222222,\"#7201a8\"],[0.3333333333333333,\"#9c179e\"],[0.4444444444444444,\"#bd3786\"],[0.5555555555555556,\"#d8576b\"],[0.6666666666666666,\"#ed7953\"],[0.7777777777777778,\"#fb9f3a\"],[0.8888888888888888,\"#fdca26\"],[1.0,\"#f0f921\"]],\"type\":\"heatmap\"}],\"histogram2dcontour\":[{\"colorbar\":{\"outlinewidth\":0,\"ticks\":\"\"},\"colorscale\":[[0.0,\"#0d0887\"],[0.1111111111111111,\"#46039f\"],[0.2222222222222222,\"#7201a8\"],[0.3333333333333333,\"#9c179e\"],[0.4444444444444444,\"#bd3786\"],[0.5555555555555556,\"#d8576b\"],[0.6666666666666666,\"#ed7953\"],[0.7777777777777778,\"#fb9f3a\"],[0.8888888888888888,\"#fdca26\"],[1.0,\"#f0f921\"]],\"type\":\"histogram2dcontour\"}],\"histogram2d\":[{\"colorbar\":{\"outlinewidth\":0,\"ticks\":\"\"},\"colorscale\":[[0.0,\"#0d0887\"],[0.1111111111111111,\"#46039f\"],[0.2222222222222222,\"#7201a8\"],[0.3333333333333333,\"#9c179e\"],[0.4444444444444444,\"#bd3786\"],[0.5555555555555556,\"#d8576b\"],[0.6666666666666666,\"#ed7953\"],[0.7777777777777778,\"#fb9f3a\"],[0.8888888888888888,\"#fdca26\"],[1.0,\"#f0f921\"]],\"type\":\"histogram2d\"}],\"histogram\":[{\"marker\":{\"pattern\":{\"fillmode\":\"overlay\",\"size\":10,\"solidity\":0.2}},\"type\":\"histogram\"}],\"mesh3d\":[{\"colorbar\":{\"outlinewidth\":0,\"ticks\":\"\"},\"type\":\"mesh3d\"}],\"parcoords\":[{\"line\":{\"colorbar\":{\"outlinewidth\":0,\"ticks\":\"\"}},\"type\":\"parcoords\"}],\"pie\":[{\"automargin\":true,\"type\":\"pie\"}],\"scatter3d\":[{\"line\":{\"colorbar\":{\"outlinewidth\":0,\"ticks\":\"\"}},\"marker\":{\"colorbar\":{\"outlinewidth\":0,\"ticks\":\"\"}},\"type\":\"scatter3d\"}],\"scattercarpet\":[{\"marker\":{\"colorbar\":{\"outlinewidth\":0,\"ticks\":\"\"}},\"type\":\"scattercarpet\"}],\"scattergeo\":[{\"marker\":{\"colorbar\":{\"outlinewidth\":0,\"ticks\":\"\"}},\"type\":\"scattergeo\"}],\"scattergl\":[{\"marker\":{\"colorbar\":{\"outlinewidth\":0,\"ticks\":\"\"}},\"type\":\"scattergl\"}],\"scattermapbox\":[{\"marker\":{\"colorbar\":{\"outlinewidth\":0,\"ticks\":\"\"}},\"type\":\"scattermapbox\"}],\"scatterpolargl\":[{\"marker\":{\"colorbar\":{\"outlinewidth\":0,\"ticks\":\"\"}},\"type\":\"scatterpolargl\"}],\"scatterpolar\":[{\"marker\":{\"colorbar\":{\"outlinewidth\":0,\"ticks\":\"\"}},\"type\":\"scatterpolar\"}],\"scatter\":[{\"fillpattern\":{\"fillmode\":\"overlay\",\"size\":10,\"solidity\":0.2},\"type\":\"scatter\"}],\"scatterternary\":[{\"marker\":{\"colorbar\":{\"outlinewidth\":0,\"ticks\":\"\"}},\"type\":\"scatterternary\"}],\"surface\":[{\"colorbar\":{\"outlinewidth\":0,\"ticks\":\"\"},\"colorscale\":[[0.0,\"#0d0887\"],[0.1111111111111111,\"#46039f\"],[0.2222222222222222,\"#7201a8\"],[0.3333333333333333,\"#9c179e\"],[0.4444444444444444,\"#bd3786\"],[0.5555555555555556,\"#d8576b\"],[0.6666666666666666,\"#ed7953\"],[0.7777777777777778,\"#fb9f3a\"],[0.8888888888888888,\"#fdca26\"],[1.0,\"#f0f921\"]],\"type\":\"surface\"}],\"table\":[{\"cells\":{\"fill\":{\"color\":\"#EBF0F8\"},\"line\":{\"color\":\"white\"}},\"header\":{\"fill\":{\"color\":\"#C8D4E3\"},\"line\":{\"color\":\"white\"}},\"type\":\"table\"}]},\"layout\":{\"annotationdefaults\":{\"arrowcolor\":\"#2a3f5f\",\"arrowhead\":0,\"arrowwidth\":1},\"autotypenumbers\":\"strict\",\"coloraxis\":{\"colorbar\":{\"outlinewidth\":0,\"ticks\":\"\"}},\"colorscale\":{\"diverging\":[[0,\"#8e0152\"],[0.1,\"#c51b7d\"],[0.2,\"#de77ae\"],[0.3,\"#f1b6da\"],[0.4,\"#fde0ef\"],[0.5,\"#f7f7f7\"],[0.6,\"#e6f5d0\"],[0.7,\"#b8e186\"],[0.8,\"#7fbc41\"],[0.9,\"#4d9221\"],[1,\"#276419\"]],\"sequential\":[[0.0,\"#0d0887\"],[0.1111111111111111,\"#46039f\"],[0.2222222222222222,\"#7201a8\"],[0.3333333333333333,\"#9c179e\"],[0.4444444444444444,\"#bd3786\"],[0.5555555555555556,\"#d8576b\"],[0.6666666666666666,\"#ed7953\"],[0.7777777777777778,\"#fb9f3a\"],[0.8888888888888888,\"#fdca26\"],[1.0,\"#f0f921\"]],\"sequentialminus\":[[0.0,\"#0d0887\"],[0.1111111111111111,\"#46039f\"],[0.2222222222222222,\"#7201a8\"],[0.3333333333333333,\"#9c179e\"],[0.4444444444444444,\"#bd3786\"],[0.5555555555555556,\"#d8576b\"],[0.6666666666666666,\"#ed7953\"],[0.7777777777777778,\"#fb9f3a\"],[0.8888888888888888,\"#fdca26\"],[1.0,\"#f0f921\"]]},\"colorway\":[\"#636efa\",\"#EF553B\",\"#00cc96\",\"#ab63fa\",\"#FFA15A\",\"#19d3f3\",\"#FF6692\",\"#B6E880\",\"#FF97FF\",\"#FECB52\"],\"font\":{\"color\":\"#2a3f5f\"},\"geo\":{\"bgcolor\":\"white\",\"lakecolor\":\"white\",\"landcolor\":\"#E5ECF6\",\"showlakes\":true,\"showland\":true,\"subunitcolor\":\"white\"},\"hoverlabel\":{\"align\":\"left\"},\"hovermode\":\"closest\",\"mapbox\":{\"style\":\"light\"},\"paper_bgcolor\":\"white\",\"plot_bgcolor\":\"#E5ECF6\",\"polar\":{\"angularaxis\":{\"gridcolor\":\"white\",\"linecolor\":\"white\",\"ticks\":\"\"},\"bgcolor\":\"#E5ECF6\",\"radialaxis\":{\"gridcolor\":\"white\",\"linecolor\":\"white\",\"ticks\":\"\"}},\"scene\":{\"xaxis\":{\"backgroundcolor\":\"#E5ECF6\",\"gridcolor\":\"white\",\"gridwidth\":2,\"linecolor\":\"white\",\"showbackground\":true,\"ticks\":\"\",\"zerolinecolor\":\"white\"},\"yaxis\":{\"backgroundcolor\":\"#E5ECF6\",\"gridcolor\":\"white\",\"gridwidth\":2,\"linecolor\":\"white\",\"showbackground\":true,\"ticks\":\"\",\"zerolinecolor\":\"white\"},\"zaxis\":{\"backgroundcolor\":\"#E5ECF6\",\"gridcolor\":\"white\",\"gridwidth\":2,\"linecolor\":\"white\",\"showbackground\":true,\"ticks\":\"\",\"zerolinecolor\":\"white\"}},\"shapedefaults\":{\"line\":{\"color\":\"#2a3f5f\"}},\"ternary\":{\"aaxis\":{\"gridcolor\":\"white\",\"linecolor\":\"white\",\"ticks\":\"\"},\"baxis\":{\"gridcolor\":\"white\",\"linecolor\":\"white\",\"ticks\":\"\"},\"bgcolor\":\"#E5ECF6\",\"caxis\":{\"gridcolor\":\"white\",\"linecolor\":\"white\",\"ticks\":\"\"}},\"title\":{\"x\":0.05},\"xaxis\":{\"automargin\":true,\"gridcolor\":\"white\",\"linecolor\":\"white\",\"ticks\":\"\",\"title\":{\"standoff\":15},\"zerolinecolor\":\"white\",\"zerolinewidth\":2},\"yaxis\":{\"automargin\":true,\"gridcolor\":\"white\",\"linecolor\":\"white\",\"ticks\":\"\",\"title\":{\"standoff\":15},\"zerolinecolor\":\"white\",\"zerolinewidth\":2}}},\"title\":{\"font\":{\"color\":\"#4D5663\"}},\"xaxis\":{\"gridcolor\":\"#E1E5ED\",\"showgrid\":true,\"tickfont\":{\"color\":\"#4D5663\"},\"title\":{\"font\":{\"color\":\"#4D5663\"},\"text\":\"\"},\"zerolinecolor\":\"#E1E5ED\"},\"yaxis\":{\"gridcolor\":\"#E1E5ED\",\"showgrid\":true,\"tickfont\":{\"color\":\"#4D5663\"},\"title\":{\"font\":{\"color\":\"#4D5663\"},\"text\":\"\"},\"zerolinecolor\":\"#E1E5ED\"}},                        {\"showLink\": true, \"linkText\": \"Export to plot.ly\", \"plotlyServerURL\": \"https://plot.ly\", \"responsive\": true}                    ).then(function(){\n",
       "                            \n",
       "var gd = document.getElementById('d0a90370-378e-4c84-b6b0-f61aaac0b7d1');\n",
       "var x = new MutationObserver(function (mutations, observer) {{\n",
       "        var display = window.getComputedStyle(gd).display;\n",
       "        if (!display || display === 'none') {{\n",
       "            console.log([gd, 'removed!']);\n",
       "            Plotly.purge(gd);\n",
       "            observer.disconnect();\n",
       "        }}\n",
       "}});\n",
       "\n",
       "// Listen for the removal of the full notebook cells\n",
       "var notebookContainer = gd.closest('#notebook-container');\n",
       "if (notebookContainer) {{\n",
       "    x.observe(notebookContainer, {childList: true});\n",
       "}}\n",
       "\n",
       "// Listen for the clearing of the current output cell\n",
       "var outputEl = gd.closest('.output');\n",
       "if (outputEl) {{\n",
       "    x.observe(outputEl, {childList: true});\n",
       "}}\n",
       "\n",
       "                        })                };                });            </script>        </div>"
      ]
     },
     "metadata": {},
     "output_type": "display_data"
    }
   ],
   "source": [
    "df.iplot()"
   ]
  },
  {
   "cell_type": "code",
   "execution_count": 12,
   "id": "295bade7-7d2e-45c0-9b40-7a187b72e078",
   "metadata": {},
   "outputs": [
    {
     "data": {
      "application/vnd.plotly.v1+json": {
       "config": {
        "linkText": "Export to plot.ly",
        "plotlyServerURL": "https://plot.ly",
        "showLink": true
       },
       "data": [
        {
         "line": {
          "color": "rgba(255, 153, 51, 1.0)",
          "dash": "solid",
          "shape": "linear",
          "width": 1.3
         },
         "marker": {
          "size": 15,
          "symbol": "circle"
         },
         "mode": "markers",
         "name": "Doe",
         "text": "",
         "type": "scatter",
         "x": [
          0.019642646998532538,
          0.5102977624801204,
          0.24449280881659421,
          -0.09964374543098901,
          -0.8336301504091984,
          0.7633960938278734,
          0.008888279313414483,
          -0.04559506706851624,
          0.1928875749925488,
          0.03414630485056338,
          0.7264465808915783,
          1.0658884808652351,
          0.38523365088508876,
          1.5124214398730913,
          -1.6377485347546827,
          -0.7010980666045677,
          0.45739260615720606,
          0.4876140496185153,
          -1.0773443173458792,
          0.1156850759183294,
          -1.7276705506695154,
          -0.7605787719199244,
          -1.0185765341213795,
          -0.6973825682764789,
          0.6891443271530647,
          0.2866451570554162,
          -0.6019547431882285,
          1.0946069931759237,
          -0.25809283296644064,
          0.3711605045232904,
          2.016529005040461,
          1.4362079476882181,
          -1.8065697572276622,
          0.41709344375999546,
          -0.952273483938806,
          -0.33790763860390516,
          1.4653354860476666,
          -1.0364187829767437,
          -0.5958291555412103,
          -0.9095925468162066,
          -0.03443570936609096,
          0.41796253085085777,
          0.4985597267149191,
          1.256230814302931,
          0.3041815809519573,
          -0.7314944255391029,
          0.1347390648641512,
          0.36668711521731945,
          -1.345745456849986,
          -0.3024870212580657,
          0.38946023142969144,
          -2.2080623777024857,
          0.14690798112419792,
          -0.10214577252644914,
          -0.7558190914775792,
          1.636096524673409,
          -0.9350054629918986,
          -0.834717261048946,
          0.9042211849377907,
          -0.970097819261639,
          0.08302084353049828,
          0.122533351733746,
          -0.5668598556840447,
          1.2122897430202741,
          -0.2628230583023596,
          -1.319033630348968,
          -1.2725064526718661,
          2.0358158967569318,
          -0.8468257533048923,
          1.4882729870233895,
          -1.2205022462300505,
          -0.05757188230792311,
          1.367768040891796,
          -0.19921297667841037,
          0.4697389292048797,
          -1.3381417318782258,
          0.6524847805507301,
          -1.7994321764509653,
          -1.077881485573476,
          -1.3625099426155498,
          0.045648147491829216,
          0.563618810148228,
          -0.4786892358293386,
          0.47606615646569794,
          -0.8543313928147953,
          0.0925095317870382,
          -0.21597284215262857,
          0.4834183462334682,
          -0.9360044456206287,
          -0.6269954947934127,
          2.1712068293506985,
          0.016129286645642983,
          -0.8759971648778004,
          1.1406389788304063,
          -1.500404007263379,
          0.4829784953373957,
          1.5084272190275951,
          -1.9175664929088536,
          -0.7413752267077025,
          -0.13980204256336462
         ],
         "y": [
          0.18932288313259496,
          1.3281660265941044,
          0.08260420682700166,
          0.19766344985332351,
          -1.3519755938004667,
          0.7152547986319213,
          2.1061290065425045,
          -0.4536884731298851,
          -1.314290670147277,
          1.2162156869830907,
          0.38627757098814897,
          1.0778958970219656,
          1.0172005524466166,
          -0.8363987977283873,
          0.6219718214710519,
          -0.10941421275248397,
          0.1834145301165497,
          1.6905631473724685,
          0.2830379714000602,
          0.8209176571110884,
          0.2712601644922478,
          2.6709808829839905,
          -0.038019966272632134,
          -0.800964216187689,
          -0.9772594874158484,
          -0.9996924316330814,
          0.6757843694951967,
          -0.9172910777638664,
          0.21534798195889704,
          -0.6649356062395503,
          -1.2190835483281803,
          1.6237785328878958,
          -0.17059875405261618,
          0.5863516626635352,
          -0.10759342108696314,
          -0.593705778613284,
          0.8306281292382299,
          2.1589815543497193,
          -1.0911341602641766,
          -0.40761643718218465,
          -2.383684095369639,
          0.009333505772728184,
          0.08093342989807364,
          -0.33071099419622413,
          -0.26004567740817947,
          -0.06395831153582572,
          -0.5989402137637061,
          -0.6142660522286667,
          -2.1372805837605546,
          1.5015600737392012,
          -1.4841755895742048,
          -0.4063083689229514,
          -1.4867589787693356,
          -0.7562643323620777,
          0.4865696831994064,
          -0.6436237599111508,
          -0.05723995074100056,
          0.41887052392231416,
          0.3141993864196437,
          -0.24322500286511342,
          0.7610647654161666,
          -0.5576576400296814,
          -0.01206385658904262,
          -0.9750812100109979,
          0.684081164985671,
          -1.5261851048875195,
          0.37714545839915764,
          -0.8713897574661608,
          -0.2241657499226878,
          -0.6870427813507797,
          -0.47336276072954436,
          0.26368992576199496,
          -0.20034751046151145,
          0.45876070741422004,
          -0.16879611580477616,
          1.576773398907753,
          0.30704353862755446,
          -0.4911660185041354,
          0.6111210148978148,
          -2.213938060785341,
          0.020347578904885685,
          -0.5256163213064886,
          -1.693539773930717,
          -0.2737625049855568,
          1.1277007342060812,
          -0.4849370930878959,
          -0.5219300157008511,
          -1.112720153303619,
          1.4405568615058983,
          -1.7859008692500788,
          1.2443992275160747,
          -0.3448053249356195,
          -1.1315614753988137,
          0.40563336698552666,
          0.4595262640725895,
          -0.5381022646055008,
          -0.5132149097842915,
          -0.31065608999022215,
          0.8944689282816258,
          -0.5132298585680108
         ]
        }
       ],
       "layout": {
        "legend": {
         "bgcolor": "#F5F6F9",
         "font": {
          "color": "#4D5663"
         }
        },
        "paper_bgcolor": "#F5F6F9",
        "plot_bgcolor": "#F5F6F9",
        "template": {
         "data": {
          "bar": [
           {
            "error_x": {
             "color": "#2a3f5f"
            },
            "error_y": {
             "color": "#2a3f5f"
            },
            "marker": {
             "line": {
              "color": "#E5ECF6",
              "width": 0.5
             },
             "pattern": {
              "fillmode": "overlay",
              "size": 10,
              "solidity": 0.2
             }
            },
            "type": "bar"
           }
          ],
          "barpolar": [
           {
            "marker": {
             "line": {
              "color": "#E5ECF6",
              "width": 0.5
             },
             "pattern": {
              "fillmode": "overlay",
              "size": 10,
              "solidity": 0.2
             }
            },
            "type": "barpolar"
           }
          ],
          "carpet": [
           {
            "aaxis": {
             "endlinecolor": "#2a3f5f",
             "gridcolor": "white",
             "linecolor": "white",
             "minorgridcolor": "white",
             "startlinecolor": "#2a3f5f"
            },
            "baxis": {
             "endlinecolor": "#2a3f5f",
             "gridcolor": "white",
             "linecolor": "white",
             "minorgridcolor": "white",
             "startlinecolor": "#2a3f5f"
            },
            "type": "carpet"
           }
          ],
          "choropleth": [
           {
            "colorbar": {
             "outlinewidth": 0,
             "ticks": ""
            },
            "type": "choropleth"
           }
          ],
          "contour": [
           {
            "colorbar": {
             "outlinewidth": 0,
             "ticks": ""
            },
            "colorscale": [
             [
              0,
              "#0d0887"
             ],
             [
              0.1111111111111111,
              "#46039f"
             ],
             [
              0.2222222222222222,
              "#7201a8"
             ],
             [
              0.3333333333333333,
              "#9c179e"
             ],
             [
              0.4444444444444444,
              "#bd3786"
             ],
             [
              0.5555555555555556,
              "#d8576b"
             ],
             [
              0.6666666666666666,
              "#ed7953"
             ],
             [
              0.7777777777777778,
              "#fb9f3a"
             ],
             [
              0.8888888888888888,
              "#fdca26"
             ],
             [
              1,
              "#f0f921"
             ]
            ],
            "type": "contour"
           }
          ],
          "contourcarpet": [
           {
            "colorbar": {
             "outlinewidth": 0,
             "ticks": ""
            },
            "type": "contourcarpet"
           }
          ],
          "heatmap": [
           {
            "colorbar": {
             "outlinewidth": 0,
             "ticks": ""
            },
            "colorscale": [
             [
              0,
              "#0d0887"
             ],
             [
              0.1111111111111111,
              "#46039f"
             ],
             [
              0.2222222222222222,
              "#7201a8"
             ],
             [
              0.3333333333333333,
              "#9c179e"
             ],
             [
              0.4444444444444444,
              "#bd3786"
             ],
             [
              0.5555555555555556,
              "#d8576b"
             ],
             [
              0.6666666666666666,
              "#ed7953"
             ],
             [
              0.7777777777777778,
              "#fb9f3a"
             ],
             [
              0.8888888888888888,
              "#fdca26"
             ],
             [
              1,
              "#f0f921"
             ]
            ],
            "type": "heatmap"
           }
          ],
          "heatmapgl": [
           {
            "colorbar": {
             "outlinewidth": 0,
             "ticks": ""
            },
            "colorscale": [
             [
              0,
              "#0d0887"
             ],
             [
              0.1111111111111111,
              "#46039f"
             ],
             [
              0.2222222222222222,
              "#7201a8"
             ],
             [
              0.3333333333333333,
              "#9c179e"
             ],
             [
              0.4444444444444444,
              "#bd3786"
             ],
             [
              0.5555555555555556,
              "#d8576b"
             ],
             [
              0.6666666666666666,
              "#ed7953"
             ],
             [
              0.7777777777777778,
              "#fb9f3a"
             ],
             [
              0.8888888888888888,
              "#fdca26"
             ],
             [
              1,
              "#f0f921"
             ]
            ],
            "type": "heatmapgl"
           }
          ],
          "histogram": [
           {
            "marker": {
             "pattern": {
              "fillmode": "overlay",
              "size": 10,
              "solidity": 0.2
             }
            },
            "type": "histogram"
           }
          ],
          "histogram2d": [
           {
            "colorbar": {
             "outlinewidth": 0,
             "ticks": ""
            },
            "colorscale": [
             [
              0,
              "#0d0887"
             ],
             [
              0.1111111111111111,
              "#46039f"
             ],
             [
              0.2222222222222222,
              "#7201a8"
             ],
             [
              0.3333333333333333,
              "#9c179e"
             ],
             [
              0.4444444444444444,
              "#bd3786"
             ],
             [
              0.5555555555555556,
              "#d8576b"
             ],
             [
              0.6666666666666666,
              "#ed7953"
             ],
             [
              0.7777777777777778,
              "#fb9f3a"
             ],
             [
              0.8888888888888888,
              "#fdca26"
             ],
             [
              1,
              "#f0f921"
             ]
            ],
            "type": "histogram2d"
           }
          ],
          "histogram2dcontour": [
           {
            "colorbar": {
             "outlinewidth": 0,
             "ticks": ""
            },
            "colorscale": [
             [
              0,
              "#0d0887"
             ],
             [
              0.1111111111111111,
              "#46039f"
             ],
             [
              0.2222222222222222,
              "#7201a8"
             ],
             [
              0.3333333333333333,
              "#9c179e"
             ],
             [
              0.4444444444444444,
              "#bd3786"
             ],
             [
              0.5555555555555556,
              "#d8576b"
             ],
             [
              0.6666666666666666,
              "#ed7953"
             ],
             [
              0.7777777777777778,
              "#fb9f3a"
             ],
             [
              0.8888888888888888,
              "#fdca26"
             ],
             [
              1,
              "#f0f921"
             ]
            ],
            "type": "histogram2dcontour"
           }
          ],
          "mesh3d": [
           {
            "colorbar": {
             "outlinewidth": 0,
             "ticks": ""
            },
            "type": "mesh3d"
           }
          ],
          "parcoords": [
           {
            "line": {
             "colorbar": {
              "outlinewidth": 0,
              "ticks": ""
             }
            },
            "type": "parcoords"
           }
          ],
          "pie": [
           {
            "automargin": true,
            "type": "pie"
           }
          ],
          "scatter": [
           {
            "fillpattern": {
             "fillmode": "overlay",
             "size": 10,
             "solidity": 0.2
            },
            "type": "scatter"
           }
          ],
          "scatter3d": [
           {
            "line": {
             "colorbar": {
              "outlinewidth": 0,
              "ticks": ""
             }
            },
            "marker": {
             "colorbar": {
              "outlinewidth": 0,
              "ticks": ""
             }
            },
            "type": "scatter3d"
           }
          ],
          "scattercarpet": [
           {
            "marker": {
             "colorbar": {
              "outlinewidth": 0,
              "ticks": ""
             }
            },
            "type": "scattercarpet"
           }
          ],
          "scattergeo": [
           {
            "marker": {
             "colorbar": {
              "outlinewidth": 0,
              "ticks": ""
             }
            },
            "type": "scattergeo"
           }
          ],
          "scattergl": [
           {
            "marker": {
             "colorbar": {
              "outlinewidth": 0,
              "ticks": ""
             }
            },
            "type": "scattergl"
           }
          ],
          "scattermapbox": [
           {
            "marker": {
             "colorbar": {
              "outlinewidth": 0,
              "ticks": ""
             }
            },
            "type": "scattermapbox"
           }
          ],
          "scatterpolar": [
           {
            "marker": {
             "colorbar": {
              "outlinewidth": 0,
              "ticks": ""
             }
            },
            "type": "scatterpolar"
           }
          ],
          "scatterpolargl": [
           {
            "marker": {
             "colorbar": {
              "outlinewidth": 0,
              "ticks": ""
             }
            },
            "type": "scatterpolargl"
           }
          ],
          "scatterternary": [
           {
            "marker": {
             "colorbar": {
              "outlinewidth": 0,
              "ticks": ""
             }
            },
            "type": "scatterternary"
           }
          ],
          "surface": [
           {
            "colorbar": {
             "outlinewidth": 0,
             "ticks": ""
            },
            "colorscale": [
             [
              0,
              "#0d0887"
             ],
             [
              0.1111111111111111,
              "#46039f"
             ],
             [
              0.2222222222222222,
              "#7201a8"
             ],
             [
              0.3333333333333333,
              "#9c179e"
             ],
             [
              0.4444444444444444,
              "#bd3786"
             ],
             [
              0.5555555555555556,
              "#d8576b"
             ],
             [
              0.6666666666666666,
              "#ed7953"
             ],
             [
              0.7777777777777778,
              "#fb9f3a"
             ],
             [
              0.8888888888888888,
              "#fdca26"
             ],
             [
              1,
              "#f0f921"
             ]
            ],
            "type": "surface"
           }
          ],
          "table": [
           {
            "cells": {
             "fill": {
              "color": "#EBF0F8"
             },
             "line": {
              "color": "white"
             }
            },
            "header": {
             "fill": {
              "color": "#C8D4E3"
             },
             "line": {
              "color": "white"
             }
            },
            "type": "table"
           }
          ]
         },
         "layout": {
          "annotationdefaults": {
           "arrowcolor": "#2a3f5f",
           "arrowhead": 0,
           "arrowwidth": 1
          },
          "autotypenumbers": "strict",
          "coloraxis": {
           "colorbar": {
            "outlinewidth": 0,
            "ticks": ""
           }
          },
          "colorscale": {
           "diverging": [
            [
             0,
             "#8e0152"
            ],
            [
             0.1,
             "#c51b7d"
            ],
            [
             0.2,
             "#de77ae"
            ],
            [
             0.3,
             "#f1b6da"
            ],
            [
             0.4,
             "#fde0ef"
            ],
            [
             0.5,
             "#f7f7f7"
            ],
            [
             0.6,
             "#e6f5d0"
            ],
            [
             0.7,
             "#b8e186"
            ],
            [
             0.8,
             "#7fbc41"
            ],
            [
             0.9,
             "#4d9221"
            ],
            [
             1,
             "#276419"
            ]
           ],
           "sequential": [
            [
             0,
             "#0d0887"
            ],
            [
             0.1111111111111111,
             "#46039f"
            ],
            [
             0.2222222222222222,
             "#7201a8"
            ],
            [
             0.3333333333333333,
             "#9c179e"
            ],
            [
             0.4444444444444444,
             "#bd3786"
            ],
            [
             0.5555555555555556,
             "#d8576b"
            ],
            [
             0.6666666666666666,
             "#ed7953"
            ],
            [
             0.7777777777777778,
             "#fb9f3a"
            ],
            [
             0.8888888888888888,
             "#fdca26"
            ],
            [
             1,
             "#f0f921"
            ]
           ],
           "sequentialminus": [
            [
             0,
             "#0d0887"
            ],
            [
             0.1111111111111111,
             "#46039f"
            ],
            [
             0.2222222222222222,
             "#7201a8"
            ],
            [
             0.3333333333333333,
             "#9c179e"
            ],
            [
             0.4444444444444444,
             "#bd3786"
            ],
            [
             0.5555555555555556,
             "#d8576b"
            ],
            [
             0.6666666666666666,
             "#ed7953"
            ],
            [
             0.7777777777777778,
             "#fb9f3a"
            ],
            [
             0.8888888888888888,
             "#fdca26"
            ],
            [
             1,
             "#f0f921"
            ]
           ]
          },
          "colorway": [
           "#636efa",
           "#EF553B",
           "#00cc96",
           "#ab63fa",
           "#FFA15A",
           "#19d3f3",
           "#FF6692",
           "#B6E880",
           "#FF97FF",
           "#FECB52"
          ],
          "font": {
           "color": "#2a3f5f"
          },
          "geo": {
           "bgcolor": "white",
           "lakecolor": "white",
           "landcolor": "#E5ECF6",
           "showlakes": true,
           "showland": true,
           "subunitcolor": "white"
          },
          "hoverlabel": {
           "align": "left"
          },
          "hovermode": "closest",
          "mapbox": {
           "style": "light"
          },
          "paper_bgcolor": "white",
          "plot_bgcolor": "#E5ECF6",
          "polar": {
           "angularaxis": {
            "gridcolor": "white",
            "linecolor": "white",
            "ticks": ""
           },
           "bgcolor": "#E5ECF6",
           "radialaxis": {
            "gridcolor": "white",
            "linecolor": "white",
            "ticks": ""
           }
          },
          "scene": {
           "xaxis": {
            "backgroundcolor": "#E5ECF6",
            "gridcolor": "white",
            "gridwidth": 2,
            "linecolor": "white",
            "showbackground": true,
            "ticks": "",
            "zerolinecolor": "white"
           },
           "yaxis": {
            "backgroundcolor": "#E5ECF6",
            "gridcolor": "white",
            "gridwidth": 2,
            "linecolor": "white",
            "showbackground": true,
            "ticks": "",
            "zerolinecolor": "white"
           },
           "zaxis": {
            "backgroundcolor": "#E5ECF6",
            "gridcolor": "white",
            "gridwidth": 2,
            "linecolor": "white",
            "showbackground": true,
            "ticks": "",
            "zerolinecolor": "white"
           }
          },
          "shapedefaults": {
           "line": {
            "color": "#2a3f5f"
           }
          },
          "ternary": {
           "aaxis": {
            "gridcolor": "white",
            "linecolor": "white",
            "ticks": ""
           },
           "baxis": {
            "gridcolor": "white",
            "linecolor": "white",
            "ticks": ""
           },
           "bgcolor": "#E5ECF6",
           "caxis": {
            "gridcolor": "white",
            "linecolor": "white",
            "ticks": ""
           }
          },
          "title": {
           "x": 0.05
          },
          "xaxis": {
           "automargin": true,
           "gridcolor": "white",
           "linecolor": "white",
           "ticks": "",
           "title": {
            "standoff": 15
           },
           "zerolinecolor": "white",
           "zerolinewidth": 2
          },
          "yaxis": {
           "automargin": true,
           "gridcolor": "white",
           "linecolor": "white",
           "ticks": "",
           "title": {
            "standoff": 15
           },
           "zerolinecolor": "white",
           "zerolinewidth": 2
          }
         }
        },
        "title": {
         "font": {
          "color": "#4D5663"
         }
        },
        "xaxis": {
         "gridcolor": "#E1E5ED",
         "showgrid": true,
         "tickfont": {
          "color": "#4D5663"
         },
         "title": {
          "font": {
           "color": "#4D5663"
          },
          "text": ""
         },
         "zerolinecolor": "#E1E5ED"
        },
        "yaxis": {
         "gridcolor": "#E1E5ED",
         "showgrid": true,
         "tickfont": {
          "color": "#4D5663"
         },
         "title": {
          "font": {
           "color": "#4D5663"
          },
          "text": ""
         },
         "zerolinecolor": "#E1E5ED"
        }
       }
      },
      "text/html": [
       "<div>                            <div id=\"39a8ba57-78ee-4ab2-a0fc-eae1bad02e2a\" class=\"plotly-graph-div\" style=\"height:525px; width:100%;\"></div>            <script type=\"text/javascript\">                require([\"plotly\"], function(Plotly) {                    window.PLOTLYENV=window.PLOTLYENV || {};\n",
       "                    window.PLOTLYENV.BASE_URL='https://plot.ly';                                    if (document.getElementById(\"39a8ba57-78ee-4ab2-a0fc-eae1bad02e2a\")) {                    Plotly.newPlot(                        \"39a8ba57-78ee-4ab2-a0fc-eae1bad02e2a\",                        [{\"line\":{\"color\":\"rgba(255, 153, 51, 1.0)\",\"dash\":\"solid\",\"shape\":\"linear\",\"width\":1.3},\"marker\":{\"size\":15,\"symbol\":\"circle\"},\"mode\":\"markers\",\"name\":\"Doe\",\"text\":\"\",\"x\":[0.019642646998532538,0.5102977624801204,0.24449280881659421,-0.09964374543098901,-0.8336301504091984,0.7633960938278734,0.008888279313414483,-0.04559506706851624,0.1928875749925488,0.03414630485056338,0.7264465808915783,1.0658884808652351,0.38523365088508876,1.5124214398730913,-1.6377485347546827,-0.7010980666045677,0.45739260615720606,0.4876140496185153,-1.0773443173458792,0.1156850759183294,-1.7276705506695154,-0.7605787719199244,-1.0185765341213795,-0.6973825682764789,0.6891443271530647,0.2866451570554162,-0.6019547431882285,1.0946069931759237,-0.25809283296644064,0.3711605045232904,2.016529005040461,1.4362079476882181,-1.8065697572276622,0.41709344375999546,-0.952273483938806,-0.33790763860390516,1.4653354860476666,-1.0364187829767437,-0.5958291555412103,-0.9095925468162066,-0.03443570936609096,0.41796253085085777,0.4985597267149191,1.256230814302931,0.3041815809519573,-0.7314944255391029,0.1347390648641512,0.36668711521731945,-1.345745456849986,-0.3024870212580657,0.38946023142969144,-2.2080623777024857,0.14690798112419792,-0.10214577252644914,-0.7558190914775792,1.636096524673409,-0.9350054629918986,-0.834717261048946,0.9042211849377907,-0.970097819261639,0.08302084353049828,0.122533351733746,-0.5668598556840447,1.2122897430202741,-0.2628230583023596,-1.319033630348968,-1.2725064526718661,2.0358158967569318,-0.8468257533048923,1.4882729870233895,-1.2205022462300505,-0.05757188230792311,1.367768040891796,-0.19921297667841037,0.4697389292048797,-1.3381417318782258,0.6524847805507301,-1.7994321764509653,-1.077881485573476,-1.3625099426155498,0.045648147491829216,0.563618810148228,-0.4786892358293386,0.47606615646569794,-0.8543313928147953,0.0925095317870382,-0.21597284215262857,0.4834183462334682,-0.9360044456206287,-0.6269954947934127,2.1712068293506985,0.016129286645642983,-0.8759971648778004,1.1406389788304063,-1.500404007263379,0.4829784953373957,1.5084272190275951,-1.9175664929088536,-0.7413752267077025,-0.13980204256336462],\"y\":[0.18932288313259496,1.3281660265941044,0.08260420682700166,0.19766344985332351,-1.3519755938004667,0.7152547986319213,2.1061290065425045,-0.4536884731298851,-1.314290670147277,1.2162156869830907,0.38627757098814897,1.0778958970219656,1.0172005524466166,-0.8363987977283873,0.6219718214710519,-0.10941421275248397,0.1834145301165497,1.6905631473724685,0.2830379714000602,0.8209176571110884,0.2712601644922478,2.6709808829839905,-0.038019966272632134,-0.800964216187689,-0.9772594874158484,-0.9996924316330814,0.6757843694951967,-0.9172910777638664,0.21534798195889704,-0.6649356062395503,-1.2190835483281803,1.6237785328878958,-0.17059875405261618,0.5863516626635352,-0.10759342108696314,-0.593705778613284,0.8306281292382299,2.1589815543497193,-1.0911341602641766,-0.40761643718218465,-2.383684095369639,0.009333505772728184,0.08093342989807364,-0.33071099419622413,-0.26004567740817947,-0.06395831153582572,-0.5989402137637061,-0.6142660522286667,-2.1372805837605546,1.5015600737392012,-1.4841755895742048,-0.4063083689229514,-1.4867589787693356,-0.7562643323620777,0.4865696831994064,-0.6436237599111508,-0.05723995074100056,0.41887052392231416,0.3141993864196437,-0.24322500286511342,0.7610647654161666,-0.5576576400296814,-0.01206385658904262,-0.9750812100109979,0.684081164985671,-1.5261851048875195,0.37714545839915764,-0.8713897574661608,-0.2241657499226878,-0.6870427813507797,-0.47336276072954436,0.26368992576199496,-0.20034751046151145,0.45876070741422004,-0.16879611580477616,1.576773398907753,0.30704353862755446,-0.4911660185041354,0.6111210148978148,-2.213938060785341,0.020347578904885685,-0.5256163213064886,-1.693539773930717,-0.2737625049855568,1.1277007342060812,-0.4849370930878959,-0.5219300157008511,-1.112720153303619,1.4405568615058983,-1.7859008692500788,1.2443992275160747,-0.3448053249356195,-1.1315614753988137,0.40563336698552666,0.4595262640725895,-0.5381022646055008,-0.5132149097842915,-0.31065608999022215,0.8944689282816258,-0.5132298585680108],\"type\":\"scatter\"}],                        {\"legend\":{\"bgcolor\":\"#F5F6F9\",\"font\":{\"color\":\"#4D5663\"}},\"paper_bgcolor\":\"#F5F6F9\",\"plot_bgcolor\":\"#F5F6F9\",\"template\":{\"data\":{\"barpolar\":[{\"marker\":{\"line\":{\"color\":\"#E5ECF6\",\"width\":0.5},\"pattern\":{\"fillmode\":\"overlay\",\"size\":10,\"solidity\":0.2}},\"type\":\"barpolar\"}],\"bar\":[{\"error_x\":{\"color\":\"#2a3f5f\"},\"error_y\":{\"color\":\"#2a3f5f\"},\"marker\":{\"line\":{\"color\":\"#E5ECF6\",\"width\":0.5},\"pattern\":{\"fillmode\":\"overlay\",\"size\":10,\"solidity\":0.2}},\"type\":\"bar\"}],\"carpet\":[{\"aaxis\":{\"endlinecolor\":\"#2a3f5f\",\"gridcolor\":\"white\",\"linecolor\":\"white\",\"minorgridcolor\":\"white\",\"startlinecolor\":\"#2a3f5f\"},\"baxis\":{\"endlinecolor\":\"#2a3f5f\",\"gridcolor\":\"white\",\"linecolor\":\"white\",\"minorgridcolor\":\"white\",\"startlinecolor\":\"#2a3f5f\"},\"type\":\"carpet\"}],\"choropleth\":[{\"colorbar\":{\"outlinewidth\":0,\"ticks\":\"\"},\"type\":\"choropleth\"}],\"contourcarpet\":[{\"colorbar\":{\"outlinewidth\":0,\"ticks\":\"\"},\"type\":\"contourcarpet\"}],\"contour\":[{\"colorbar\":{\"outlinewidth\":0,\"ticks\":\"\"},\"colorscale\":[[0.0,\"#0d0887\"],[0.1111111111111111,\"#46039f\"],[0.2222222222222222,\"#7201a8\"],[0.3333333333333333,\"#9c179e\"],[0.4444444444444444,\"#bd3786\"],[0.5555555555555556,\"#d8576b\"],[0.6666666666666666,\"#ed7953\"],[0.7777777777777778,\"#fb9f3a\"],[0.8888888888888888,\"#fdca26\"],[1.0,\"#f0f921\"]],\"type\":\"contour\"}],\"heatmapgl\":[{\"colorbar\":{\"outlinewidth\":0,\"ticks\":\"\"},\"colorscale\":[[0.0,\"#0d0887\"],[0.1111111111111111,\"#46039f\"],[0.2222222222222222,\"#7201a8\"],[0.3333333333333333,\"#9c179e\"],[0.4444444444444444,\"#bd3786\"],[0.5555555555555556,\"#d8576b\"],[0.6666666666666666,\"#ed7953\"],[0.7777777777777778,\"#fb9f3a\"],[0.8888888888888888,\"#fdca26\"],[1.0,\"#f0f921\"]],\"type\":\"heatmapgl\"}],\"heatmap\":[{\"colorbar\":{\"outlinewidth\":0,\"ticks\":\"\"},\"colorscale\":[[0.0,\"#0d0887\"],[0.1111111111111111,\"#46039f\"],[0.2222222222222222,\"#7201a8\"],[0.3333333333333333,\"#9c179e\"],[0.4444444444444444,\"#bd3786\"],[0.5555555555555556,\"#d8576b\"],[0.6666666666666666,\"#ed7953\"],[0.7777777777777778,\"#fb9f3a\"],[0.8888888888888888,\"#fdca26\"],[1.0,\"#f0f921\"]],\"type\":\"heatmap\"}],\"histogram2dcontour\":[{\"colorbar\":{\"outlinewidth\":0,\"ticks\":\"\"},\"colorscale\":[[0.0,\"#0d0887\"],[0.1111111111111111,\"#46039f\"],[0.2222222222222222,\"#7201a8\"],[0.3333333333333333,\"#9c179e\"],[0.4444444444444444,\"#bd3786\"],[0.5555555555555556,\"#d8576b\"],[0.6666666666666666,\"#ed7953\"],[0.7777777777777778,\"#fb9f3a\"],[0.8888888888888888,\"#fdca26\"],[1.0,\"#f0f921\"]],\"type\":\"histogram2dcontour\"}],\"histogram2d\":[{\"colorbar\":{\"outlinewidth\":0,\"ticks\":\"\"},\"colorscale\":[[0.0,\"#0d0887\"],[0.1111111111111111,\"#46039f\"],[0.2222222222222222,\"#7201a8\"],[0.3333333333333333,\"#9c179e\"],[0.4444444444444444,\"#bd3786\"],[0.5555555555555556,\"#d8576b\"],[0.6666666666666666,\"#ed7953\"],[0.7777777777777778,\"#fb9f3a\"],[0.8888888888888888,\"#fdca26\"],[1.0,\"#f0f921\"]],\"type\":\"histogram2d\"}],\"histogram\":[{\"marker\":{\"pattern\":{\"fillmode\":\"overlay\",\"size\":10,\"solidity\":0.2}},\"type\":\"histogram\"}],\"mesh3d\":[{\"colorbar\":{\"outlinewidth\":0,\"ticks\":\"\"},\"type\":\"mesh3d\"}],\"parcoords\":[{\"line\":{\"colorbar\":{\"outlinewidth\":0,\"ticks\":\"\"}},\"type\":\"parcoords\"}],\"pie\":[{\"automargin\":true,\"type\":\"pie\"}],\"scatter3d\":[{\"line\":{\"colorbar\":{\"outlinewidth\":0,\"ticks\":\"\"}},\"marker\":{\"colorbar\":{\"outlinewidth\":0,\"ticks\":\"\"}},\"type\":\"scatter3d\"}],\"scattercarpet\":[{\"marker\":{\"colorbar\":{\"outlinewidth\":0,\"ticks\":\"\"}},\"type\":\"scattercarpet\"}],\"scattergeo\":[{\"marker\":{\"colorbar\":{\"outlinewidth\":0,\"ticks\":\"\"}},\"type\":\"scattergeo\"}],\"scattergl\":[{\"marker\":{\"colorbar\":{\"outlinewidth\":0,\"ticks\":\"\"}},\"type\":\"scattergl\"}],\"scattermapbox\":[{\"marker\":{\"colorbar\":{\"outlinewidth\":0,\"ticks\":\"\"}},\"type\":\"scattermapbox\"}],\"scatterpolargl\":[{\"marker\":{\"colorbar\":{\"outlinewidth\":0,\"ticks\":\"\"}},\"type\":\"scatterpolargl\"}],\"scatterpolar\":[{\"marker\":{\"colorbar\":{\"outlinewidth\":0,\"ticks\":\"\"}},\"type\":\"scatterpolar\"}],\"scatter\":[{\"fillpattern\":{\"fillmode\":\"overlay\",\"size\":10,\"solidity\":0.2},\"type\":\"scatter\"}],\"scatterternary\":[{\"marker\":{\"colorbar\":{\"outlinewidth\":0,\"ticks\":\"\"}},\"type\":\"scatterternary\"}],\"surface\":[{\"colorbar\":{\"outlinewidth\":0,\"ticks\":\"\"},\"colorscale\":[[0.0,\"#0d0887\"],[0.1111111111111111,\"#46039f\"],[0.2222222222222222,\"#7201a8\"],[0.3333333333333333,\"#9c179e\"],[0.4444444444444444,\"#bd3786\"],[0.5555555555555556,\"#d8576b\"],[0.6666666666666666,\"#ed7953\"],[0.7777777777777778,\"#fb9f3a\"],[0.8888888888888888,\"#fdca26\"],[1.0,\"#f0f921\"]],\"type\":\"surface\"}],\"table\":[{\"cells\":{\"fill\":{\"color\":\"#EBF0F8\"},\"line\":{\"color\":\"white\"}},\"header\":{\"fill\":{\"color\":\"#C8D4E3\"},\"line\":{\"color\":\"white\"}},\"type\":\"table\"}]},\"layout\":{\"annotationdefaults\":{\"arrowcolor\":\"#2a3f5f\",\"arrowhead\":0,\"arrowwidth\":1},\"autotypenumbers\":\"strict\",\"coloraxis\":{\"colorbar\":{\"outlinewidth\":0,\"ticks\":\"\"}},\"colorscale\":{\"diverging\":[[0,\"#8e0152\"],[0.1,\"#c51b7d\"],[0.2,\"#de77ae\"],[0.3,\"#f1b6da\"],[0.4,\"#fde0ef\"],[0.5,\"#f7f7f7\"],[0.6,\"#e6f5d0\"],[0.7,\"#b8e186\"],[0.8,\"#7fbc41\"],[0.9,\"#4d9221\"],[1,\"#276419\"]],\"sequential\":[[0.0,\"#0d0887\"],[0.1111111111111111,\"#46039f\"],[0.2222222222222222,\"#7201a8\"],[0.3333333333333333,\"#9c179e\"],[0.4444444444444444,\"#bd3786\"],[0.5555555555555556,\"#d8576b\"],[0.6666666666666666,\"#ed7953\"],[0.7777777777777778,\"#fb9f3a\"],[0.8888888888888888,\"#fdca26\"],[1.0,\"#f0f921\"]],\"sequentialminus\":[[0.0,\"#0d0887\"],[0.1111111111111111,\"#46039f\"],[0.2222222222222222,\"#7201a8\"],[0.3333333333333333,\"#9c179e\"],[0.4444444444444444,\"#bd3786\"],[0.5555555555555556,\"#d8576b\"],[0.6666666666666666,\"#ed7953\"],[0.7777777777777778,\"#fb9f3a\"],[0.8888888888888888,\"#fdca26\"],[1.0,\"#f0f921\"]]},\"colorway\":[\"#636efa\",\"#EF553B\",\"#00cc96\",\"#ab63fa\",\"#FFA15A\",\"#19d3f3\",\"#FF6692\",\"#B6E880\",\"#FF97FF\",\"#FECB52\"],\"font\":{\"color\":\"#2a3f5f\"},\"geo\":{\"bgcolor\":\"white\",\"lakecolor\":\"white\",\"landcolor\":\"#E5ECF6\",\"showlakes\":true,\"showland\":true,\"subunitcolor\":\"white\"},\"hoverlabel\":{\"align\":\"left\"},\"hovermode\":\"closest\",\"mapbox\":{\"style\":\"light\"},\"paper_bgcolor\":\"white\",\"plot_bgcolor\":\"#E5ECF6\",\"polar\":{\"angularaxis\":{\"gridcolor\":\"white\",\"linecolor\":\"white\",\"ticks\":\"\"},\"bgcolor\":\"#E5ECF6\",\"radialaxis\":{\"gridcolor\":\"white\",\"linecolor\":\"white\",\"ticks\":\"\"}},\"scene\":{\"xaxis\":{\"backgroundcolor\":\"#E5ECF6\",\"gridcolor\":\"white\",\"gridwidth\":2,\"linecolor\":\"white\",\"showbackground\":true,\"ticks\":\"\",\"zerolinecolor\":\"white\"},\"yaxis\":{\"backgroundcolor\":\"#E5ECF6\",\"gridcolor\":\"white\",\"gridwidth\":2,\"linecolor\":\"white\",\"showbackground\":true,\"ticks\":\"\",\"zerolinecolor\":\"white\"},\"zaxis\":{\"backgroundcolor\":\"#E5ECF6\",\"gridcolor\":\"white\",\"gridwidth\":2,\"linecolor\":\"white\",\"showbackground\":true,\"ticks\":\"\",\"zerolinecolor\":\"white\"}},\"shapedefaults\":{\"line\":{\"color\":\"#2a3f5f\"}},\"ternary\":{\"aaxis\":{\"gridcolor\":\"white\",\"linecolor\":\"white\",\"ticks\":\"\"},\"baxis\":{\"gridcolor\":\"white\",\"linecolor\":\"white\",\"ticks\":\"\"},\"bgcolor\":\"#E5ECF6\",\"caxis\":{\"gridcolor\":\"white\",\"linecolor\":\"white\",\"ticks\":\"\"}},\"title\":{\"x\":0.05},\"xaxis\":{\"automargin\":true,\"gridcolor\":\"white\",\"linecolor\":\"white\",\"ticks\":\"\",\"title\":{\"standoff\":15},\"zerolinecolor\":\"white\",\"zerolinewidth\":2},\"yaxis\":{\"automargin\":true,\"gridcolor\":\"white\",\"linecolor\":\"white\",\"ticks\":\"\",\"title\":{\"standoff\":15},\"zerolinecolor\":\"white\",\"zerolinewidth\":2}}},\"title\":{\"font\":{\"color\":\"#4D5663\"}},\"xaxis\":{\"gridcolor\":\"#E1E5ED\",\"showgrid\":true,\"tickfont\":{\"color\":\"#4D5663\"},\"title\":{\"font\":{\"color\":\"#4D5663\"},\"text\":\"\"},\"zerolinecolor\":\"#E1E5ED\"},\"yaxis\":{\"gridcolor\":\"#E1E5ED\",\"showgrid\":true,\"tickfont\":{\"color\":\"#4D5663\"},\"title\":{\"font\":{\"color\":\"#4D5663\"},\"text\":\"\"},\"zerolinecolor\":\"#E1E5ED\"}},                        {\"showLink\": true, \"linkText\": \"Export to plot.ly\", \"plotlyServerURL\": \"https://plot.ly\", \"responsive\": true}                    ).then(function(){\n",
       "                            \n",
       "var gd = document.getElementById('39a8ba57-78ee-4ab2-a0fc-eae1bad02e2a');\n",
       "var x = new MutationObserver(function (mutations, observer) {{\n",
       "        var display = window.getComputedStyle(gd).display;\n",
       "        if (!display || display === 'none') {{\n",
       "            console.log([gd, 'removed!']);\n",
       "            Plotly.purge(gd);\n",
       "            observer.disconnect();\n",
       "        }}\n",
       "}});\n",
       "\n",
       "// Listen for the removal of the full notebook cells\n",
       "var notebookContainer = gd.closest('#notebook-container');\n",
       "if (notebookContainer) {{\n",
       "    x.observe(notebookContainer, {childList: true});\n",
       "}}\n",
       "\n",
       "// Listen for the clearing of the current output cell\n",
       "var outputEl = gd.closest('.output');\n",
       "if (outputEl) {{\n",
       "    x.observe(outputEl, {childList: true});\n",
       "}}\n",
       "\n",
       "                        })                };                });            </script>        </div>"
      ]
     },
     "metadata": {},
     "output_type": "display_data"
    }
   ],
   "source": [
    "df.iplot(kind='scatter',x='John',y='Doe',mode='markers',size=15)"
   ]
  },
  {
   "cell_type": "code",
   "execution_count": 13,
   "id": "bb6294ce-66d3-4e7d-87b4-13efe9654b29",
   "metadata": {},
   "outputs": [
    {
     "data": {
      "application/vnd.plotly.v1+json": {
       "config": {
        "linkText": "Export to plot.ly",
        "plotlyServerURL": "https://plot.ly",
        "showLink": true
       },
       "data": [
        {
         "marker": {
          "color": "rgba(255, 153, 51, 0.6)",
          "line": {
           "color": "rgba(255, 153, 51, 1.0)",
           "width": 1
          }
         },
         "name": "Values",
         "orientation": "v",
         "text": "",
         "type": "bar",
         "x": [
          "John",
          "Doe",
          "Jane",
          "Alice"
         ],
         "y": [
          55,
          73,
          98,
          125
         ]
        }
       ],
       "layout": {
        "legend": {
         "bgcolor": "#F5F6F9",
         "font": {
          "color": "#4D5663"
         }
        },
        "paper_bgcolor": "#F5F6F9",
        "plot_bgcolor": "#F5F6F9",
        "template": {
         "data": {
          "bar": [
           {
            "error_x": {
             "color": "#2a3f5f"
            },
            "error_y": {
             "color": "#2a3f5f"
            },
            "marker": {
             "line": {
              "color": "#E5ECF6",
              "width": 0.5
             },
             "pattern": {
              "fillmode": "overlay",
              "size": 10,
              "solidity": 0.2
             }
            },
            "type": "bar"
           }
          ],
          "barpolar": [
           {
            "marker": {
             "line": {
              "color": "#E5ECF6",
              "width": 0.5
             },
             "pattern": {
              "fillmode": "overlay",
              "size": 10,
              "solidity": 0.2
             }
            },
            "type": "barpolar"
           }
          ],
          "carpet": [
           {
            "aaxis": {
             "endlinecolor": "#2a3f5f",
             "gridcolor": "white",
             "linecolor": "white",
             "minorgridcolor": "white",
             "startlinecolor": "#2a3f5f"
            },
            "baxis": {
             "endlinecolor": "#2a3f5f",
             "gridcolor": "white",
             "linecolor": "white",
             "minorgridcolor": "white",
             "startlinecolor": "#2a3f5f"
            },
            "type": "carpet"
           }
          ],
          "choropleth": [
           {
            "colorbar": {
             "outlinewidth": 0,
             "ticks": ""
            },
            "type": "choropleth"
           }
          ],
          "contour": [
           {
            "colorbar": {
             "outlinewidth": 0,
             "ticks": ""
            },
            "colorscale": [
             [
              0,
              "#0d0887"
             ],
             [
              0.1111111111111111,
              "#46039f"
             ],
             [
              0.2222222222222222,
              "#7201a8"
             ],
             [
              0.3333333333333333,
              "#9c179e"
             ],
             [
              0.4444444444444444,
              "#bd3786"
             ],
             [
              0.5555555555555556,
              "#d8576b"
             ],
             [
              0.6666666666666666,
              "#ed7953"
             ],
             [
              0.7777777777777778,
              "#fb9f3a"
             ],
             [
              0.8888888888888888,
              "#fdca26"
             ],
             [
              1,
              "#f0f921"
             ]
            ],
            "type": "contour"
           }
          ],
          "contourcarpet": [
           {
            "colorbar": {
             "outlinewidth": 0,
             "ticks": ""
            },
            "type": "contourcarpet"
           }
          ],
          "heatmap": [
           {
            "colorbar": {
             "outlinewidth": 0,
             "ticks": ""
            },
            "colorscale": [
             [
              0,
              "#0d0887"
             ],
             [
              0.1111111111111111,
              "#46039f"
             ],
             [
              0.2222222222222222,
              "#7201a8"
             ],
             [
              0.3333333333333333,
              "#9c179e"
             ],
             [
              0.4444444444444444,
              "#bd3786"
             ],
             [
              0.5555555555555556,
              "#d8576b"
             ],
             [
              0.6666666666666666,
              "#ed7953"
             ],
             [
              0.7777777777777778,
              "#fb9f3a"
             ],
             [
              0.8888888888888888,
              "#fdca26"
             ],
             [
              1,
              "#f0f921"
             ]
            ],
            "type": "heatmap"
           }
          ],
          "heatmapgl": [
           {
            "colorbar": {
             "outlinewidth": 0,
             "ticks": ""
            },
            "colorscale": [
             [
              0,
              "#0d0887"
             ],
             [
              0.1111111111111111,
              "#46039f"
             ],
             [
              0.2222222222222222,
              "#7201a8"
             ],
             [
              0.3333333333333333,
              "#9c179e"
             ],
             [
              0.4444444444444444,
              "#bd3786"
             ],
             [
              0.5555555555555556,
              "#d8576b"
             ],
             [
              0.6666666666666666,
              "#ed7953"
             ],
             [
              0.7777777777777778,
              "#fb9f3a"
             ],
             [
              0.8888888888888888,
              "#fdca26"
             ],
             [
              1,
              "#f0f921"
             ]
            ],
            "type": "heatmapgl"
           }
          ],
          "histogram": [
           {
            "marker": {
             "pattern": {
              "fillmode": "overlay",
              "size": 10,
              "solidity": 0.2
             }
            },
            "type": "histogram"
           }
          ],
          "histogram2d": [
           {
            "colorbar": {
             "outlinewidth": 0,
             "ticks": ""
            },
            "colorscale": [
             [
              0,
              "#0d0887"
             ],
             [
              0.1111111111111111,
              "#46039f"
             ],
             [
              0.2222222222222222,
              "#7201a8"
             ],
             [
              0.3333333333333333,
              "#9c179e"
             ],
             [
              0.4444444444444444,
              "#bd3786"
             ],
             [
              0.5555555555555556,
              "#d8576b"
             ],
             [
              0.6666666666666666,
              "#ed7953"
             ],
             [
              0.7777777777777778,
              "#fb9f3a"
             ],
             [
              0.8888888888888888,
              "#fdca26"
             ],
             [
              1,
              "#f0f921"
             ]
            ],
            "type": "histogram2d"
           }
          ],
          "histogram2dcontour": [
           {
            "colorbar": {
             "outlinewidth": 0,
             "ticks": ""
            },
            "colorscale": [
             [
              0,
              "#0d0887"
             ],
             [
              0.1111111111111111,
              "#46039f"
             ],
             [
              0.2222222222222222,
              "#7201a8"
             ],
             [
              0.3333333333333333,
              "#9c179e"
             ],
             [
              0.4444444444444444,
              "#bd3786"
             ],
             [
              0.5555555555555556,
              "#d8576b"
             ],
             [
              0.6666666666666666,
              "#ed7953"
             ],
             [
              0.7777777777777778,
              "#fb9f3a"
             ],
             [
              0.8888888888888888,
              "#fdca26"
             ],
             [
              1,
              "#f0f921"
             ]
            ],
            "type": "histogram2dcontour"
           }
          ],
          "mesh3d": [
           {
            "colorbar": {
             "outlinewidth": 0,
             "ticks": ""
            },
            "type": "mesh3d"
           }
          ],
          "parcoords": [
           {
            "line": {
             "colorbar": {
              "outlinewidth": 0,
              "ticks": ""
             }
            },
            "type": "parcoords"
           }
          ],
          "pie": [
           {
            "automargin": true,
            "type": "pie"
           }
          ],
          "scatter": [
           {
            "fillpattern": {
             "fillmode": "overlay",
             "size": 10,
             "solidity": 0.2
            },
            "type": "scatter"
           }
          ],
          "scatter3d": [
           {
            "line": {
             "colorbar": {
              "outlinewidth": 0,
              "ticks": ""
             }
            },
            "marker": {
             "colorbar": {
              "outlinewidth": 0,
              "ticks": ""
             }
            },
            "type": "scatter3d"
           }
          ],
          "scattercarpet": [
           {
            "marker": {
             "colorbar": {
              "outlinewidth": 0,
              "ticks": ""
             }
            },
            "type": "scattercarpet"
           }
          ],
          "scattergeo": [
           {
            "marker": {
             "colorbar": {
              "outlinewidth": 0,
              "ticks": ""
             }
            },
            "type": "scattergeo"
           }
          ],
          "scattergl": [
           {
            "marker": {
             "colorbar": {
              "outlinewidth": 0,
              "ticks": ""
             }
            },
            "type": "scattergl"
           }
          ],
          "scattermapbox": [
           {
            "marker": {
             "colorbar": {
              "outlinewidth": 0,
              "ticks": ""
             }
            },
            "type": "scattermapbox"
           }
          ],
          "scatterpolar": [
           {
            "marker": {
             "colorbar": {
              "outlinewidth": 0,
              "ticks": ""
             }
            },
            "type": "scatterpolar"
           }
          ],
          "scatterpolargl": [
           {
            "marker": {
             "colorbar": {
              "outlinewidth": 0,
              "ticks": ""
             }
            },
            "type": "scatterpolargl"
           }
          ],
          "scatterternary": [
           {
            "marker": {
             "colorbar": {
              "outlinewidth": 0,
              "ticks": ""
             }
            },
            "type": "scatterternary"
           }
          ],
          "surface": [
           {
            "colorbar": {
             "outlinewidth": 0,
             "ticks": ""
            },
            "colorscale": [
             [
              0,
              "#0d0887"
             ],
             [
              0.1111111111111111,
              "#46039f"
             ],
             [
              0.2222222222222222,
              "#7201a8"
             ],
             [
              0.3333333333333333,
              "#9c179e"
             ],
             [
              0.4444444444444444,
              "#bd3786"
             ],
             [
              0.5555555555555556,
              "#d8576b"
             ],
             [
              0.6666666666666666,
              "#ed7953"
             ],
             [
              0.7777777777777778,
              "#fb9f3a"
             ],
             [
              0.8888888888888888,
              "#fdca26"
             ],
             [
              1,
              "#f0f921"
             ]
            ],
            "type": "surface"
           }
          ],
          "table": [
           {
            "cells": {
             "fill": {
              "color": "#EBF0F8"
             },
             "line": {
              "color": "white"
             }
            },
            "header": {
             "fill": {
              "color": "#C8D4E3"
             },
             "line": {
              "color": "white"
             }
            },
            "type": "table"
           }
          ]
         },
         "layout": {
          "annotationdefaults": {
           "arrowcolor": "#2a3f5f",
           "arrowhead": 0,
           "arrowwidth": 1
          },
          "autotypenumbers": "strict",
          "coloraxis": {
           "colorbar": {
            "outlinewidth": 0,
            "ticks": ""
           }
          },
          "colorscale": {
           "diverging": [
            [
             0,
             "#8e0152"
            ],
            [
             0.1,
             "#c51b7d"
            ],
            [
             0.2,
             "#de77ae"
            ],
            [
             0.3,
             "#f1b6da"
            ],
            [
             0.4,
             "#fde0ef"
            ],
            [
             0.5,
             "#f7f7f7"
            ],
            [
             0.6,
             "#e6f5d0"
            ],
            [
             0.7,
             "#b8e186"
            ],
            [
             0.8,
             "#7fbc41"
            ],
            [
             0.9,
             "#4d9221"
            ],
            [
             1,
             "#276419"
            ]
           ],
           "sequential": [
            [
             0,
             "#0d0887"
            ],
            [
             0.1111111111111111,
             "#46039f"
            ],
            [
             0.2222222222222222,
             "#7201a8"
            ],
            [
             0.3333333333333333,
             "#9c179e"
            ],
            [
             0.4444444444444444,
             "#bd3786"
            ],
            [
             0.5555555555555556,
             "#d8576b"
            ],
            [
             0.6666666666666666,
             "#ed7953"
            ],
            [
             0.7777777777777778,
             "#fb9f3a"
            ],
            [
             0.8888888888888888,
             "#fdca26"
            ],
            [
             1,
             "#f0f921"
            ]
           ],
           "sequentialminus": [
            [
             0,
             "#0d0887"
            ],
            [
             0.1111111111111111,
             "#46039f"
            ],
            [
             0.2222222222222222,
             "#7201a8"
            ],
            [
             0.3333333333333333,
             "#9c179e"
            ],
            [
             0.4444444444444444,
             "#bd3786"
            ],
            [
             0.5555555555555556,
             "#d8576b"
            ],
            [
             0.6666666666666666,
             "#ed7953"
            ],
            [
             0.7777777777777778,
             "#fb9f3a"
            ],
            [
             0.8888888888888888,
             "#fdca26"
            ],
            [
             1,
             "#f0f921"
            ]
           ]
          },
          "colorway": [
           "#636efa",
           "#EF553B",
           "#00cc96",
           "#ab63fa",
           "#FFA15A",
           "#19d3f3",
           "#FF6692",
           "#B6E880",
           "#FF97FF",
           "#FECB52"
          ],
          "font": {
           "color": "#2a3f5f"
          },
          "geo": {
           "bgcolor": "white",
           "lakecolor": "white",
           "landcolor": "#E5ECF6",
           "showlakes": true,
           "showland": true,
           "subunitcolor": "white"
          },
          "hoverlabel": {
           "align": "left"
          },
          "hovermode": "closest",
          "mapbox": {
           "style": "light"
          },
          "paper_bgcolor": "white",
          "plot_bgcolor": "#E5ECF6",
          "polar": {
           "angularaxis": {
            "gridcolor": "white",
            "linecolor": "white",
            "ticks": ""
           },
           "bgcolor": "#E5ECF6",
           "radialaxis": {
            "gridcolor": "white",
            "linecolor": "white",
            "ticks": ""
           }
          },
          "scene": {
           "xaxis": {
            "backgroundcolor": "#E5ECF6",
            "gridcolor": "white",
            "gridwidth": 2,
            "linecolor": "white",
            "showbackground": true,
            "ticks": "",
            "zerolinecolor": "white"
           },
           "yaxis": {
            "backgroundcolor": "#E5ECF6",
            "gridcolor": "white",
            "gridwidth": 2,
            "linecolor": "white",
            "showbackground": true,
            "ticks": "",
            "zerolinecolor": "white"
           },
           "zaxis": {
            "backgroundcolor": "#E5ECF6",
            "gridcolor": "white",
            "gridwidth": 2,
            "linecolor": "white",
            "showbackground": true,
            "ticks": "",
            "zerolinecolor": "white"
           }
          },
          "shapedefaults": {
           "line": {
            "color": "#2a3f5f"
           }
          },
          "ternary": {
           "aaxis": {
            "gridcolor": "white",
            "linecolor": "white",
            "ticks": ""
           },
           "baxis": {
            "gridcolor": "white",
            "linecolor": "white",
            "ticks": ""
           },
           "bgcolor": "#E5ECF6",
           "caxis": {
            "gridcolor": "white",
            "linecolor": "white",
            "ticks": ""
           }
          },
          "title": {
           "x": 0.05
          },
          "xaxis": {
           "automargin": true,
           "gridcolor": "white",
           "linecolor": "white",
           "ticks": "",
           "title": {
            "standoff": 15
           },
           "zerolinecolor": "white",
           "zerolinewidth": 2
          },
          "yaxis": {
           "automargin": true,
           "gridcolor": "white",
           "linecolor": "white",
           "ticks": "",
           "title": {
            "standoff": 15
           },
           "zerolinecolor": "white",
           "zerolinewidth": 2
          }
         }
        },
        "title": {
         "font": {
          "color": "#4D5663"
         }
        },
        "xaxis": {
         "gridcolor": "#E1E5ED",
         "showgrid": true,
         "tickfont": {
          "color": "#4D5663"
         },
         "title": {
          "font": {
           "color": "#4D5663"
          },
          "text": ""
         },
         "zerolinecolor": "#E1E5ED"
        },
        "yaxis": {
         "gridcolor": "#E1E5ED",
         "showgrid": true,
         "tickfont": {
          "color": "#4D5663"
         },
         "title": {
          "font": {
           "color": "#4D5663"
          },
          "text": ""
         },
         "zerolinecolor": "#E1E5ED"
        }
       }
      },
      "text/html": [
       "<div>                            <div id=\"003ed284-e117-419f-beaa-36ebfd70a6d3\" class=\"plotly-graph-div\" style=\"height:525px; width:100%;\"></div>            <script type=\"text/javascript\">                require([\"plotly\"], function(Plotly) {                    window.PLOTLYENV=window.PLOTLYENV || {};\n",
       "                    window.PLOTLYENV.BASE_URL='https://plot.ly';                                    if (document.getElementById(\"003ed284-e117-419f-beaa-36ebfd70a6d3\")) {                    Plotly.newPlot(                        \"003ed284-e117-419f-beaa-36ebfd70a6d3\",                        [{\"marker\":{\"color\":\"rgba(255, 153, 51, 0.6)\",\"line\":{\"color\":\"rgba(255, 153, 51, 1.0)\",\"width\":1}},\"name\":\"Values\",\"orientation\":\"v\",\"text\":\"\",\"x\":[\"John\",\"Doe\",\"Jane\",\"Alice\"],\"y\":[55,73,98,125],\"type\":\"bar\"}],                        {\"legend\":{\"bgcolor\":\"#F5F6F9\",\"font\":{\"color\":\"#4D5663\"}},\"paper_bgcolor\":\"#F5F6F9\",\"plot_bgcolor\":\"#F5F6F9\",\"template\":{\"data\":{\"barpolar\":[{\"marker\":{\"line\":{\"color\":\"#E5ECF6\",\"width\":0.5},\"pattern\":{\"fillmode\":\"overlay\",\"size\":10,\"solidity\":0.2}},\"type\":\"barpolar\"}],\"bar\":[{\"error_x\":{\"color\":\"#2a3f5f\"},\"error_y\":{\"color\":\"#2a3f5f\"},\"marker\":{\"line\":{\"color\":\"#E5ECF6\",\"width\":0.5},\"pattern\":{\"fillmode\":\"overlay\",\"size\":10,\"solidity\":0.2}},\"type\":\"bar\"}],\"carpet\":[{\"aaxis\":{\"endlinecolor\":\"#2a3f5f\",\"gridcolor\":\"white\",\"linecolor\":\"white\",\"minorgridcolor\":\"white\",\"startlinecolor\":\"#2a3f5f\"},\"baxis\":{\"endlinecolor\":\"#2a3f5f\",\"gridcolor\":\"white\",\"linecolor\":\"white\",\"minorgridcolor\":\"white\",\"startlinecolor\":\"#2a3f5f\"},\"type\":\"carpet\"}],\"choropleth\":[{\"colorbar\":{\"outlinewidth\":0,\"ticks\":\"\"},\"type\":\"choropleth\"}],\"contourcarpet\":[{\"colorbar\":{\"outlinewidth\":0,\"ticks\":\"\"},\"type\":\"contourcarpet\"}],\"contour\":[{\"colorbar\":{\"outlinewidth\":0,\"ticks\":\"\"},\"colorscale\":[[0.0,\"#0d0887\"],[0.1111111111111111,\"#46039f\"],[0.2222222222222222,\"#7201a8\"],[0.3333333333333333,\"#9c179e\"],[0.4444444444444444,\"#bd3786\"],[0.5555555555555556,\"#d8576b\"],[0.6666666666666666,\"#ed7953\"],[0.7777777777777778,\"#fb9f3a\"],[0.8888888888888888,\"#fdca26\"],[1.0,\"#f0f921\"]],\"type\":\"contour\"}],\"heatmapgl\":[{\"colorbar\":{\"outlinewidth\":0,\"ticks\":\"\"},\"colorscale\":[[0.0,\"#0d0887\"],[0.1111111111111111,\"#46039f\"],[0.2222222222222222,\"#7201a8\"],[0.3333333333333333,\"#9c179e\"],[0.4444444444444444,\"#bd3786\"],[0.5555555555555556,\"#d8576b\"],[0.6666666666666666,\"#ed7953\"],[0.7777777777777778,\"#fb9f3a\"],[0.8888888888888888,\"#fdca26\"],[1.0,\"#f0f921\"]],\"type\":\"heatmapgl\"}],\"heatmap\":[{\"colorbar\":{\"outlinewidth\":0,\"ticks\":\"\"},\"colorscale\":[[0.0,\"#0d0887\"],[0.1111111111111111,\"#46039f\"],[0.2222222222222222,\"#7201a8\"],[0.3333333333333333,\"#9c179e\"],[0.4444444444444444,\"#bd3786\"],[0.5555555555555556,\"#d8576b\"],[0.6666666666666666,\"#ed7953\"],[0.7777777777777778,\"#fb9f3a\"],[0.8888888888888888,\"#fdca26\"],[1.0,\"#f0f921\"]],\"type\":\"heatmap\"}],\"histogram2dcontour\":[{\"colorbar\":{\"outlinewidth\":0,\"ticks\":\"\"},\"colorscale\":[[0.0,\"#0d0887\"],[0.1111111111111111,\"#46039f\"],[0.2222222222222222,\"#7201a8\"],[0.3333333333333333,\"#9c179e\"],[0.4444444444444444,\"#bd3786\"],[0.5555555555555556,\"#d8576b\"],[0.6666666666666666,\"#ed7953\"],[0.7777777777777778,\"#fb9f3a\"],[0.8888888888888888,\"#fdca26\"],[1.0,\"#f0f921\"]],\"type\":\"histogram2dcontour\"}],\"histogram2d\":[{\"colorbar\":{\"outlinewidth\":0,\"ticks\":\"\"},\"colorscale\":[[0.0,\"#0d0887\"],[0.1111111111111111,\"#46039f\"],[0.2222222222222222,\"#7201a8\"],[0.3333333333333333,\"#9c179e\"],[0.4444444444444444,\"#bd3786\"],[0.5555555555555556,\"#d8576b\"],[0.6666666666666666,\"#ed7953\"],[0.7777777777777778,\"#fb9f3a\"],[0.8888888888888888,\"#fdca26\"],[1.0,\"#f0f921\"]],\"type\":\"histogram2d\"}],\"histogram\":[{\"marker\":{\"pattern\":{\"fillmode\":\"overlay\",\"size\":10,\"solidity\":0.2}},\"type\":\"histogram\"}],\"mesh3d\":[{\"colorbar\":{\"outlinewidth\":0,\"ticks\":\"\"},\"type\":\"mesh3d\"}],\"parcoords\":[{\"line\":{\"colorbar\":{\"outlinewidth\":0,\"ticks\":\"\"}},\"type\":\"parcoords\"}],\"pie\":[{\"automargin\":true,\"type\":\"pie\"}],\"scatter3d\":[{\"line\":{\"colorbar\":{\"outlinewidth\":0,\"ticks\":\"\"}},\"marker\":{\"colorbar\":{\"outlinewidth\":0,\"ticks\":\"\"}},\"type\":\"scatter3d\"}],\"scattercarpet\":[{\"marker\":{\"colorbar\":{\"outlinewidth\":0,\"ticks\":\"\"}},\"type\":\"scattercarpet\"}],\"scattergeo\":[{\"marker\":{\"colorbar\":{\"outlinewidth\":0,\"ticks\":\"\"}},\"type\":\"scattergeo\"}],\"scattergl\":[{\"marker\":{\"colorbar\":{\"outlinewidth\":0,\"ticks\":\"\"}},\"type\":\"scattergl\"}],\"scattermapbox\":[{\"marker\":{\"colorbar\":{\"outlinewidth\":0,\"ticks\":\"\"}},\"type\":\"scattermapbox\"}],\"scatterpolargl\":[{\"marker\":{\"colorbar\":{\"outlinewidth\":0,\"ticks\":\"\"}},\"type\":\"scatterpolargl\"}],\"scatterpolar\":[{\"marker\":{\"colorbar\":{\"outlinewidth\":0,\"ticks\":\"\"}},\"type\":\"scatterpolar\"}],\"scatter\":[{\"fillpattern\":{\"fillmode\":\"overlay\",\"size\":10,\"solidity\":0.2},\"type\":\"scatter\"}],\"scatterternary\":[{\"marker\":{\"colorbar\":{\"outlinewidth\":0,\"ticks\":\"\"}},\"type\":\"scatterternary\"}],\"surface\":[{\"colorbar\":{\"outlinewidth\":0,\"ticks\":\"\"},\"colorscale\":[[0.0,\"#0d0887\"],[0.1111111111111111,\"#46039f\"],[0.2222222222222222,\"#7201a8\"],[0.3333333333333333,\"#9c179e\"],[0.4444444444444444,\"#bd3786\"],[0.5555555555555556,\"#d8576b\"],[0.6666666666666666,\"#ed7953\"],[0.7777777777777778,\"#fb9f3a\"],[0.8888888888888888,\"#fdca26\"],[1.0,\"#f0f921\"]],\"type\":\"surface\"}],\"table\":[{\"cells\":{\"fill\":{\"color\":\"#EBF0F8\"},\"line\":{\"color\":\"white\"}},\"header\":{\"fill\":{\"color\":\"#C8D4E3\"},\"line\":{\"color\":\"white\"}},\"type\":\"table\"}]},\"layout\":{\"annotationdefaults\":{\"arrowcolor\":\"#2a3f5f\",\"arrowhead\":0,\"arrowwidth\":1},\"autotypenumbers\":\"strict\",\"coloraxis\":{\"colorbar\":{\"outlinewidth\":0,\"ticks\":\"\"}},\"colorscale\":{\"diverging\":[[0,\"#8e0152\"],[0.1,\"#c51b7d\"],[0.2,\"#de77ae\"],[0.3,\"#f1b6da\"],[0.4,\"#fde0ef\"],[0.5,\"#f7f7f7\"],[0.6,\"#e6f5d0\"],[0.7,\"#b8e186\"],[0.8,\"#7fbc41\"],[0.9,\"#4d9221\"],[1,\"#276419\"]],\"sequential\":[[0.0,\"#0d0887\"],[0.1111111111111111,\"#46039f\"],[0.2222222222222222,\"#7201a8\"],[0.3333333333333333,\"#9c179e\"],[0.4444444444444444,\"#bd3786\"],[0.5555555555555556,\"#d8576b\"],[0.6666666666666666,\"#ed7953\"],[0.7777777777777778,\"#fb9f3a\"],[0.8888888888888888,\"#fdca26\"],[1.0,\"#f0f921\"]],\"sequentialminus\":[[0.0,\"#0d0887\"],[0.1111111111111111,\"#46039f\"],[0.2222222222222222,\"#7201a8\"],[0.3333333333333333,\"#9c179e\"],[0.4444444444444444,\"#bd3786\"],[0.5555555555555556,\"#d8576b\"],[0.6666666666666666,\"#ed7953\"],[0.7777777777777778,\"#fb9f3a\"],[0.8888888888888888,\"#fdca26\"],[1.0,\"#f0f921\"]]},\"colorway\":[\"#636efa\",\"#EF553B\",\"#00cc96\",\"#ab63fa\",\"#FFA15A\",\"#19d3f3\",\"#FF6692\",\"#B6E880\",\"#FF97FF\",\"#FECB52\"],\"font\":{\"color\":\"#2a3f5f\"},\"geo\":{\"bgcolor\":\"white\",\"lakecolor\":\"white\",\"landcolor\":\"#E5ECF6\",\"showlakes\":true,\"showland\":true,\"subunitcolor\":\"white\"},\"hoverlabel\":{\"align\":\"left\"},\"hovermode\":\"closest\",\"mapbox\":{\"style\":\"light\"},\"paper_bgcolor\":\"white\",\"plot_bgcolor\":\"#E5ECF6\",\"polar\":{\"angularaxis\":{\"gridcolor\":\"white\",\"linecolor\":\"white\",\"ticks\":\"\"},\"bgcolor\":\"#E5ECF6\",\"radialaxis\":{\"gridcolor\":\"white\",\"linecolor\":\"white\",\"ticks\":\"\"}},\"scene\":{\"xaxis\":{\"backgroundcolor\":\"#E5ECF6\",\"gridcolor\":\"white\",\"gridwidth\":2,\"linecolor\":\"white\",\"showbackground\":true,\"ticks\":\"\",\"zerolinecolor\":\"white\"},\"yaxis\":{\"backgroundcolor\":\"#E5ECF6\",\"gridcolor\":\"white\",\"gridwidth\":2,\"linecolor\":\"white\",\"showbackground\":true,\"ticks\":\"\",\"zerolinecolor\":\"white\"},\"zaxis\":{\"backgroundcolor\":\"#E5ECF6\",\"gridcolor\":\"white\",\"gridwidth\":2,\"linecolor\":\"white\",\"showbackground\":true,\"ticks\":\"\",\"zerolinecolor\":\"white\"}},\"shapedefaults\":{\"line\":{\"color\":\"#2a3f5f\"}},\"ternary\":{\"aaxis\":{\"gridcolor\":\"white\",\"linecolor\":\"white\",\"ticks\":\"\"},\"baxis\":{\"gridcolor\":\"white\",\"linecolor\":\"white\",\"ticks\":\"\"},\"bgcolor\":\"#E5ECF6\",\"caxis\":{\"gridcolor\":\"white\",\"linecolor\":\"white\",\"ticks\":\"\"}},\"title\":{\"x\":0.05},\"xaxis\":{\"automargin\":true,\"gridcolor\":\"white\",\"linecolor\":\"white\",\"ticks\":\"\",\"title\":{\"standoff\":15},\"zerolinecolor\":\"white\",\"zerolinewidth\":2},\"yaxis\":{\"automargin\":true,\"gridcolor\":\"white\",\"linecolor\":\"white\",\"ticks\":\"\",\"title\":{\"standoff\":15},\"zerolinecolor\":\"white\",\"zerolinewidth\":2}}},\"title\":{\"font\":{\"color\":\"#4D5663\"}},\"xaxis\":{\"gridcolor\":\"#E1E5ED\",\"showgrid\":true,\"tickfont\":{\"color\":\"#4D5663\"},\"title\":{\"font\":{\"color\":\"#4D5663\"},\"text\":\"\"},\"zerolinecolor\":\"#E1E5ED\"},\"yaxis\":{\"gridcolor\":\"#E1E5ED\",\"showgrid\":true,\"tickfont\":{\"color\":\"#4D5663\"},\"title\":{\"font\":{\"color\":\"#4D5663\"},\"text\":\"\"},\"zerolinecolor\":\"#E1E5ED\"}},                        {\"showLink\": true, \"linkText\": \"Export to plot.ly\", \"plotlyServerURL\": \"https://plot.ly\", \"responsive\": true}                    ).then(function(){\n",
       "                            \n",
       "var gd = document.getElementById('003ed284-e117-419f-beaa-36ebfd70a6d3');\n",
       "var x = new MutationObserver(function (mutations, observer) {{\n",
       "        var display = window.getComputedStyle(gd).display;\n",
       "        if (!display || display === 'none') {{\n",
       "            console.log([gd, 'removed!']);\n",
       "            Plotly.purge(gd);\n",
       "            observer.disconnect();\n",
       "        }}\n",
       "}});\n",
       "\n",
       "// Listen for the removal of the full notebook cells\n",
       "var notebookContainer = gd.closest('#notebook-container');\n",
       "if (notebookContainer) {{\n",
       "    x.observe(notebookContainer, {childList: true});\n",
       "}}\n",
       "\n",
       "// Listen for the clearing of the current output cell\n",
       "var outputEl = gd.closest('.output');\n",
       "if (outputEl) {{\n",
       "    x.observe(outputEl, {childList: true});\n",
       "}}\n",
       "\n",
       "                        })                };                });            </script>        </div>"
      ]
     },
     "metadata": {},
     "output_type": "display_data"
    }
   ],
   "source": [
    "df2.iplot(kind='bar',x='Category',y='Values')"
   ]
  },
  {
   "cell_type": "code",
   "execution_count": 14,
   "id": "1f94eb5a-9c2f-4200-b0b8-5d53cd5755b5",
   "metadata": {},
   "outputs": [
    {
     "data": {
      "text/html": [
       "<div>\n",
       "<style scoped>\n",
       "    .dataframe tbody tr th:only-of-type {\n",
       "        vertical-align: middle;\n",
       "    }\n",
       "\n",
       "    .dataframe tbody tr th {\n",
       "        vertical-align: top;\n",
       "    }\n",
       "\n",
       "    .dataframe thead th {\n",
       "        text-align: right;\n",
       "    }\n",
       "</style>\n",
       "<table border=\"1\" class=\"dataframe\">\n",
       "  <thead>\n",
       "    <tr style=\"text-align: right;\">\n",
       "      <th></th>\n",
       "      <th>John</th>\n",
       "      <th>Doe</th>\n",
       "      <th>Jane</th>\n",
       "      <th>Alice</th>\n",
       "    </tr>\n",
       "  </thead>\n",
       "  <tbody>\n",
       "    <tr>\n",
       "      <th>0</th>\n",
       "      <td>0.019643</td>\n",
       "      <td>0.189323</td>\n",
       "      <td>0.020344</td>\n",
       "      <td>0.249370</td>\n",
       "    </tr>\n",
       "    <tr>\n",
       "      <th>1</th>\n",
       "      <td>0.510298</td>\n",
       "      <td>1.328166</td>\n",
       "      <td>0.346207</td>\n",
       "      <td>-1.291424</td>\n",
       "    </tr>\n",
       "    <tr>\n",
       "      <th>2</th>\n",
       "      <td>0.244493</td>\n",
       "      <td>0.082604</td>\n",
       "      <td>0.174759</td>\n",
       "      <td>-0.488401</td>\n",
       "    </tr>\n",
       "    <tr>\n",
       "      <th>3</th>\n",
       "      <td>-0.099644</td>\n",
       "      <td>0.197663</td>\n",
       "      <td>1.509063</td>\n",
       "      <td>0.953261</td>\n",
       "    </tr>\n",
       "    <tr>\n",
       "      <th>4</th>\n",
       "      <td>-0.833630</td>\n",
       "      <td>-1.351976</td>\n",
       "      <td>-0.412221</td>\n",
       "      <td>2.347701</td>\n",
       "    </tr>\n",
       "    <tr>\n",
       "      <th>...</th>\n",
       "      <td>...</td>\n",
       "      <td>...</td>\n",
       "      <td>...</td>\n",
       "      <td>...</td>\n",
       "    </tr>\n",
       "    <tr>\n",
       "      <th>95</th>\n",
       "      <td>0.482978</td>\n",
       "      <td>-0.538102</td>\n",
       "      <td>-0.882089</td>\n",
       "      <td>0.093090</td>\n",
       "    </tr>\n",
       "    <tr>\n",
       "      <th>96</th>\n",
       "      <td>1.508427</td>\n",
       "      <td>-0.513215</td>\n",
       "      <td>-0.357131</td>\n",
       "      <td>0.774276</td>\n",
       "    </tr>\n",
       "    <tr>\n",
       "      <th>97</th>\n",
       "      <td>-1.917566</td>\n",
       "      <td>-0.310656</td>\n",
       "      <td>0.006772</td>\n",
       "      <td>0.616844</td>\n",
       "    </tr>\n",
       "    <tr>\n",
       "      <th>98</th>\n",
       "      <td>-0.741375</td>\n",
       "      <td>0.894469</td>\n",
       "      <td>0.109353</td>\n",
       "      <td>-0.762326</td>\n",
       "    </tr>\n",
       "    <tr>\n",
       "      <th>99</th>\n",
       "      <td>-0.139802</td>\n",
       "      <td>-0.513230</td>\n",
       "      <td>1.359680</td>\n",
       "      <td>-0.733000</td>\n",
       "    </tr>\n",
       "  </tbody>\n",
       "</table>\n",
       "<p>100 rows × 4 columns</p>\n",
       "</div>"
      ],
      "text/plain": [
       "        John       Doe      Jane     Alice\n",
       "0   0.019643  0.189323  0.020344  0.249370\n",
       "1   0.510298  1.328166  0.346207 -1.291424\n",
       "2   0.244493  0.082604  0.174759 -0.488401\n",
       "3  -0.099644  0.197663  1.509063  0.953261\n",
       "4  -0.833630 -1.351976 -0.412221  2.347701\n",
       "..       ...       ...       ...       ...\n",
       "95  0.482978 -0.538102 -0.882089  0.093090\n",
       "96  1.508427 -0.513215 -0.357131  0.774276\n",
       "97 -1.917566 -0.310656  0.006772  0.616844\n",
       "98 -0.741375  0.894469  0.109353 -0.762326\n",
       "99 -0.139802 -0.513230  1.359680 -0.733000\n",
       "\n",
       "[100 rows x 4 columns]"
      ]
     },
     "execution_count": 14,
     "metadata": {},
     "output_type": "execute_result"
    }
   ],
   "source": [
    "df"
   ]
  },
  {
   "cell_type": "code",
   "execution_count": 15,
   "id": "463885d5-35c3-4bd2-ab2d-6eea882ef10c",
   "metadata": {},
   "outputs": [
    {
     "data": {
      "application/vnd.plotly.v1+json": {
       "config": {
        "linkText": "Export to plot.ly",
        "plotlyServerURL": "https://plot.ly",
        "showLink": true
       },
       "data": [
        {
         "marker": {
          "color": "rgba(255, 153, 51, 0.6)",
          "line": {
           "color": "rgba(255, 153, 51, 1.0)",
           "width": 1
          }
         },
         "name": "None",
         "orientation": "v",
         "text": "",
         "type": "bar",
         "x": [
          "John",
          "Doe",
          "Jane",
          "Alice"
         ],
         "y": [
          -8.159587834431013,
          -7.277789742000461,
          9.749530566909552,
          15.714352467244991
         ]
        }
       ],
       "layout": {
        "legend": {
         "bgcolor": "#F5F6F9",
         "font": {
          "color": "#4D5663"
         }
        },
        "paper_bgcolor": "#F5F6F9",
        "plot_bgcolor": "#F5F6F9",
        "template": {
         "data": {
          "bar": [
           {
            "error_x": {
             "color": "#2a3f5f"
            },
            "error_y": {
             "color": "#2a3f5f"
            },
            "marker": {
             "line": {
              "color": "#E5ECF6",
              "width": 0.5
             },
             "pattern": {
              "fillmode": "overlay",
              "size": 10,
              "solidity": 0.2
             }
            },
            "type": "bar"
           }
          ],
          "barpolar": [
           {
            "marker": {
             "line": {
              "color": "#E5ECF6",
              "width": 0.5
             },
             "pattern": {
              "fillmode": "overlay",
              "size": 10,
              "solidity": 0.2
             }
            },
            "type": "barpolar"
           }
          ],
          "carpet": [
           {
            "aaxis": {
             "endlinecolor": "#2a3f5f",
             "gridcolor": "white",
             "linecolor": "white",
             "minorgridcolor": "white",
             "startlinecolor": "#2a3f5f"
            },
            "baxis": {
             "endlinecolor": "#2a3f5f",
             "gridcolor": "white",
             "linecolor": "white",
             "minorgridcolor": "white",
             "startlinecolor": "#2a3f5f"
            },
            "type": "carpet"
           }
          ],
          "choropleth": [
           {
            "colorbar": {
             "outlinewidth": 0,
             "ticks": ""
            },
            "type": "choropleth"
           }
          ],
          "contour": [
           {
            "colorbar": {
             "outlinewidth": 0,
             "ticks": ""
            },
            "colorscale": [
             [
              0,
              "#0d0887"
             ],
             [
              0.1111111111111111,
              "#46039f"
             ],
             [
              0.2222222222222222,
              "#7201a8"
             ],
             [
              0.3333333333333333,
              "#9c179e"
             ],
             [
              0.4444444444444444,
              "#bd3786"
             ],
             [
              0.5555555555555556,
              "#d8576b"
             ],
             [
              0.6666666666666666,
              "#ed7953"
             ],
             [
              0.7777777777777778,
              "#fb9f3a"
             ],
             [
              0.8888888888888888,
              "#fdca26"
             ],
             [
              1,
              "#f0f921"
             ]
            ],
            "type": "contour"
           }
          ],
          "contourcarpet": [
           {
            "colorbar": {
             "outlinewidth": 0,
             "ticks": ""
            },
            "type": "contourcarpet"
           }
          ],
          "heatmap": [
           {
            "colorbar": {
             "outlinewidth": 0,
             "ticks": ""
            },
            "colorscale": [
             [
              0,
              "#0d0887"
             ],
             [
              0.1111111111111111,
              "#46039f"
             ],
             [
              0.2222222222222222,
              "#7201a8"
             ],
             [
              0.3333333333333333,
              "#9c179e"
             ],
             [
              0.4444444444444444,
              "#bd3786"
             ],
             [
              0.5555555555555556,
              "#d8576b"
             ],
             [
              0.6666666666666666,
              "#ed7953"
             ],
             [
              0.7777777777777778,
              "#fb9f3a"
             ],
             [
              0.8888888888888888,
              "#fdca26"
             ],
             [
              1,
              "#f0f921"
             ]
            ],
            "type": "heatmap"
           }
          ],
          "heatmapgl": [
           {
            "colorbar": {
             "outlinewidth": 0,
             "ticks": ""
            },
            "colorscale": [
             [
              0,
              "#0d0887"
             ],
             [
              0.1111111111111111,
              "#46039f"
             ],
             [
              0.2222222222222222,
              "#7201a8"
             ],
             [
              0.3333333333333333,
              "#9c179e"
             ],
             [
              0.4444444444444444,
              "#bd3786"
             ],
             [
              0.5555555555555556,
              "#d8576b"
             ],
             [
              0.6666666666666666,
              "#ed7953"
             ],
             [
              0.7777777777777778,
              "#fb9f3a"
             ],
             [
              0.8888888888888888,
              "#fdca26"
             ],
             [
              1,
              "#f0f921"
             ]
            ],
            "type": "heatmapgl"
           }
          ],
          "histogram": [
           {
            "marker": {
             "pattern": {
              "fillmode": "overlay",
              "size": 10,
              "solidity": 0.2
             }
            },
            "type": "histogram"
           }
          ],
          "histogram2d": [
           {
            "colorbar": {
             "outlinewidth": 0,
             "ticks": ""
            },
            "colorscale": [
             [
              0,
              "#0d0887"
             ],
             [
              0.1111111111111111,
              "#46039f"
             ],
             [
              0.2222222222222222,
              "#7201a8"
             ],
             [
              0.3333333333333333,
              "#9c179e"
             ],
             [
              0.4444444444444444,
              "#bd3786"
             ],
             [
              0.5555555555555556,
              "#d8576b"
             ],
             [
              0.6666666666666666,
              "#ed7953"
             ],
             [
              0.7777777777777778,
              "#fb9f3a"
             ],
             [
              0.8888888888888888,
              "#fdca26"
             ],
             [
              1,
              "#f0f921"
             ]
            ],
            "type": "histogram2d"
           }
          ],
          "histogram2dcontour": [
           {
            "colorbar": {
             "outlinewidth": 0,
             "ticks": ""
            },
            "colorscale": [
             [
              0,
              "#0d0887"
             ],
             [
              0.1111111111111111,
              "#46039f"
             ],
             [
              0.2222222222222222,
              "#7201a8"
             ],
             [
              0.3333333333333333,
              "#9c179e"
             ],
             [
              0.4444444444444444,
              "#bd3786"
             ],
             [
              0.5555555555555556,
              "#d8576b"
             ],
             [
              0.6666666666666666,
              "#ed7953"
             ],
             [
              0.7777777777777778,
              "#fb9f3a"
             ],
             [
              0.8888888888888888,
              "#fdca26"
             ],
             [
              1,
              "#f0f921"
             ]
            ],
            "type": "histogram2dcontour"
           }
          ],
          "mesh3d": [
           {
            "colorbar": {
             "outlinewidth": 0,
             "ticks": ""
            },
            "type": "mesh3d"
           }
          ],
          "parcoords": [
           {
            "line": {
             "colorbar": {
              "outlinewidth": 0,
              "ticks": ""
             }
            },
            "type": "parcoords"
           }
          ],
          "pie": [
           {
            "automargin": true,
            "type": "pie"
           }
          ],
          "scatter": [
           {
            "fillpattern": {
             "fillmode": "overlay",
             "size": 10,
             "solidity": 0.2
            },
            "type": "scatter"
           }
          ],
          "scatter3d": [
           {
            "line": {
             "colorbar": {
              "outlinewidth": 0,
              "ticks": ""
             }
            },
            "marker": {
             "colorbar": {
              "outlinewidth": 0,
              "ticks": ""
             }
            },
            "type": "scatter3d"
           }
          ],
          "scattercarpet": [
           {
            "marker": {
             "colorbar": {
              "outlinewidth": 0,
              "ticks": ""
             }
            },
            "type": "scattercarpet"
           }
          ],
          "scattergeo": [
           {
            "marker": {
             "colorbar": {
              "outlinewidth": 0,
              "ticks": ""
             }
            },
            "type": "scattergeo"
           }
          ],
          "scattergl": [
           {
            "marker": {
             "colorbar": {
              "outlinewidth": 0,
              "ticks": ""
             }
            },
            "type": "scattergl"
           }
          ],
          "scattermapbox": [
           {
            "marker": {
             "colorbar": {
              "outlinewidth": 0,
              "ticks": ""
             }
            },
            "type": "scattermapbox"
           }
          ],
          "scatterpolar": [
           {
            "marker": {
             "colorbar": {
              "outlinewidth": 0,
              "ticks": ""
             }
            },
            "type": "scatterpolar"
           }
          ],
          "scatterpolargl": [
           {
            "marker": {
             "colorbar": {
              "outlinewidth": 0,
              "ticks": ""
             }
            },
            "type": "scatterpolargl"
           }
          ],
          "scatterternary": [
           {
            "marker": {
             "colorbar": {
              "outlinewidth": 0,
              "ticks": ""
             }
            },
            "type": "scatterternary"
           }
          ],
          "surface": [
           {
            "colorbar": {
             "outlinewidth": 0,
             "ticks": ""
            },
            "colorscale": [
             [
              0,
              "#0d0887"
             ],
             [
              0.1111111111111111,
              "#46039f"
             ],
             [
              0.2222222222222222,
              "#7201a8"
             ],
             [
              0.3333333333333333,
              "#9c179e"
             ],
             [
              0.4444444444444444,
              "#bd3786"
             ],
             [
              0.5555555555555556,
              "#d8576b"
             ],
             [
              0.6666666666666666,
              "#ed7953"
             ],
             [
              0.7777777777777778,
              "#fb9f3a"
             ],
             [
              0.8888888888888888,
              "#fdca26"
             ],
             [
              1,
              "#f0f921"
             ]
            ],
            "type": "surface"
           }
          ],
          "table": [
           {
            "cells": {
             "fill": {
              "color": "#EBF0F8"
             },
             "line": {
              "color": "white"
             }
            },
            "header": {
             "fill": {
              "color": "#C8D4E3"
             },
             "line": {
              "color": "white"
             }
            },
            "type": "table"
           }
          ]
         },
         "layout": {
          "annotationdefaults": {
           "arrowcolor": "#2a3f5f",
           "arrowhead": 0,
           "arrowwidth": 1
          },
          "autotypenumbers": "strict",
          "coloraxis": {
           "colorbar": {
            "outlinewidth": 0,
            "ticks": ""
           }
          },
          "colorscale": {
           "diverging": [
            [
             0,
             "#8e0152"
            ],
            [
             0.1,
             "#c51b7d"
            ],
            [
             0.2,
             "#de77ae"
            ],
            [
             0.3,
             "#f1b6da"
            ],
            [
             0.4,
             "#fde0ef"
            ],
            [
             0.5,
             "#f7f7f7"
            ],
            [
             0.6,
             "#e6f5d0"
            ],
            [
             0.7,
             "#b8e186"
            ],
            [
             0.8,
             "#7fbc41"
            ],
            [
             0.9,
             "#4d9221"
            ],
            [
             1,
             "#276419"
            ]
           ],
           "sequential": [
            [
             0,
             "#0d0887"
            ],
            [
             0.1111111111111111,
             "#46039f"
            ],
            [
             0.2222222222222222,
             "#7201a8"
            ],
            [
             0.3333333333333333,
             "#9c179e"
            ],
            [
             0.4444444444444444,
             "#bd3786"
            ],
            [
             0.5555555555555556,
             "#d8576b"
            ],
            [
             0.6666666666666666,
             "#ed7953"
            ],
            [
             0.7777777777777778,
             "#fb9f3a"
            ],
            [
             0.8888888888888888,
             "#fdca26"
            ],
            [
             1,
             "#f0f921"
            ]
           ],
           "sequentialminus": [
            [
             0,
             "#0d0887"
            ],
            [
             0.1111111111111111,
             "#46039f"
            ],
            [
             0.2222222222222222,
             "#7201a8"
            ],
            [
             0.3333333333333333,
             "#9c179e"
            ],
            [
             0.4444444444444444,
             "#bd3786"
            ],
            [
             0.5555555555555556,
             "#d8576b"
            ],
            [
             0.6666666666666666,
             "#ed7953"
            ],
            [
             0.7777777777777778,
             "#fb9f3a"
            ],
            [
             0.8888888888888888,
             "#fdca26"
            ],
            [
             1,
             "#f0f921"
            ]
           ]
          },
          "colorway": [
           "#636efa",
           "#EF553B",
           "#00cc96",
           "#ab63fa",
           "#FFA15A",
           "#19d3f3",
           "#FF6692",
           "#B6E880",
           "#FF97FF",
           "#FECB52"
          ],
          "font": {
           "color": "#2a3f5f"
          },
          "geo": {
           "bgcolor": "white",
           "lakecolor": "white",
           "landcolor": "#E5ECF6",
           "showlakes": true,
           "showland": true,
           "subunitcolor": "white"
          },
          "hoverlabel": {
           "align": "left"
          },
          "hovermode": "closest",
          "mapbox": {
           "style": "light"
          },
          "paper_bgcolor": "white",
          "plot_bgcolor": "#E5ECF6",
          "polar": {
           "angularaxis": {
            "gridcolor": "white",
            "linecolor": "white",
            "ticks": ""
           },
           "bgcolor": "#E5ECF6",
           "radialaxis": {
            "gridcolor": "white",
            "linecolor": "white",
            "ticks": ""
           }
          },
          "scene": {
           "xaxis": {
            "backgroundcolor": "#E5ECF6",
            "gridcolor": "white",
            "gridwidth": 2,
            "linecolor": "white",
            "showbackground": true,
            "ticks": "",
            "zerolinecolor": "white"
           },
           "yaxis": {
            "backgroundcolor": "#E5ECF6",
            "gridcolor": "white",
            "gridwidth": 2,
            "linecolor": "white",
            "showbackground": true,
            "ticks": "",
            "zerolinecolor": "white"
           },
           "zaxis": {
            "backgroundcolor": "#E5ECF6",
            "gridcolor": "white",
            "gridwidth": 2,
            "linecolor": "white",
            "showbackground": true,
            "ticks": "",
            "zerolinecolor": "white"
           }
          },
          "shapedefaults": {
           "line": {
            "color": "#2a3f5f"
           }
          },
          "ternary": {
           "aaxis": {
            "gridcolor": "white",
            "linecolor": "white",
            "ticks": ""
           },
           "baxis": {
            "gridcolor": "white",
            "linecolor": "white",
            "ticks": ""
           },
           "bgcolor": "#E5ECF6",
           "caxis": {
            "gridcolor": "white",
            "linecolor": "white",
            "ticks": ""
           }
          },
          "title": {
           "x": 0.05
          },
          "xaxis": {
           "automargin": true,
           "gridcolor": "white",
           "linecolor": "white",
           "ticks": "",
           "title": {
            "standoff": 15
           },
           "zerolinecolor": "white",
           "zerolinewidth": 2
          },
          "yaxis": {
           "automargin": true,
           "gridcolor": "white",
           "linecolor": "white",
           "ticks": "",
           "title": {
            "standoff": 15
           },
           "zerolinecolor": "white",
           "zerolinewidth": 2
          }
         }
        },
        "title": {
         "font": {
          "color": "#4D5663"
         }
        },
        "xaxis": {
         "gridcolor": "#E1E5ED",
         "showgrid": true,
         "tickfont": {
          "color": "#4D5663"
         },
         "title": {
          "font": {
           "color": "#4D5663"
          },
          "text": ""
         },
         "zerolinecolor": "#E1E5ED"
        },
        "yaxis": {
         "gridcolor": "#E1E5ED",
         "showgrid": true,
         "tickfont": {
          "color": "#4D5663"
         },
         "title": {
          "font": {
           "color": "#4D5663"
          },
          "text": ""
         },
         "zerolinecolor": "#E1E5ED"
        }
       }
      },
      "text/html": [
       "<div>                            <div id=\"a0e6d636-3beb-4576-b1c3-b34e43695fa2\" class=\"plotly-graph-div\" style=\"height:525px; width:100%;\"></div>            <script type=\"text/javascript\">                require([\"plotly\"], function(Plotly) {                    window.PLOTLYENV=window.PLOTLYENV || {};\n",
       "                    window.PLOTLYENV.BASE_URL='https://plot.ly';                                    if (document.getElementById(\"a0e6d636-3beb-4576-b1c3-b34e43695fa2\")) {                    Plotly.newPlot(                        \"a0e6d636-3beb-4576-b1c3-b34e43695fa2\",                        [{\"marker\":{\"color\":\"rgba(255, 153, 51, 0.6)\",\"line\":{\"color\":\"rgba(255, 153, 51, 1.0)\",\"width\":1}},\"name\":\"None\",\"orientation\":\"v\",\"text\":\"\",\"x\":[\"John\",\"Doe\",\"Jane\",\"Alice\"],\"y\":[-8.159587834431013,-7.277789742000461,9.749530566909552,15.714352467244991],\"type\":\"bar\"}],                        {\"legend\":{\"bgcolor\":\"#F5F6F9\",\"font\":{\"color\":\"#4D5663\"}},\"paper_bgcolor\":\"#F5F6F9\",\"plot_bgcolor\":\"#F5F6F9\",\"template\":{\"data\":{\"barpolar\":[{\"marker\":{\"line\":{\"color\":\"#E5ECF6\",\"width\":0.5},\"pattern\":{\"fillmode\":\"overlay\",\"size\":10,\"solidity\":0.2}},\"type\":\"barpolar\"}],\"bar\":[{\"error_x\":{\"color\":\"#2a3f5f\"},\"error_y\":{\"color\":\"#2a3f5f\"},\"marker\":{\"line\":{\"color\":\"#E5ECF6\",\"width\":0.5},\"pattern\":{\"fillmode\":\"overlay\",\"size\":10,\"solidity\":0.2}},\"type\":\"bar\"}],\"carpet\":[{\"aaxis\":{\"endlinecolor\":\"#2a3f5f\",\"gridcolor\":\"white\",\"linecolor\":\"white\",\"minorgridcolor\":\"white\",\"startlinecolor\":\"#2a3f5f\"},\"baxis\":{\"endlinecolor\":\"#2a3f5f\",\"gridcolor\":\"white\",\"linecolor\":\"white\",\"minorgridcolor\":\"white\",\"startlinecolor\":\"#2a3f5f\"},\"type\":\"carpet\"}],\"choropleth\":[{\"colorbar\":{\"outlinewidth\":0,\"ticks\":\"\"},\"type\":\"choropleth\"}],\"contourcarpet\":[{\"colorbar\":{\"outlinewidth\":0,\"ticks\":\"\"},\"type\":\"contourcarpet\"}],\"contour\":[{\"colorbar\":{\"outlinewidth\":0,\"ticks\":\"\"},\"colorscale\":[[0.0,\"#0d0887\"],[0.1111111111111111,\"#46039f\"],[0.2222222222222222,\"#7201a8\"],[0.3333333333333333,\"#9c179e\"],[0.4444444444444444,\"#bd3786\"],[0.5555555555555556,\"#d8576b\"],[0.6666666666666666,\"#ed7953\"],[0.7777777777777778,\"#fb9f3a\"],[0.8888888888888888,\"#fdca26\"],[1.0,\"#f0f921\"]],\"type\":\"contour\"}],\"heatmapgl\":[{\"colorbar\":{\"outlinewidth\":0,\"ticks\":\"\"},\"colorscale\":[[0.0,\"#0d0887\"],[0.1111111111111111,\"#46039f\"],[0.2222222222222222,\"#7201a8\"],[0.3333333333333333,\"#9c179e\"],[0.4444444444444444,\"#bd3786\"],[0.5555555555555556,\"#d8576b\"],[0.6666666666666666,\"#ed7953\"],[0.7777777777777778,\"#fb9f3a\"],[0.8888888888888888,\"#fdca26\"],[1.0,\"#f0f921\"]],\"type\":\"heatmapgl\"}],\"heatmap\":[{\"colorbar\":{\"outlinewidth\":0,\"ticks\":\"\"},\"colorscale\":[[0.0,\"#0d0887\"],[0.1111111111111111,\"#46039f\"],[0.2222222222222222,\"#7201a8\"],[0.3333333333333333,\"#9c179e\"],[0.4444444444444444,\"#bd3786\"],[0.5555555555555556,\"#d8576b\"],[0.6666666666666666,\"#ed7953\"],[0.7777777777777778,\"#fb9f3a\"],[0.8888888888888888,\"#fdca26\"],[1.0,\"#f0f921\"]],\"type\":\"heatmap\"}],\"histogram2dcontour\":[{\"colorbar\":{\"outlinewidth\":0,\"ticks\":\"\"},\"colorscale\":[[0.0,\"#0d0887\"],[0.1111111111111111,\"#46039f\"],[0.2222222222222222,\"#7201a8\"],[0.3333333333333333,\"#9c179e\"],[0.4444444444444444,\"#bd3786\"],[0.5555555555555556,\"#d8576b\"],[0.6666666666666666,\"#ed7953\"],[0.7777777777777778,\"#fb9f3a\"],[0.8888888888888888,\"#fdca26\"],[1.0,\"#f0f921\"]],\"type\":\"histogram2dcontour\"}],\"histogram2d\":[{\"colorbar\":{\"outlinewidth\":0,\"ticks\":\"\"},\"colorscale\":[[0.0,\"#0d0887\"],[0.1111111111111111,\"#46039f\"],[0.2222222222222222,\"#7201a8\"],[0.3333333333333333,\"#9c179e\"],[0.4444444444444444,\"#bd3786\"],[0.5555555555555556,\"#d8576b\"],[0.6666666666666666,\"#ed7953\"],[0.7777777777777778,\"#fb9f3a\"],[0.8888888888888888,\"#fdca26\"],[1.0,\"#f0f921\"]],\"type\":\"histogram2d\"}],\"histogram\":[{\"marker\":{\"pattern\":{\"fillmode\":\"overlay\",\"size\":10,\"solidity\":0.2}},\"type\":\"histogram\"}],\"mesh3d\":[{\"colorbar\":{\"outlinewidth\":0,\"ticks\":\"\"},\"type\":\"mesh3d\"}],\"parcoords\":[{\"line\":{\"colorbar\":{\"outlinewidth\":0,\"ticks\":\"\"}},\"type\":\"parcoords\"}],\"pie\":[{\"automargin\":true,\"type\":\"pie\"}],\"scatter3d\":[{\"line\":{\"colorbar\":{\"outlinewidth\":0,\"ticks\":\"\"}},\"marker\":{\"colorbar\":{\"outlinewidth\":0,\"ticks\":\"\"}},\"type\":\"scatter3d\"}],\"scattercarpet\":[{\"marker\":{\"colorbar\":{\"outlinewidth\":0,\"ticks\":\"\"}},\"type\":\"scattercarpet\"}],\"scattergeo\":[{\"marker\":{\"colorbar\":{\"outlinewidth\":0,\"ticks\":\"\"}},\"type\":\"scattergeo\"}],\"scattergl\":[{\"marker\":{\"colorbar\":{\"outlinewidth\":0,\"ticks\":\"\"}},\"type\":\"scattergl\"}],\"scattermapbox\":[{\"marker\":{\"colorbar\":{\"outlinewidth\":0,\"ticks\":\"\"}},\"type\":\"scattermapbox\"}],\"scatterpolargl\":[{\"marker\":{\"colorbar\":{\"outlinewidth\":0,\"ticks\":\"\"}},\"type\":\"scatterpolargl\"}],\"scatterpolar\":[{\"marker\":{\"colorbar\":{\"outlinewidth\":0,\"ticks\":\"\"}},\"type\":\"scatterpolar\"}],\"scatter\":[{\"fillpattern\":{\"fillmode\":\"overlay\",\"size\":10,\"solidity\":0.2},\"type\":\"scatter\"}],\"scatterternary\":[{\"marker\":{\"colorbar\":{\"outlinewidth\":0,\"ticks\":\"\"}},\"type\":\"scatterternary\"}],\"surface\":[{\"colorbar\":{\"outlinewidth\":0,\"ticks\":\"\"},\"colorscale\":[[0.0,\"#0d0887\"],[0.1111111111111111,\"#46039f\"],[0.2222222222222222,\"#7201a8\"],[0.3333333333333333,\"#9c179e\"],[0.4444444444444444,\"#bd3786\"],[0.5555555555555556,\"#d8576b\"],[0.6666666666666666,\"#ed7953\"],[0.7777777777777778,\"#fb9f3a\"],[0.8888888888888888,\"#fdca26\"],[1.0,\"#f0f921\"]],\"type\":\"surface\"}],\"table\":[{\"cells\":{\"fill\":{\"color\":\"#EBF0F8\"},\"line\":{\"color\":\"white\"}},\"header\":{\"fill\":{\"color\":\"#C8D4E3\"},\"line\":{\"color\":\"white\"}},\"type\":\"table\"}]},\"layout\":{\"annotationdefaults\":{\"arrowcolor\":\"#2a3f5f\",\"arrowhead\":0,\"arrowwidth\":1},\"autotypenumbers\":\"strict\",\"coloraxis\":{\"colorbar\":{\"outlinewidth\":0,\"ticks\":\"\"}},\"colorscale\":{\"diverging\":[[0,\"#8e0152\"],[0.1,\"#c51b7d\"],[0.2,\"#de77ae\"],[0.3,\"#f1b6da\"],[0.4,\"#fde0ef\"],[0.5,\"#f7f7f7\"],[0.6,\"#e6f5d0\"],[0.7,\"#b8e186\"],[0.8,\"#7fbc41\"],[0.9,\"#4d9221\"],[1,\"#276419\"]],\"sequential\":[[0.0,\"#0d0887\"],[0.1111111111111111,\"#46039f\"],[0.2222222222222222,\"#7201a8\"],[0.3333333333333333,\"#9c179e\"],[0.4444444444444444,\"#bd3786\"],[0.5555555555555556,\"#d8576b\"],[0.6666666666666666,\"#ed7953\"],[0.7777777777777778,\"#fb9f3a\"],[0.8888888888888888,\"#fdca26\"],[1.0,\"#f0f921\"]],\"sequentialminus\":[[0.0,\"#0d0887\"],[0.1111111111111111,\"#46039f\"],[0.2222222222222222,\"#7201a8\"],[0.3333333333333333,\"#9c179e\"],[0.4444444444444444,\"#bd3786\"],[0.5555555555555556,\"#d8576b\"],[0.6666666666666666,\"#ed7953\"],[0.7777777777777778,\"#fb9f3a\"],[0.8888888888888888,\"#fdca26\"],[1.0,\"#f0f921\"]]},\"colorway\":[\"#636efa\",\"#EF553B\",\"#00cc96\",\"#ab63fa\",\"#FFA15A\",\"#19d3f3\",\"#FF6692\",\"#B6E880\",\"#FF97FF\",\"#FECB52\"],\"font\":{\"color\":\"#2a3f5f\"},\"geo\":{\"bgcolor\":\"white\",\"lakecolor\":\"white\",\"landcolor\":\"#E5ECF6\",\"showlakes\":true,\"showland\":true,\"subunitcolor\":\"white\"},\"hoverlabel\":{\"align\":\"left\"},\"hovermode\":\"closest\",\"mapbox\":{\"style\":\"light\"},\"paper_bgcolor\":\"white\",\"plot_bgcolor\":\"#E5ECF6\",\"polar\":{\"angularaxis\":{\"gridcolor\":\"white\",\"linecolor\":\"white\",\"ticks\":\"\"},\"bgcolor\":\"#E5ECF6\",\"radialaxis\":{\"gridcolor\":\"white\",\"linecolor\":\"white\",\"ticks\":\"\"}},\"scene\":{\"xaxis\":{\"backgroundcolor\":\"#E5ECF6\",\"gridcolor\":\"white\",\"gridwidth\":2,\"linecolor\":\"white\",\"showbackground\":true,\"ticks\":\"\",\"zerolinecolor\":\"white\"},\"yaxis\":{\"backgroundcolor\":\"#E5ECF6\",\"gridcolor\":\"white\",\"gridwidth\":2,\"linecolor\":\"white\",\"showbackground\":true,\"ticks\":\"\",\"zerolinecolor\":\"white\"},\"zaxis\":{\"backgroundcolor\":\"#E5ECF6\",\"gridcolor\":\"white\",\"gridwidth\":2,\"linecolor\":\"white\",\"showbackground\":true,\"ticks\":\"\",\"zerolinecolor\":\"white\"}},\"shapedefaults\":{\"line\":{\"color\":\"#2a3f5f\"}},\"ternary\":{\"aaxis\":{\"gridcolor\":\"white\",\"linecolor\":\"white\",\"ticks\":\"\"},\"baxis\":{\"gridcolor\":\"white\",\"linecolor\":\"white\",\"ticks\":\"\"},\"bgcolor\":\"#E5ECF6\",\"caxis\":{\"gridcolor\":\"white\",\"linecolor\":\"white\",\"ticks\":\"\"}},\"title\":{\"x\":0.05},\"xaxis\":{\"automargin\":true,\"gridcolor\":\"white\",\"linecolor\":\"white\",\"ticks\":\"\",\"title\":{\"standoff\":15},\"zerolinecolor\":\"white\",\"zerolinewidth\":2},\"yaxis\":{\"automargin\":true,\"gridcolor\":\"white\",\"linecolor\":\"white\",\"ticks\":\"\",\"title\":{\"standoff\":15},\"zerolinecolor\":\"white\",\"zerolinewidth\":2}}},\"title\":{\"font\":{\"color\":\"#4D5663\"}},\"xaxis\":{\"gridcolor\":\"#E1E5ED\",\"showgrid\":true,\"tickfont\":{\"color\":\"#4D5663\"},\"title\":{\"font\":{\"color\":\"#4D5663\"},\"text\":\"\"},\"zerolinecolor\":\"#E1E5ED\"},\"yaxis\":{\"gridcolor\":\"#E1E5ED\",\"showgrid\":true,\"tickfont\":{\"color\":\"#4D5663\"},\"title\":{\"font\":{\"color\":\"#4D5663\"},\"text\":\"\"},\"zerolinecolor\":\"#E1E5ED\"}},                        {\"showLink\": true, \"linkText\": \"Export to plot.ly\", \"plotlyServerURL\": \"https://plot.ly\", \"responsive\": true}                    ).then(function(){\n",
       "                            \n",
       "var gd = document.getElementById('a0e6d636-3beb-4576-b1c3-b34e43695fa2');\n",
       "var x = new MutationObserver(function (mutations, observer) {{\n",
       "        var display = window.getComputedStyle(gd).display;\n",
       "        if (!display || display === 'none') {{\n",
       "            console.log([gd, 'removed!']);\n",
       "            Plotly.purge(gd);\n",
       "            observer.disconnect();\n",
       "        }}\n",
       "}});\n",
       "\n",
       "// Listen for the removal of the full notebook cells\n",
       "var notebookContainer = gd.closest('#notebook-container');\n",
       "if (notebookContainer) {{\n",
       "    x.observe(notebookContainer, {childList: true});\n",
       "}}\n",
       "\n",
       "// Listen for the clearing of the current output cell\n",
       "var outputEl = gd.closest('.output');\n",
       "if (outputEl) {{\n",
       "    x.observe(outputEl, {childList: true});\n",
       "}}\n",
       "\n",
       "                        })                };                });            </script>        </div>"
      ]
     },
     "metadata": {},
     "output_type": "display_data"
    }
   ],
   "source": [
    "df.sum().iplot(kind='bar')"
   ]
  },
  {
   "cell_type": "code",
   "execution_count": 16,
   "id": "7e7221d5-560a-4666-9e4d-6ee2a78d042b",
   "metadata": {},
   "outputs": [
    {
     "data": {
      "application/vnd.plotly.v1+json": {
       "config": {
        "linkText": "Export to plot.ly",
        "plotlyServerURL": "https://plot.ly",
        "showLink": true
       },
       "data": [
        {
         "boxpoints": false,
         "line": {
          "width": 1.3
         },
         "marker": {
          "color": "rgba(255, 153, 51, 1.0)"
         },
         "name": "John",
         "orientation": "v",
         "type": "box",
         "y": [
          0.019642646998532538,
          0.5102977624801204,
          0.24449280881659421,
          -0.09964374543098901,
          -0.8336301504091984,
          0.7633960938278734,
          0.008888279313414483,
          -0.04559506706851624,
          0.1928875749925488,
          0.03414630485056338,
          0.7264465808915783,
          1.0658884808652351,
          0.38523365088508876,
          1.5124214398730913,
          -1.6377485347546827,
          -0.7010980666045677,
          0.45739260615720606,
          0.4876140496185153,
          -1.0773443173458792,
          0.1156850759183294,
          -1.7276705506695154,
          -0.7605787719199244,
          -1.0185765341213795,
          -0.6973825682764789,
          0.6891443271530647,
          0.2866451570554162,
          -0.6019547431882285,
          1.0946069931759237,
          -0.25809283296644064,
          0.3711605045232904,
          2.016529005040461,
          1.4362079476882181,
          -1.8065697572276622,
          0.41709344375999546,
          -0.952273483938806,
          -0.33790763860390516,
          1.4653354860476666,
          -1.0364187829767437,
          -0.5958291555412103,
          -0.9095925468162066,
          -0.03443570936609096,
          0.41796253085085777,
          0.4985597267149191,
          1.256230814302931,
          0.3041815809519573,
          -0.7314944255391029,
          0.1347390648641512,
          0.36668711521731945,
          -1.345745456849986,
          -0.3024870212580657,
          0.38946023142969144,
          -2.2080623777024857,
          0.14690798112419792,
          -0.10214577252644914,
          -0.7558190914775792,
          1.636096524673409,
          -0.9350054629918986,
          -0.834717261048946,
          0.9042211849377907,
          -0.970097819261639,
          0.08302084353049828,
          0.122533351733746,
          -0.5668598556840447,
          1.2122897430202741,
          -0.2628230583023596,
          -1.319033630348968,
          -1.2725064526718661,
          2.0358158967569318,
          -0.8468257533048923,
          1.4882729870233895,
          -1.2205022462300505,
          -0.05757188230792311,
          1.367768040891796,
          -0.19921297667841037,
          0.4697389292048797,
          -1.3381417318782258,
          0.6524847805507301,
          -1.7994321764509653,
          -1.077881485573476,
          -1.3625099426155498,
          0.045648147491829216,
          0.563618810148228,
          -0.4786892358293386,
          0.47606615646569794,
          -0.8543313928147953,
          0.0925095317870382,
          -0.21597284215262857,
          0.4834183462334682,
          -0.9360044456206287,
          -0.6269954947934127,
          2.1712068293506985,
          0.016129286645642983,
          -0.8759971648778004,
          1.1406389788304063,
          -1.500404007263379,
          0.4829784953373957,
          1.5084272190275951,
          -1.9175664929088536,
          -0.7413752267077025,
          -0.13980204256336462
         ]
        },
        {
         "boxpoints": false,
         "line": {
          "width": 1.3
         },
         "marker": {
          "color": "rgba(55, 128, 191, 1.0)"
         },
         "name": "Doe",
         "orientation": "v",
         "type": "box",
         "y": [
          0.18932288313259496,
          1.3281660265941044,
          0.08260420682700166,
          0.19766344985332351,
          -1.3519755938004667,
          0.7152547986319213,
          2.1061290065425045,
          -0.4536884731298851,
          -1.314290670147277,
          1.2162156869830907,
          0.38627757098814897,
          1.0778958970219656,
          1.0172005524466166,
          -0.8363987977283873,
          0.6219718214710519,
          -0.10941421275248397,
          0.1834145301165497,
          1.6905631473724685,
          0.2830379714000602,
          0.8209176571110884,
          0.2712601644922478,
          2.6709808829839905,
          -0.038019966272632134,
          -0.800964216187689,
          -0.9772594874158484,
          -0.9996924316330814,
          0.6757843694951967,
          -0.9172910777638664,
          0.21534798195889704,
          -0.6649356062395503,
          -1.2190835483281803,
          1.6237785328878958,
          -0.17059875405261618,
          0.5863516626635352,
          -0.10759342108696314,
          -0.593705778613284,
          0.8306281292382299,
          2.1589815543497193,
          -1.0911341602641766,
          -0.40761643718218465,
          -2.383684095369639,
          0.009333505772728184,
          0.08093342989807364,
          -0.33071099419622413,
          -0.26004567740817947,
          -0.06395831153582572,
          -0.5989402137637061,
          -0.6142660522286667,
          -2.1372805837605546,
          1.5015600737392012,
          -1.4841755895742048,
          -0.4063083689229514,
          -1.4867589787693356,
          -0.7562643323620777,
          0.4865696831994064,
          -0.6436237599111508,
          -0.05723995074100056,
          0.41887052392231416,
          0.3141993864196437,
          -0.24322500286511342,
          0.7610647654161666,
          -0.5576576400296814,
          -0.01206385658904262,
          -0.9750812100109979,
          0.684081164985671,
          -1.5261851048875195,
          0.37714545839915764,
          -0.8713897574661608,
          -0.2241657499226878,
          -0.6870427813507797,
          -0.47336276072954436,
          0.26368992576199496,
          -0.20034751046151145,
          0.45876070741422004,
          -0.16879611580477616,
          1.576773398907753,
          0.30704353862755446,
          -0.4911660185041354,
          0.6111210148978148,
          -2.213938060785341,
          0.020347578904885685,
          -0.5256163213064886,
          -1.693539773930717,
          -0.2737625049855568,
          1.1277007342060812,
          -0.4849370930878959,
          -0.5219300157008511,
          -1.112720153303619,
          1.4405568615058983,
          -1.7859008692500788,
          1.2443992275160747,
          -0.3448053249356195,
          -1.1315614753988137,
          0.40563336698552666,
          0.4595262640725895,
          -0.5381022646055008,
          -0.5132149097842915,
          -0.31065608999022215,
          0.8944689282816258,
          -0.5132298585680108
         ]
        },
        {
         "boxpoints": false,
         "line": {
          "width": 1.3
         },
         "marker": {
          "color": "rgba(50, 171, 96, 1.0)"
         },
         "name": "Jane",
         "orientation": "v",
         "type": "box",
         "y": [
          0.020344460919605414,
          0.3462067161994248,
          0.17475916773203,
          1.5090626015195374,
          -0.4122208025818858,
          1.325337250095666,
          1.029866726130267,
          0.35064166507739725,
          0.9018799479323362,
          0.5046379467013828,
          0.534879942562968,
          0.10842387462848369,
          0.588422036103608,
          -0.01982207886584693,
          -0.6602670412667222,
          2.0594232095291405,
          -1.0664536958778772,
          0.9971590272421421,
          -0.419793450722026,
          -0.2868524725708644,
          1.5868280287464456,
          1.3642100845066147,
          0.4340492999209859,
          0.45187959111753234,
          0.7078472047688987,
          0.09622795159705001,
          -1.1278129617893926,
          0.9977539884117823,
          0.3898509544393391,
          -1.4453076915556564,
          -1.576959872160643,
          -1.7046069712375977,
          -0.9231990158881069,
          -1.539771719932798,
          0.1566058015997379,
          0.9036201624310277,
          0.40922130611714763,
          -0.614293801940151,
          -0.6273421217949555,
          1.2278507854586656,
          -0.6407675535419343,
          0.6540944755362336,
          0.7604357209718133,
          -1.5958031294720738,
          0.6384119218048553,
          1.6936312784352094,
          0.027377691105506207,
          0.5974207515989416,
          0.9732777312488076,
          -0.7983686208973904,
          -0.45929109595605755,
          0.42291223822053114,
          -0.3962140944152771,
          -2.0538570270466128,
          0.8055831452517226,
          0.08283220045954048,
          -2.0530799664162123,
          0.99407542444314,
          -0.6081559207174255,
          -0.6100039706517446,
          -0.059202928282162136,
          0.7638558716751972,
          1.5591072081500168,
          0.1407648608438338,
          0.1305287174305653,
          -0.24890282654787316,
          0.1960182491909555,
          -0.7395354388428351,
          -0.4900693987853215,
          -0.5829714807721302,
          0.4102840775139383,
          -0.8148124122744025,
          -0.0925608094388613,
          0.28783455859141643,
          -0.14238079545525237,
          -0.6251148156843083,
          0.6926933942593309,
          1.1229363887483916,
          -0.3104205138275535,
          1.2285728076630065,
          0.7072976367701932,
          -0.451354424910134,
          0.8305601329639444,
          1.6559291353284744,
          -0.331227360650665,
          0.45302812066839865,
          -0.4871842256267353,
          -2.0964124991912985,
          -0.6806087424626511,
          0.058105948903216506,
          3.202042974898475,
          -0.7410960417431232,
          0.18837589717535844,
          -0.31757443030843835,
          -0.09035881966556931,
          -0.8820890438553275,
          -0.357131255166717,
          0.006772012697767498,
          0.10935341583295807,
          1.359680187829212
         ]
        },
        {
         "boxpoints": false,
         "line": {
          "width": 1.3
         },
         "marker": {
          "color": "rgba(128, 0, 128, 1.0)"
         },
         "name": "Alice",
         "orientation": "v",
         "type": "box",
         "y": [
          0.24937027334314316,
          -1.291424215603698,
          -0.4884012392345033,
          0.9532605534879363,
          2.3477005384206446,
          -1.0144239588546686,
          0.977099564603622,
          0.6168188802196694,
          -0.47560848458068333,
          0.8824737194957732,
          -1.4446977790153614,
          0.12627289529585273,
          0.24452288567558209,
          1.4803110759003795,
          1.8756290628133423,
          1.508162373590915,
          1.599052533345483,
          0.2618922581459752,
          2.12104217913582,
          0.808950397331336,
          -1.109094108308861,
          1.602083088917013,
          1.5768855759488984,
          1.005546370581314,
          -0.028537663788296124,
          -0.9521565165466842,
          -0.2694289632388691,
          0.33914099158362493,
          1.4848879735793097,
          -0.15952953831767577,
          0.5182428314779433,
          1.1493720658921305,
          0.30439104363373704,
          2.205722994703418,
          -0.9470086306875309,
          1.177834410972747,
          -0.9282409641187047,
          -1.1566182571832813,
          -0.5294052252444668,
          0.902653589829433,
          1.483146465740587,
          0.03747260476148352,
          -1.9110923237948987,
          -0.6612479030226804,
          0.5060241559272375,
          -1.7917820122316197,
          -0.4334998009209104,
          -1.6900226944935148,
          0.32390106016061765,
          -1.7753081467012586,
          1.7314152310140727,
          1.105940310866183,
          1.1211825454639375,
          -1.6068916682728345,
          -0.720547522323849,
          0.18068597517981844,
          -1.955738411816919,
          0.6726488254609667,
          0.5008582854675393,
          -0.6348169547283224,
          0.7258906936858436,
          -1.6280533559714265,
          -0.8452387063567807,
          -1.3127124095500966,
          1.4963497910833603,
          -0.27598207528628477,
          -0.22898495696167098,
          3.2675260228973384,
          -0.1862118745000819,
          0.352276323220306,
          0.29507517067968014,
          -0.3942808789972401,
          1.0284427652707993,
          1.2898001084397912,
          0.7705846439237007,
          -0.07355561105383403,
          -0.8449567375803194,
          -0.2530211972433086,
          -0.554226570610661,
          1.3099790240284408,
          -1.4976695060801464,
          -0.584939513569232,
          1.5641595185858919,
          1.018081520470552,
          1.4032815131925347,
          -0.6098160950068922,
          1.7619258459944727,
          -0.10746200784864435,
          -1.5375281243471617,
          -1.922579834123578,
          -0.8169181127599872,
          -0.0786697122584202,
          0.7677043271127714,
          0.33516517396777745,
          0.08496112422441039,
          0.09309029552920575,
          0.774275523501191,
          0.6168438544923766,
          -0.762326463653972,
          -0.7329996342331008
         ]
        }
       ],
       "layout": {
        "legend": {
         "bgcolor": "#F5F6F9",
         "font": {
          "color": "#4D5663"
         }
        },
        "paper_bgcolor": "#F5F6F9",
        "plot_bgcolor": "#F5F6F9",
        "template": {
         "data": {
          "bar": [
           {
            "error_x": {
             "color": "#2a3f5f"
            },
            "error_y": {
             "color": "#2a3f5f"
            },
            "marker": {
             "line": {
              "color": "#E5ECF6",
              "width": 0.5
             },
             "pattern": {
              "fillmode": "overlay",
              "size": 10,
              "solidity": 0.2
             }
            },
            "type": "bar"
           }
          ],
          "barpolar": [
           {
            "marker": {
             "line": {
              "color": "#E5ECF6",
              "width": 0.5
             },
             "pattern": {
              "fillmode": "overlay",
              "size": 10,
              "solidity": 0.2
             }
            },
            "type": "barpolar"
           }
          ],
          "carpet": [
           {
            "aaxis": {
             "endlinecolor": "#2a3f5f",
             "gridcolor": "white",
             "linecolor": "white",
             "minorgridcolor": "white",
             "startlinecolor": "#2a3f5f"
            },
            "baxis": {
             "endlinecolor": "#2a3f5f",
             "gridcolor": "white",
             "linecolor": "white",
             "minorgridcolor": "white",
             "startlinecolor": "#2a3f5f"
            },
            "type": "carpet"
           }
          ],
          "choropleth": [
           {
            "colorbar": {
             "outlinewidth": 0,
             "ticks": ""
            },
            "type": "choropleth"
           }
          ],
          "contour": [
           {
            "colorbar": {
             "outlinewidth": 0,
             "ticks": ""
            },
            "colorscale": [
             [
              0,
              "#0d0887"
             ],
             [
              0.1111111111111111,
              "#46039f"
             ],
             [
              0.2222222222222222,
              "#7201a8"
             ],
             [
              0.3333333333333333,
              "#9c179e"
             ],
             [
              0.4444444444444444,
              "#bd3786"
             ],
             [
              0.5555555555555556,
              "#d8576b"
             ],
             [
              0.6666666666666666,
              "#ed7953"
             ],
             [
              0.7777777777777778,
              "#fb9f3a"
             ],
             [
              0.8888888888888888,
              "#fdca26"
             ],
             [
              1,
              "#f0f921"
             ]
            ],
            "type": "contour"
           }
          ],
          "contourcarpet": [
           {
            "colorbar": {
             "outlinewidth": 0,
             "ticks": ""
            },
            "type": "contourcarpet"
           }
          ],
          "heatmap": [
           {
            "colorbar": {
             "outlinewidth": 0,
             "ticks": ""
            },
            "colorscale": [
             [
              0,
              "#0d0887"
             ],
             [
              0.1111111111111111,
              "#46039f"
             ],
             [
              0.2222222222222222,
              "#7201a8"
             ],
             [
              0.3333333333333333,
              "#9c179e"
             ],
             [
              0.4444444444444444,
              "#bd3786"
             ],
             [
              0.5555555555555556,
              "#d8576b"
             ],
             [
              0.6666666666666666,
              "#ed7953"
             ],
             [
              0.7777777777777778,
              "#fb9f3a"
             ],
             [
              0.8888888888888888,
              "#fdca26"
             ],
             [
              1,
              "#f0f921"
             ]
            ],
            "type": "heatmap"
           }
          ],
          "heatmapgl": [
           {
            "colorbar": {
             "outlinewidth": 0,
             "ticks": ""
            },
            "colorscale": [
             [
              0,
              "#0d0887"
             ],
             [
              0.1111111111111111,
              "#46039f"
             ],
             [
              0.2222222222222222,
              "#7201a8"
             ],
             [
              0.3333333333333333,
              "#9c179e"
             ],
             [
              0.4444444444444444,
              "#bd3786"
             ],
             [
              0.5555555555555556,
              "#d8576b"
             ],
             [
              0.6666666666666666,
              "#ed7953"
             ],
             [
              0.7777777777777778,
              "#fb9f3a"
             ],
             [
              0.8888888888888888,
              "#fdca26"
             ],
             [
              1,
              "#f0f921"
             ]
            ],
            "type": "heatmapgl"
           }
          ],
          "histogram": [
           {
            "marker": {
             "pattern": {
              "fillmode": "overlay",
              "size": 10,
              "solidity": 0.2
             }
            },
            "type": "histogram"
           }
          ],
          "histogram2d": [
           {
            "colorbar": {
             "outlinewidth": 0,
             "ticks": ""
            },
            "colorscale": [
             [
              0,
              "#0d0887"
             ],
             [
              0.1111111111111111,
              "#46039f"
             ],
             [
              0.2222222222222222,
              "#7201a8"
             ],
             [
              0.3333333333333333,
              "#9c179e"
             ],
             [
              0.4444444444444444,
              "#bd3786"
             ],
             [
              0.5555555555555556,
              "#d8576b"
             ],
             [
              0.6666666666666666,
              "#ed7953"
             ],
             [
              0.7777777777777778,
              "#fb9f3a"
             ],
             [
              0.8888888888888888,
              "#fdca26"
             ],
             [
              1,
              "#f0f921"
             ]
            ],
            "type": "histogram2d"
           }
          ],
          "histogram2dcontour": [
           {
            "colorbar": {
             "outlinewidth": 0,
             "ticks": ""
            },
            "colorscale": [
             [
              0,
              "#0d0887"
             ],
             [
              0.1111111111111111,
              "#46039f"
             ],
             [
              0.2222222222222222,
              "#7201a8"
             ],
             [
              0.3333333333333333,
              "#9c179e"
             ],
             [
              0.4444444444444444,
              "#bd3786"
             ],
             [
              0.5555555555555556,
              "#d8576b"
             ],
             [
              0.6666666666666666,
              "#ed7953"
             ],
             [
              0.7777777777777778,
              "#fb9f3a"
             ],
             [
              0.8888888888888888,
              "#fdca26"
             ],
             [
              1,
              "#f0f921"
             ]
            ],
            "type": "histogram2dcontour"
           }
          ],
          "mesh3d": [
           {
            "colorbar": {
             "outlinewidth": 0,
             "ticks": ""
            },
            "type": "mesh3d"
           }
          ],
          "parcoords": [
           {
            "line": {
             "colorbar": {
              "outlinewidth": 0,
              "ticks": ""
             }
            },
            "type": "parcoords"
           }
          ],
          "pie": [
           {
            "automargin": true,
            "type": "pie"
           }
          ],
          "scatter": [
           {
            "fillpattern": {
             "fillmode": "overlay",
             "size": 10,
             "solidity": 0.2
            },
            "type": "scatter"
           }
          ],
          "scatter3d": [
           {
            "line": {
             "colorbar": {
              "outlinewidth": 0,
              "ticks": ""
             }
            },
            "marker": {
             "colorbar": {
              "outlinewidth": 0,
              "ticks": ""
             }
            },
            "type": "scatter3d"
           }
          ],
          "scattercarpet": [
           {
            "marker": {
             "colorbar": {
              "outlinewidth": 0,
              "ticks": ""
             }
            },
            "type": "scattercarpet"
           }
          ],
          "scattergeo": [
           {
            "marker": {
             "colorbar": {
              "outlinewidth": 0,
              "ticks": ""
             }
            },
            "type": "scattergeo"
           }
          ],
          "scattergl": [
           {
            "marker": {
             "colorbar": {
              "outlinewidth": 0,
              "ticks": ""
             }
            },
            "type": "scattergl"
           }
          ],
          "scattermapbox": [
           {
            "marker": {
             "colorbar": {
              "outlinewidth": 0,
              "ticks": ""
             }
            },
            "type": "scattermapbox"
           }
          ],
          "scatterpolar": [
           {
            "marker": {
             "colorbar": {
              "outlinewidth": 0,
              "ticks": ""
             }
            },
            "type": "scatterpolar"
           }
          ],
          "scatterpolargl": [
           {
            "marker": {
             "colorbar": {
              "outlinewidth": 0,
              "ticks": ""
             }
            },
            "type": "scatterpolargl"
           }
          ],
          "scatterternary": [
           {
            "marker": {
             "colorbar": {
              "outlinewidth": 0,
              "ticks": ""
             }
            },
            "type": "scatterternary"
           }
          ],
          "surface": [
           {
            "colorbar": {
             "outlinewidth": 0,
             "ticks": ""
            },
            "colorscale": [
             [
              0,
              "#0d0887"
             ],
             [
              0.1111111111111111,
              "#46039f"
             ],
             [
              0.2222222222222222,
              "#7201a8"
             ],
             [
              0.3333333333333333,
              "#9c179e"
             ],
             [
              0.4444444444444444,
              "#bd3786"
             ],
             [
              0.5555555555555556,
              "#d8576b"
             ],
             [
              0.6666666666666666,
              "#ed7953"
             ],
             [
              0.7777777777777778,
              "#fb9f3a"
             ],
             [
              0.8888888888888888,
              "#fdca26"
             ],
             [
              1,
              "#f0f921"
             ]
            ],
            "type": "surface"
           }
          ],
          "table": [
           {
            "cells": {
             "fill": {
              "color": "#EBF0F8"
             },
             "line": {
              "color": "white"
             }
            },
            "header": {
             "fill": {
              "color": "#C8D4E3"
             },
             "line": {
              "color": "white"
             }
            },
            "type": "table"
           }
          ]
         },
         "layout": {
          "annotationdefaults": {
           "arrowcolor": "#2a3f5f",
           "arrowhead": 0,
           "arrowwidth": 1
          },
          "autotypenumbers": "strict",
          "coloraxis": {
           "colorbar": {
            "outlinewidth": 0,
            "ticks": ""
           }
          },
          "colorscale": {
           "diverging": [
            [
             0,
             "#8e0152"
            ],
            [
             0.1,
             "#c51b7d"
            ],
            [
             0.2,
             "#de77ae"
            ],
            [
             0.3,
             "#f1b6da"
            ],
            [
             0.4,
             "#fde0ef"
            ],
            [
             0.5,
             "#f7f7f7"
            ],
            [
             0.6,
             "#e6f5d0"
            ],
            [
             0.7,
             "#b8e186"
            ],
            [
             0.8,
             "#7fbc41"
            ],
            [
             0.9,
             "#4d9221"
            ],
            [
             1,
             "#276419"
            ]
           ],
           "sequential": [
            [
             0,
             "#0d0887"
            ],
            [
             0.1111111111111111,
             "#46039f"
            ],
            [
             0.2222222222222222,
             "#7201a8"
            ],
            [
             0.3333333333333333,
             "#9c179e"
            ],
            [
             0.4444444444444444,
             "#bd3786"
            ],
            [
             0.5555555555555556,
             "#d8576b"
            ],
            [
             0.6666666666666666,
             "#ed7953"
            ],
            [
             0.7777777777777778,
             "#fb9f3a"
            ],
            [
             0.8888888888888888,
             "#fdca26"
            ],
            [
             1,
             "#f0f921"
            ]
           ],
           "sequentialminus": [
            [
             0,
             "#0d0887"
            ],
            [
             0.1111111111111111,
             "#46039f"
            ],
            [
             0.2222222222222222,
             "#7201a8"
            ],
            [
             0.3333333333333333,
             "#9c179e"
            ],
            [
             0.4444444444444444,
             "#bd3786"
            ],
            [
             0.5555555555555556,
             "#d8576b"
            ],
            [
             0.6666666666666666,
             "#ed7953"
            ],
            [
             0.7777777777777778,
             "#fb9f3a"
            ],
            [
             0.8888888888888888,
             "#fdca26"
            ],
            [
             1,
             "#f0f921"
            ]
           ]
          },
          "colorway": [
           "#636efa",
           "#EF553B",
           "#00cc96",
           "#ab63fa",
           "#FFA15A",
           "#19d3f3",
           "#FF6692",
           "#B6E880",
           "#FF97FF",
           "#FECB52"
          ],
          "font": {
           "color": "#2a3f5f"
          },
          "geo": {
           "bgcolor": "white",
           "lakecolor": "white",
           "landcolor": "#E5ECF6",
           "showlakes": true,
           "showland": true,
           "subunitcolor": "white"
          },
          "hoverlabel": {
           "align": "left"
          },
          "hovermode": "closest",
          "mapbox": {
           "style": "light"
          },
          "paper_bgcolor": "white",
          "plot_bgcolor": "#E5ECF6",
          "polar": {
           "angularaxis": {
            "gridcolor": "white",
            "linecolor": "white",
            "ticks": ""
           },
           "bgcolor": "#E5ECF6",
           "radialaxis": {
            "gridcolor": "white",
            "linecolor": "white",
            "ticks": ""
           }
          },
          "scene": {
           "xaxis": {
            "backgroundcolor": "#E5ECF6",
            "gridcolor": "white",
            "gridwidth": 2,
            "linecolor": "white",
            "showbackground": true,
            "ticks": "",
            "zerolinecolor": "white"
           },
           "yaxis": {
            "backgroundcolor": "#E5ECF6",
            "gridcolor": "white",
            "gridwidth": 2,
            "linecolor": "white",
            "showbackground": true,
            "ticks": "",
            "zerolinecolor": "white"
           },
           "zaxis": {
            "backgroundcolor": "#E5ECF6",
            "gridcolor": "white",
            "gridwidth": 2,
            "linecolor": "white",
            "showbackground": true,
            "ticks": "",
            "zerolinecolor": "white"
           }
          },
          "shapedefaults": {
           "line": {
            "color": "#2a3f5f"
           }
          },
          "ternary": {
           "aaxis": {
            "gridcolor": "white",
            "linecolor": "white",
            "ticks": ""
           },
           "baxis": {
            "gridcolor": "white",
            "linecolor": "white",
            "ticks": ""
           },
           "bgcolor": "#E5ECF6",
           "caxis": {
            "gridcolor": "white",
            "linecolor": "white",
            "ticks": ""
           }
          },
          "title": {
           "x": 0.05
          },
          "xaxis": {
           "automargin": true,
           "gridcolor": "white",
           "linecolor": "white",
           "ticks": "",
           "title": {
            "standoff": 15
           },
           "zerolinecolor": "white",
           "zerolinewidth": 2
          },
          "yaxis": {
           "automargin": true,
           "gridcolor": "white",
           "linecolor": "white",
           "ticks": "",
           "title": {
            "standoff": 15
           },
           "zerolinecolor": "white",
           "zerolinewidth": 2
          }
         }
        },
        "title": {
         "font": {
          "color": "#4D5663"
         }
        },
        "xaxis": {
         "gridcolor": "#E1E5ED",
         "showgrid": true,
         "tickfont": {
          "color": "#4D5663"
         },
         "title": {
          "font": {
           "color": "#4D5663"
          },
          "text": ""
         },
         "zerolinecolor": "#E1E5ED"
        },
        "yaxis": {
         "gridcolor": "#E1E5ED",
         "showgrid": true,
         "tickfont": {
          "color": "#4D5663"
         },
         "title": {
          "font": {
           "color": "#4D5663"
          },
          "text": ""
         },
         "zerolinecolor": "#E1E5ED"
        }
       }
      },
      "text/html": [
       "<div>                            <div id=\"8b1033ae-8ae2-4da5-8756-87d0d1ead26e\" class=\"plotly-graph-div\" style=\"height:525px; width:100%;\"></div>            <script type=\"text/javascript\">                require([\"plotly\"], function(Plotly) {                    window.PLOTLYENV=window.PLOTLYENV || {};\n",
       "                    window.PLOTLYENV.BASE_URL='https://plot.ly';                                    if (document.getElementById(\"8b1033ae-8ae2-4da5-8756-87d0d1ead26e\")) {                    Plotly.newPlot(                        \"8b1033ae-8ae2-4da5-8756-87d0d1ead26e\",                        [{\"boxpoints\":false,\"line\":{\"width\":1.3},\"marker\":{\"color\":\"rgba(255, 153, 51, 1.0)\"},\"name\":\"John\",\"orientation\":\"v\",\"y\":[0.019642646998532538,0.5102977624801204,0.24449280881659421,-0.09964374543098901,-0.8336301504091984,0.7633960938278734,0.008888279313414483,-0.04559506706851624,0.1928875749925488,0.03414630485056338,0.7264465808915783,1.0658884808652351,0.38523365088508876,1.5124214398730913,-1.6377485347546827,-0.7010980666045677,0.45739260615720606,0.4876140496185153,-1.0773443173458792,0.1156850759183294,-1.7276705506695154,-0.7605787719199244,-1.0185765341213795,-0.6973825682764789,0.6891443271530647,0.2866451570554162,-0.6019547431882285,1.0946069931759237,-0.25809283296644064,0.3711605045232904,2.016529005040461,1.4362079476882181,-1.8065697572276622,0.41709344375999546,-0.952273483938806,-0.33790763860390516,1.4653354860476666,-1.0364187829767437,-0.5958291555412103,-0.9095925468162066,-0.03443570936609096,0.41796253085085777,0.4985597267149191,1.256230814302931,0.3041815809519573,-0.7314944255391029,0.1347390648641512,0.36668711521731945,-1.345745456849986,-0.3024870212580657,0.38946023142969144,-2.2080623777024857,0.14690798112419792,-0.10214577252644914,-0.7558190914775792,1.636096524673409,-0.9350054629918986,-0.834717261048946,0.9042211849377907,-0.970097819261639,0.08302084353049828,0.122533351733746,-0.5668598556840447,1.2122897430202741,-0.2628230583023596,-1.319033630348968,-1.2725064526718661,2.0358158967569318,-0.8468257533048923,1.4882729870233895,-1.2205022462300505,-0.05757188230792311,1.367768040891796,-0.19921297667841037,0.4697389292048797,-1.3381417318782258,0.6524847805507301,-1.7994321764509653,-1.077881485573476,-1.3625099426155498,0.045648147491829216,0.563618810148228,-0.4786892358293386,0.47606615646569794,-0.8543313928147953,0.0925095317870382,-0.21597284215262857,0.4834183462334682,-0.9360044456206287,-0.6269954947934127,2.1712068293506985,0.016129286645642983,-0.8759971648778004,1.1406389788304063,-1.500404007263379,0.4829784953373957,1.5084272190275951,-1.9175664929088536,-0.7413752267077025,-0.13980204256336462],\"type\":\"box\"},{\"boxpoints\":false,\"line\":{\"width\":1.3},\"marker\":{\"color\":\"rgba(55, 128, 191, 1.0)\"},\"name\":\"Doe\",\"orientation\":\"v\",\"y\":[0.18932288313259496,1.3281660265941044,0.08260420682700166,0.19766344985332351,-1.3519755938004667,0.7152547986319213,2.1061290065425045,-0.4536884731298851,-1.314290670147277,1.2162156869830907,0.38627757098814897,1.0778958970219656,1.0172005524466166,-0.8363987977283873,0.6219718214710519,-0.10941421275248397,0.1834145301165497,1.6905631473724685,0.2830379714000602,0.8209176571110884,0.2712601644922478,2.6709808829839905,-0.038019966272632134,-0.800964216187689,-0.9772594874158484,-0.9996924316330814,0.6757843694951967,-0.9172910777638664,0.21534798195889704,-0.6649356062395503,-1.2190835483281803,1.6237785328878958,-0.17059875405261618,0.5863516626635352,-0.10759342108696314,-0.593705778613284,0.8306281292382299,2.1589815543497193,-1.0911341602641766,-0.40761643718218465,-2.383684095369639,0.009333505772728184,0.08093342989807364,-0.33071099419622413,-0.26004567740817947,-0.06395831153582572,-0.5989402137637061,-0.6142660522286667,-2.1372805837605546,1.5015600737392012,-1.4841755895742048,-0.4063083689229514,-1.4867589787693356,-0.7562643323620777,0.4865696831994064,-0.6436237599111508,-0.05723995074100056,0.41887052392231416,0.3141993864196437,-0.24322500286511342,0.7610647654161666,-0.5576576400296814,-0.01206385658904262,-0.9750812100109979,0.684081164985671,-1.5261851048875195,0.37714545839915764,-0.8713897574661608,-0.2241657499226878,-0.6870427813507797,-0.47336276072954436,0.26368992576199496,-0.20034751046151145,0.45876070741422004,-0.16879611580477616,1.576773398907753,0.30704353862755446,-0.4911660185041354,0.6111210148978148,-2.213938060785341,0.020347578904885685,-0.5256163213064886,-1.693539773930717,-0.2737625049855568,1.1277007342060812,-0.4849370930878959,-0.5219300157008511,-1.112720153303619,1.4405568615058983,-1.7859008692500788,1.2443992275160747,-0.3448053249356195,-1.1315614753988137,0.40563336698552666,0.4595262640725895,-0.5381022646055008,-0.5132149097842915,-0.31065608999022215,0.8944689282816258,-0.5132298585680108],\"type\":\"box\"},{\"boxpoints\":false,\"line\":{\"width\":1.3},\"marker\":{\"color\":\"rgba(50, 171, 96, 1.0)\"},\"name\":\"Jane\",\"orientation\":\"v\",\"y\":[0.020344460919605414,0.3462067161994248,0.17475916773203,1.5090626015195374,-0.4122208025818858,1.325337250095666,1.029866726130267,0.35064166507739725,0.9018799479323362,0.5046379467013828,0.534879942562968,0.10842387462848369,0.588422036103608,-0.01982207886584693,-0.6602670412667222,2.0594232095291405,-1.0664536958778772,0.9971590272421421,-0.419793450722026,-0.2868524725708644,1.5868280287464456,1.3642100845066147,0.4340492999209859,0.45187959111753234,0.7078472047688987,0.09622795159705001,-1.1278129617893926,0.9977539884117823,0.3898509544393391,-1.4453076915556564,-1.576959872160643,-1.7046069712375977,-0.9231990158881069,-1.539771719932798,0.1566058015997379,0.9036201624310277,0.40922130611714763,-0.614293801940151,-0.6273421217949555,1.2278507854586656,-0.6407675535419343,0.6540944755362336,0.7604357209718133,-1.5958031294720738,0.6384119218048553,1.6936312784352094,0.027377691105506207,0.5974207515989416,0.9732777312488076,-0.7983686208973904,-0.45929109595605755,0.42291223822053114,-0.3962140944152771,-2.0538570270466128,0.8055831452517226,0.08283220045954048,-2.0530799664162123,0.99407542444314,-0.6081559207174255,-0.6100039706517446,-0.059202928282162136,0.7638558716751972,1.5591072081500168,0.1407648608438338,0.1305287174305653,-0.24890282654787316,0.1960182491909555,-0.7395354388428351,-0.4900693987853215,-0.5829714807721302,0.4102840775139383,-0.8148124122744025,-0.0925608094388613,0.28783455859141643,-0.14238079545525237,-0.6251148156843083,0.6926933942593309,1.1229363887483916,-0.3104205138275535,1.2285728076630065,0.7072976367701932,-0.451354424910134,0.8305601329639444,1.6559291353284744,-0.331227360650665,0.45302812066839865,-0.4871842256267353,-2.0964124991912985,-0.6806087424626511,0.058105948903216506,3.202042974898475,-0.7410960417431232,0.18837589717535844,-0.31757443030843835,-0.09035881966556931,-0.8820890438553275,-0.357131255166717,0.006772012697767498,0.10935341583295807,1.359680187829212],\"type\":\"box\"},{\"boxpoints\":false,\"line\":{\"width\":1.3},\"marker\":{\"color\":\"rgba(128, 0, 128, 1.0)\"},\"name\":\"Alice\",\"orientation\":\"v\",\"y\":[0.24937027334314316,-1.291424215603698,-0.4884012392345033,0.9532605534879363,2.3477005384206446,-1.0144239588546686,0.977099564603622,0.6168188802196694,-0.47560848458068333,0.8824737194957732,-1.4446977790153614,0.12627289529585273,0.24452288567558209,1.4803110759003795,1.8756290628133423,1.508162373590915,1.599052533345483,0.2618922581459752,2.12104217913582,0.808950397331336,-1.109094108308861,1.602083088917013,1.5768855759488984,1.005546370581314,-0.028537663788296124,-0.9521565165466842,-0.2694289632388691,0.33914099158362493,1.4848879735793097,-0.15952953831767577,0.5182428314779433,1.1493720658921305,0.30439104363373704,2.205722994703418,-0.9470086306875309,1.177834410972747,-0.9282409641187047,-1.1566182571832813,-0.5294052252444668,0.902653589829433,1.483146465740587,0.03747260476148352,-1.9110923237948987,-0.6612479030226804,0.5060241559272375,-1.7917820122316197,-0.4334998009209104,-1.6900226944935148,0.32390106016061765,-1.7753081467012586,1.7314152310140727,1.105940310866183,1.1211825454639375,-1.6068916682728345,-0.720547522323849,0.18068597517981844,-1.955738411816919,0.6726488254609667,0.5008582854675393,-0.6348169547283224,0.7258906936858436,-1.6280533559714265,-0.8452387063567807,-1.3127124095500966,1.4963497910833603,-0.27598207528628477,-0.22898495696167098,3.2675260228973384,-0.1862118745000819,0.352276323220306,0.29507517067968014,-0.3942808789972401,1.0284427652707993,1.2898001084397912,0.7705846439237007,-0.07355561105383403,-0.8449567375803194,-0.2530211972433086,-0.554226570610661,1.3099790240284408,-1.4976695060801464,-0.584939513569232,1.5641595185858919,1.018081520470552,1.4032815131925347,-0.6098160950068922,1.7619258459944727,-0.10746200784864435,-1.5375281243471617,-1.922579834123578,-0.8169181127599872,-0.0786697122584202,0.7677043271127714,0.33516517396777745,0.08496112422441039,0.09309029552920575,0.774275523501191,0.6168438544923766,-0.762326463653972,-0.7329996342331008],\"type\":\"box\"}],                        {\"legend\":{\"bgcolor\":\"#F5F6F9\",\"font\":{\"color\":\"#4D5663\"}},\"paper_bgcolor\":\"#F5F6F9\",\"plot_bgcolor\":\"#F5F6F9\",\"template\":{\"data\":{\"barpolar\":[{\"marker\":{\"line\":{\"color\":\"#E5ECF6\",\"width\":0.5},\"pattern\":{\"fillmode\":\"overlay\",\"size\":10,\"solidity\":0.2}},\"type\":\"barpolar\"}],\"bar\":[{\"error_x\":{\"color\":\"#2a3f5f\"},\"error_y\":{\"color\":\"#2a3f5f\"},\"marker\":{\"line\":{\"color\":\"#E5ECF6\",\"width\":0.5},\"pattern\":{\"fillmode\":\"overlay\",\"size\":10,\"solidity\":0.2}},\"type\":\"bar\"}],\"carpet\":[{\"aaxis\":{\"endlinecolor\":\"#2a3f5f\",\"gridcolor\":\"white\",\"linecolor\":\"white\",\"minorgridcolor\":\"white\",\"startlinecolor\":\"#2a3f5f\"},\"baxis\":{\"endlinecolor\":\"#2a3f5f\",\"gridcolor\":\"white\",\"linecolor\":\"white\",\"minorgridcolor\":\"white\",\"startlinecolor\":\"#2a3f5f\"},\"type\":\"carpet\"}],\"choropleth\":[{\"colorbar\":{\"outlinewidth\":0,\"ticks\":\"\"},\"type\":\"choropleth\"}],\"contourcarpet\":[{\"colorbar\":{\"outlinewidth\":0,\"ticks\":\"\"},\"type\":\"contourcarpet\"}],\"contour\":[{\"colorbar\":{\"outlinewidth\":0,\"ticks\":\"\"},\"colorscale\":[[0.0,\"#0d0887\"],[0.1111111111111111,\"#46039f\"],[0.2222222222222222,\"#7201a8\"],[0.3333333333333333,\"#9c179e\"],[0.4444444444444444,\"#bd3786\"],[0.5555555555555556,\"#d8576b\"],[0.6666666666666666,\"#ed7953\"],[0.7777777777777778,\"#fb9f3a\"],[0.8888888888888888,\"#fdca26\"],[1.0,\"#f0f921\"]],\"type\":\"contour\"}],\"heatmapgl\":[{\"colorbar\":{\"outlinewidth\":0,\"ticks\":\"\"},\"colorscale\":[[0.0,\"#0d0887\"],[0.1111111111111111,\"#46039f\"],[0.2222222222222222,\"#7201a8\"],[0.3333333333333333,\"#9c179e\"],[0.4444444444444444,\"#bd3786\"],[0.5555555555555556,\"#d8576b\"],[0.6666666666666666,\"#ed7953\"],[0.7777777777777778,\"#fb9f3a\"],[0.8888888888888888,\"#fdca26\"],[1.0,\"#f0f921\"]],\"type\":\"heatmapgl\"}],\"heatmap\":[{\"colorbar\":{\"outlinewidth\":0,\"ticks\":\"\"},\"colorscale\":[[0.0,\"#0d0887\"],[0.1111111111111111,\"#46039f\"],[0.2222222222222222,\"#7201a8\"],[0.3333333333333333,\"#9c179e\"],[0.4444444444444444,\"#bd3786\"],[0.5555555555555556,\"#d8576b\"],[0.6666666666666666,\"#ed7953\"],[0.7777777777777778,\"#fb9f3a\"],[0.8888888888888888,\"#fdca26\"],[1.0,\"#f0f921\"]],\"type\":\"heatmap\"}],\"histogram2dcontour\":[{\"colorbar\":{\"outlinewidth\":0,\"ticks\":\"\"},\"colorscale\":[[0.0,\"#0d0887\"],[0.1111111111111111,\"#46039f\"],[0.2222222222222222,\"#7201a8\"],[0.3333333333333333,\"#9c179e\"],[0.4444444444444444,\"#bd3786\"],[0.5555555555555556,\"#d8576b\"],[0.6666666666666666,\"#ed7953\"],[0.7777777777777778,\"#fb9f3a\"],[0.8888888888888888,\"#fdca26\"],[1.0,\"#f0f921\"]],\"type\":\"histogram2dcontour\"}],\"histogram2d\":[{\"colorbar\":{\"outlinewidth\":0,\"ticks\":\"\"},\"colorscale\":[[0.0,\"#0d0887\"],[0.1111111111111111,\"#46039f\"],[0.2222222222222222,\"#7201a8\"],[0.3333333333333333,\"#9c179e\"],[0.4444444444444444,\"#bd3786\"],[0.5555555555555556,\"#d8576b\"],[0.6666666666666666,\"#ed7953\"],[0.7777777777777778,\"#fb9f3a\"],[0.8888888888888888,\"#fdca26\"],[1.0,\"#f0f921\"]],\"type\":\"histogram2d\"}],\"histogram\":[{\"marker\":{\"pattern\":{\"fillmode\":\"overlay\",\"size\":10,\"solidity\":0.2}},\"type\":\"histogram\"}],\"mesh3d\":[{\"colorbar\":{\"outlinewidth\":0,\"ticks\":\"\"},\"type\":\"mesh3d\"}],\"parcoords\":[{\"line\":{\"colorbar\":{\"outlinewidth\":0,\"ticks\":\"\"}},\"type\":\"parcoords\"}],\"pie\":[{\"automargin\":true,\"type\":\"pie\"}],\"scatter3d\":[{\"line\":{\"colorbar\":{\"outlinewidth\":0,\"ticks\":\"\"}},\"marker\":{\"colorbar\":{\"outlinewidth\":0,\"ticks\":\"\"}},\"type\":\"scatter3d\"}],\"scattercarpet\":[{\"marker\":{\"colorbar\":{\"outlinewidth\":0,\"ticks\":\"\"}},\"type\":\"scattercarpet\"}],\"scattergeo\":[{\"marker\":{\"colorbar\":{\"outlinewidth\":0,\"ticks\":\"\"}},\"type\":\"scattergeo\"}],\"scattergl\":[{\"marker\":{\"colorbar\":{\"outlinewidth\":0,\"ticks\":\"\"}},\"type\":\"scattergl\"}],\"scattermapbox\":[{\"marker\":{\"colorbar\":{\"outlinewidth\":0,\"ticks\":\"\"}},\"type\":\"scattermapbox\"}],\"scatterpolargl\":[{\"marker\":{\"colorbar\":{\"outlinewidth\":0,\"ticks\":\"\"}},\"type\":\"scatterpolargl\"}],\"scatterpolar\":[{\"marker\":{\"colorbar\":{\"outlinewidth\":0,\"ticks\":\"\"}},\"type\":\"scatterpolar\"}],\"scatter\":[{\"fillpattern\":{\"fillmode\":\"overlay\",\"size\":10,\"solidity\":0.2},\"type\":\"scatter\"}],\"scatterternary\":[{\"marker\":{\"colorbar\":{\"outlinewidth\":0,\"ticks\":\"\"}},\"type\":\"scatterternary\"}],\"surface\":[{\"colorbar\":{\"outlinewidth\":0,\"ticks\":\"\"},\"colorscale\":[[0.0,\"#0d0887\"],[0.1111111111111111,\"#46039f\"],[0.2222222222222222,\"#7201a8\"],[0.3333333333333333,\"#9c179e\"],[0.4444444444444444,\"#bd3786\"],[0.5555555555555556,\"#d8576b\"],[0.6666666666666666,\"#ed7953\"],[0.7777777777777778,\"#fb9f3a\"],[0.8888888888888888,\"#fdca26\"],[1.0,\"#f0f921\"]],\"type\":\"surface\"}],\"table\":[{\"cells\":{\"fill\":{\"color\":\"#EBF0F8\"},\"line\":{\"color\":\"white\"}},\"header\":{\"fill\":{\"color\":\"#C8D4E3\"},\"line\":{\"color\":\"white\"}},\"type\":\"table\"}]},\"layout\":{\"annotationdefaults\":{\"arrowcolor\":\"#2a3f5f\",\"arrowhead\":0,\"arrowwidth\":1},\"autotypenumbers\":\"strict\",\"coloraxis\":{\"colorbar\":{\"outlinewidth\":0,\"ticks\":\"\"}},\"colorscale\":{\"diverging\":[[0,\"#8e0152\"],[0.1,\"#c51b7d\"],[0.2,\"#de77ae\"],[0.3,\"#f1b6da\"],[0.4,\"#fde0ef\"],[0.5,\"#f7f7f7\"],[0.6,\"#e6f5d0\"],[0.7,\"#b8e186\"],[0.8,\"#7fbc41\"],[0.9,\"#4d9221\"],[1,\"#276419\"]],\"sequential\":[[0.0,\"#0d0887\"],[0.1111111111111111,\"#46039f\"],[0.2222222222222222,\"#7201a8\"],[0.3333333333333333,\"#9c179e\"],[0.4444444444444444,\"#bd3786\"],[0.5555555555555556,\"#d8576b\"],[0.6666666666666666,\"#ed7953\"],[0.7777777777777778,\"#fb9f3a\"],[0.8888888888888888,\"#fdca26\"],[1.0,\"#f0f921\"]],\"sequentialminus\":[[0.0,\"#0d0887\"],[0.1111111111111111,\"#46039f\"],[0.2222222222222222,\"#7201a8\"],[0.3333333333333333,\"#9c179e\"],[0.4444444444444444,\"#bd3786\"],[0.5555555555555556,\"#d8576b\"],[0.6666666666666666,\"#ed7953\"],[0.7777777777777778,\"#fb9f3a\"],[0.8888888888888888,\"#fdca26\"],[1.0,\"#f0f921\"]]},\"colorway\":[\"#636efa\",\"#EF553B\",\"#00cc96\",\"#ab63fa\",\"#FFA15A\",\"#19d3f3\",\"#FF6692\",\"#B6E880\",\"#FF97FF\",\"#FECB52\"],\"font\":{\"color\":\"#2a3f5f\"},\"geo\":{\"bgcolor\":\"white\",\"lakecolor\":\"white\",\"landcolor\":\"#E5ECF6\",\"showlakes\":true,\"showland\":true,\"subunitcolor\":\"white\"},\"hoverlabel\":{\"align\":\"left\"},\"hovermode\":\"closest\",\"mapbox\":{\"style\":\"light\"},\"paper_bgcolor\":\"white\",\"plot_bgcolor\":\"#E5ECF6\",\"polar\":{\"angularaxis\":{\"gridcolor\":\"white\",\"linecolor\":\"white\",\"ticks\":\"\"},\"bgcolor\":\"#E5ECF6\",\"radialaxis\":{\"gridcolor\":\"white\",\"linecolor\":\"white\",\"ticks\":\"\"}},\"scene\":{\"xaxis\":{\"backgroundcolor\":\"#E5ECF6\",\"gridcolor\":\"white\",\"gridwidth\":2,\"linecolor\":\"white\",\"showbackground\":true,\"ticks\":\"\",\"zerolinecolor\":\"white\"},\"yaxis\":{\"backgroundcolor\":\"#E5ECF6\",\"gridcolor\":\"white\",\"gridwidth\":2,\"linecolor\":\"white\",\"showbackground\":true,\"ticks\":\"\",\"zerolinecolor\":\"white\"},\"zaxis\":{\"backgroundcolor\":\"#E5ECF6\",\"gridcolor\":\"white\",\"gridwidth\":2,\"linecolor\":\"white\",\"showbackground\":true,\"ticks\":\"\",\"zerolinecolor\":\"white\"}},\"shapedefaults\":{\"line\":{\"color\":\"#2a3f5f\"}},\"ternary\":{\"aaxis\":{\"gridcolor\":\"white\",\"linecolor\":\"white\",\"ticks\":\"\"},\"baxis\":{\"gridcolor\":\"white\",\"linecolor\":\"white\",\"ticks\":\"\"},\"bgcolor\":\"#E5ECF6\",\"caxis\":{\"gridcolor\":\"white\",\"linecolor\":\"white\",\"ticks\":\"\"}},\"title\":{\"x\":0.05},\"xaxis\":{\"automargin\":true,\"gridcolor\":\"white\",\"linecolor\":\"white\",\"ticks\":\"\",\"title\":{\"standoff\":15},\"zerolinecolor\":\"white\",\"zerolinewidth\":2},\"yaxis\":{\"automargin\":true,\"gridcolor\":\"white\",\"linecolor\":\"white\",\"ticks\":\"\",\"title\":{\"standoff\":15},\"zerolinecolor\":\"white\",\"zerolinewidth\":2}}},\"title\":{\"font\":{\"color\":\"#4D5663\"}},\"xaxis\":{\"gridcolor\":\"#E1E5ED\",\"showgrid\":true,\"tickfont\":{\"color\":\"#4D5663\"},\"title\":{\"font\":{\"color\":\"#4D5663\"},\"text\":\"\"},\"zerolinecolor\":\"#E1E5ED\"},\"yaxis\":{\"gridcolor\":\"#E1E5ED\",\"showgrid\":true,\"tickfont\":{\"color\":\"#4D5663\"},\"title\":{\"font\":{\"color\":\"#4D5663\"},\"text\":\"\"},\"zerolinecolor\":\"#E1E5ED\"}},                        {\"showLink\": true, \"linkText\": \"Export to plot.ly\", \"plotlyServerURL\": \"https://plot.ly\", \"responsive\": true}                    ).then(function(){\n",
       "                            \n",
       "var gd = document.getElementById('8b1033ae-8ae2-4da5-8756-87d0d1ead26e');\n",
       "var x = new MutationObserver(function (mutations, observer) {{\n",
       "        var display = window.getComputedStyle(gd).display;\n",
       "        if (!display || display === 'none') {{\n",
       "            console.log([gd, 'removed!']);\n",
       "            Plotly.purge(gd);\n",
       "            observer.disconnect();\n",
       "        }}\n",
       "}});\n",
       "\n",
       "// Listen for the removal of the full notebook cells\n",
       "var notebookContainer = gd.closest('#notebook-container');\n",
       "if (notebookContainer) {{\n",
       "    x.observe(notebookContainer, {childList: true});\n",
       "}}\n",
       "\n",
       "// Listen for the clearing of the current output cell\n",
       "var outputEl = gd.closest('.output');\n",
       "if (outputEl) {{\n",
       "    x.observe(outputEl, {childList: true});\n",
       "}}\n",
       "\n",
       "                        })                };                });            </script>        </div>"
      ]
     },
     "metadata": {},
     "output_type": "display_data"
    }
   ],
   "source": [
    "df.iplot(kind='box')"
   ]
  },
  {
   "cell_type": "code",
   "execution_count": 17,
   "id": "2d3f430c-857d-4298-94ce-9bebe0e8fb3a",
   "metadata": {},
   "outputs": [
    {
     "data": {
      "text/html": [
       "<div>\n",
       "<style scoped>\n",
       "    .dataframe tbody tr th:only-of-type {\n",
       "        vertical-align: middle;\n",
       "    }\n",
       "\n",
       "    .dataframe tbody tr th {\n",
       "        vertical-align: top;\n",
       "    }\n",
       "\n",
       "    .dataframe thead th {\n",
       "        text-align: right;\n",
       "    }\n",
       "</style>\n",
       "<table border=\"1\" class=\"dataframe\">\n",
       "  <thead>\n",
       "    <tr style=\"text-align: right;\">\n",
       "      <th></th>\n",
       "      <th>x</th>\n",
       "      <th>y</th>\n",
       "      <th>z</th>\n",
       "    </tr>\n",
       "  </thead>\n",
       "  <tbody>\n",
       "    <tr>\n",
       "      <th>0</th>\n",
       "      <td>1</td>\n",
       "      <td>10</td>\n",
       "      <td>5</td>\n",
       "    </tr>\n",
       "    <tr>\n",
       "      <th>1</th>\n",
       "      <td>2</td>\n",
       "      <td>20</td>\n",
       "      <td>4</td>\n",
       "    </tr>\n",
       "    <tr>\n",
       "      <th>2</th>\n",
       "      <td>3</td>\n",
       "      <td>30</td>\n",
       "      <td>3</td>\n",
       "    </tr>\n",
       "    <tr>\n",
       "      <th>3</th>\n",
       "      <td>4</td>\n",
       "      <td>40</td>\n",
       "      <td>2</td>\n",
       "    </tr>\n",
       "    <tr>\n",
       "      <th>4</th>\n",
       "      <td>5</td>\n",
       "      <td>50</td>\n",
       "      <td>1</td>\n",
       "    </tr>\n",
       "  </tbody>\n",
       "</table>\n",
       "</div>"
      ],
      "text/plain": [
       "   x   y  z\n",
       "0  1  10  5\n",
       "1  2  20  4\n",
       "2  3  30  3\n",
       "3  4  40  2\n",
       "4  5  50  1"
      ]
     },
     "execution_count": 17,
     "metadata": {},
     "output_type": "execute_result"
    }
   ],
   "source": [
    "\n",
    "df3=pd.DataFrame({'x':[1,2,3,4,5],'y':[10,20,30,40,50],'z':[5,4,3,2,1]})\n",
    "df3"
   ]
  },
  {
   "cell_type": "code",
   "execution_count": 18,
   "id": "50622969-88f9-4f8c-9a85-55a1702ca16a",
   "metadata": {},
   "outputs": [
    {
     "data": {
      "application/vnd.plotly.v1+json": {
       "config": {
        "linkText": "Export to plot.ly",
        "plotlyServerURL": "https://plot.ly",
        "showLink": true
       },
       "data": [
        {
         "colorscale": [
          [
           0,
           "rgb(165,0,38)"
          ],
          [
           0.1,
           "rgb(215,48,39)"
          ],
          [
           0.2,
           "rgb(244,109,67)"
          ],
          [
           0.3,
           "rgb(253,174,97)"
          ],
          [
           0.4,
           "rgb(254,224,144)"
          ],
          [
           0.5,
           "rgb(255,255,191)"
          ],
          [
           0.6,
           "rgb(224,243,248)"
          ],
          [
           0.7,
           "rgb(171,217,233)"
          ],
          [
           0.8,
           "rgb(116,173,209)"
          ],
          [
           0.9,
           "rgb(69,117,180)"
          ],
          [
           1,
           "rgb(49,54,149)"
          ]
         ],
         "type": "surface",
         "x": [
          0,
          1,
          2,
          3,
          4
         ],
         "y": [
          "x",
          "y",
          "z"
         ],
         "z": [
          [
           1,
           2,
           3,
           4,
           5
          ],
          [
           10,
           20,
           30,
           40,
           50
          ],
          [
           5,
           4,
           3,
           2,
           1
          ]
         ]
        }
       ],
       "layout": {
        "legend": {
         "bgcolor": "#F5F6F9",
         "font": {
          "color": "#4D5663"
         }
        },
        "paper_bgcolor": "#F5F6F9",
        "plot_bgcolor": "#F5F6F9",
        "template": {
         "data": {
          "bar": [
           {
            "error_x": {
             "color": "#2a3f5f"
            },
            "error_y": {
             "color": "#2a3f5f"
            },
            "marker": {
             "line": {
              "color": "#E5ECF6",
              "width": 0.5
             },
             "pattern": {
              "fillmode": "overlay",
              "size": 10,
              "solidity": 0.2
             }
            },
            "type": "bar"
           }
          ],
          "barpolar": [
           {
            "marker": {
             "line": {
              "color": "#E5ECF6",
              "width": 0.5
             },
             "pattern": {
              "fillmode": "overlay",
              "size": 10,
              "solidity": 0.2
             }
            },
            "type": "barpolar"
           }
          ],
          "carpet": [
           {
            "aaxis": {
             "endlinecolor": "#2a3f5f",
             "gridcolor": "white",
             "linecolor": "white",
             "minorgridcolor": "white",
             "startlinecolor": "#2a3f5f"
            },
            "baxis": {
             "endlinecolor": "#2a3f5f",
             "gridcolor": "white",
             "linecolor": "white",
             "minorgridcolor": "white",
             "startlinecolor": "#2a3f5f"
            },
            "type": "carpet"
           }
          ],
          "choropleth": [
           {
            "colorbar": {
             "outlinewidth": 0,
             "ticks": ""
            },
            "type": "choropleth"
           }
          ],
          "contour": [
           {
            "colorbar": {
             "outlinewidth": 0,
             "ticks": ""
            },
            "colorscale": [
             [
              0,
              "#0d0887"
             ],
             [
              0.1111111111111111,
              "#46039f"
             ],
             [
              0.2222222222222222,
              "#7201a8"
             ],
             [
              0.3333333333333333,
              "#9c179e"
             ],
             [
              0.4444444444444444,
              "#bd3786"
             ],
             [
              0.5555555555555556,
              "#d8576b"
             ],
             [
              0.6666666666666666,
              "#ed7953"
             ],
             [
              0.7777777777777778,
              "#fb9f3a"
             ],
             [
              0.8888888888888888,
              "#fdca26"
             ],
             [
              1,
              "#f0f921"
             ]
            ],
            "type": "contour"
           }
          ],
          "contourcarpet": [
           {
            "colorbar": {
             "outlinewidth": 0,
             "ticks": ""
            },
            "type": "contourcarpet"
           }
          ],
          "heatmap": [
           {
            "colorbar": {
             "outlinewidth": 0,
             "ticks": ""
            },
            "colorscale": [
             [
              0,
              "#0d0887"
             ],
             [
              0.1111111111111111,
              "#46039f"
             ],
             [
              0.2222222222222222,
              "#7201a8"
             ],
             [
              0.3333333333333333,
              "#9c179e"
             ],
             [
              0.4444444444444444,
              "#bd3786"
             ],
             [
              0.5555555555555556,
              "#d8576b"
             ],
             [
              0.6666666666666666,
              "#ed7953"
             ],
             [
              0.7777777777777778,
              "#fb9f3a"
             ],
             [
              0.8888888888888888,
              "#fdca26"
             ],
             [
              1,
              "#f0f921"
             ]
            ],
            "type": "heatmap"
           }
          ],
          "heatmapgl": [
           {
            "colorbar": {
             "outlinewidth": 0,
             "ticks": ""
            },
            "colorscale": [
             [
              0,
              "#0d0887"
             ],
             [
              0.1111111111111111,
              "#46039f"
             ],
             [
              0.2222222222222222,
              "#7201a8"
             ],
             [
              0.3333333333333333,
              "#9c179e"
             ],
             [
              0.4444444444444444,
              "#bd3786"
             ],
             [
              0.5555555555555556,
              "#d8576b"
             ],
             [
              0.6666666666666666,
              "#ed7953"
             ],
             [
              0.7777777777777778,
              "#fb9f3a"
             ],
             [
              0.8888888888888888,
              "#fdca26"
             ],
             [
              1,
              "#f0f921"
             ]
            ],
            "type": "heatmapgl"
           }
          ],
          "histogram": [
           {
            "marker": {
             "pattern": {
              "fillmode": "overlay",
              "size": 10,
              "solidity": 0.2
             }
            },
            "type": "histogram"
           }
          ],
          "histogram2d": [
           {
            "colorbar": {
             "outlinewidth": 0,
             "ticks": ""
            },
            "colorscale": [
             [
              0,
              "#0d0887"
             ],
             [
              0.1111111111111111,
              "#46039f"
             ],
             [
              0.2222222222222222,
              "#7201a8"
             ],
             [
              0.3333333333333333,
              "#9c179e"
             ],
             [
              0.4444444444444444,
              "#bd3786"
             ],
             [
              0.5555555555555556,
              "#d8576b"
             ],
             [
              0.6666666666666666,
              "#ed7953"
             ],
             [
              0.7777777777777778,
              "#fb9f3a"
             ],
             [
              0.8888888888888888,
              "#fdca26"
             ],
             [
              1,
              "#f0f921"
             ]
            ],
            "type": "histogram2d"
           }
          ],
          "histogram2dcontour": [
           {
            "colorbar": {
             "outlinewidth": 0,
             "ticks": ""
            },
            "colorscale": [
             [
              0,
              "#0d0887"
             ],
             [
              0.1111111111111111,
              "#46039f"
             ],
             [
              0.2222222222222222,
              "#7201a8"
             ],
             [
              0.3333333333333333,
              "#9c179e"
             ],
             [
              0.4444444444444444,
              "#bd3786"
             ],
             [
              0.5555555555555556,
              "#d8576b"
             ],
             [
              0.6666666666666666,
              "#ed7953"
             ],
             [
              0.7777777777777778,
              "#fb9f3a"
             ],
             [
              0.8888888888888888,
              "#fdca26"
             ],
             [
              1,
              "#f0f921"
             ]
            ],
            "type": "histogram2dcontour"
           }
          ],
          "mesh3d": [
           {
            "colorbar": {
             "outlinewidth": 0,
             "ticks": ""
            },
            "type": "mesh3d"
           }
          ],
          "parcoords": [
           {
            "line": {
             "colorbar": {
              "outlinewidth": 0,
              "ticks": ""
             }
            },
            "type": "parcoords"
           }
          ],
          "pie": [
           {
            "automargin": true,
            "type": "pie"
           }
          ],
          "scatter": [
           {
            "fillpattern": {
             "fillmode": "overlay",
             "size": 10,
             "solidity": 0.2
            },
            "type": "scatter"
           }
          ],
          "scatter3d": [
           {
            "line": {
             "colorbar": {
              "outlinewidth": 0,
              "ticks": ""
             }
            },
            "marker": {
             "colorbar": {
              "outlinewidth": 0,
              "ticks": ""
             }
            },
            "type": "scatter3d"
           }
          ],
          "scattercarpet": [
           {
            "marker": {
             "colorbar": {
              "outlinewidth": 0,
              "ticks": ""
             }
            },
            "type": "scattercarpet"
           }
          ],
          "scattergeo": [
           {
            "marker": {
             "colorbar": {
              "outlinewidth": 0,
              "ticks": ""
             }
            },
            "type": "scattergeo"
           }
          ],
          "scattergl": [
           {
            "marker": {
             "colorbar": {
              "outlinewidth": 0,
              "ticks": ""
             }
            },
            "type": "scattergl"
           }
          ],
          "scattermapbox": [
           {
            "marker": {
             "colorbar": {
              "outlinewidth": 0,
              "ticks": ""
             }
            },
            "type": "scattermapbox"
           }
          ],
          "scatterpolar": [
           {
            "marker": {
             "colorbar": {
              "outlinewidth": 0,
              "ticks": ""
             }
            },
            "type": "scatterpolar"
           }
          ],
          "scatterpolargl": [
           {
            "marker": {
             "colorbar": {
              "outlinewidth": 0,
              "ticks": ""
             }
            },
            "type": "scatterpolargl"
           }
          ],
          "scatterternary": [
           {
            "marker": {
             "colorbar": {
              "outlinewidth": 0,
              "ticks": ""
             }
            },
            "type": "scatterternary"
           }
          ],
          "surface": [
           {
            "colorbar": {
             "outlinewidth": 0,
             "ticks": ""
            },
            "colorscale": [
             [
              0,
              "#0d0887"
             ],
             [
              0.1111111111111111,
              "#46039f"
             ],
             [
              0.2222222222222222,
              "#7201a8"
             ],
             [
              0.3333333333333333,
              "#9c179e"
             ],
             [
              0.4444444444444444,
              "#bd3786"
             ],
             [
              0.5555555555555556,
              "#d8576b"
             ],
             [
              0.6666666666666666,
              "#ed7953"
             ],
             [
              0.7777777777777778,
              "#fb9f3a"
             ],
             [
              0.8888888888888888,
              "#fdca26"
             ],
             [
              1,
              "#f0f921"
             ]
            ],
            "type": "surface"
           }
          ],
          "table": [
           {
            "cells": {
             "fill": {
              "color": "#EBF0F8"
             },
             "line": {
              "color": "white"
             }
            },
            "header": {
             "fill": {
              "color": "#C8D4E3"
             },
             "line": {
              "color": "white"
             }
            },
            "type": "table"
           }
          ]
         },
         "layout": {
          "annotationdefaults": {
           "arrowcolor": "#2a3f5f",
           "arrowhead": 0,
           "arrowwidth": 1
          },
          "autotypenumbers": "strict",
          "coloraxis": {
           "colorbar": {
            "outlinewidth": 0,
            "ticks": ""
           }
          },
          "colorscale": {
           "diverging": [
            [
             0,
             "#8e0152"
            ],
            [
             0.1,
             "#c51b7d"
            ],
            [
             0.2,
             "#de77ae"
            ],
            [
             0.3,
             "#f1b6da"
            ],
            [
             0.4,
             "#fde0ef"
            ],
            [
             0.5,
             "#f7f7f7"
            ],
            [
             0.6,
             "#e6f5d0"
            ],
            [
             0.7,
             "#b8e186"
            ],
            [
             0.8,
             "#7fbc41"
            ],
            [
             0.9,
             "#4d9221"
            ],
            [
             1,
             "#276419"
            ]
           ],
           "sequential": [
            [
             0,
             "#0d0887"
            ],
            [
             0.1111111111111111,
             "#46039f"
            ],
            [
             0.2222222222222222,
             "#7201a8"
            ],
            [
             0.3333333333333333,
             "#9c179e"
            ],
            [
             0.4444444444444444,
             "#bd3786"
            ],
            [
             0.5555555555555556,
             "#d8576b"
            ],
            [
             0.6666666666666666,
             "#ed7953"
            ],
            [
             0.7777777777777778,
             "#fb9f3a"
            ],
            [
             0.8888888888888888,
             "#fdca26"
            ],
            [
             1,
             "#f0f921"
            ]
           ],
           "sequentialminus": [
            [
             0,
             "#0d0887"
            ],
            [
             0.1111111111111111,
             "#46039f"
            ],
            [
             0.2222222222222222,
             "#7201a8"
            ],
            [
             0.3333333333333333,
             "#9c179e"
            ],
            [
             0.4444444444444444,
             "#bd3786"
            ],
            [
             0.5555555555555556,
             "#d8576b"
            ],
            [
             0.6666666666666666,
             "#ed7953"
            ],
            [
             0.7777777777777778,
             "#fb9f3a"
            ],
            [
             0.8888888888888888,
             "#fdca26"
            ],
            [
             1,
             "#f0f921"
            ]
           ]
          },
          "colorway": [
           "#636efa",
           "#EF553B",
           "#00cc96",
           "#ab63fa",
           "#FFA15A",
           "#19d3f3",
           "#FF6692",
           "#B6E880",
           "#FF97FF",
           "#FECB52"
          ],
          "font": {
           "color": "#2a3f5f"
          },
          "geo": {
           "bgcolor": "white",
           "lakecolor": "white",
           "landcolor": "#E5ECF6",
           "showlakes": true,
           "showland": true,
           "subunitcolor": "white"
          },
          "hoverlabel": {
           "align": "left"
          },
          "hovermode": "closest",
          "mapbox": {
           "style": "light"
          },
          "paper_bgcolor": "white",
          "plot_bgcolor": "#E5ECF6",
          "polar": {
           "angularaxis": {
            "gridcolor": "white",
            "linecolor": "white",
            "ticks": ""
           },
           "bgcolor": "#E5ECF6",
           "radialaxis": {
            "gridcolor": "white",
            "linecolor": "white",
            "ticks": ""
           }
          },
          "scene": {
           "xaxis": {
            "backgroundcolor": "#E5ECF6",
            "gridcolor": "white",
            "gridwidth": 2,
            "linecolor": "white",
            "showbackground": true,
            "ticks": "",
            "zerolinecolor": "white"
           },
           "yaxis": {
            "backgroundcolor": "#E5ECF6",
            "gridcolor": "white",
            "gridwidth": 2,
            "linecolor": "white",
            "showbackground": true,
            "ticks": "",
            "zerolinecolor": "white"
           },
           "zaxis": {
            "backgroundcolor": "#E5ECF6",
            "gridcolor": "white",
            "gridwidth": 2,
            "linecolor": "white",
            "showbackground": true,
            "ticks": "",
            "zerolinecolor": "white"
           }
          },
          "shapedefaults": {
           "line": {
            "color": "#2a3f5f"
           }
          },
          "ternary": {
           "aaxis": {
            "gridcolor": "white",
            "linecolor": "white",
            "ticks": ""
           },
           "baxis": {
            "gridcolor": "white",
            "linecolor": "white",
            "ticks": ""
           },
           "bgcolor": "#E5ECF6",
           "caxis": {
            "gridcolor": "white",
            "linecolor": "white",
            "ticks": ""
           }
          },
          "title": {
           "x": 0.05
          },
          "xaxis": {
           "automargin": true,
           "gridcolor": "white",
           "linecolor": "white",
           "ticks": "",
           "title": {
            "standoff": 15
           },
           "zerolinecolor": "white",
           "zerolinewidth": 2
          },
          "yaxis": {
           "automargin": true,
           "gridcolor": "white",
           "linecolor": "white",
           "ticks": "",
           "title": {
            "standoff": 15
           },
           "zerolinecolor": "white",
           "zerolinewidth": 2
          }
         }
        },
        "title": {
         "font": {
          "color": "#4D5663"
         }
        },
        "xaxis": {
         "gridcolor": "#E1E5ED",
         "showgrid": true,
         "tickfont": {
          "color": "#4D5663"
         },
         "title": {
          "font": {
           "color": "#4D5663"
          },
          "text": ""
         },
         "zerolinecolor": "#E1E5ED"
        },
        "yaxis": {
         "gridcolor": "#E1E5ED",
         "showgrid": true,
         "tickfont": {
          "color": "#4D5663"
         },
         "title": {
          "font": {
           "color": "#4D5663"
          },
          "text": ""
         },
         "zerolinecolor": "#E1E5ED"
        }
       }
      },
      "text/html": [
       "<div>                            <div id=\"f791347e-f223-4d40-a17c-62fba23e6a8d\" class=\"plotly-graph-div\" style=\"height:525px; width:100%;\"></div>            <script type=\"text/javascript\">                require([\"plotly\"], function(Plotly) {                    window.PLOTLYENV=window.PLOTLYENV || {};\n",
       "                    window.PLOTLYENV.BASE_URL='https://plot.ly';                                    if (document.getElementById(\"f791347e-f223-4d40-a17c-62fba23e6a8d\")) {                    Plotly.newPlot(                        \"f791347e-f223-4d40-a17c-62fba23e6a8d\",                        [{\"colorscale\":[[0.0,\"rgb(165,0,38)\"],[0.1,\"rgb(215,48,39)\"],[0.2,\"rgb(244,109,67)\"],[0.3,\"rgb(253,174,97)\"],[0.4,\"rgb(254,224,144)\"],[0.5,\"rgb(255,255,191)\"],[0.6,\"rgb(224,243,248)\"],[0.7,\"rgb(171,217,233)\"],[0.8,\"rgb(116,173,209)\"],[0.9,\"rgb(69,117,180)\"],[1.0,\"rgb(49,54,149)\"]],\"x\":[0,1,2,3,4],\"y\":[\"x\",\"y\",\"z\"],\"z\":[[1,2,3,4,5],[10,20,30,40,50],[5,4,3,2,1]],\"type\":\"surface\"}],                        {\"legend\":{\"bgcolor\":\"#F5F6F9\",\"font\":{\"color\":\"#4D5663\"}},\"paper_bgcolor\":\"#F5F6F9\",\"plot_bgcolor\":\"#F5F6F9\",\"template\":{\"data\":{\"barpolar\":[{\"marker\":{\"line\":{\"color\":\"#E5ECF6\",\"width\":0.5},\"pattern\":{\"fillmode\":\"overlay\",\"size\":10,\"solidity\":0.2}},\"type\":\"barpolar\"}],\"bar\":[{\"error_x\":{\"color\":\"#2a3f5f\"},\"error_y\":{\"color\":\"#2a3f5f\"},\"marker\":{\"line\":{\"color\":\"#E5ECF6\",\"width\":0.5},\"pattern\":{\"fillmode\":\"overlay\",\"size\":10,\"solidity\":0.2}},\"type\":\"bar\"}],\"carpet\":[{\"aaxis\":{\"endlinecolor\":\"#2a3f5f\",\"gridcolor\":\"white\",\"linecolor\":\"white\",\"minorgridcolor\":\"white\",\"startlinecolor\":\"#2a3f5f\"},\"baxis\":{\"endlinecolor\":\"#2a3f5f\",\"gridcolor\":\"white\",\"linecolor\":\"white\",\"minorgridcolor\":\"white\",\"startlinecolor\":\"#2a3f5f\"},\"type\":\"carpet\"}],\"choropleth\":[{\"colorbar\":{\"outlinewidth\":0,\"ticks\":\"\"},\"type\":\"choropleth\"}],\"contourcarpet\":[{\"colorbar\":{\"outlinewidth\":0,\"ticks\":\"\"},\"type\":\"contourcarpet\"}],\"contour\":[{\"colorbar\":{\"outlinewidth\":0,\"ticks\":\"\"},\"colorscale\":[[0.0,\"#0d0887\"],[0.1111111111111111,\"#46039f\"],[0.2222222222222222,\"#7201a8\"],[0.3333333333333333,\"#9c179e\"],[0.4444444444444444,\"#bd3786\"],[0.5555555555555556,\"#d8576b\"],[0.6666666666666666,\"#ed7953\"],[0.7777777777777778,\"#fb9f3a\"],[0.8888888888888888,\"#fdca26\"],[1.0,\"#f0f921\"]],\"type\":\"contour\"}],\"heatmapgl\":[{\"colorbar\":{\"outlinewidth\":0,\"ticks\":\"\"},\"colorscale\":[[0.0,\"#0d0887\"],[0.1111111111111111,\"#46039f\"],[0.2222222222222222,\"#7201a8\"],[0.3333333333333333,\"#9c179e\"],[0.4444444444444444,\"#bd3786\"],[0.5555555555555556,\"#d8576b\"],[0.6666666666666666,\"#ed7953\"],[0.7777777777777778,\"#fb9f3a\"],[0.8888888888888888,\"#fdca26\"],[1.0,\"#f0f921\"]],\"type\":\"heatmapgl\"}],\"heatmap\":[{\"colorbar\":{\"outlinewidth\":0,\"ticks\":\"\"},\"colorscale\":[[0.0,\"#0d0887\"],[0.1111111111111111,\"#46039f\"],[0.2222222222222222,\"#7201a8\"],[0.3333333333333333,\"#9c179e\"],[0.4444444444444444,\"#bd3786\"],[0.5555555555555556,\"#d8576b\"],[0.6666666666666666,\"#ed7953\"],[0.7777777777777778,\"#fb9f3a\"],[0.8888888888888888,\"#fdca26\"],[1.0,\"#f0f921\"]],\"type\":\"heatmap\"}],\"histogram2dcontour\":[{\"colorbar\":{\"outlinewidth\":0,\"ticks\":\"\"},\"colorscale\":[[0.0,\"#0d0887\"],[0.1111111111111111,\"#46039f\"],[0.2222222222222222,\"#7201a8\"],[0.3333333333333333,\"#9c179e\"],[0.4444444444444444,\"#bd3786\"],[0.5555555555555556,\"#d8576b\"],[0.6666666666666666,\"#ed7953\"],[0.7777777777777778,\"#fb9f3a\"],[0.8888888888888888,\"#fdca26\"],[1.0,\"#f0f921\"]],\"type\":\"histogram2dcontour\"}],\"histogram2d\":[{\"colorbar\":{\"outlinewidth\":0,\"ticks\":\"\"},\"colorscale\":[[0.0,\"#0d0887\"],[0.1111111111111111,\"#46039f\"],[0.2222222222222222,\"#7201a8\"],[0.3333333333333333,\"#9c179e\"],[0.4444444444444444,\"#bd3786\"],[0.5555555555555556,\"#d8576b\"],[0.6666666666666666,\"#ed7953\"],[0.7777777777777778,\"#fb9f3a\"],[0.8888888888888888,\"#fdca26\"],[1.0,\"#f0f921\"]],\"type\":\"histogram2d\"}],\"histogram\":[{\"marker\":{\"pattern\":{\"fillmode\":\"overlay\",\"size\":10,\"solidity\":0.2}},\"type\":\"histogram\"}],\"mesh3d\":[{\"colorbar\":{\"outlinewidth\":0,\"ticks\":\"\"},\"type\":\"mesh3d\"}],\"parcoords\":[{\"line\":{\"colorbar\":{\"outlinewidth\":0,\"ticks\":\"\"}},\"type\":\"parcoords\"}],\"pie\":[{\"automargin\":true,\"type\":\"pie\"}],\"scatter3d\":[{\"line\":{\"colorbar\":{\"outlinewidth\":0,\"ticks\":\"\"}},\"marker\":{\"colorbar\":{\"outlinewidth\":0,\"ticks\":\"\"}},\"type\":\"scatter3d\"}],\"scattercarpet\":[{\"marker\":{\"colorbar\":{\"outlinewidth\":0,\"ticks\":\"\"}},\"type\":\"scattercarpet\"}],\"scattergeo\":[{\"marker\":{\"colorbar\":{\"outlinewidth\":0,\"ticks\":\"\"}},\"type\":\"scattergeo\"}],\"scattergl\":[{\"marker\":{\"colorbar\":{\"outlinewidth\":0,\"ticks\":\"\"}},\"type\":\"scattergl\"}],\"scattermapbox\":[{\"marker\":{\"colorbar\":{\"outlinewidth\":0,\"ticks\":\"\"}},\"type\":\"scattermapbox\"}],\"scatterpolargl\":[{\"marker\":{\"colorbar\":{\"outlinewidth\":0,\"ticks\":\"\"}},\"type\":\"scatterpolargl\"}],\"scatterpolar\":[{\"marker\":{\"colorbar\":{\"outlinewidth\":0,\"ticks\":\"\"}},\"type\":\"scatterpolar\"}],\"scatter\":[{\"fillpattern\":{\"fillmode\":\"overlay\",\"size\":10,\"solidity\":0.2},\"type\":\"scatter\"}],\"scatterternary\":[{\"marker\":{\"colorbar\":{\"outlinewidth\":0,\"ticks\":\"\"}},\"type\":\"scatterternary\"}],\"surface\":[{\"colorbar\":{\"outlinewidth\":0,\"ticks\":\"\"},\"colorscale\":[[0.0,\"#0d0887\"],[0.1111111111111111,\"#46039f\"],[0.2222222222222222,\"#7201a8\"],[0.3333333333333333,\"#9c179e\"],[0.4444444444444444,\"#bd3786\"],[0.5555555555555556,\"#d8576b\"],[0.6666666666666666,\"#ed7953\"],[0.7777777777777778,\"#fb9f3a\"],[0.8888888888888888,\"#fdca26\"],[1.0,\"#f0f921\"]],\"type\":\"surface\"}],\"table\":[{\"cells\":{\"fill\":{\"color\":\"#EBF0F8\"},\"line\":{\"color\":\"white\"}},\"header\":{\"fill\":{\"color\":\"#C8D4E3\"},\"line\":{\"color\":\"white\"}},\"type\":\"table\"}]},\"layout\":{\"annotationdefaults\":{\"arrowcolor\":\"#2a3f5f\",\"arrowhead\":0,\"arrowwidth\":1},\"autotypenumbers\":\"strict\",\"coloraxis\":{\"colorbar\":{\"outlinewidth\":0,\"ticks\":\"\"}},\"colorscale\":{\"diverging\":[[0,\"#8e0152\"],[0.1,\"#c51b7d\"],[0.2,\"#de77ae\"],[0.3,\"#f1b6da\"],[0.4,\"#fde0ef\"],[0.5,\"#f7f7f7\"],[0.6,\"#e6f5d0\"],[0.7,\"#b8e186\"],[0.8,\"#7fbc41\"],[0.9,\"#4d9221\"],[1,\"#276419\"]],\"sequential\":[[0.0,\"#0d0887\"],[0.1111111111111111,\"#46039f\"],[0.2222222222222222,\"#7201a8\"],[0.3333333333333333,\"#9c179e\"],[0.4444444444444444,\"#bd3786\"],[0.5555555555555556,\"#d8576b\"],[0.6666666666666666,\"#ed7953\"],[0.7777777777777778,\"#fb9f3a\"],[0.8888888888888888,\"#fdca26\"],[1.0,\"#f0f921\"]],\"sequentialminus\":[[0.0,\"#0d0887\"],[0.1111111111111111,\"#46039f\"],[0.2222222222222222,\"#7201a8\"],[0.3333333333333333,\"#9c179e\"],[0.4444444444444444,\"#bd3786\"],[0.5555555555555556,\"#d8576b\"],[0.6666666666666666,\"#ed7953\"],[0.7777777777777778,\"#fb9f3a\"],[0.8888888888888888,\"#fdca26\"],[1.0,\"#f0f921\"]]},\"colorway\":[\"#636efa\",\"#EF553B\",\"#00cc96\",\"#ab63fa\",\"#FFA15A\",\"#19d3f3\",\"#FF6692\",\"#B6E880\",\"#FF97FF\",\"#FECB52\"],\"font\":{\"color\":\"#2a3f5f\"},\"geo\":{\"bgcolor\":\"white\",\"lakecolor\":\"white\",\"landcolor\":\"#E5ECF6\",\"showlakes\":true,\"showland\":true,\"subunitcolor\":\"white\"},\"hoverlabel\":{\"align\":\"left\"},\"hovermode\":\"closest\",\"mapbox\":{\"style\":\"light\"},\"paper_bgcolor\":\"white\",\"plot_bgcolor\":\"#E5ECF6\",\"polar\":{\"angularaxis\":{\"gridcolor\":\"white\",\"linecolor\":\"white\",\"ticks\":\"\"},\"bgcolor\":\"#E5ECF6\",\"radialaxis\":{\"gridcolor\":\"white\",\"linecolor\":\"white\",\"ticks\":\"\"}},\"scene\":{\"xaxis\":{\"backgroundcolor\":\"#E5ECF6\",\"gridcolor\":\"white\",\"gridwidth\":2,\"linecolor\":\"white\",\"showbackground\":true,\"ticks\":\"\",\"zerolinecolor\":\"white\"},\"yaxis\":{\"backgroundcolor\":\"#E5ECF6\",\"gridcolor\":\"white\",\"gridwidth\":2,\"linecolor\":\"white\",\"showbackground\":true,\"ticks\":\"\",\"zerolinecolor\":\"white\"},\"zaxis\":{\"backgroundcolor\":\"#E5ECF6\",\"gridcolor\":\"white\",\"gridwidth\":2,\"linecolor\":\"white\",\"showbackground\":true,\"ticks\":\"\",\"zerolinecolor\":\"white\"}},\"shapedefaults\":{\"line\":{\"color\":\"#2a3f5f\"}},\"ternary\":{\"aaxis\":{\"gridcolor\":\"white\",\"linecolor\":\"white\",\"ticks\":\"\"},\"baxis\":{\"gridcolor\":\"white\",\"linecolor\":\"white\",\"ticks\":\"\"},\"bgcolor\":\"#E5ECF6\",\"caxis\":{\"gridcolor\":\"white\",\"linecolor\":\"white\",\"ticks\":\"\"}},\"title\":{\"x\":0.05},\"xaxis\":{\"automargin\":true,\"gridcolor\":\"white\",\"linecolor\":\"white\",\"ticks\":\"\",\"title\":{\"standoff\":15},\"zerolinecolor\":\"white\",\"zerolinewidth\":2},\"yaxis\":{\"automargin\":true,\"gridcolor\":\"white\",\"linecolor\":\"white\",\"ticks\":\"\",\"title\":{\"standoff\":15},\"zerolinecolor\":\"white\",\"zerolinewidth\":2}}},\"title\":{\"font\":{\"color\":\"#4D5663\"}},\"xaxis\":{\"gridcolor\":\"#E1E5ED\",\"showgrid\":true,\"tickfont\":{\"color\":\"#4D5663\"},\"title\":{\"font\":{\"color\":\"#4D5663\"},\"text\":\"\"},\"zerolinecolor\":\"#E1E5ED\"},\"yaxis\":{\"gridcolor\":\"#E1E5ED\",\"showgrid\":true,\"tickfont\":{\"color\":\"#4D5663\"},\"title\":{\"font\":{\"color\":\"#4D5663\"},\"text\":\"\"},\"zerolinecolor\":\"#E1E5ED\"}},                        {\"showLink\": true, \"linkText\": \"Export to plot.ly\", \"plotlyServerURL\": \"https://plot.ly\", \"responsive\": true}                    ).then(function(){\n",
       "                            \n",
       "var gd = document.getElementById('f791347e-f223-4d40-a17c-62fba23e6a8d');\n",
       "var x = new MutationObserver(function (mutations, observer) {{\n",
       "        var display = window.getComputedStyle(gd).display;\n",
       "        if (!display || display === 'none') {{\n",
       "            console.log([gd, 'removed!']);\n",
       "            Plotly.purge(gd);\n",
       "            observer.disconnect();\n",
       "        }}\n",
       "}});\n",
       "\n",
       "// Listen for the removal of the full notebook cells\n",
       "var notebookContainer = gd.closest('#notebook-container');\n",
       "if (notebookContainer) {{\n",
       "    x.observe(notebookContainer, {childList: true});\n",
       "}}\n",
       "\n",
       "// Listen for the clearing of the current output cell\n",
       "var outputEl = gd.closest('.output');\n",
       "if (outputEl) {{\n",
       "    x.observe(outputEl, {childList: true});\n",
       "}}\n",
       "\n",
       "                        })                };                });            </script>        </div>"
      ]
     },
     "metadata": {},
     "output_type": "display_data"
    }
   ],
   "source": [
    "df3.iplot(kind='surface',colorscale='rdylbu')"
   ]
  },
  {
   "cell_type": "code",
   "execution_count": 19,
   "id": "5af6e8f8-6dde-4c7d-b659-bab8300be77b",
   "metadata": {},
   "outputs": [
    {
     "data": {
      "application/vnd.plotly.v1+json": {
       "config": {
        "linkText": "Export to plot.ly",
        "plotlyServerURL": "https://plot.ly",
        "showLink": true
       },
       "data": [
        {
         "histfunc": "count",
         "histnorm": "",
         "marker": {
          "color": "rgba(255, 153, 51, 1.0)",
          "line": {
           "color": "#4D5663",
           "width": 1.3
          }
         },
         "name": "John",
         "opacity": 0.8,
         "orientation": "v",
         "type": "histogram",
         "x": [
          0.019642646998532538,
          0.5102977624801204,
          0.24449280881659421,
          -0.09964374543098901,
          -0.8336301504091984,
          0.7633960938278734,
          0.008888279313414483,
          -0.04559506706851624,
          0.1928875749925488,
          0.03414630485056338,
          0.7264465808915783,
          1.0658884808652351,
          0.38523365088508876,
          1.5124214398730913,
          -1.6377485347546827,
          -0.7010980666045677,
          0.45739260615720606,
          0.4876140496185153,
          -1.0773443173458792,
          0.1156850759183294,
          -1.7276705506695154,
          -0.7605787719199244,
          -1.0185765341213795,
          -0.6973825682764789,
          0.6891443271530647,
          0.2866451570554162,
          -0.6019547431882285,
          1.0946069931759237,
          -0.25809283296644064,
          0.3711605045232904,
          2.016529005040461,
          1.4362079476882181,
          -1.8065697572276622,
          0.41709344375999546,
          -0.952273483938806,
          -0.33790763860390516,
          1.4653354860476666,
          -1.0364187829767437,
          -0.5958291555412103,
          -0.9095925468162066,
          -0.03443570936609096,
          0.41796253085085777,
          0.4985597267149191,
          1.256230814302931,
          0.3041815809519573,
          -0.7314944255391029,
          0.1347390648641512,
          0.36668711521731945,
          -1.345745456849986,
          -0.3024870212580657,
          0.38946023142969144,
          -2.2080623777024857,
          0.14690798112419792,
          -0.10214577252644914,
          -0.7558190914775792,
          1.636096524673409,
          -0.9350054629918986,
          -0.834717261048946,
          0.9042211849377907,
          -0.970097819261639,
          0.08302084353049828,
          0.122533351733746,
          -0.5668598556840447,
          1.2122897430202741,
          -0.2628230583023596,
          -1.319033630348968,
          -1.2725064526718661,
          2.0358158967569318,
          -0.8468257533048923,
          1.4882729870233895,
          -1.2205022462300505,
          -0.05757188230792311,
          1.367768040891796,
          -0.19921297667841037,
          0.4697389292048797,
          -1.3381417318782258,
          0.6524847805507301,
          -1.7994321764509653,
          -1.077881485573476,
          -1.3625099426155498,
          0.045648147491829216,
          0.563618810148228,
          -0.4786892358293386,
          0.47606615646569794,
          -0.8543313928147953,
          0.0925095317870382,
          -0.21597284215262857,
          0.4834183462334682,
          -0.9360044456206287,
          -0.6269954947934127,
          2.1712068293506985,
          0.016129286645642983,
          -0.8759971648778004,
          1.1406389788304063,
          -1.500404007263379,
          0.4829784953373957,
          1.5084272190275951,
          -1.9175664929088536,
          -0.7413752267077025,
          -0.13980204256336462
         ]
        },
        {
         "histfunc": "count",
         "histnorm": "",
         "marker": {
          "color": "rgba(55, 128, 191, 1.0)",
          "line": {
           "color": "#4D5663",
           "width": 1.3
          }
         },
         "name": "Doe",
         "opacity": 0.8,
         "orientation": "v",
         "type": "histogram",
         "x": [
          0.18932288313259496,
          1.3281660265941044,
          0.08260420682700166,
          0.19766344985332351,
          -1.3519755938004667,
          0.7152547986319213,
          2.1061290065425045,
          -0.4536884731298851,
          -1.314290670147277,
          1.2162156869830907,
          0.38627757098814897,
          1.0778958970219656,
          1.0172005524466166,
          -0.8363987977283873,
          0.6219718214710519,
          -0.10941421275248397,
          0.1834145301165497,
          1.6905631473724685,
          0.2830379714000602,
          0.8209176571110884,
          0.2712601644922478,
          2.6709808829839905,
          -0.038019966272632134,
          -0.800964216187689,
          -0.9772594874158484,
          -0.9996924316330814,
          0.6757843694951967,
          -0.9172910777638664,
          0.21534798195889704,
          -0.6649356062395503,
          -1.2190835483281803,
          1.6237785328878958,
          -0.17059875405261618,
          0.5863516626635352,
          -0.10759342108696314,
          -0.593705778613284,
          0.8306281292382299,
          2.1589815543497193,
          -1.0911341602641766,
          -0.40761643718218465,
          -2.383684095369639,
          0.009333505772728184,
          0.08093342989807364,
          -0.33071099419622413,
          -0.26004567740817947,
          -0.06395831153582572,
          -0.5989402137637061,
          -0.6142660522286667,
          -2.1372805837605546,
          1.5015600737392012,
          -1.4841755895742048,
          -0.4063083689229514,
          -1.4867589787693356,
          -0.7562643323620777,
          0.4865696831994064,
          -0.6436237599111508,
          -0.05723995074100056,
          0.41887052392231416,
          0.3141993864196437,
          -0.24322500286511342,
          0.7610647654161666,
          -0.5576576400296814,
          -0.01206385658904262,
          -0.9750812100109979,
          0.684081164985671,
          -1.5261851048875195,
          0.37714545839915764,
          -0.8713897574661608,
          -0.2241657499226878,
          -0.6870427813507797,
          -0.47336276072954436,
          0.26368992576199496,
          -0.20034751046151145,
          0.45876070741422004,
          -0.16879611580477616,
          1.576773398907753,
          0.30704353862755446,
          -0.4911660185041354,
          0.6111210148978148,
          -2.213938060785341,
          0.020347578904885685,
          -0.5256163213064886,
          -1.693539773930717,
          -0.2737625049855568,
          1.1277007342060812,
          -0.4849370930878959,
          -0.5219300157008511,
          -1.112720153303619,
          1.4405568615058983,
          -1.7859008692500788,
          1.2443992275160747,
          -0.3448053249356195,
          -1.1315614753988137,
          0.40563336698552666,
          0.4595262640725895,
          -0.5381022646055008,
          -0.5132149097842915,
          -0.31065608999022215,
          0.8944689282816258,
          -0.5132298585680108
         ]
        },
        {
         "histfunc": "count",
         "histnorm": "",
         "marker": {
          "color": "rgba(50, 171, 96, 1.0)",
          "line": {
           "color": "#4D5663",
           "width": 1.3
          }
         },
         "name": "Jane",
         "opacity": 0.8,
         "orientation": "v",
         "type": "histogram",
         "x": [
          0.020344460919605414,
          0.3462067161994248,
          0.17475916773203,
          1.5090626015195374,
          -0.4122208025818858,
          1.325337250095666,
          1.029866726130267,
          0.35064166507739725,
          0.9018799479323362,
          0.5046379467013828,
          0.534879942562968,
          0.10842387462848369,
          0.588422036103608,
          -0.01982207886584693,
          -0.6602670412667222,
          2.0594232095291405,
          -1.0664536958778772,
          0.9971590272421421,
          -0.419793450722026,
          -0.2868524725708644,
          1.5868280287464456,
          1.3642100845066147,
          0.4340492999209859,
          0.45187959111753234,
          0.7078472047688987,
          0.09622795159705001,
          -1.1278129617893926,
          0.9977539884117823,
          0.3898509544393391,
          -1.4453076915556564,
          -1.576959872160643,
          -1.7046069712375977,
          -0.9231990158881069,
          -1.539771719932798,
          0.1566058015997379,
          0.9036201624310277,
          0.40922130611714763,
          -0.614293801940151,
          -0.6273421217949555,
          1.2278507854586656,
          -0.6407675535419343,
          0.6540944755362336,
          0.7604357209718133,
          -1.5958031294720738,
          0.6384119218048553,
          1.6936312784352094,
          0.027377691105506207,
          0.5974207515989416,
          0.9732777312488076,
          -0.7983686208973904,
          -0.45929109595605755,
          0.42291223822053114,
          -0.3962140944152771,
          -2.0538570270466128,
          0.8055831452517226,
          0.08283220045954048,
          -2.0530799664162123,
          0.99407542444314,
          -0.6081559207174255,
          -0.6100039706517446,
          -0.059202928282162136,
          0.7638558716751972,
          1.5591072081500168,
          0.1407648608438338,
          0.1305287174305653,
          -0.24890282654787316,
          0.1960182491909555,
          -0.7395354388428351,
          -0.4900693987853215,
          -0.5829714807721302,
          0.4102840775139383,
          -0.8148124122744025,
          -0.0925608094388613,
          0.28783455859141643,
          -0.14238079545525237,
          -0.6251148156843083,
          0.6926933942593309,
          1.1229363887483916,
          -0.3104205138275535,
          1.2285728076630065,
          0.7072976367701932,
          -0.451354424910134,
          0.8305601329639444,
          1.6559291353284744,
          -0.331227360650665,
          0.45302812066839865,
          -0.4871842256267353,
          -2.0964124991912985,
          -0.6806087424626511,
          0.058105948903216506,
          3.202042974898475,
          -0.7410960417431232,
          0.18837589717535844,
          -0.31757443030843835,
          -0.09035881966556931,
          -0.8820890438553275,
          -0.357131255166717,
          0.006772012697767498,
          0.10935341583295807,
          1.359680187829212
         ]
        },
        {
         "histfunc": "count",
         "histnorm": "",
         "marker": {
          "color": "rgba(128, 0, 128, 1.0)",
          "line": {
           "color": "#4D5663",
           "width": 1.3
          }
         },
         "name": "Alice",
         "opacity": 0.8,
         "orientation": "v",
         "type": "histogram",
         "x": [
          0.24937027334314316,
          -1.291424215603698,
          -0.4884012392345033,
          0.9532605534879363,
          2.3477005384206446,
          -1.0144239588546686,
          0.977099564603622,
          0.6168188802196694,
          -0.47560848458068333,
          0.8824737194957732,
          -1.4446977790153614,
          0.12627289529585273,
          0.24452288567558209,
          1.4803110759003795,
          1.8756290628133423,
          1.508162373590915,
          1.599052533345483,
          0.2618922581459752,
          2.12104217913582,
          0.808950397331336,
          -1.109094108308861,
          1.602083088917013,
          1.5768855759488984,
          1.005546370581314,
          -0.028537663788296124,
          -0.9521565165466842,
          -0.2694289632388691,
          0.33914099158362493,
          1.4848879735793097,
          -0.15952953831767577,
          0.5182428314779433,
          1.1493720658921305,
          0.30439104363373704,
          2.205722994703418,
          -0.9470086306875309,
          1.177834410972747,
          -0.9282409641187047,
          -1.1566182571832813,
          -0.5294052252444668,
          0.902653589829433,
          1.483146465740587,
          0.03747260476148352,
          -1.9110923237948987,
          -0.6612479030226804,
          0.5060241559272375,
          -1.7917820122316197,
          -0.4334998009209104,
          -1.6900226944935148,
          0.32390106016061765,
          -1.7753081467012586,
          1.7314152310140727,
          1.105940310866183,
          1.1211825454639375,
          -1.6068916682728345,
          -0.720547522323849,
          0.18068597517981844,
          -1.955738411816919,
          0.6726488254609667,
          0.5008582854675393,
          -0.6348169547283224,
          0.7258906936858436,
          -1.6280533559714265,
          -0.8452387063567807,
          -1.3127124095500966,
          1.4963497910833603,
          -0.27598207528628477,
          -0.22898495696167098,
          3.2675260228973384,
          -0.1862118745000819,
          0.352276323220306,
          0.29507517067968014,
          -0.3942808789972401,
          1.0284427652707993,
          1.2898001084397912,
          0.7705846439237007,
          -0.07355561105383403,
          -0.8449567375803194,
          -0.2530211972433086,
          -0.554226570610661,
          1.3099790240284408,
          -1.4976695060801464,
          -0.584939513569232,
          1.5641595185858919,
          1.018081520470552,
          1.4032815131925347,
          -0.6098160950068922,
          1.7619258459944727,
          -0.10746200784864435,
          -1.5375281243471617,
          -1.922579834123578,
          -0.8169181127599872,
          -0.0786697122584202,
          0.7677043271127714,
          0.33516517396777745,
          0.08496112422441039,
          0.09309029552920575,
          0.774275523501191,
          0.6168438544923766,
          -0.762326463653972,
          -0.7329996342331008
         ]
        }
       ],
       "layout": {
        "barmode": "overlay",
        "legend": {
         "bgcolor": "#F5F6F9",
         "font": {
          "color": "#4D5663"
         }
        },
        "paper_bgcolor": "#F5F6F9",
        "plot_bgcolor": "#F5F6F9",
        "template": {
         "data": {
          "bar": [
           {
            "error_x": {
             "color": "#2a3f5f"
            },
            "error_y": {
             "color": "#2a3f5f"
            },
            "marker": {
             "line": {
              "color": "#E5ECF6",
              "width": 0.5
             },
             "pattern": {
              "fillmode": "overlay",
              "size": 10,
              "solidity": 0.2
             }
            },
            "type": "bar"
           }
          ],
          "barpolar": [
           {
            "marker": {
             "line": {
              "color": "#E5ECF6",
              "width": 0.5
             },
             "pattern": {
              "fillmode": "overlay",
              "size": 10,
              "solidity": 0.2
             }
            },
            "type": "barpolar"
           }
          ],
          "carpet": [
           {
            "aaxis": {
             "endlinecolor": "#2a3f5f",
             "gridcolor": "white",
             "linecolor": "white",
             "minorgridcolor": "white",
             "startlinecolor": "#2a3f5f"
            },
            "baxis": {
             "endlinecolor": "#2a3f5f",
             "gridcolor": "white",
             "linecolor": "white",
             "minorgridcolor": "white",
             "startlinecolor": "#2a3f5f"
            },
            "type": "carpet"
           }
          ],
          "choropleth": [
           {
            "colorbar": {
             "outlinewidth": 0,
             "ticks": ""
            },
            "type": "choropleth"
           }
          ],
          "contour": [
           {
            "colorbar": {
             "outlinewidth": 0,
             "ticks": ""
            },
            "colorscale": [
             [
              0,
              "#0d0887"
             ],
             [
              0.1111111111111111,
              "#46039f"
             ],
             [
              0.2222222222222222,
              "#7201a8"
             ],
             [
              0.3333333333333333,
              "#9c179e"
             ],
             [
              0.4444444444444444,
              "#bd3786"
             ],
             [
              0.5555555555555556,
              "#d8576b"
             ],
             [
              0.6666666666666666,
              "#ed7953"
             ],
             [
              0.7777777777777778,
              "#fb9f3a"
             ],
             [
              0.8888888888888888,
              "#fdca26"
             ],
             [
              1,
              "#f0f921"
             ]
            ],
            "type": "contour"
           }
          ],
          "contourcarpet": [
           {
            "colorbar": {
             "outlinewidth": 0,
             "ticks": ""
            },
            "type": "contourcarpet"
           }
          ],
          "heatmap": [
           {
            "colorbar": {
             "outlinewidth": 0,
             "ticks": ""
            },
            "colorscale": [
             [
              0,
              "#0d0887"
             ],
             [
              0.1111111111111111,
              "#46039f"
             ],
             [
              0.2222222222222222,
              "#7201a8"
             ],
             [
              0.3333333333333333,
              "#9c179e"
             ],
             [
              0.4444444444444444,
              "#bd3786"
             ],
             [
              0.5555555555555556,
              "#d8576b"
             ],
             [
              0.6666666666666666,
              "#ed7953"
             ],
             [
              0.7777777777777778,
              "#fb9f3a"
             ],
             [
              0.8888888888888888,
              "#fdca26"
             ],
             [
              1,
              "#f0f921"
             ]
            ],
            "type": "heatmap"
           }
          ],
          "heatmapgl": [
           {
            "colorbar": {
             "outlinewidth": 0,
             "ticks": ""
            },
            "colorscale": [
             [
              0,
              "#0d0887"
             ],
             [
              0.1111111111111111,
              "#46039f"
             ],
             [
              0.2222222222222222,
              "#7201a8"
             ],
             [
              0.3333333333333333,
              "#9c179e"
             ],
             [
              0.4444444444444444,
              "#bd3786"
             ],
             [
              0.5555555555555556,
              "#d8576b"
             ],
             [
              0.6666666666666666,
              "#ed7953"
             ],
             [
              0.7777777777777778,
              "#fb9f3a"
             ],
             [
              0.8888888888888888,
              "#fdca26"
             ],
             [
              1,
              "#f0f921"
             ]
            ],
            "type": "heatmapgl"
           }
          ],
          "histogram": [
           {
            "marker": {
             "pattern": {
              "fillmode": "overlay",
              "size": 10,
              "solidity": 0.2
             }
            },
            "type": "histogram"
           }
          ],
          "histogram2d": [
           {
            "colorbar": {
             "outlinewidth": 0,
             "ticks": ""
            },
            "colorscale": [
             [
              0,
              "#0d0887"
             ],
             [
              0.1111111111111111,
              "#46039f"
             ],
             [
              0.2222222222222222,
              "#7201a8"
             ],
             [
              0.3333333333333333,
              "#9c179e"
             ],
             [
              0.4444444444444444,
              "#bd3786"
             ],
             [
              0.5555555555555556,
              "#d8576b"
             ],
             [
              0.6666666666666666,
              "#ed7953"
             ],
             [
              0.7777777777777778,
              "#fb9f3a"
             ],
             [
              0.8888888888888888,
              "#fdca26"
             ],
             [
              1,
              "#f0f921"
             ]
            ],
            "type": "histogram2d"
           }
          ],
          "histogram2dcontour": [
           {
            "colorbar": {
             "outlinewidth": 0,
             "ticks": ""
            },
            "colorscale": [
             [
              0,
              "#0d0887"
             ],
             [
              0.1111111111111111,
              "#46039f"
             ],
             [
              0.2222222222222222,
              "#7201a8"
             ],
             [
              0.3333333333333333,
              "#9c179e"
             ],
             [
              0.4444444444444444,
              "#bd3786"
             ],
             [
              0.5555555555555556,
              "#d8576b"
             ],
             [
              0.6666666666666666,
              "#ed7953"
             ],
             [
              0.7777777777777778,
              "#fb9f3a"
             ],
             [
              0.8888888888888888,
              "#fdca26"
             ],
             [
              1,
              "#f0f921"
             ]
            ],
            "type": "histogram2dcontour"
           }
          ],
          "mesh3d": [
           {
            "colorbar": {
             "outlinewidth": 0,
             "ticks": ""
            },
            "type": "mesh3d"
           }
          ],
          "parcoords": [
           {
            "line": {
             "colorbar": {
              "outlinewidth": 0,
              "ticks": ""
             }
            },
            "type": "parcoords"
           }
          ],
          "pie": [
           {
            "automargin": true,
            "type": "pie"
           }
          ],
          "scatter": [
           {
            "fillpattern": {
             "fillmode": "overlay",
             "size": 10,
             "solidity": 0.2
            },
            "type": "scatter"
           }
          ],
          "scatter3d": [
           {
            "line": {
             "colorbar": {
              "outlinewidth": 0,
              "ticks": ""
             }
            },
            "marker": {
             "colorbar": {
              "outlinewidth": 0,
              "ticks": ""
             }
            },
            "type": "scatter3d"
           }
          ],
          "scattercarpet": [
           {
            "marker": {
             "colorbar": {
              "outlinewidth": 0,
              "ticks": ""
             }
            },
            "type": "scattercarpet"
           }
          ],
          "scattergeo": [
           {
            "marker": {
             "colorbar": {
              "outlinewidth": 0,
              "ticks": ""
             }
            },
            "type": "scattergeo"
           }
          ],
          "scattergl": [
           {
            "marker": {
             "colorbar": {
              "outlinewidth": 0,
              "ticks": ""
             }
            },
            "type": "scattergl"
           }
          ],
          "scattermapbox": [
           {
            "marker": {
             "colorbar": {
              "outlinewidth": 0,
              "ticks": ""
             }
            },
            "type": "scattermapbox"
           }
          ],
          "scatterpolar": [
           {
            "marker": {
             "colorbar": {
              "outlinewidth": 0,
              "ticks": ""
             }
            },
            "type": "scatterpolar"
           }
          ],
          "scatterpolargl": [
           {
            "marker": {
             "colorbar": {
              "outlinewidth": 0,
              "ticks": ""
             }
            },
            "type": "scatterpolargl"
           }
          ],
          "scatterternary": [
           {
            "marker": {
             "colorbar": {
              "outlinewidth": 0,
              "ticks": ""
             }
            },
            "type": "scatterternary"
           }
          ],
          "surface": [
           {
            "colorbar": {
             "outlinewidth": 0,
             "ticks": ""
            },
            "colorscale": [
             [
              0,
              "#0d0887"
             ],
             [
              0.1111111111111111,
              "#46039f"
             ],
             [
              0.2222222222222222,
              "#7201a8"
             ],
             [
              0.3333333333333333,
              "#9c179e"
             ],
             [
              0.4444444444444444,
              "#bd3786"
             ],
             [
              0.5555555555555556,
              "#d8576b"
             ],
             [
              0.6666666666666666,
              "#ed7953"
             ],
             [
              0.7777777777777778,
              "#fb9f3a"
             ],
             [
              0.8888888888888888,
              "#fdca26"
             ],
             [
              1,
              "#f0f921"
             ]
            ],
            "type": "surface"
           }
          ],
          "table": [
           {
            "cells": {
             "fill": {
              "color": "#EBF0F8"
             },
             "line": {
              "color": "white"
             }
            },
            "header": {
             "fill": {
              "color": "#C8D4E3"
             },
             "line": {
              "color": "white"
             }
            },
            "type": "table"
           }
          ]
         },
         "layout": {
          "annotationdefaults": {
           "arrowcolor": "#2a3f5f",
           "arrowhead": 0,
           "arrowwidth": 1
          },
          "autotypenumbers": "strict",
          "coloraxis": {
           "colorbar": {
            "outlinewidth": 0,
            "ticks": ""
           }
          },
          "colorscale": {
           "diverging": [
            [
             0,
             "#8e0152"
            ],
            [
             0.1,
             "#c51b7d"
            ],
            [
             0.2,
             "#de77ae"
            ],
            [
             0.3,
             "#f1b6da"
            ],
            [
             0.4,
             "#fde0ef"
            ],
            [
             0.5,
             "#f7f7f7"
            ],
            [
             0.6,
             "#e6f5d0"
            ],
            [
             0.7,
             "#b8e186"
            ],
            [
             0.8,
             "#7fbc41"
            ],
            [
             0.9,
             "#4d9221"
            ],
            [
             1,
             "#276419"
            ]
           ],
           "sequential": [
            [
             0,
             "#0d0887"
            ],
            [
             0.1111111111111111,
             "#46039f"
            ],
            [
             0.2222222222222222,
             "#7201a8"
            ],
            [
             0.3333333333333333,
             "#9c179e"
            ],
            [
             0.4444444444444444,
             "#bd3786"
            ],
            [
             0.5555555555555556,
             "#d8576b"
            ],
            [
             0.6666666666666666,
             "#ed7953"
            ],
            [
             0.7777777777777778,
             "#fb9f3a"
            ],
            [
             0.8888888888888888,
             "#fdca26"
            ],
            [
             1,
             "#f0f921"
            ]
           ],
           "sequentialminus": [
            [
             0,
             "#0d0887"
            ],
            [
             0.1111111111111111,
             "#46039f"
            ],
            [
             0.2222222222222222,
             "#7201a8"
            ],
            [
             0.3333333333333333,
             "#9c179e"
            ],
            [
             0.4444444444444444,
             "#bd3786"
            ],
            [
             0.5555555555555556,
             "#d8576b"
            ],
            [
             0.6666666666666666,
             "#ed7953"
            ],
            [
             0.7777777777777778,
             "#fb9f3a"
            ],
            [
             0.8888888888888888,
             "#fdca26"
            ],
            [
             1,
             "#f0f921"
            ]
           ]
          },
          "colorway": [
           "#636efa",
           "#EF553B",
           "#00cc96",
           "#ab63fa",
           "#FFA15A",
           "#19d3f3",
           "#FF6692",
           "#B6E880",
           "#FF97FF",
           "#FECB52"
          ],
          "font": {
           "color": "#2a3f5f"
          },
          "geo": {
           "bgcolor": "white",
           "lakecolor": "white",
           "landcolor": "#E5ECF6",
           "showlakes": true,
           "showland": true,
           "subunitcolor": "white"
          },
          "hoverlabel": {
           "align": "left"
          },
          "hovermode": "closest",
          "mapbox": {
           "style": "light"
          },
          "paper_bgcolor": "white",
          "plot_bgcolor": "#E5ECF6",
          "polar": {
           "angularaxis": {
            "gridcolor": "white",
            "linecolor": "white",
            "ticks": ""
           },
           "bgcolor": "#E5ECF6",
           "radialaxis": {
            "gridcolor": "white",
            "linecolor": "white",
            "ticks": ""
           }
          },
          "scene": {
           "xaxis": {
            "backgroundcolor": "#E5ECF6",
            "gridcolor": "white",
            "gridwidth": 2,
            "linecolor": "white",
            "showbackground": true,
            "ticks": "",
            "zerolinecolor": "white"
           },
           "yaxis": {
            "backgroundcolor": "#E5ECF6",
            "gridcolor": "white",
            "gridwidth": 2,
            "linecolor": "white",
            "showbackground": true,
            "ticks": "",
            "zerolinecolor": "white"
           },
           "zaxis": {
            "backgroundcolor": "#E5ECF6",
            "gridcolor": "white",
            "gridwidth": 2,
            "linecolor": "white",
            "showbackground": true,
            "ticks": "",
            "zerolinecolor": "white"
           }
          },
          "shapedefaults": {
           "line": {
            "color": "#2a3f5f"
           }
          },
          "ternary": {
           "aaxis": {
            "gridcolor": "white",
            "linecolor": "white",
            "ticks": ""
           },
           "baxis": {
            "gridcolor": "white",
            "linecolor": "white",
            "ticks": ""
           },
           "bgcolor": "#E5ECF6",
           "caxis": {
            "gridcolor": "white",
            "linecolor": "white",
            "ticks": ""
           }
          },
          "title": {
           "x": 0.05
          },
          "xaxis": {
           "automargin": true,
           "gridcolor": "white",
           "linecolor": "white",
           "ticks": "",
           "title": {
            "standoff": 15
           },
           "zerolinecolor": "white",
           "zerolinewidth": 2
          },
          "yaxis": {
           "automargin": true,
           "gridcolor": "white",
           "linecolor": "white",
           "ticks": "",
           "title": {
            "standoff": 15
           },
           "zerolinecolor": "white",
           "zerolinewidth": 2
          }
         }
        },
        "title": {
         "font": {
          "color": "#4D5663"
         }
        },
        "xaxis": {
         "gridcolor": "#E1E5ED",
         "showgrid": true,
         "tickfont": {
          "color": "#4D5663"
         },
         "title": {
          "font": {
           "color": "#4D5663"
          },
          "text": ""
         },
         "zerolinecolor": "#E1E5ED"
        },
        "yaxis": {
         "gridcolor": "#E1E5ED",
         "showgrid": true,
         "tickfont": {
          "color": "#4D5663"
         },
         "title": {
          "font": {
           "color": "#4D5663"
          },
          "text": ""
         },
         "zerolinecolor": "#E1E5ED"
        }
       }
      },
      "text/html": [
       "<div>                            <div id=\"043f0d37-f164-4ea4-b702-5811e2e4460d\" class=\"plotly-graph-div\" style=\"height:525px; width:100%;\"></div>            <script type=\"text/javascript\">                require([\"plotly\"], function(Plotly) {                    window.PLOTLYENV=window.PLOTLYENV || {};\n",
       "                    window.PLOTLYENV.BASE_URL='https://plot.ly';                                    if (document.getElementById(\"043f0d37-f164-4ea4-b702-5811e2e4460d\")) {                    Plotly.newPlot(                        \"043f0d37-f164-4ea4-b702-5811e2e4460d\",                        [{\"histfunc\":\"count\",\"histnorm\":\"\",\"marker\":{\"color\":\"rgba(255, 153, 51, 1.0)\",\"line\":{\"color\":\"#4D5663\",\"width\":1.3}},\"name\":\"John\",\"opacity\":0.8,\"orientation\":\"v\",\"x\":[0.019642646998532538,0.5102977624801204,0.24449280881659421,-0.09964374543098901,-0.8336301504091984,0.7633960938278734,0.008888279313414483,-0.04559506706851624,0.1928875749925488,0.03414630485056338,0.7264465808915783,1.0658884808652351,0.38523365088508876,1.5124214398730913,-1.6377485347546827,-0.7010980666045677,0.45739260615720606,0.4876140496185153,-1.0773443173458792,0.1156850759183294,-1.7276705506695154,-0.7605787719199244,-1.0185765341213795,-0.6973825682764789,0.6891443271530647,0.2866451570554162,-0.6019547431882285,1.0946069931759237,-0.25809283296644064,0.3711605045232904,2.016529005040461,1.4362079476882181,-1.8065697572276622,0.41709344375999546,-0.952273483938806,-0.33790763860390516,1.4653354860476666,-1.0364187829767437,-0.5958291555412103,-0.9095925468162066,-0.03443570936609096,0.41796253085085777,0.4985597267149191,1.256230814302931,0.3041815809519573,-0.7314944255391029,0.1347390648641512,0.36668711521731945,-1.345745456849986,-0.3024870212580657,0.38946023142969144,-2.2080623777024857,0.14690798112419792,-0.10214577252644914,-0.7558190914775792,1.636096524673409,-0.9350054629918986,-0.834717261048946,0.9042211849377907,-0.970097819261639,0.08302084353049828,0.122533351733746,-0.5668598556840447,1.2122897430202741,-0.2628230583023596,-1.319033630348968,-1.2725064526718661,2.0358158967569318,-0.8468257533048923,1.4882729870233895,-1.2205022462300505,-0.05757188230792311,1.367768040891796,-0.19921297667841037,0.4697389292048797,-1.3381417318782258,0.6524847805507301,-1.7994321764509653,-1.077881485573476,-1.3625099426155498,0.045648147491829216,0.563618810148228,-0.4786892358293386,0.47606615646569794,-0.8543313928147953,0.0925095317870382,-0.21597284215262857,0.4834183462334682,-0.9360044456206287,-0.6269954947934127,2.1712068293506985,0.016129286645642983,-0.8759971648778004,1.1406389788304063,-1.500404007263379,0.4829784953373957,1.5084272190275951,-1.9175664929088536,-0.7413752267077025,-0.13980204256336462],\"type\":\"histogram\"},{\"histfunc\":\"count\",\"histnorm\":\"\",\"marker\":{\"color\":\"rgba(55, 128, 191, 1.0)\",\"line\":{\"color\":\"#4D5663\",\"width\":1.3}},\"name\":\"Doe\",\"opacity\":0.8,\"orientation\":\"v\",\"x\":[0.18932288313259496,1.3281660265941044,0.08260420682700166,0.19766344985332351,-1.3519755938004667,0.7152547986319213,2.1061290065425045,-0.4536884731298851,-1.314290670147277,1.2162156869830907,0.38627757098814897,1.0778958970219656,1.0172005524466166,-0.8363987977283873,0.6219718214710519,-0.10941421275248397,0.1834145301165497,1.6905631473724685,0.2830379714000602,0.8209176571110884,0.2712601644922478,2.6709808829839905,-0.038019966272632134,-0.800964216187689,-0.9772594874158484,-0.9996924316330814,0.6757843694951967,-0.9172910777638664,0.21534798195889704,-0.6649356062395503,-1.2190835483281803,1.6237785328878958,-0.17059875405261618,0.5863516626635352,-0.10759342108696314,-0.593705778613284,0.8306281292382299,2.1589815543497193,-1.0911341602641766,-0.40761643718218465,-2.383684095369639,0.009333505772728184,0.08093342989807364,-0.33071099419622413,-0.26004567740817947,-0.06395831153582572,-0.5989402137637061,-0.6142660522286667,-2.1372805837605546,1.5015600737392012,-1.4841755895742048,-0.4063083689229514,-1.4867589787693356,-0.7562643323620777,0.4865696831994064,-0.6436237599111508,-0.05723995074100056,0.41887052392231416,0.3141993864196437,-0.24322500286511342,0.7610647654161666,-0.5576576400296814,-0.01206385658904262,-0.9750812100109979,0.684081164985671,-1.5261851048875195,0.37714545839915764,-0.8713897574661608,-0.2241657499226878,-0.6870427813507797,-0.47336276072954436,0.26368992576199496,-0.20034751046151145,0.45876070741422004,-0.16879611580477616,1.576773398907753,0.30704353862755446,-0.4911660185041354,0.6111210148978148,-2.213938060785341,0.020347578904885685,-0.5256163213064886,-1.693539773930717,-0.2737625049855568,1.1277007342060812,-0.4849370930878959,-0.5219300157008511,-1.112720153303619,1.4405568615058983,-1.7859008692500788,1.2443992275160747,-0.3448053249356195,-1.1315614753988137,0.40563336698552666,0.4595262640725895,-0.5381022646055008,-0.5132149097842915,-0.31065608999022215,0.8944689282816258,-0.5132298585680108],\"type\":\"histogram\"},{\"histfunc\":\"count\",\"histnorm\":\"\",\"marker\":{\"color\":\"rgba(50, 171, 96, 1.0)\",\"line\":{\"color\":\"#4D5663\",\"width\":1.3}},\"name\":\"Jane\",\"opacity\":0.8,\"orientation\":\"v\",\"x\":[0.020344460919605414,0.3462067161994248,0.17475916773203,1.5090626015195374,-0.4122208025818858,1.325337250095666,1.029866726130267,0.35064166507739725,0.9018799479323362,0.5046379467013828,0.534879942562968,0.10842387462848369,0.588422036103608,-0.01982207886584693,-0.6602670412667222,2.0594232095291405,-1.0664536958778772,0.9971590272421421,-0.419793450722026,-0.2868524725708644,1.5868280287464456,1.3642100845066147,0.4340492999209859,0.45187959111753234,0.7078472047688987,0.09622795159705001,-1.1278129617893926,0.9977539884117823,0.3898509544393391,-1.4453076915556564,-1.576959872160643,-1.7046069712375977,-0.9231990158881069,-1.539771719932798,0.1566058015997379,0.9036201624310277,0.40922130611714763,-0.614293801940151,-0.6273421217949555,1.2278507854586656,-0.6407675535419343,0.6540944755362336,0.7604357209718133,-1.5958031294720738,0.6384119218048553,1.6936312784352094,0.027377691105506207,0.5974207515989416,0.9732777312488076,-0.7983686208973904,-0.45929109595605755,0.42291223822053114,-0.3962140944152771,-2.0538570270466128,0.8055831452517226,0.08283220045954048,-2.0530799664162123,0.99407542444314,-0.6081559207174255,-0.6100039706517446,-0.059202928282162136,0.7638558716751972,1.5591072081500168,0.1407648608438338,0.1305287174305653,-0.24890282654787316,0.1960182491909555,-0.7395354388428351,-0.4900693987853215,-0.5829714807721302,0.4102840775139383,-0.8148124122744025,-0.0925608094388613,0.28783455859141643,-0.14238079545525237,-0.6251148156843083,0.6926933942593309,1.1229363887483916,-0.3104205138275535,1.2285728076630065,0.7072976367701932,-0.451354424910134,0.8305601329639444,1.6559291353284744,-0.331227360650665,0.45302812066839865,-0.4871842256267353,-2.0964124991912985,-0.6806087424626511,0.058105948903216506,3.202042974898475,-0.7410960417431232,0.18837589717535844,-0.31757443030843835,-0.09035881966556931,-0.8820890438553275,-0.357131255166717,0.006772012697767498,0.10935341583295807,1.359680187829212],\"type\":\"histogram\"},{\"histfunc\":\"count\",\"histnorm\":\"\",\"marker\":{\"color\":\"rgba(128, 0, 128, 1.0)\",\"line\":{\"color\":\"#4D5663\",\"width\":1.3}},\"name\":\"Alice\",\"opacity\":0.8,\"orientation\":\"v\",\"x\":[0.24937027334314316,-1.291424215603698,-0.4884012392345033,0.9532605534879363,2.3477005384206446,-1.0144239588546686,0.977099564603622,0.6168188802196694,-0.47560848458068333,0.8824737194957732,-1.4446977790153614,0.12627289529585273,0.24452288567558209,1.4803110759003795,1.8756290628133423,1.508162373590915,1.599052533345483,0.2618922581459752,2.12104217913582,0.808950397331336,-1.109094108308861,1.602083088917013,1.5768855759488984,1.005546370581314,-0.028537663788296124,-0.9521565165466842,-0.2694289632388691,0.33914099158362493,1.4848879735793097,-0.15952953831767577,0.5182428314779433,1.1493720658921305,0.30439104363373704,2.205722994703418,-0.9470086306875309,1.177834410972747,-0.9282409641187047,-1.1566182571832813,-0.5294052252444668,0.902653589829433,1.483146465740587,0.03747260476148352,-1.9110923237948987,-0.6612479030226804,0.5060241559272375,-1.7917820122316197,-0.4334998009209104,-1.6900226944935148,0.32390106016061765,-1.7753081467012586,1.7314152310140727,1.105940310866183,1.1211825454639375,-1.6068916682728345,-0.720547522323849,0.18068597517981844,-1.955738411816919,0.6726488254609667,0.5008582854675393,-0.6348169547283224,0.7258906936858436,-1.6280533559714265,-0.8452387063567807,-1.3127124095500966,1.4963497910833603,-0.27598207528628477,-0.22898495696167098,3.2675260228973384,-0.1862118745000819,0.352276323220306,0.29507517067968014,-0.3942808789972401,1.0284427652707993,1.2898001084397912,0.7705846439237007,-0.07355561105383403,-0.8449567375803194,-0.2530211972433086,-0.554226570610661,1.3099790240284408,-1.4976695060801464,-0.584939513569232,1.5641595185858919,1.018081520470552,1.4032815131925347,-0.6098160950068922,1.7619258459944727,-0.10746200784864435,-1.5375281243471617,-1.922579834123578,-0.8169181127599872,-0.0786697122584202,0.7677043271127714,0.33516517396777745,0.08496112422441039,0.09309029552920575,0.774275523501191,0.6168438544923766,-0.762326463653972,-0.7329996342331008],\"type\":\"histogram\"}],                        {\"barmode\":\"overlay\",\"legend\":{\"bgcolor\":\"#F5F6F9\",\"font\":{\"color\":\"#4D5663\"}},\"paper_bgcolor\":\"#F5F6F9\",\"plot_bgcolor\":\"#F5F6F9\",\"template\":{\"data\":{\"barpolar\":[{\"marker\":{\"line\":{\"color\":\"#E5ECF6\",\"width\":0.5},\"pattern\":{\"fillmode\":\"overlay\",\"size\":10,\"solidity\":0.2}},\"type\":\"barpolar\"}],\"bar\":[{\"error_x\":{\"color\":\"#2a3f5f\"},\"error_y\":{\"color\":\"#2a3f5f\"},\"marker\":{\"line\":{\"color\":\"#E5ECF6\",\"width\":0.5},\"pattern\":{\"fillmode\":\"overlay\",\"size\":10,\"solidity\":0.2}},\"type\":\"bar\"}],\"carpet\":[{\"aaxis\":{\"endlinecolor\":\"#2a3f5f\",\"gridcolor\":\"white\",\"linecolor\":\"white\",\"minorgridcolor\":\"white\",\"startlinecolor\":\"#2a3f5f\"},\"baxis\":{\"endlinecolor\":\"#2a3f5f\",\"gridcolor\":\"white\",\"linecolor\":\"white\",\"minorgridcolor\":\"white\",\"startlinecolor\":\"#2a3f5f\"},\"type\":\"carpet\"}],\"choropleth\":[{\"colorbar\":{\"outlinewidth\":0,\"ticks\":\"\"},\"type\":\"choropleth\"}],\"contourcarpet\":[{\"colorbar\":{\"outlinewidth\":0,\"ticks\":\"\"},\"type\":\"contourcarpet\"}],\"contour\":[{\"colorbar\":{\"outlinewidth\":0,\"ticks\":\"\"},\"colorscale\":[[0.0,\"#0d0887\"],[0.1111111111111111,\"#46039f\"],[0.2222222222222222,\"#7201a8\"],[0.3333333333333333,\"#9c179e\"],[0.4444444444444444,\"#bd3786\"],[0.5555555555555556,\"#d8576b\"],[0.6666666666666666,\"#ed7953\"],[0.7777777777777778,\"#fb9f3a\"],[0.8888888888888888,\"#fdca26\"],[1.0,\"#f0f921\"]],\"type\":\"contour\"}],\"heatmapgl\":[{\"colorbar\":{\"outlinewidth\":0,\"ticks\":\"\"},\"colorscale\":[[0.0,\"#0d0887\"],[0.1111111111111111,\"#46039f\"],[0.2222222222222222,\"#7201a8\"],[0.3333333333333333,\"#9c179e\"],[0.4444444444444444,\"#bd3786\"],[0.5555555555555556,\"#d8576b\"],[0.6666666666666666,\"#ed7953\"],[0.7777777777777778,\"#fb9f3a\"],[0.8888888888888888,\"#fdca26\"],[1.0,\"#f0f921\"]],\"type\":\"heatmapgl\"}],\"heatmap\":[{\"colorbar\":{\"outlinewidth\":0,\"ticks\":\"\"},\"colorscale\":[[0.0,\"#0d0887\"],[0.1111111111111111,\"#46039f\"],[0.2222222222222222,\"#7201a8\"],[0.3333333333333333,\"#9c179e\"],[0.4444444444444444,\"#bd3786\"],[0.5555555555555556,\"#d8576b\"],[0.6666666666666666,\"#ed7953\"],[0.7777777777777778,\"#fb9f3a\"],[0.8888888888888888,\"#fdca26\"],[1.0,\"#f0f921\"]],\"type\":\"heatmap\"}],\"histogram2dcontour\":[{\"colorbar\":{\"outlinewidth\":0,\"ticks\":\"\"},\"colorscale\":[[0.0,\"#0d0887\"],[0.1111111111111111,\"#46039f\"],[0.2222222222222222,\"#7201a8\"],[0.3333333333333333,\"#9c179e\"],[0.4444444444444444,\"#bd3786\"],[0.5555555555555556,\"#d8576b\"],[0.6666666666666666,\"#ed7953\"],[0.7777777777777778,\"#fb9f3a\"],[0.8888888888888888,\"#fdca26\"],[1.0,\"#f0f921\"]],\"type\":\"histogram2dcontour\"}],\"histogram2d\":[{\"colorbar\":{\"outlinewidth\":0,\"ticks\":\"\"},\"colorscale\":[[0.0,\"#0d0887\"],[0.1111111111111111,\"#46039f\"],[0.2222222222222222,\"#7201a8\"],[0.3333333333333333,\"#9c179e\"],[0.4444444444444444,\"#bd3786\"],[0.5555555555555556,\"#d8576b\"],[0.6666666666666666,\"#ed7953\"],[0.7777777777777778,\"#fb9f3a\"],[0.8888888888888888,\"#fdca26\"],[1.0,\"#f0f921\"]],\"type\":\"histogram2d\"}],\"histogram\":[{\"marker\":{\"pattern\":{\"fillmode\":\"overlay\",\"size\":10,\"solidity\":0.2}},\"type\":\"histogram\"}],\"mesh3d\":[{\"colorbar\":{\"outlinewidth\":0,\"ticks\":\"\"},\"type\":\"mesh3d\"}],\"parcoords\":[{\"line\":{\"colorbar\":{\"outlinewidth\":0,\"ticks\":\"\"}},\"type\":\"parcoords\"}],\"pie\":[{\"automargin\":true,\"type\":\"pie\"}],\"scatter3d\":[{\"line\":{\"colorbar\":{\"outlinewidth\":0,\"ticks\":\"\"}},\"marker\":{\"colorbar\":{\"outlinewidth\":0,\"ticks\":\"\"}},\"type\":\"scatter3d\"}],\"scattercarpet\":[{\"marker\":{\"colorbar\":{\"outlinewidth\":0,\"ticks\":\"\"}},\"type\":\"scattercarpet\"}],\"scattergeo\":[{\"marker\":{\"colorbar\":{\"outlinewidth\":0,\"ticks\":\"\"}},\"type\":\"scattergeo\"}],\"scattergl\":[{\"marker\":{\"colorbar\":{\"outlinewidth\":0,\"ticks\":\"\"}},\"type\":\"scattergl\"}],\"scattermapbox\":[{\"marker\":{\"colorbar\":{\"outlinewidth\":0,\"ticks\":\"\"}},\"type\":\"scattermapbox\"}],\"scatterpolargl\":[{\"marker\":{\"colorbar\":{\"outlinewidth\":0,\"ticks\":\"\"}},\"type\":\"scatterpolargl\"}],\"scatterpolar\":[{\"marker\":{\"colorbar\":{\"outlinewidth\":0,\"ticks\":\"\"}},\"type\":\"scatterpolar\"}],\"scatter\":[{\"fillpattern\":{\"fillmode\":\"overlay\",\"size\":10,\"solidity\":0.2},\"type\":\"scatter\"}],\"scatterternary\":[{\"marker\":{\"colorbar\":{\"outlinewidth\":0,\"ticks\":\"\"}},\"type\":\"scatterternary\"}],\"surface\":[{\"colorbar\":{\"outlinewidth\":0,\"ticks\":\"\"},\"colorscale\":[[0.0,\"#0d0887\"],[0.1111111111111111,\"#46039f\"],[0.2222222222222222,\"#7201a8\"],[0.3333333333333333,\"#9c179e\"],[0.4444444444444444,\"#bd3786\"],[0.5555555555555556,\"#d8576b\"],[0.6666666666666666,\"#ed7953\"],[0.7777777777777778,\"#fb9f3a\"],[0.8888888888888888,\"#fdca26\"],[1.0,\"#f0f921\"]],\"type\":\"surface\"}],\"table\":[{\"cells\":{\"fill\":{\"color\":\"#EBF0F8\"},\"line\":{\"color\":\"white\"}},\"header\":{\"fill\":{\"color\":\"#C8D4E3\"},\"line\":{\"color\":\"white\"}},\"type\":\"table\"}]},\"layout\":{\"annotationdefaults\":{\"arrowcolor\":\"#2a3f5f\",\"arrowhead\":0,\"arrowwidth\":1},\"autotypenumbers\":\"strict\",\"coloraxis\":{\"colorbar\":{\"outlinewidth\":0,\"ticks\":\"\"}},\"colorscale\":{\"diverging\":[[0,\"#8e0152\"],[0.1,\"#c51b7d\"],[0.2,\"#de77ae\"],[0.3,\"#f1b6da\"],[0.4,\"#fde0ef\"],[0.5,\"#f7f7f7\"],[0.6,\"#e6f5d0\"],[0.7,\"#b8e186\"],[0.8,\"#7fbc41\"],[0.9,\"#4d9221\"],[1,\"#276419\"]],\"sequential\":[[0.0,\"#0d0887\"],[0.1111111111111111,\"#46039f\"],[0.2222222222222222,\"#7201a8\"],[0.3333333333333333,\"#9c179e\"],[0.4444444444444444,\"#bd3786\"],[0.5555555555555556,\"#d8576b\"],[0.6666666666666666,\"#ed7953\"],[0.7777777777777778,\"#fb9f3a\"],[0.8888888888888888,\"#fdca26\"],[1.0,\"#f0f921\"]],\"sequentialminus\":[[0.0,\"#0d0887\"],[0.1111111111111111,\"#46039f\"],[0.2222222222222222,\"#7201a8\"],[0.3333333333333333,\"#9c179e\"],[0.4444444444444444,\"#bd3786\"],[0.5555555555555556,\"#d8576b\"],[0.6666666666666666,\"#ed7953\"],[0.7777777777777778,\"#fb9f3a\"],[0.8888888888888888,\"#fdca26\"],[1.0,\"#f0f921\"]]},\"colorway\":[\"#636efa\",\"#EF553B\",\"#00cc96\",\"#ab63fa\",\"#FFA15A\",\"#19d3f3\",\"#FF6692\",\"#B6E880\",\"#FF97FF\",\"#FECB52\"],\"font\":{\"color\":\"#2a3f5f\"},\"geo\":{\"bgcolor\":\"white\",\"lakecolor\":\"white\",\"landcolor\":\"#E5ECF6\",\"showlakes\":true,\"showland\":true,\"subunitcolor\":\"white\"},\"hoverlabel\":{\"align\":\"left\"},\"hovermode\":\"closest\",\"mapbox\":{\"style\":\"light\"},\"paper_bgcolor\":\"white\",\"plot_bgcolor\":\"#E5ECF6\",\"polar\":{\"angularaxis\":{\"gridcolor\":\"white\",\"linecolor\":\"white\",\"ticks\":\"\"},\"bgcolor\":\"#E5ECF6\",\"radialaxis\":{\"gridcolor\":\"white\",\"linecolor\":\"white\",\"ticks\":\"\"}},\"scene\":{\"xaxis\":{\"backgroundcolor\":\"#E5ECF6\",\"gridcolor\":\"white\",\"gridwidth\":2,\"linecolor\":\"white\",\"showbackground\":true,\"ticks\":\"\",\"zerolinecolor\":\"white\"},\"yaxis\":{\"backgroundcolor\":\"#E5ECF6\",\"gridcolor\":\"white\",\"gridwidth\":2,\"linecolor\":\"white\",\"showbackground\":true,\"ticks\":\"\",\"zerolinecolor\":\"white\"},\"zaxis\":{\"backgroundcolor\":\"#E5ECF6\",\"gridcolor\":\"white\",\"gridwidth\":2,\"linecolor\":\"white\",\"showbackground\":true,\"ticks\":\"\",\"zerolinecolor\":\"white\"}},\"shapedefaults\":{\"line\":{\"color\":\"#2a3f5f\"}},\"ternary\":{\"aaxis\":{\"gridcolor\":\"white\",\"linecolor\":\"white\",\"ticks\":\"\"},\"baxis\":{\"gridcolor\":\"white\",\"linecolor\":\"white\",\"ticks\":\"\"},\"bgcolor\":\"#E5ECF6\",\"caxis\":{\"gridcolor\":\"white\",\"linecolor\":\"white\",\"ticks\":\"\"}},\"title\":{\"x\":0.05},\"xaxis\":{\"automargin\":true,\"gridcolor\":\"white\",\"linecolor\":\"white\",\"ticks\":\"\",\"title\":{\"standoff\":15},\"zerolinecolor\":\"white\",\"zerolinewidth\":2},\"yaxis\":{\"automargin\":true,\"gridcolor\":\"white\",\"linecolor\":\"white\",\"ticks\":\"\",\"title\":{\"standoff\":15},\"zerolinecolor\":\"white\",\"zerolinewidth\":2}}},\"title\":{\"font\":{\"color\":\"#4D5663\"}},\"xaxis\":{\"gridcolor\":\"#E1E5ED\",\"showgrid\":true,\"tickfont\":{\"color\":\"#4D5663\"},\"title\":{\"font\":{\"color\":\"#4D5663\"},\"text\":\"\"},\"zerolinecolor\":\"#E1E5ED\"},\"yaxis\":{\"gridcolor\":\"#E1E5ED\",\"showgrid\":true,\"tickfont\":{\"color\":\"#4D5663\"},\"title\":{\"font\":{\"color\":\"#4D5663\"},\"text\":\"\"},\"zerolinecolor\":\"#E1E5ED\"}},                        {\"showLink\": true, \"linkText\": \"Export to plot.ly\", \"plotlyServerURL\": \"https://plot.ly\", \"responsive\": true}                    ).then(function(){\n",
       "                            \n",
       "var gd = document.getElementById('043f0d37-f164-4ea4-b702-5811e2e4460d');\n",
       "var x = new MutationObserver(function (mutations, observer) {{\n",
       "        var display = window.getComputedStyle(gd).display;\n",
       "        if (!display || display === 'none') {{\n",
       "            console.log([gd, 'removed!']);\n",
       "            Plotly.purge(gd);\n",
       "            observer.disconnect();\n",
       "        }}\n",
       "}});\n",
       "\n",
       "// Listen for the removal of the full notebook cells\n",
       "var notebookContainer = gd.closest('#notebook-container');\n",
       "if (notebookContainer) {{\n",
       "    x.observe(notebookContainer, {childList: true});\n",
       "}}\n",
       "\n",
       "// Listen for the clearing of the current output cell\n",
       "var outputEl = gd.closest('.output');\n",
       "if (outputEl) {{\n",
       "    x.observe(outputEl, {childList: true});\n",
       "}}\n",
       "\n",
       "                        })                };                });            </script>        </div>"
      ]
     },
     "metadata": {},
     "output_type": "display_data"
    }
   ],
   "source": [
    "df.iplot(kind='hist')"
   ]
  },
  {
   "cell_type": "code",
   "execution_count": 20,
   "id": "2a33ae3b-c9ba-42f4-ae20-cf848db1db50",
   "metadata": {},
   "outputs": [
    {
     "data": {
      "text/html": [
       "<div>\n",
       "<style scoped>\n",
       "    .dataframe tbody tr th:only-of-type {\n",
       "        vertical-align: middle;\n",
       "    }\n",
       "\n",
       "    .dataframe tbody tr th {\n",
       "        vertical-align: top;\n",
       "    }\n",
       "\n",
       "    .dataframe thead th {\n",
       "        text-align: right;\n",
       "    }\n",
       "</style>\n",
       "<table border=\"1\" class=\"dataframe\">\n",
       "  <thead>\n",
       "    <tr style=\"text-align: right;\">\n",
       "      <th></th>\n",
       "      <th>John</th>\n",
       "      <th>Doe</th>\n",
       "      <th>Jane</th>\n",
       "      <th>Alice</th>\n",
       "    </tr>\n",
       "  </thead>\n",
       "  <tbody>\n",
       "    <tr>\n",
       "      <th>0</th>\n",
       "      <td>0.019643</td>\n",
       "      <td>0.189323</td>\n",
       "      <td>0.020344</td>\n",
       "      <td>0.249370</td>\n",
       "    </tr>\n",
       "    <tr>\n",
       "      <th>1</th>\n",
       "      <td>0.510298</td>\n",
       "      <td>1.328166</td>\n",
       "      <td>0.346207</td>\n",
       "      <td>-1.291424</td>\n",
       "    </tr>\n",
       "    <tr>\n",
       "      <th>2</th>\n",
       "      <td>0.244493</td>\n",
       "      <td>0.082604</td>\n",
       "      <td>0.174759</td>\n",
       "      <td>-0.488401</td>\n",
       "    </tr>\n",
       "    <tr>\n",
       "      <th>3</th>\n",
       "      <td>-0.099644</td>\n",
       "      <td>0.197663</td>\n",
       "      <td>1.509063</td>\n",
       "      <td>0.953261</td>\n",
       "    </tr>\n",
       "    <tr>\n",
       "      <th>4</th>\n",
       "      <td>-0.833630</td>\n",
       "      <td>-1.351976</td>\n",
       "      <td>-0.412221</td>\n",
       "      <td>2.347701</td>\n",
       "    </tr>\n",
       "    <tr>\n",
       "      <th>...</th>\n",
       "      <td>...</td>\n",
       "      <td>...</td>\n",
       "      <td>...</td>\n",
       "      <td>...</td>\n",
       "    </tr>\n",
       "    <tr>\n",
       "      <th>95</th>\n",
       "      <td>0.482978</td>\n",
       "      <td>-0.538102</td>\n",
       "      <td>-0.882089</td>\n",
       "      <td>0.093090</td>\n",
       "    </tr>\n",
       "    <tr>\n",
       "      <th>96</th>\n",
       "      <td>1.508427</td>\n",
       "      <td>-0.513215</td>\n",
       "      <td>-0.357131</td>\n",
       "      <td>0.774276</td>\n",
       "    </tr>\n",
       "    <tr>\n",
       "      <th>97</th>\n",
       "      <td>-1.917566</td>\n",
       "      <td>-0.310656</td>\n",
       "      <td>0.006772</td>\n",
       "      <td>0.616844</td>\n",
       "    </tr>\n",
       "    <tr>\n",
       "      <th>98</th>\n",
       "      <td>-0.741375</td>\n",
       "      <td>0.894469</td>\n",
       "      <td>0.109353</td>\n",
       "      <td>-0.762326</td>\n",
       "    </tr>\n",
       "    <tr>\n",
       "      <th>99</th>\n",
       "      <td>-0.139802</td>\n",
       "      <td>-0.513230</td>\n",
       "      <td>1.359680</td>\n",
       "      <td>-0.733000</td>\n",
       "    </tr>\n",
       "  </tbody>\n",
       "</table>\n",
       "<p>100 rows × 4 columns</p>\n",
       "</div>"
      ],
      "text/plain": [
       "        John       Doe      Jane     Alice\n",
       "0   0.019643  0.189323  0.020344  0.249370\n",
       "1   0.510298  1.328166  0.346207 -1.291424\n",
       "2   0.244493  0.082604  0.174759 -0.488401\n",
       "3  -0.099644  0.197663  1.509063  0.953261\n",
       "4  -0.833630 -1.351976 -0.412221  2.347701\n",
       "..       ...       ...       ...       ...\n",
       "95  0.482978 -0.538102 -0.882089  0.093090\n",
       "96  1.508427 -0.513215 -0.357131  0.774276\n",
       "97 -1.917566 -0.310656  0.006772  0.616844\n",
       "98 -0.741375  0.894469  0.109353 -0.762326\n",
       "99 -0.139802 -0.513230  1.359680 -0.733000\n",
       "\n",
       "[100 rows x 4 columns]"
      ]
     },
     "execution_count": 20,
     "metadata": {},
     "output_type": "execute_result"
    }
   ],
   "source": [
    "df"
   ]
  },
  {
   "cell_type": "code",
   "execution_count": 21,
   "id": "866b12a4-0c42-40b8-ab6d-665299717a32",
   "metadata": {},
   "outputs": [
    {
     "name": "stderr",
     "output_type": "stream",
     "text": [
      "c:\\Users\\BENNY\\anaconda3\\Lib\\site-packages\\cufflinks\\plotlytools.py:849: FutureWarning:\n",
      "\n",
      "Series.__getitem__ treating keys as positions is deprecated. In a future version, integer keys will always be treated as labels (consistent with DataFrame behavior). To access a value by position, use `ser.iloc[pos]`\n",
      "\n"
     ]
    },
    {
     "data": {
      "application/vnd.plotly.v1+json": {
       "config": {
        "linkText": "Export to plot.ly",
        "plotlyServerURL": "https://plot.ly",
        "showLink": true
       },
       "data": [
        {
         "line": {
          "color": "rgba(255, 153, 51, 1.0)",
          "dash": "solid",
          "shape": "linear",
          "width": 1.3
         },
         "mode": "lines",
         "name": "John",
         "text": "",
         "type": "scatter",
         "x": [
          0,
          1,
          2,
          3,
          4,
          5,
          6,
          7,
          8,
          9,
          10,
          11,
          12,
          13,
          14,
          15,
          16,
          17,
          18,
          19,
          20,
          21,
          22,
          23,
          24,
          25,
          26,
          27,
          28,
          29,
          30,
          31,
          32,
          33,
          34,
          35,
          36,
          37,
          38,
          39,
          40,
          41,
          42,
          43,
          44,
          45,
          46,
          47,
          48,
          49,
          50,
          51,
          52,
          53,
          54,
          55,
          56,
          57,
          58,
          59,
          60,
          61,
          62,
          63,
          64,
          65,
          66,
          67,
          68,
          69,
          70,
          71,
          72,
          73,
          74,
          75,
          76,
          77,
          78,
          79,
          80,
          81,
          82,
          83,
          84,
          85,
          86,
          87,
          88,
          89,
          90,
          91,
          92,
          93,
          94,
          95,
          96,
          97,
          98,
          99
         ],
         "y": [
          0.019642646998532538,
          0.5102977624801204,
          0.24449280881659421,
          -0.09964374543098901,
          -0.8336301504091984,
          0.7633960938278734,
          0.008888279313414483,
          -0.04559506706851624,
          0.1928875749925488,
          0.03414630485056338,
          0.7264465808915783,
          1.0658884808652351,
          0.38523365088508876,
          1.5124214398730913,
          -1.6377485347546827,
          -0.7010980666045677,
          0.45739260615720606,
          0.4876140496185153,
          -1.0773443173458792,
          0.1156850759183294,
          -1.7276705506695154,
          -0.7605787719199244,
          -1.0185765341213795,
          -0.6973825682764789,
          0.6891443271530647,
          0.2866451570554162,
          -0.6019547431882285,
          1.0946069931759237,
          -0.25809283296644064,
          0.3711605045232904,
          2.016529005040461,
          1.4362079476882181,
          -1.8065697572276622,
          0.41709344375999546,
          -0.952273483938806,
          -0.33790763860390516,
          1.4653354860476666,
          -1.0364187829767437,
          -0.5958291555412103,
          -0.9095925468162066,
          -0.03443570936609096,
          0.41796253085085777,
          0.4985597267149191,
          1.256230814302931,
          0.3041815809519573,
          -0.7314944255391029,
          0.1347390648641512,
          0.36668711521731945,
          -1.345745456849986,
          -0.3024870212580657,
          0.38946023142969144,
          -2.2080623777024857,
          0.14690798112419792,
          -0.10214577252644914,
          -0.7558190914775792,
          1.636096524673409,
          -0.9350054629918986,
          -0.834717261048946,
          0.9042211849377907,
          -0.970097819261639,
          0.08302084353049828,
          0.122533351733746,
          -0.5668598556840447,
          1.2122897430202741,
          -0.2628230583023596,
          -1.319033630348968,
          -1.2725064526718661,
          2.0358158967569318,
          -0.8468257533048923,
          1.4882729870233895,
          -1.2205022462300505,
          -0.05757188230792311,
          1.367768040891796,
          -0.19921297667841037,
          0.4697389292048797,
          -1.3381417318782258,
          0.6524847805507301,
          -1.7994321764509653,
          -1.077881485573476,
          -1.3625099426155498,
          0.045648147491829216,
          0.563618810148228,
          -0.4786892358293386,
          0.47606615646569794,
          -0.8543313928147953,
          0.0925095317870382,
          -0.21597284215262857,
          0.4834183462334682,
          -0.9360044456206287,
          -0.6269954947934127,
          2.1712068293506985,
          0.016129286645642983,
          -0.8759971648778004,
          1.1406389788304063,
          -1.500404007263379,
          0.4829784953373957,
          1.5084272190275951,
          -1.9175664929088536,
          -0.7413752267077025,
          -0.13980204256336462
         ]
        },
        {
         "line": {
          "color": "rgba(55, 128, 191, 1.0)",
          "dash": "solid",
          "shape": "linear",
          "width": 1.3
         },
         "mode": "lines",
         "name": "Doe",
         "text": "",
         "type": "scatter",
         "x": [
          0,
          1,
          2,
          3,
          4,
          5,
          6,
          7,
          8,
          9,
          10,
          11,
          12,
          13,
          14,
          15,
          16,
          17,
          18,
          19,
          20,
          21,
          22,
          23,
          24,
          25,
          26,
          27,
          28,
          29,
          30,
          31,
          32,
          33,
          34,
          35,
          36,
          37,
          38,
          39,
          40,
          41,
          42,
          43,
          44,
          45,
          46,
          47,
          48,
          49,
          50,
          51,
          52,
          53,
          54,
          55,
          56,
          57,
          58,
          59,
          60,
          61,
          62,
          63,
          64,
          65,
          66,
          67,
          68,
          69,
          70,
          71,
          72,
          73,
          74,
          75,
          76,
          77,
          78,
          79,
          80,
          81,
          82,
          83,
          84,
          85,
          86,
          87,
          88,
          89,
          90,
          91,
          92,
          93,
          94,
          95,
          96,
          97,
          98,
          99
         ],
         "y": [
          0.18932288313259496,
          1.3281660265941044,
          0.08260420682700166,
          0.19766344985332351,
          -1.3519755938004667,
          0.7152547986319213,
          2.1061290065425045,
          -0.4536884731298851,
          -1.314290670147277,
          1.2162156869830907,
          0.38627757098814897,
          1.0778958970219656,
          1.0172005524466166,
          -0.8363987977283873,
          0.6219718214710519,
          -0.10941421275248397,
          0.1834145301165497,
          1.6905631473724685,
          0.2830379714000602,
          0.8209176571110884,
          0.2712601644922478,
          2.6709808829839905,
          -0.038019966272632134,
          -0.800964216187689,
          -0.9772594874158484,
          -0.9996924316330814,
          0.6757843694951967,
          -0.9172910777638664,
          0.21534798195889704,
          -0.6649356062395503,
          -1.2190835483281803,
          1.6237785328878958,
          -0.17059875405261618,
          0.5863516626635352,
          -0.10759342108696314,
          -0.593705778613284,
          0.8306281292382299,
          2.1589815543497193,
          -1.0911341602641766,
          -0.40761643718218465,
          -2.383684095369639,
          0.009333505772728184,
          0.08093342989807364,
          -0.33071099419622413,
          -0.26004567740817947,
          -0.06395831153582572,
          -0.5989402137637061,
          -0.6142660522286667,
          -2.1372805837605546,
          1.5015600737392012,
          -1.4841755895742048,
          -0.4063083689229514,
          -1.4867589787693356,
          -0.7562643323620777,
          0.4865696831994064,
          -0.6436237599111508,
          -0.05723995074100056,
          0.41887052392231416,
          0.3141993864196437,
          -0.24322500286511342,
          0.7610647654161666,
          -0.5576576400296814,
          -0.01206385658904262,
          -0.9750812100109979,
          0.684081164985671,
          -1.5261851048875195,
          0.37714545839915764,
          -0.8713897574661608,
          -0.2241657499226878,
          -0.6870427813507797,
          -0.47336276072954436,
          0.26368992576199496,
          -0.20034751046151145,
          0.45876070741422004,
          -0.16879611580477616,
          1.576773398907753,
          0.30704353862755446,
          -0.4911660185041354,
          0.6111210148978148,
          -2.213938060785341,
          0.020347578904885685,
          -0.5256163213064886,
          -1.693539773930717,
          -0.2737625049855568,
          1.1277007342060812,
          -0.4849370930878959,
          -0.5219300157008511,
          -1.112720153303619,
          1.4405568615058983,
          -1.7859008692500788,
          1.2443992275160747,
          -0.3448053249356195,
          -1.1315614753988137,
          0.40563336698552666,
          0.4595262640725895,
          -0.5381022646055008,
          -0.5132149097842915,
          -0.31065608999022215,
          0.8944689282816258,
          -0.5132298585680108
         ]
        },
        {
         "connectgaps": false,
         "fill": "tozeroy",
         "line": {
          "color": "green",
          "dash": "solid",
          "shape": "linear",
          "width": 0.5
         },
         "mode": "lines",
         "name": "Spread",
         "showlegend": false,
         "type": "scatter",
         "x": [
          0,
          1,
          2,
          3,
          4,
          5,
          6,
          7,
          8,
          9,
          10,
          11,
          12,
          13,
          14,
          15,
          16,
          17,
          18,
          19,
          20,
          21,
          22,
          23,
          24,
          25,
          26,
          27,
          28,
          29,
          30,
          31,
          32,
          33,
          34,
          35,
          36,
          37,
          38,
          39,
          40,
          41,
          42,
          43,
          44,
          45,
          46,
          47,
          48,
          49,
          50,
          51,
          52,
          53,
          54,
          55,
          56,
          57,
          58,
          59,
          60,
          61,
          62,
          63,
          64,
          65,
          66,
          67,
          68,
          69,
          70,
          71,
          72,
          73,
          74,
          75,
          76,
          77,
          78,
          79,
          80,
          81,
          82,
          83,
          84,
          85,
          86,
          87,
          88,
          89,
          90,
          91,
          92,
          93,
          94,
          95,
          96,
          97,
          98,
          99
         ],
         "xaxis": "x2",
         "y": [
          "",
          "",
          0.16188860198959254,
          "",
          0.5183454433912683,
          0.048141295195952116,
          "",
          0.40809340606136885,
          1.5071782451398257,
          "",
          0.34016900990342935,
          "",
          "",
          2.348820237601479,
          "",
          "",
          0.2739780760406564,
          "",
          "",
          "",
          "",
          "",
          "",
          0.10358164791121005,
          1.666403814568913,
          1.2863375886884976,
          "",
          2.01189807093979,
          "",
          1.0360961107628408,
          3.2356125533686413,
          "",
          "",
          "",
          "",
          0.25579814000937884,
          0.6347073568094367,
          "",
          0.49530500472296635,
          "",
          2.349248386003548,
          0.4086290250781296,
          0.4176262968168455,
          1.5869418084991551,
          0.5642272583601368,
          "",
          0.7336792786278573,
          0.9809531674459862,
          0.7915351269105686,
          "",
          1.8736358210038961,
          "",
          1.6336669598935336,
          0.6541185598356285,
          "",
          2.2797202845845597,
          "",
          "",
          0.5900217985181471,
          "",
          "",
          0.6801909917634275,
          "",
          2.187370953031272,
          "",
          0.20715147453855143,
          "",
          2.9072056542230924,
          "",
          2.175315768374169,
          "",
          "",
          1.5681155513533076,
          "",
          0.6385350450096559,
          "",
          0.34544124192317566,
          "",
          "",
          0.8514281181697911,
          0.02530056858694353,
          1.0892351314547166,
          1.2148505381013783,
          0.7498286614512548,
          "",
          0.5774466248749341,
          0.3059571735482225,
          1.5961384995370873,
          "",
          1.1589053744566662,
          0.9268076018346239,
          0.3609346115812625,
          0.25556431052101325,
          0.7350056118448797,
          "",
          1.0210807599428966,
          2.0216421288118864,
          "",
          "",
          0.37342781600464625
         ],
         "yaxis": "y2"
        },
        {
         "connectgaps": false,
         "fill": "tozeroy",
         "line": {
          "color": "red",
          "dash": "solid",
          "shape": "linear",
          "width": 0.5
         },
         "mode": "lines",
         "name": "Spread",
         "showlegend": false,
         "type": "scatter",
         "x": [
          0,
          1,
          2,
          3,
          4,
          5,
          6,
          7,
          8,
          9,
          10,
          11,
          12,
          13,
          14,
          15,
          16,
          17,
          18,
          19,
          20,
          21,
          22,
          23,
          24,
          25,
          26,
          27,
          28,
          29,
          30,
          31,
          32,
          33,
          34,
          35,
          36,
          37,
          38,
          39,
          40,
          41,
          42,
          43,
          44,
          45,
          46,
          47,
          48,
          49,
          50,
          51,
          52,
          53,
          54,
          55,
          56,
          57,
          58,
          59,
          60,
          61,
          62,
          63,
          64,
          65,
          66,
          67,
          68,
          69,
          70,
          71,
          72,
          73,
          74,
          75,
          76,
          77,
          78,
          79,
          80,
          81,
          82,
          83,
          84,
          85,
          86,
          87,
          88,
          89,
          90,
          91,
          92,
          93,
          94,
          95,
          96,
          97,
          98,
          99
         ],
         "xaxis": "x2",
         "y": [
          -0.1696802361340624,
          -0.8178682641139841,
          "",
          -0.29730719528431254,
          "",
          "",
          -2.09724072722909,
          "",
          "",
          -1.1820693821325272,
          "",
          -0.01200741615673051,
          -0.6319669015615278,
          "",
          -2.259720356225735,
          -0.5916838538520838,
          "",
          -1.2029490977539532,
          -1.3603822887459394,
          -0.705232581192759,
          -1.9989307151617632,
          -3.431559654903915,
          -0.9805565678487473,
          "",
          "",
          "",
          -1.2777391126834252,
          "",
          -0.4734408149253377,
          "",
          "",
          -0.18757058519967762,
          -1.635971003175046,
          -0.16925821890353976,
          -0.8446800628518428,
          "",
          "",
          -3.195400337326463,
          "",
          -0.501976109634022,
          "",
          "",
          "",
          "",
          "",
          -0.6675361140032772,
          "",
          "",
          "",
          -1.804047094997267,
          "",
          -1.8017540087795343,
          "",
          "",
          -1.2423887746769857,
          "",
          -0.877765512250898,
          -1.25358778497126,
          "",
          -0.7268728163965256,
          -0.6780439218856683,
          "",
          -0.5547959990950021,
          "",
          -0.9469042232880305,
          "",
          -1.6496519110710237,
          "",
          -0.6226600033822045,
          "",
          -0.7471394855005062,
          -0.32126180806991805,
          "",
          -0.6579736840926305,
          "",
          -2.914915130785979,
          "",
          -1.30826615794683,
          -1.6890025004712907,
          "",
          "",
          "",
          "",
          "",
          -1.9820321270208765,
          "",
          "",
          "",
          -2.376561307126527,
          "",
          "",
          "",
          "",
          "",
          -1.9599302713359685,
          "",
          "",
          -1.6069104029186314,
          -1.6358441549893283,
          ""
         ],
         "yaxis": "y2"
        }
       ],
       "layout": {
        "hovermode": "x",
        "legend": {
         "bgcolor": "#F5F6F9",
         "font": {
          "color": "#4D5663"
         }
        },
        "paper_bgcolor": "#F5F6F9",
        "plot_bgcolor": "#F5F6F9",
        "template": {
         "data": {
          "bar": [
           {
            "error_x": {
             "color": "#2a3f5f"
            },
            "error_y": {
             "color": "#2a3f5f"
            },
            "marker": {
             "line": {
              "color": "#E5ECF6",
              "width": 0.5
             },
             "pattern": {
              "fillmode": "overlay",
              "size": 10,
              "solidity": 0.2
             }
            },
            "type": "bar"
           }
          ],
          "barpolar": [
           {
            "marker": {
             "line": {
              "color": "#E5ECF6",
              "width": 0.5
             },
             "pattern": {
              "fillmode": "overlay",
              "size": 10,
              "solidity": 0.2
             }
            },
            "type": "barpolar"
           }
          ],
          "carpet": [
           {
            "aaxis": {
             "endlinecolor": "#2a3f5f",
             "gridcolor": "white",
             "linecolor": "white",
             "minorgridcolor": "white",
             "startlinecolor": "#2a3f5f"
            },
            "baxis": {
             "endlinecolor": "#2a3f5f",
             "gridcolor": "white",
             "linecolor": "white",
             "minorgridcolor": "white",
             "startlinecolor": "#2a3f5f"
            },
            "type": "carpet"
           }
          ],
          "choropleth": [
           {
            "colorbar": {
             "outlinewidth": 0,
             "ticks": ""
            },
            "type": "choropleth"
           }
          ],
          "contour": [
           {
            "colorbar": {
             "outlinewidth": 0,
             "ticks": ""
            },
            "colorscale": [
             [
              0,
              "#0d0887"
             ],
             [
              0.1111111111111111,
              "#46039f"
             ],
             [
              0.2222222222222222,
              "#7201a8"
             ],
             [
              0.3333333333333333,
              "#9c179e"
             ],
             [
              0.4444444444444444,
              "#bd3786"
             ],
             [
              0.5555555555555556,
              "#d8576b"
             ],
             [
              0.6666666666666666,
              "#ed7953"
             ],
             [
              0.7777777777777778,
              "#fb9f3a"
             ],
             [
              0.8888888888888888,
              "#fdca26"
             ],
             [
              1,
              "#f0f921"
             ]
            ],
            "type": "contour"
           }
          ],
          "contourcarpet": [
           {
            "colorbar": {
             "outlinewidth": 0,
             "ticks": ""
            },
            "type": "contourcarpet"
           }
          ],
          "heatmap": [
           {
            "colorbar": {
             "outlinewidth": 0,
             "ticks": ""
            },
            "colorscale": [
             [
              0,
              "#0d0887"
             ],
             [
              0.1111111111111111,
              "#46039f"
             ],
             [
              0.2222222222222222,
              "#7201a8"
             ],
             [
              0.3333333333333333,
              "#9c179e"
             ],
             [
              0.4444444444444444,
              "#bd3786"
             ],
             [
              0.5555555555555556,
              "#d8576b"
             ],
             [
              0.6666666666666666,
              "#ed7953"
             ],
             [
              0.7777777777777778,
              "#fb9f3a"
             ],
             [
              0.8888888888888888,
              "#fdca26"
             ],
             [
              1,
              "#f0f921"
             ]
            ],
            "type": "heatmap"
           }
          ],
          "heatmapgl": [
           {
            "colorbar": {
             "outlinewidth": 0,
             "ticks": ""
            },
            "colorscale": [
             [
              0,
              "#0d0887"
             ],
             [
              0.1111111111111111,
              "#46039f"
             ],
             [
              0.2222222222222222,
              "#7201a8"
             ],
             [
              0.3333333333333333,
              "#9c179e"
             ],
             [
              0.4444444444444444,
              "#bd3786"
             ],
             [
              0.5555555555555556,
              "#d8576b"
             ],
             [
              0.6666666666666666,
              "#ed7953"
             ],
             [
              0.7777777777777778,
              "#fb9f3a"
             ],
             [
              0.8888888888888888,
              "#fdca26"
             ],
             [
              1,
              "#f0f921"
             ]
            ],
            "type": "heatmapgl"
           }
          ],
          "histogram": [
           {
            "marker": {
             "pattern": {
              "fillmode": "overlay",
              "size": 10,
              "solidity": 0.2
             }
            },
            "type": "histogram"
           }
          ],
          "histogram2d": [
           {
            "colorbar": {
             "outlinewidth": 0,
             "ticks": ""
            },
            "colorscale": [
             [
              0,
              "#0d0887"
             ],
             [
              0.1111111111111111,
              "#46039f"
             ],
             [
              0.2222222222222222,
              "#7201a8"
             ],
             [
              0.3333333333333333,
              "#9c179e"
             ],
             [
              0.4444444444444444,
              "#bd3786"
             ],
             [
              0.5555555555555556,
              "#d8576b"
             ],
             [
              0.6666666666666666,
              "#ed7953"
             ],
             [
              0.7777777777777778,
              "#fb9f3a"
             ],
             [
              0.8888888888888888,
              "#fdca26"
             ],
             [
              1,
              "#f0f921"
             ]
            ],
            "type": "histogram2d"
           }
          ],
          "histogram2dcontour": [
           {
            "colorbar": {
             "outlinewidth": 0,
             "ticks": ""
            },
            "colorscale": [
             [
              0,
              "#0d0887"
             ],
             [
              0.1111111111111111,
              "#46039f"
             ],
             [
              0.2222222222222222,
              "#7201a8"
             ],
             [
              0.3333333333333333,
              "#9c179e"
             ],
             [
              0.4444444444444444,
              "#bd3786"
             ],
             [
              0.5555555555555556,
              "#d8576b"
             ],
             [
              0.6666666666666666,
              "#ed7953"
             ],
             [
              0.7777777777777778,
              "#fb9f3a"
             ],
             [
              0.8888888888888888,
              "#fdca26"
             ],
             [
              1,
              "#f0f921"
             ]
            ],
            "type": "histogram2dcontour"
           }
          ],
          "mesh3d": [
           {
            "colorbar": {
             "outlinewidth": 0,
             "ticks": ""
            },
            "type": "mesh3d"
           }
          ],
          "parcoords": [
           {
            "line": {
             "colorbar": {
              "outlinewidth": 0,
              "ticks": ""
             }
            },
            "type": "parcoords"
           }
          ],
          "pie": [
           {
            "automargin": true,
            "type": "pie"
           }
          ],
          "scatter": [
           {
            "fillpattern": {
             "fillmode": "overlay",
             "size": 10,
             "solidity": 0.2
            },
            "type": "scatter"
           }
          ],
          "scatter3d": [
           {
            "line": {
             "colorbar": {
              "outlinewidth": 0,
              "ticks": ""
             }
            },
            "marker": {
             "colorbar": {
              "outlinewidth": 0,
              "ticks": ""
             }
            },
            "type": "scatter3d"
           }
          ],
          "scattercarpet": [
           {
            "marker": {
             "colorbar": {
              "outlinewidth": 0,
              "ticks": ""
             }
            },
            "type": "scattercarpet"
           }
          ],
          "scattergeo": [
           {
            "marker": {
             "colorbar": {
              "outlinewidth": 0,
              "ticks": ""
             }
            },
            "type": "scattergeo"
           }
          ],
          "scattergl": [
           {
            "marker": {
             "colorbar": {
              "outlinewidth": 0,
              "ticks": ""
             }
            },
            "type": "scattergl"
           }
          ],
          "scattermapbox": [
           {
            "marker": {
             "colorbar": {
              "outlinewidth": 0,
              "ticks": ""
             }
            },
            "type": "scattermapbox"
           }
          ],
          "scatterpolar": [
           {
            "marker": {
             "colorbar": {
              "outlinewidth": 0,
              "ticks": ""
             }
            },
            "type": "scatterpolar"
           }
          ],
          "scatterpolargl": [
           {
            "marker": {
             "colorbar": {
              "outlinewidth": 0,
              "ticks": ""
             }
            },
            "type": "scatterpolargl"
           }
          ],
          "scatterternary": [
           {
            "marker": {
             "colorbar": {
              "outlinewidth": 0,
              "ticks": ""
             }
            },
            "type": "scatterternary"
           }
          ],
          "surface": [
           {
            "colorbar": {
             "outlinewidth": 0,
             "ticks": ""
            },
            "colorscale": [
             [
              0,
              "#0d0887"
             ],
             [
              0.1111111111111111,
              "#46039f"
             ],
             [
              0.2222222222222222,
              "#7201a8"
             ],
             [
              0.3333333333333333,
              "#9c179e"
             ],
             [
              0.4444444444444444,
              "#bd3786"
             ],
             [
              0.5555555555555556,
              "#d8576b"
             ],
             [
              0.6666666666666666,
              "#ed7953"
             ],
             [
              0.7777777777777778,
              "#fb9f3a"
             ],
             [
              0.8888888888888888,
              "#fdca26"
             ],
             [
              1,
              "#f0f921"
             ]
            ],
            "type": "surface"
           }
          ],
          "table": [
           {
            "cells": {
             "fill": {
              "color": "#EBF0F8"
             },
             "line": {
              "color": "white"
             }
            },
            "header": {
             "fill": {
              "color": "#C8D4E3"
             },
             "line": {
              "color": "white"
             }
            },
            "type": "table"
           }
          ]
         },
         "layout": {
          "annotationdefaults": {
           "arrowcolor": "#2a3f5f",
           "arrowhead": 0,
           "arrowwidth": 1
          },
          "autotypenumbers": "strict",
          "coloraxis": {
           "colorbar": {
            "outlinewidth": 0,
            "ticks": ""
           }
          },
          "colorscale": {
           "diverging": [
            [
             0,
             "#8e0152"
            ],
            [
             0.1,
             "#c51b7d"
            ],
            [
             0.2,
             "#de77ae"
            ],
            [
             0.3,
             "#f1b6da"
            ],
            [
             0.4,
             "#fde0ef"
            ],
            [
             0.5,
             "#f7f7f7"
            ],
            [
             0.6,
             "#e6f5d0"
            ],
            [
             0.7,
             "#b8e186"
            ],
            [
             0.8,
             "#7fbc41"
            ],
            [
             0.9,
             "#4d9221"
            ],
            [
             1,
             "#276419"
            ]
           ],
           "sequential": [
            [
             0,
             "#0d0887"
            ],
            [
             0.1111111111111111,
             "#46039f"
            ],
            [
             0.2222222222222222,
             "#7201a8"
            ],
            [
             0.3333333333333333,
             "#9c179e"
            ],
            [
             0.4444444444444444,
             "#bd3786"
            ],
            [
             0.5555555555555556,
             "#d8576b"
            ],
            [
             0.6666666666666666,
             "#ed7953"
            ],
            [
             0.7777777777777778,
             "#fb9f3a"
            ],
            [
             0.8888888888888888,
             "#fdca26"
            ],
            [
             1,
             "#f0f921"
            ]
           ],
           "sequentialminus": [
            [
             0,
             "#0d0887"
            ],
            [
             0.1111111111111111,
             "#46039f"
            ],
            [
             0.2222222222222222,
             "#7201a8"
            ],
            [
             0.3333333333333333,
             "#9c179e"
            ],
            [
             0.4444444444444444,
             "#bd3786"
            ],
            [
             0.5555555555555556,
             "#d8576b"
            ],
            [
             0.6666666666666666,
             "#ed7953"
            ],
            [
             0.7777777777777778,
             "#fb9f3a"
            ],
            [
             0.8888888888888888,
             "#fdca26"
            ],
            [
             1,
             "#f0f921"
            ]
           ]
          },
          "colorway": [
           "#636efa",
           "#EF553B",
           "#00cc96",
           "#ab63fa",
           "#FFA15A",
           "#19d3f3",
           "#FF6692",
           "#B6E880",
           "#FF97FF",
           "#FECB52"
          ],
          "font": {
           "color": "#2a3f5f"
          },
          "geo": {
           "bgcolor": "white",
           "lakecolor": "white",
           "landcolor": "#E5ECF6",
           "showlakes": true,
           "showland": true,
           "subunitcolor": "white"
          },
          "hoverlabel": {
           "align": "left"
          },
          "hovermode": "closest",
          "mapbox": {
           "style": "light"
          },
          "paper_bgcolor": "white",
          "plot_bgcolor": "#E5ECF6",
          "polar": {
           "angularaxis": {
            "gridcolor": "white",
            "linecolor": "white",
            "ticks": ""
           },
           "bgcolor": "#E5ECF6",
           "radialaxis": {
            "gridcolor": "white",
            "linecolor": "white",
            "ticks": ""
           }
          },
          "scene": {
           "xaxis": {
            "backgroundcolor": "#E5ECF6",
            "gridcolor": "white",
            "gridwidth": 2,
            "linecolor": "white",
            "showbackground": true,
            "ticks": "",
            "zerolinecolor": "white"
           },
           "yaxis": {
            "backgroundcolor": "#E5ECF6",
            "gridcolor": "white",
            "gridwidth": 2,
            "linecolor": "white",
            "showbackground": true,
            "ticks": "",
            "zerolinecolor": "white"
           },
           "zaxis": {
            "backgroundcolor": "#E5ECF6",
            "gridcolor": "white",
            "gridwidth": 2,
            "linecolor": "white",
            "showbackground": true,
            "ticks": "",
            "zerolinecolor": "white"
           }
          },
          "shapedefaults": {
           "line": {
            "color": "#2a3f5f"
           }
          },
          "ternary": {
           "aaxis": {
            "gridcolor": "white",
            "linecolor": "white",
            "ticks": ""
           },
           "baxis": {
            "gridcolor": "white",
            "linecolor": "white",
            "ticks": ""
           },
           "bgcolor": "#E5ECF6",
           "caxis": {
            "gridcolor": "white",
            "linecolor": "white",
            "ticks": ""
           }
          },
          "title": {
           "x": 0.05
          },
          "xaxis": {
           "automargin": true,
           "gridcolor": "white",
           "linecolor": "white",
           "ticks": "",
           "title": {
            "standoff": 15
           },
           "zerolinecolor": "white",
           "zerolinewidth": 2
          },
          "yaxis": {
           "automargin": true,
           "gridcolor": "white",
           "linecolor": "white",
           "ticks": "",
           "title": {
            "standoff": 15
           },
           "zerolinecolor": "white",
           "zerolinewidth": 2
          }
         }
        },
        "title": {
         "font": {
          "color": "#4D5663"
         }
        },
        "xaxis": {
         "gridcolor": "#E1E5ED",
         "showgrid": true,
         "tickfont": {
          "color": "#4D5663"
         },
         "title": {
          "font": {
           "color": "#4D5663"
          },
          "text": ""
         },
         "zerolinecolor": "#E1E5ED"
        },
        "xaxis2": {
         "anchor": "y2",
         "gridcolor": "#E1E5ED",
         "showgrid": true,
         "showticklabels": false,
         "tickfont": {
          "color": "#4D5663"
         },
         "title": {
          "font": {
           "color": "#4D5663"
          },
          "text": ""
         },
         "zerolinecolor": "#E1E5ED"
        },
        "yaxis": {
         "domain": [
          0.3,
          1
         ],
         "gridcolor": "#E1E5ED",
         "showgrid": true,
         "tickfont": {
          "color": "#4D5663"
         },
         "title": {
          "font": {
           "color": "#4D5663"
          },
          "text": ""
         },
         "zerolinecolor": "#E1E5ED"
        },
        "yaxis2": {
         "domain": [
          0,
          0.25
         ],
         "gridcolor": "#E1E5ED",
         "showgrid": true,
         "tickfont": {
          "color": "#4D5663"
         },
         "title": {
          "font": {
           "color": "#4D5663"
          },
          "text": "Spread"
         },
         "zerolinecolor": "#E1E5ED"
        }
       }
      },
      "text/html": [
       "<div>                            <div id=\"9bf2f4d3-d8f5-4607-84f6-24e1f53b5a94\" class=\"plotly-graph-div\" style=\"height:525px; width:100%;\"></div>            <script type=\"text/javascript\">                require([\"plotly\"], function(Plotly) {                    window.PLOTLYENV=window.PLOTLYENV || {};\n",
       "                    window.PLOTLYENV.BASE_URL='https://plot.ly';                                    if (document.getElementById(\"9bf2f4d3-d8f5-4607-84f6-24e1f53b5a94\")) {                    Plotly.newPlot(                        \"9bf2f4d3-d8f5-4607-84f6-24e1f53b5a94\",                        [{\"line\":{\"color\":\"rgba(255, 153, 51, 1.0)\",\"dash\":\"solid\",\"shape\":\"linear\",\"width\":1.3},\"mode\":\"lines\",\"name\":\"John\",\"text\":\"\",\"x\":[0,1,2,3,4,5,6,7,8,9,10,11,12,13,14,15,16,17,18,19,20,21,22,23,24,25,26,27,28,29,30,31,32,33,34,35,36,37,38,39,40,41,42,43,44,45,46,47,48,49,50,51,52,53,54,55,56,57,58,59,60,61,62,63,64,65,66,67,68,69,70,71,72,73,74,75,76,77,78,79,80,81,82,83,84,85,86,87,88,89,90,91,92,93,94,95,96,97,98,99],\"y\":[0.019642646998532538,0.5102977624801204,0.24449280881659421,-0.09964374543098901,-0.8336301504091984,0.7633960938278734,0.008888279313414483,-0.04559506706851624,0.1928875749925488,0.03414630485056338,0.7264465808915783,1.0658884808652351,0.38523365088508876,1.5124214398730913,-1.6377485347546827,-0.7010980666045677,0.45739260615720606,0.4876140496185153,-1.0773443173458792,0.1156850759183294,-1.7276705506695154,-0.7605787719199244,-1.0185765341213795,-0.6973825682764789,0.6891443271530647,0.2866451570554162,-0.6019547431882285,1.0946069931759237,-0.25809283296644064,0.3711605045232904,2.016529005040461,1.4362079476882181,-1.8065697572276622,0.41709344375999546,-0.952273483938806,-0.33790763860390516,1.4653354860476666,-1.0364187829767437,-0.5958291555412103,-0.9095925468162066,-0.03443570936609096,0.41796253085085777,0.4985597267149191,1.256230814302931,0.3041815809519573,-0.7314944255391029,0.1347390648641512,0.36668711521731945,-1.345745456849986,-0.3024870212580657,0.38946023142969144,-2.2080623777024857,0.14690798112419792,-0.10214577252644914,-0.7558190914775792,1.636096524673409,-0.9350054629918986,-0.834717261048946,0.9042211849377907,-0.970097819261639,0.08302084353049828,0.122533351733746,-0.5668598556840447,1.2122897430202741,-0.2628230583023596,-1.319033630348968,-1.2725064526718661,2.0358158967569318,-0.8468257533048923,1.4882729870233895,-1.2205022462300505,-0.05757188230792311,1.367768040891796,-0.19921297667841037,0.4697389292048797,-1.3381417318782258,0.6524847805507301,-1.7994321764509653,-1.077881485573476,-1.3625099426155498,0.045648147491829216,0.563618810148228,-0.4786892358293386,0.47606615646569794,-0.8543313928147953,0.0925095317870382,-0.21597284215262857,0.4834183462334682,-0.9360044456206287,-0.6269954947934127,2.1712068293506985,0.016129286645642983,-0.8759971648778004,1.1406389788304063,-1.500404007263379,0.4829784953373957,1.5084272190275951,-1.9175664929088536,-0.7413752267077025,-0.13980204256336462],\"type\":\"scatter\"},{\"line\":{\"color\":\"rgba(55, 128, 191, 1.0)\",\"dash\":\"solid\",\"shape\":\"linear\",\"width\":1.3},\"mode\":\"lines\",\"name\":\"Doe\",\"text\":\"\",\"x\":[0,1,2,3,4,5,6,7,8,9,10,11,12,13,14,15,16,17,18,19,20,21,22,23,24,25,26,27,28,29,30,31,32,33,34,35,36,37,38,39,40,41,42,43,44,45,46,47,48,49,50,51,52,53,54,55,56,57,58,59,60,61,62,63,64,65,66,67,68,69,70,71,72,73,74,75,76,77,78,79,80,81,82,83,84,85,86,87,88,89,90,91,92,93,94,95,96,97,98,99],\"y\":[0.18932288313259496,1.3281660265941044,0.08260420682700166,0.19766344985332351,-1.3519755938004667,0.7152547986319213,2.1061290065425045,-0.4536884731298851,-1.314290670147277,1.2162156869830907,0.38627757098814897,1.0778958970219656,1.0172005524466166,-0.8363987977283873,0.6219718214710519,-0.10941421275248397,0.1834145301165497,1.6905631473724685,0.2830379714000602,0.8209176571110884,0.2712601644922478,2.6709808829839905,-0.038019966272632134,-0.800964216187689,-0.9772594874158484,-0.9996924316330814,0.6757843694951967,-0.9172910777638664,0.21534798195889704,-0.6649356062395503,-1.2190835483281803,1.6237785328878958,-0.17059875405261618,0.5863516626635352,-0.10759342108696314,-0.593705778613284,0.8306281292382299,2.1589815543497193,-1.0911341602641766,-0.40761643718218465,-2.383684095369639,0.009333505772728184,0.08093342989807364,-0.33071099419622413,-0.26004567740817947,-0.06395831153582572,-0.5989402137637061,-0.6142660522286667,-2.1372805837605546,1.5015600737392012,-1.4841755895742048,-0.4063083689229514,-1.4867589787693356,-0.7562643323620777,0.4865696831994064,-0.6436237599111508,-0.05723995074100056,0.41887052392231416,0.3141993864196437,-0.24322500286511342,0.7610647654161666,-0.5576576400296814,-0.01206385658904262,-0.9750812100109979,0.684081164985671,-1.5261851048875195,0.37714545839915764,-0.8713897574661608,-0.2241657499226878,-0.6870427813507797,-0.47336276072954436,0.26368992576199496,-0.20034751046151145,0.45876070741422004,-0.16879611580477616,1.576773398907753,0.30704353862755446,-0.4911660185041354,0.6111210148978148,-2.213938060785341,0.020347578904885685,-0.5256163213064886,-1.693539773930717,-0.2737625049855568,1.1277007342060812,-0.4849370930878959,-0.5219300157008511,-1.112720153303619,1.4405568615058983,-1.7859008692500788,1.2443992275160747,-0.3448053249356195,-1.1315614753988137,0.40563336698552666,0.4595262640725895,-0.5381022646055008,-0.5132149097842915,-0.31065608999022215,0.8944689282816258,-0.5132298585680108],\"type\":\"scatter\"},{\"connectgaps\":false,\"fill\":\"tozeroy\",\"line\":{\"color\":\"green\",\"dash\":\"solid\",\"shape\":\"linear\",\"width\":0.5},\"mode\":\"lines\",\"name\":\"Spread\",\"showlegend\":false,\"x\":[0,1,2,3,4,5,6,7,8,9,10,11,12,13,14,15,16,17,18,19,20,21,22,23,24,25,26,27,28,29,30,31,32,33,34,35,36,37,38,39,40,41,42,43,44,45,46,47,48,49,50,51,52,53,54,55,56,57,58,59,60,61,62,63,64,65,66,67,68,69,70,71,72,73,74,75,76,77,78,79,80,81,82,83,84,85,86,87,88,89,90,91,92,93,94,95,96,97,98,99],\"xaxis\":\"x2\",\"y\":[\"\",\"\",0.16188860198959254,\"\",0.5183454433912683,0.048141295195952116,\"\",0.40809340606136885,1.5071782451398257,\"\",0.34016900990342935,\"\",\"\",2.348820237601479,\"\",\"\",0.2739780760406564,\"\",\"\",\"\",\"\",\"\",\"\",0.10358164791121005,1.666403814568913,1.2863375886884976,\"\",2.01189807093979,\"\",1.0360961107628408,3.2356125533686413,\"\",\"\",\"\",\"\",0.25579814000937884,0.6347073568094367,\"\",0.49530500472296635,\"\",2.349248386003548,0.4086290250781296,0.4176262968168455,1.5869418084991551,0.5642272583601368,\"\",0.7336792786278573,0.9809531674459862,0.7915351269105686,\"\",1.8736358210038961,\"\",1.6336669598935336,0.6541185598356285,\"\",2.2797202845845597,\"\",\"\",0.5900217985181471,\"\",\"\",0.6801909917634275,\"\",2.187370953031272,\"\",0.20715147453855143,\"\",2.9072056542230924,\"\",2.175315768374169,\"\",\"\",1.5681155513533076,\"\",0.6385350450096559,\"\",0.34544124192317566,\"\",\"\",0.8514281181697911,0.02530056858694353,1.0892351314547166,1.2148505381013783,0.7498286614512548,\"\",0.5774466248749341,0.3059571735482225,1.5961384995370873,\"\",1.1589053744566662,0.9268076018346239,0.3609346115812625,0.25556431052101325,0.7350056118448797,\"\",1.0210807599428966,2.0216421288118864,\"\",\"\",0.37342781600464625],\"yaxis\":\"y2\",\"type\":\"scatter\"},{\"connectgaps\":false,\"fill\":\"tozeroy\",\"line\":{\"color\":\"red\",\"dash\":\"solid\",\"shape\":\"linear\",\"width\":0.5},\"mode\":\"lines\",\"name\":\"Spread\",\"showlegend\":false,\"x\":[0,1,2,3,4,5,6,7,8,9,10,11,12,13,14,15,16,17,18,19,20,21,22,23,24,25,26,27,28,29,30,31,32,33,34,35,36,37,38,39,40,41,42,43,44,45,46,47,48,49,50,51,52,53,54,55,56,57,58,59,60,61,62,63,64,65,66,67,68,69,70,71,72,73,74,75,76,77,78,79,80,81,82,83,84,85,86,87,88,89,90,91,92,93,94,95,96,97,98,99],\"xaxis\":\"x2\",\"y\":[-0.1696802361340624,-0.8178682641139841,\"\",-0.29730719528431254,\"\",\"\",-2.09724072722909,\"\",\"\",-1.1820693821325272,\"\",-0.01200741615673051,-0.6319669015615278,\"\",-2.259720356225735,-0.5916838538520838,\"\",-1.2029490977539532,-1.3603822887459394,-0.705232581192759,-1.9989307151617632,-3.431559654903915,-0.9805565678487473,\"\",\"\",\"\",-1.2777391126834252,\"\",-0.4734408149253377,\"\",\"\",-0.18757058519967762,-1.635971003175046,-0.16925821890353976,-0.8446800628518428,\"\",\"\",-3.195400337326463,\"\",-0.501976109634022,\"\",\"\",\"\",\"\",\"\",-0.6675361140032772,\"\",\"\",\"\",-1.804047094997267,\"\",-1.8017540087795343,\"\",\"\",-1.2423887746769857,\"\",-0.877765512250898,-1.25358778497126,\"\",-0.7268728163965256,-0.6780439218856683,\"\",-0.5547959990950021,\"\",-0.9469042232880305,\"\",-1.6496519110710237,\"\",-0.6226600033822045,\"\",-0.7471394855005062,-0.32126180806991805,\"\",-0.6579736840926305,\"\",-2.914915130785979,\"\",-1.30826615794683,-1.6890025004712907,\"\",\"\",\"\",\"\",\"\",-1.9820321270208765,\"\",\"\",\"\",-2.376561307126527,\"\",\"\",\"\",\"\",\"\",-1.9599302713359685,\"\",\"\",-1.6069104029186314,-1.6358441549893283,\"\"],\"yaxis\":\"y2\",\"type\":\"scatter\"}],                        {\"hovermode\":\"x\",\"legend\":{\"bgcolor\":\"#F5F6F9\",\"font\":{\"color\":\"#4D5663\"}},\"paper_bgcolor\":\"#F5F6F9\",\"plot_bgcolor\":\"#F5F6F9\",\"template\":{\"data\":{\"barpolar\":[{\"marker\":{\"line\":{\"color\":\"#E5ECF6\",\"width\":0.5},\"pattern\":{\"fillmode\":\"overlay\",\"size\":10,\"solidity\":0.2}},\"type\":\"barpolar\"}],\"bar\":[{\"error_x\":{\"color\":\"#2a3f5f\"},\"error_y\":{\"color\":\"#2a3f5f\"},\"marker\":{\"line\":{\"color\":\"#E5ECF6\",\"width\":0.5},\"pattern\":{\"fillmode\":\"overlay\",\"size\":10,\"solidity\":0.2}},\"type\":\"bar\"}],\"carpet\":[{\"aaxis\":{\"endlinecolor\":\"#2a3f5f\",\"gridcolor\":\"white\",\"linecolor\":\"white\",\"minorgridcolor\":\"white\",\"startlinecolor\":\"#2a3f5f\"},\"baxis\":{\"endlinecolor\":\"#2a3f5f\",\"gridcolor\":\"white\",\"linecolor\":\"white\",\"minorgridcolor\":\"white\",\"startlinecolor\":\"#2a3f5f\"},\"type\":\"carpet\"}],\"choropleth\":[{\"colorbar\":{\"outlinewidth\":0,\"ticks\":\"\"},\"type\":\"choropleth\"}],\"contourcarpet\":[{\"colorbar\":{\"outlinewidth\":0,\"ticks\":\"\"},\"type\":\"contourcarpet\"}],\"contour\":[{\"colorbar\":{\"outlinewidth\":0,\"ticks\":\"\"},\"colorscale\":[[0.0,\"#0d0887\"],[0.1111111111111111,\"#46039f\"],[0.2222222222222222,\"#7201a8\"],[0.3333333333333333,\"#9c179e\"],[0.4444444444444444,\"#bd3786\"],[0.5555555555555556,\"#d8576b\"],[0.6666666666666666,\"#ed7953\"],[0.7777777777777778,\"#fb9f3a\"],[0.8888888888888888,\"#fdca26\"],[1.0,\"#f0f921\"]],\"type\":\"contour\"}],\"heatmapgl\":[{\"colorbar\":{\"outlinewidth\":0,\"ticks\":\"\"},\"colorscale\":[[0.0,\"#0d0887\"],[0.1111111111111111,\"#46039f\"],[0.2222222222222222,\"#7201a8\"],[0.3333333333333333,\"#9c179e\"],[0.4444444444444444,\"#bd3786\"],[0.5555555555555556,\"#d8576b\"],[0.6666666666666666,\"#ed7953\"],[0.7777777777777778,\"#fb9f3a\"],[0.8888888888888888,\"#fdca26\"],[1.0,\"#f0f921\"]],\"type\":\"heatmapgl\"}],\"heatmap\":[{\"colorbar\":{\"outlinewidth\":0,\"ticks\":\"\"},\"colorscale\":[[0.0,\"#0d0887\"],[0.1111111111111111,\"#46039f\"],[0.2222222222222222,\"#7201a8\"],[0.3333333333333333,\"#9c179e\"],[0.4444444444444444,\"#bd3786\"],[0.5555555555555556,\"#d8576b\"],[0.6666666666666666,\"#ed7953\"],[0.7777777777777778,\"#fb9f3a\"],[0.8888888888888888,\"#fdca26\"],[1.0,\"#f0f921\"]],\"type\":\"heatmap\"}],\"histogram2dcontour\":[{\"colorbar\":{\"outlinewidth\":0,\"ticks\":\"\"},\"colorscale\":[[0.0,\"#0d0887\"],[0.1111111111111111,\"#46039f\"],[0.2222222222222222,\"#7201a8\"],[0.3333333333333333,\"#9c179e\"],[0.4444444444444444,\"#bd3786\"],[0.5555555555555556,\"#d8576b\"],[0.6666666666666666,\"#ed7953\"],[0.7777777777777778,\"#fb9f3a\"],[0.8888888888888888,\"#fdca26\"],[1.0,\"#f0f921\"]],\"type\":\"histogram2dcontour\"}],\"histogram2d\":[{\"colorbar\":{\"outlinewidth\":0,\"ticks\":\"\"},\"colorscale\":[[0.0,\"#0d0887\"],[0.1111111111111111,\"#46039f\"],[0.2222222222222222,\"#7201a8\"],[0.3333333333333333,\"#9c179e\"],[0.4444444444444444,\"#bd3786\"],[0.5555555555555556,\"#d8576b\"],[0.6666666666666666,\"#ed7953\"],[0.7777777777777778,\"#fb9f3a\"],[0.8888888888888888,\"#fdca26\"],[1.0,\"#f0f921\"]],\"type\":\"histogram2d\"}],\"histogram\":[{\"marker\":{\"pattern\":{\"fillmode\":\"overlay\",\"size\":10,\"solidity\":0.2}},\"type\":\"histogram\"}],\"mesh3d\":[{\"colorbar\":{\"outlinewidth\":0,\"ticks\":\"\"},\"type\":\"mesh3d\"}],\"parcoords\":[{\"line\":{\"colorbar\":{\"outlinewidth\":0,\"ticks\":\"\"}},\"type\":\"parcoords\"}],\"pie\":[{\"automargin\":true,\"type\":\"pie\"}],\"scatter3d\":[{\"line\":{\"colorbar\":{\"outlinewidth\":0,\"ticks\":\"\"}},\"marker\":{\"colorbar\":{\"outlinewidth\":0,\"ticks\":\"\"}},\"type\":\"scatter3d\"}],\"scattercarpet\":[{\"marker\":{\"colorbar\":{\"outlinewidth\":0,\"ticks\":\"\"}},\"type\":\"scattercarpet\"}],\"scattergeo\":[{\"marker\":{\"colorbar\":{\"outlinewidth\":0,\"ticks\":\"\"}},\"type\":\"scattergeo\"}],\"scattergl\":[{\"marker\":{\"colorbar\":{\"outlinewidth\":0,\"ticks\":\"\"}},\"type\":\"scattergl\"}],\"scattermapbox\":[{\"marker\":{\"colorbar\":{\"outlinewidth\":0,\"ticks\":\"\"}},\"type\":\"scattermapbox\"}],\"scatterpolargl\":[{\"marker\":{\"colorbar\":{\"outlinewidth\":0,\"ticks\":\"\"}},\"type\":\"scatterpolargl\"}],\"scatterpolar\":[{\"marker\":{\"colorbar\":{\"outlinewidth\":0,\"ticks\":\"\"}},\"type\":\"scatterpolar\"}],\"scatter\":[{\"fillpattern\":{\"fillmode\":\"overlay\",\"size\":10,\"solidity\":0.2},\"type\":\"scatter\"}],\"scatterternary\":[{\"marker\":{\"colorbar\":{\"outlinewidth\":0,\"ticks\":\"\"}},\"type\":\"scatterternary\"}],\"surface\":[{\"colorbar\":{\"outlinewidth\":0,\"ticks\":\"\"},\"colorscale\":[[0.0,\"#0d0887\"],[0.1111111111111111,\"#46039f\"],[0.2222222222222222,\"#7201a8\"],[0.3333333333333333,\"#9c179e\"],[0.4444444444444444,\"#bd3786\"],[0.5555555555555556,\"#d8576b\"],[0.6666666666666666,\"#ed7953\"],[0.7777777777777778,\"#fb9f3a\"],[0.8888888888888888,\"#fdca26\"],[1.0,\"#f0f921\"]],\"type\":\"surface\"}],\"table\":[{\"cells\":{\"fill\":{\"color\":\"#EBF0F8\"},\"line\":{\"color\":\"white\"}},\"header\":{\"fill\":{\"color\":\"#C8D4E3\"},\"line\":{\"color\":\"white\"}},\"type\":\"table\"}]},\"layout\":{\"annotationdefaults\":{\"arrowcolor\":\"#2a3f5f\",\"arrowhead\":0,\"arrowwidth\":1},\"autotypenumbers\":\"strict\",\"coloraxis\":{\"colorbar\":{\"outlinewidth\":0,\"ticks\":\"\"}},\"colorscale\":{\"diverging\":[[0,\"#8e0152\"],[0.1,\"#c51b7d\"],[0.2,\"#de77ae\"],[0.3,\"#f1b6da\"],[0.4,\"#fde0ef\"],[0.5,\"#f7f7f7\"],[0.6,\"#e6f5d0\"],[0.7,\"#b8e186\"],[0.8,\"#7fbc41\"],[0.9,\"#4d9221\"],[1,\"#276419\"]],\"sequential\":[[0.0,\"#0d0887\"],[0.1111111111111111,\"#46039f\"],[0.2222222222222222,\"#7201a8\"],[0.3333333333333333,\"#9c179e\"],[0.4444444444444444,\"#bd3786\"],[0.5555555555555556,\"#d8576b\"],[0.6666666666666666,\"#ed7953\"],[0.7777777777777778,\"#fb9f3a\"],[0.8888888888888888,\"#fdca26\"],[1.0,\"#f0f921\"]],\"sequentialminus\":[[0.0,\"#0d0887\"],[0.1111111111111111,\"#46039f\"],[0.2222222222222222,\"#7201a8\"],[0.3333333333333333,\"#9c179e\"],[0.4444444444444444,\"#bd3786\"],[0.5555555555555556,\"#d8576b\"],[0.6666666666666666,\"#ed7953\"],[0.7777777777777778,\"#fb9f3a\"],[0.8888888888888888,\"#fdca26\"],[1.0,\"#f0f921\"]]},\"colorway\":[\"#636efa\",\"#EF553B\",\"#00cc96\",\"#ab63fa\",\"#FFA15A\",\"#19d3f3\",\"#FF6692\",\"#B6E880\",\"#FF97FF\",\"#FECB52\"],\"font\":{\"color\":\"#2a3f5f\"},\"geo\":{\"bgcolor\":\"white\",\"lakecolor\":\"white\",\"landcolor\":\"#E5ECF6\",\"showlakes\":true,\"showland\":true,\"subunitcolor\":\"white\"},\"hoverlabel\":{\"align\":\"left\"},\"hovermode\":\"closest\",\"mapbox\":{\"style\":\"light\"},\"paper_bgcolor\":\"white\",\"plot_bgcolor\":\"#E5ECF6\",\"polar\":{\"angularaxis\":{\"gridcolor\":\"white\",\"linecolor\":\"white\",\"ticks\":\"\"},\"bgcolor\":\"#E5ECF6\",\"radialaxis\":{\"gridcolor\":\"white\",\"linecolor\":\"white\",\"ticks\":\"\"}},\"scene\":{\"xaxis\":{\"backgroundcolor\":\"#E5ECF6\",\"gridcolor\":\"white\",\"gridwidth\":2,\"linecolor\":\"white\",\"showbackground\":true,\"ticks\":\"\",\"zerolinecolor\":\"white\"},\"yaxis\":{\"backgroundcolor\":\"#E5ECF6\",\"gridcolor\":\"white\",\"gridwidth\":2,\"linecolor\":\"white\",\"showbackground\":true,\"ticks\":\"\",\"zerolinecolor\":\"white\"},\"zaxis\":{\"backgroundcolor\":\"#E5ECF6\",\"gridcolor\":\"white\",\"gridwidth\":2,\"linecolor\":\"white\",\"showbackground\":true,\"ticks\":\"\",\"zerolinecolor\":\"white\"}},\"shapedefaults\":{\"line\":{\"color\":\"#2a3f5f\"}},\"ternary\":{\"aaxis\":{\"gridcolor\":\"white\",\"linecolor\":\"white\",\"ticks\":\"\"},\"baxis\":{\"gridcolor\":\"white\",\"linecolor\":\"white\",\"ticks\":\"\"},\"bgcolor\":\"#E5ECF6\",\"caxis\":{\"gridcolor\":\"white\",\"linecolor\":\"white\",\"ticks\":\"\"}},\"title\":{\"x\":0.05},\"xaxis\":{\"automargin\":true,\"gridcolor\":\"white\",\"linecolor\":\"white\",\"ticks\":\"\",\"title\":{\"standoff\":15},\"zerolinecolor\":\"white\",\"zerolinewidth\":2},\"yaxis\":{\"automargin\":true,\"gridcolor\":\"white\",\"linecolor\":\"white\",\"ticks\":\"\",\"title\":{\"standoff\":15},\"zerolinecolor\":\"white\",\"zerolinewidth\":2}}},\"title\":{\"font\":{\"color\":\"#4D5663\"}},\"xaxis\":{\"gridcolor\":\"#E1E5ED\",\"showgrid\":true,\"tickfont\":{\"color\":\"#4D5663\"},\"title\":{\"font\":{\"color\":\"#4D5663\"},\"text\":\"\"},\"zerolinecolor\":\"#E1E5ED\"},\"yaxis\":{\"domain\":[0.3,1],\"gridcolor\":\"#E1E5ED\",\"showgrid\":true,\"tickfont\":{\"color\":\"#4D5663\"},\"title\":{\"font\":{\"color\":\"#4D5663\"},\"text\":\"\"},\"zerolinecolor\":\"#E1E5ED\"},\"yaxis2\":{\"domain\":[0,0.25],\"gridcolor\":\"#E1E5ED\",\"showgrid\":true,\"tickfont\":{\"color\":\"#4D5663\"},\"title\":{\"font\":{\"color\":\"#4D5663\"},\"text\":\"Spread\"},\"zerolinecolor\":\"#E1E5ED\"},\"xaxis2\":{\"anchor\":\"y2\",\"gridcolor\":\"#E1E5ED\",\"showgrid\":true,\"showticklabels\":false,\"tickfont\":{\"color\":\"#4D5663\"},\"title\":{\"font\":{\"color\":\"#4D5663\"},\"text\":\"\"},\"zerolinecolor\":\"#E1E5ED\"}},                        {\"showLink\": true, \"linkText\": \"Export to plot.ly\", \"plotlyServerURL\": \"https://plot.ly\", \"responsive\": true}                    ).then(function(){\n",
       "                            \n",
       "var gd = document.getElementById('9bf2f4d3-d8f5-4607-84f6-24e1f53b5a94');\n",
       "var x = new MutationObserver(function (mutations, observer) {{\n",
       "        var display = window.getComputedStyle(gd).display;\n",
       "        if (!display || display === 'none') {{\n",
       "            console.log([gd, 'removed!']);\n",
       "            Plotly.purge(gd);\n",
       "            observer.disconnect();\n",
       "        }}\n",
       "}});\n",
       "\n",
       "// Listen for the removal of the full notebook cells\n",
       "var notebookContainer = gd.closest('#notebook-container');\n",
       "if (notebookContainer) {{\n",
       "    x.observe(notebookContainer, {childList: true});\n",
       "}}\n",
       "\n",
       "// Listen for the clearing of the current output cell\n",
       "var outputEl = gd.closest('.output');\n",
       "if (outputEl) {{\n",
       "    x.observe(outputEl, {childList: true});\n",
       "}}\n",
       "\n",
       "                        })                };                });            </script>        </div>"
      ]
     },
     "metadata": {},
     "output_type": "display_data"
    }
   ],
   "source": [
    "df[['John','Doe']].iplot(kind='spread')"
   ]
  },
  {
   "cell_type": "code",
   "execution_count": 22,
   "id": "52e6204f-15de-41d6-b0f4-b872037959c6",
   "metadata": {},
   "outputs": [
    {
     "data": {
      "application/vnd.plotly.v1+json": {
       "config": {
        "linkText": "Export to plot.ly",
        "plotlyServerURL": "https://plot.ly",
        "showLink": true
       },
       "data": [
        {
         "marker": {
          "color": [
           "rgb(255, 153, 51)",
           "rgb(55, 128, 191)",
           "rgb(50, 171, 96)",
           "rgb(128, 0, 128)",
           "rgb(219, 64, 82)",
           "rgb(0, 128, 128)",
           "rgb(255, 255, 51)",
           "rgb(128, 128, 0)",
           "rgb(251, 128, 114)",
           "rgb(128, 177, 211)"
          ],
          "line": {
           "width": 1.3
          },
          "size": [
           62,
           74,
           68,
           60,
           43,
           79,
           62,
           61,
           66,
           63,
           79,
           86,
           71,
           96,
           25,
           46,
           72,
           73,
           37,
           65,
           22,
           45,
           39,
           46,
           78,
           68,
           48,
           87,
           56,
           70,
           108,
           95,
           21,
           71,
           40,
           54,
           95,
           38,
           48,
           41,
           61,
           71,
           73,
           91,
           69,
           45,
           65,
           70,
           31,
           55,
           71,
           12,
           65,
           60,
           45,
           99,
           41,
           43,
           83,
           40,
           64,
           65,
           49,
           90,
           56,
           32,
           33,
           108,
           43,
           96,
           34,
           61,
           93,
           57,
           73,
           31,
           77,
           21,
           37,
           31,
           63,
           75,
           51,
           73,
           42,
           64,
           57,
           73,
           41,
           48,
           112,
           62,
           42,
           88,
           28,
           73,
           96,
           18,
           45,
           59
          ],
          "symbol": "circle"
         },
         "mode": "markers",
         "text": "",
         "type": "scatter",
         "x": [
          0.020344460919605414,
          0.3462067161994248,
          0.17475916773203,
          1.5090626015195374,
          -0.4122208025818858,
          1.325337250095666,
          1.029866726130267,
          0.35064166507739725,
          0.9018799479323362,
          0.5046379467013828,
          0.534879942562968,
          0.10842387462848369,
          0.588422036103608,
          -0.01982207886584693,
          -0.6602670412667222,
          2.0594232095291405,
          -1.0664536958778772,
          0.9971590272421421,
          -0.419793450722026,
          -0.2868524725708644,
          1.5868280287464456,
          1.3642100845066147,
          0.4340492999209859,
          0.45187959111753234,
          0.7078472047688987,
          0.09622795159705001,
          -1.1278129617893926,
          0.9977539884117823,
          0.3898509544393391,
          -1.4453076915556564,
          -1.576959872160643,
          -1.7046069712375977,
          -0.9231990158881069,
          -1.539771719932798,
          0.1566058015997379,
          0.9036201624310277,
          0.40922130611714763,
          -0.614293801940151,
          -0.6273421217949555,
          1.2278507854586656,
          -0.6407675535419343,
          0.6540944755362336,
          0.7604357209718133,
          -1.5958031294720738,
          0.6384119218048553,
          1.6936312784352094,
          0.027377691105506207,
          0.5974207515989416,
          0.9732777312488076,
          -0.7983686208973904,
          -0.45929109595605755,
          0.42291223822053114,
          -0.3962140944152771,
          -2.0538570270466128,
          0.8055831452517226,
          0.08283220045954048,
          -2.0530799664162123,
          0.99407542444314,
          -0.6081559207174255,
          -0.6100039706517446,
          -0.059202928282162136,
          0.7638558716751972,
          1.5591072081500168,
          0.1407648608438338,
          0.1305287174305653,
          -0.24890282654787316,
          0.1960182491909555,
          -0.7395354388428351,
          -0.4900693987853215,
          -0.5829714807721302,
          0.4102840775139383,
          -0.8148124122744025,
          -0.0925608094388613,
          0.28783455859141643,
          -0.14238079545525237,
          -0.6251148156843083,
          0.6926933942593309,
          1.1229363887483916,
          -0.3104205138275535,
          1.2285728076630065,
          0.7072976367701932,
          -0.451354424910134,
          0.8305601329639444,
          1.6559291353284744,
          -0.331227360650665,
          0.45302812066839865,
          -0.4871842256267353,
          -2.0964124991912985,
          -0.6806087424626511,
          0.058105948903216506,
          3.202042974898475,
          -0.7410960417431232,
          0.18837589717535844,
          -0.31757443030843835,
          -0.09035881966556931,
          -0.8820890438553275,
          -0.357131255166717,
          0.006772012697767498,
          0.10935341583295807,
          1.359680187829212
         ],
         "y": [
          0.24937027334314316,
          -1.291424215603698,
          -0.4884012392345033,
          0.9532605534879363,
          2.3477005384206446,
          -1.0144239588546686,
          0.977099564603622,
          0.6168188802196694,
          -0.47560848458068333,
          0.8824737194957732,
          -1.4446977790153614,
          0.12627289529585273,
          0.24452288567558209,
          1.4803110759003795,
          1.8756290628133423,
          1.508162373590915,
          1.599052533345483,
          0.2618922581459752,
          2.12104217913582,
          0.808950397331336,
          -1.109094108308861,
          1.602083088917013,
          1.5768855759488984,
          1.005546370581314,
          -0.028537663788296124,
          -0.9521565165466842,
          -0.2694289632388691,
          0.33914099158362493,
          1.4848879735793097,
          -0.15952953831767577,
          0.5182428314779433,
          1.1493720658921305,
          0.30439104363373704,
          2.205722994703418,
          -0.9470086306875309,
          1.177834410972747,
          -0.9282409641187047,
          -1.1566182571832813,
          -0.5294052252444668,
          0.902653589829433,
          1.483146465740587,
          0.03747260476148352,
          -1.9110923237948987,
          -0.6612479030226804,
          0.5060241559272375,
          -1.7917820122316197,
          -0.4334998009209104,
          -1.6900226944935148,
          0.32390106016061765,
          -1.7753081467012586,
          1.7314152310140727,
          1.105940310866183,
          1.1211825454639375,
          -1.6068916682728345,
          -0.720547522323849,
          0.18068597517981844,
          -1.955738411816919,
          0.6726488254609667,
          0.5008582854675393,
          -0.6348169547283224,
          0.7258906936858436,
          -1.6280533559714265,
          -0.8452387063567807,
          -1.3127124095500966,
          1.4963497910833603,
          -0.27598207528628477,
          -0.22898495696167098,
          3.2675260228973384,
          -0.1862118745000819,
          0.352276323220306,
          0.29507517067968014,
          -0.3942808789972401,
          1.0284427652707993,
          1.2898001084397912,
          0.7705846439237007,
          -0.07355561105383403,
          -0.8449567375803194,
          -0.2530211972433086,
          -0.554226570610661,
          1.3099790240284408,
          -1.4976695060801464,
          -0.584939513569232,
          1.5641595185858919,
          1.018081520470552,
          1.4032815131925347,
          -0.6098160950068922,
          1.7619258459944727,
          -0.10746200784864435,
          -1.5375281243471617,
          -1.922579834123578,
          -0.8169181127599872,
          -0.0786697122584202,
          0.7677043271127714,
          0.33516517396777745,
          0.08496112422441039,
          0.09309029552920575,
          0.774275523501191,
          0.6168438544923766,
          -0.762326463653972,
          -0.7329996342331008
         ]
        }
       ],
       "layout": {
        "legend": {
         "bgcolor": "#F5F6F9",
         "font": {
          "color": "#4D5663"
         }
        },
        "paper_bgcolor": "#F5F6F9",
        "plot_bgcolor": "#F5F6F9",
        "template": {
         "data": {
          "bar": [
           {
            "error_x": {
             "color": "#2a3f5f"
            },
            "error_y": {
             "color": "#2a3f5f"
            },
            "marker": {
             "line": {
              "color": "#E5ECF6",
              "width": 0.5
             },
             "pattern": {
              "fillmode": "overlay",
              "size": 10,
              "solidity": 0.2
             }
            },
            "type": "bar"
           }
          ],
          "barpolar": [
           {
            "marker": {
             "line": {
              "color": "#E5ECF6",
              "width": 0.5
             },
             "pattern": {
              "fillmode": "overlay",
              "size": 10,
              "solidity": 0.2
             }
            },
            "type": "barpolar"
           }
          ],
          "carpet": [
           {
            "aaxis": {
             "endlinecolor": "#2a3f5f",
             "gridcolor": "white",
             "linecolor": "white",
             "minorgridcolor": "white",
             "startlinecolor": "#2a3f5f"
            },
            "baxis": {
             "endlinecolor": "#2a3f5f",
             "gridcolor": "white",
             "linecolor": "white",
             "minorgridcolor": "white",
             "startlinecolor": "#2a3f5f"
            },
            "type": "carpet"
           }
          ],
          "choropleth": [
           {
            "colorbar": {
             "outlinewidth": 0,
             "ticks": ""
            },
            "type": "choropleth"
           }
          ],
          "contour": [
           {
            "colorbar": {
             "outlinewidth": 0,
             "ticks": ""
            },
            "colorscale": [
             [
              0,
              "#0d0887"
             ],
             [
              0.1111111111111111,
              "#46039f"
             ],
             [
              0.2222222222222222,
              "#7201a8"
             ],
             [
              0.3333333333333333,
              "#9c179e"
             ],
             [
              0.4444444444444444,
              "#bd3786"
             ],
             [
              0.5555555555555556,
              "#d8576b"
             ],
             [
              0.6666666666666666,
              "#ed7953"
             ],
             [
              0.7777777777777778,
              "#fb9f3a"
             ],
             [
              0.8888888888888888,
              "#fdca26"
             ],
             [
              1,
              "#f0f921"
             ]
            ],
            "type": "contour"
           }
          ],
          "contourcarpet": [
           {
            "colorbar": {
             "outlinewidth": 0,
             "ticks": ""
            },
            "type": "contourcarpet"
           }
          ],
          "heatmap": [
           {
            "colorbar": {
             "outlinewidth": 0,
             "ticks": ""
            },
            "colorscale": [
             [
              0,
              "#0d0887"
             ],
             [
              0.1111111111111111,
              "#46039f"
             ],
             [
              0.2222222222222222,
              "#7201a8"
             ],
             [
              0.3333333333333333,
              "#9c179e"
             ],
             [
              0.4444444444444444,
              "#bd3786"
             ],
             [
              0.5555555555555556,
              "#d8576b"
             ],
             [
              0.6666666666666666,
              "#ed7953"
             ],
             [
              0.7777777777777778,
              "#fb9f3a"
             ],
             [
              0.8888888888888888,
              "#fdca26"
             ],
             [
              1,
              "#f0f921"
             ]
            ],
            "type": "heatmap"
           }
          ],
          "heatmapgl": [
           {
            "colorbar": {
             "outlinewidth": 0,
             "ticks": ""
            },
            "colorscale": [
             [
              0,
              "#0d0887"
             ],
             [
              0.1111111111111111,
              "#46039f"
             ],
             [
              0.2222222222222222,
              "#7201a8"
             ],
             [
              0.3333333333333333,
              "#9c179e"
             ],
             [
              0.4444444444444444,
              "#bd3786"
             ],
             [
              0.5555555555555556,
              "#d8576b"
             ],
             [
              0.6666666666666666,
              "#ed7953"
             ],
             [
              0.7777777777777778,
              "#fb9f3a"
             ],
             [
              0.8888888888888888,
              "#fdca26"
             ],
             [
              1,
              "#f0f921"
             ]
            ],
            "type": "heatmapgl"
           }
          ],
          "histogram": [
           {
            "marker": {
             "pattern": {
              "fillmode": "overlay",
              "size": 10,
              "solidity": 0.2
             }
            },
            "type": "histogram"
           }
          ],
          "histogram2d": [
           {
            "colorbar": {
             "outlinewidth": 0,
             "ticks": ""
            },
            "colorscale": [
             [
              0,
              "#0d0887"
             ],
             [
              0.1111111111111111,
              "#46039f"
             ],
             [
              0.2222222222222222,
              "#7201a8"
             ],
             [
              0.3333333333333333,
              "#9c179e"
             ],
             [
              0.4444444444444444,
              "#bd3786"
             ],
             [
              0.5555555555555556,
              "#d8576b"
             ],
             [
              0.6666666666666666,
              "#ed7953"
             ],
             [
              0.7777777777777778,
              "#fb9f3a"
             ],
             [
              0.8888888888888888,
              "#fdca26"
             ],
             [
              1,
              "#f0f921"
             ]
            ],
            "type": "histogram2d"
           }
          ],
          "histogram2dcontour": [
           {
            "colorbar": {
             "outlinewidth": 0,
             "ticks": ""
            },
            "colorscale": [
             [
              0,
              "#0d0887"
             ],
             [
              0.1111111111111111,
              "#46039f"
             ],
             [
              0.2222222222222222,
              "#7201a8"
             ],
             [
              0.3333333333333333,
              "#9c179e"
             ],
             [
              0.4444444444444444,
              "#bd3786"
             ],
             [
              0.5555555555555556,
              "#d8576b"
             ],
             [
              0.6666666666666666,
              "#ed7953"
             ],
             [
              0.7777777777777778,
              "#fb9f3a"
             ],
             [
              0.8888888888888888,
              "#fdca26"
             ],
             [
              1,
              "#f0f921"
             ]
            ],
            "type": "histogram2dcontour"
           }
          ],
          "mesh3d": [
           {
            "colorbar": {
             "outlinewidth": 0,
             "ticks": ""
            },
            "type": "mesh3d"
           }
          ],
          "parcoords": [
           {
            "line": {
             "colorbar": {
              "outlinewidth": 0,
              "ticks": ""
             }
            },
            "type": "parcoords"
           }
          ],
          "pie": [
           {
            "automargin": true,
            "type": "pie"
           }
          ],
          "scatter": [
           {
            "fillpattern": {
             "fillmode": "overlay",
             "size": 10,
             "solidity": 0.2
            },
            "type": "scatter"
           }
          ],
          "scatter3d": [
           {
            "line": {
             "colorbar": {
              "outlinewidth": 0,
              "ticks": ""
             }
            },
            "marker": {
             "colorbar": {
              "outlinewidth": 0,
              "ticks": ""
             }
            },
            "type": "scatter3d"
           }
          ],
          "scattercarpet": [
           {
            "marker": {
             "colorbar": {
              "outlinewidth": 0,
              "ticks": ""
             }
            },
            "type": "scattercarpet"
           }
          ],
          "scattergeo": [
           {
            "marker": {
             "colorbar": {
              "outlinewidth": 0,
              "ticks": ""
             }
            },
            "type": "scattergeo"
           }
          ],
          "scattergl": [
           {
            "marker": {
             "colorbar": {
              "outlinewidth": 0,
              "ticks": ""
             }
            },
            "type": "scattergl"
           }
          ],
          "scattermapbox": [
           {
            "marker": {
             "colorbar": {
              "outlinewidth": 0,
              "ticks": ""
             }
            },
            "type": "scattermapbox"
           }
          ],
          "scatterpolar": [
           {
            "marker": {
             "colorbar": {
              "outlinewidth": 0,
              "ticks": ""
             }
            },
            "type": "scatterpolar"
           }
          ],
          "scatterpolargl": [
           {
            "marker": {
             "colorbar": {
              "outlinewidth": 0,
              "ticks": ""
             }
            },
            "type": "scatterpolargl"
           }
          ],
          "scatterternary": [
           {
            "marker": {
             "colorbar": {
              "outlinewidth": 0,
              "ticks": ""
             }
            },
            "type": "scatterternary"
           }
          ],
          "surface": [
           {
            "colorbar": {
             "outlinewidth": 0,
             "ticks": ""
            },
            "colorscale": [
             [
              0,
              "#0d0887"
             ],
             [
              0.1111111111111111,
              "#46039f"
             ],
             [
              0.2222222222222222,
              "#7201a8"
             ],
             [
              0.3333333333333333,
              "#9c179e"
             ],
             [
              0.4444444444444444,
              "#bd3786"
             ],
             [
              0.5555555555555556,
              "#d8576b"
             ],
             [
              0.6666666666666666,
              "#ed7953"
             ],
             [
              0.7777777777777778,
              "#fb9f3a"
             ],
             [
              0.8888888888888888,
              "#fdca26"
             ],
             [
              1,
              "#f0f921"
             ]
            ],
            "type": "surface"
           }
          ],
          "table": [
           {
            "cells": {
             "fill": {
              "color": "#EBF0F8"
             },
             "line": {
              "color": "white"
             }
            },
            "header": {
             "fill": {
              "color": "#C8D4E3"
             },
             "line": {
              "color": "white"
             }
            },
            "type": "table"
           }
          ]
         },
         "layout": {
          "annotationdefaults": {
           "arrowcolor": "#2a3f5f",
           "arrowhead": 0,
           "arrowwidth": 1
          },
          "autotypenumbers": "strict",
          "coloraxis": {
           "colorbar": {
            "outlinewidth": 0,
            "ticks": ""
           }
          },
          "colorscale": {
           "diverging": [
            [
             0,
             "#8e0152"
            ],
            [
             0.1,
             "#c51b7d"
            ],
            [
             0.2,
             "#de77ae"
            ],
            [
             0.3,
             "#f1b6da"
            ],
            [
             0.4,
             "#fde0ef"
            ],
            [
             0.5,
             "#f7f7f7"
            ],
            [
             0.6,
             "#e6f5d0"
            ],
            [
             0.7,
             "#b8e186"
            ],
            [
             0.8,
             "#7fbc41"
            ],
            [
             0.9,
             "#4d9221"
            ],
            [
             1,
             "#276419"
            ]
           ],
           "sequential": [
            [
             0,
             "#0d0887"
            ],
            [
             0.1111111111111111,
             "#46039f"
            ],
            [
             0.2222222222222222,
             "#7201a8"
            ],
            [
             0.3333333333333333,
             "#9c179e"
            ],
            [
             0.4444444444444444,
             "#bd3786"
            ],
            [
             0.5555555555555556,
             "#d8576b"
            ],
            [
             0.6666666666666666,
             "#ed7953"
            ],
            [
             0.7777777777777778,
             "#fb9f3a"
            ],
            [
             0.8888888888888888,
             "#fdca26"
            ],
            [
             1,
             "#f0f921"
            ]
           ],
           "sequentialminus": [
            [
             0,
             "#0d0887"
            ],
            [
             0.1111111111111111,
             "#46039f"
            ],
            [
             0.2222222222222222,
             "#7201a8"
            ],
            [
             0.3333333333333333,
             "#9c179e"
            ],
            [
             0.4444444444444444,
             "#bd3786"
            ],
            [
             0.5555555555555556,
             "#d8576b"
            ],
            [
             0.6666666666666666,
             "#ed7953"
            ],
            [
             0.7777777777777778,
             "#fb9f3a"
            ],
            [
             0.8888888888888888,
             "#fdca26"
            ],
            [
             1,
             "#f0f921"
            ]
           ]
          },
          "colorway": [
           "#636efa",
           "#EF553B",
           "#00cc96",
           "#ab63fa",
           "#FFA15A",
           "#19d3f3",
           "#FF6692",
           "#B6E880",
           "#FF97FF",
           "#FECB52"
          ],
          "font": {
           "color": "#2a3f5f"
          },
          "geo": {
           "bgcolor": "white",
           "lakecolor": "white",
           "landcolor": "#E5ECF6",
           "showlakes": true,
           "showland": true,
           "subunitcolor": "white"
          },
          "hoverlabel": {
           "align": "left"
          },
          "hovermode": "closest",
          "mapbox": {
           "style": "light"
          },
          "paper_bgcolor": "white",
          "plot_bgcolor": "#E5ECF6",
          "polar": {
           "angularaxis": {
            "gridcolor": "white",
            "linecolor": "white",
            "ticks": ""
           },
           "bgcolor": "#E5ECF6",
           "radialaxis": {
            "gridcolor": "white",
            "linecolor": "white",
            "ticks": ""
           }
          },
          "scene": {
           "xaxis": {
            "backgroundcolor": "#E5ECF6",
            "gridcolor": "white",
            "gridwidth": 2,
            "linecolor": "white",
            "showbackground": true,
            "ticks": "",
            "zerolinecolor": "white"
           },
           "yaxis": {
            "backgroundcolor": "#E5ECF6",
            "gridcolor": "white",
            "gridwidth": 2,
            "linecolor": "white",
            "showbackground": true,
            "ticks": "",
            "zerolinecolor": "white"
           },
           "zaxis": {
            "backgroundcolor": "#E5ECF6",
            "gridcolor": "white",
            "gridwidth": 2,
            "linecolor": "white",
            "showbackground": true,
            "ticks": "",
            "zerolinecolor": "white"
           }
          },
          "shapedefaults": {
           "line": {
            "color": "#2a3f5f"
           }
          },
          "ternary": {
           "aaxis": {
            "gridcolor": "white",
            "linecolor": "white",
            "ticks": ""
           },
           "baxis": {
            "gridcolor": "white",
            "linecolor": "white",
            "ticks": ""
           },
           "bgcolor": "#E5ECF6",
           "caxis": {
            "gridcolor": "white",
            "linecolor": "white",
            "ticks": ""
           }
          },
          "title": {
           "x": 0.05
          },
          "xaxis": {
           "automargin": true,
           "gridcolor": "white",
           "linecolor": "white",
           "ticks": "",
           "title": {
            "standoff": 15
           },
           "zerolinecolor": "white",
           "zerolinewidth": 2
          },
          "yaxis": {
           "automargin": true,
           "gridcolor": "white",
           "linecolor": "white",
           "ticks": "",
           "title": {
            "standoff": 15
           },
           "zerolinecolor": "white",
           "zerolinewidth": 2
          }
         }
        },
        "title": {
         "font": {
          "color": "#4D5663"
         }
        },
        "xaxis": {
         "gridcolor": "#E1E5ED",
         "showgrid": true,
         "tickfont": {
          "color": "#4D5663"
         },
         "title": {
          "font": {
           "color": "#4D5663"
          },
          "text": ""
         },
         "zerolinecolor": "#E1E5ED"
        },
        "yaxis": {
         "gridcolor": "#E1E5ED",
         "showgrid": true,
         "tickfont": {
          "color": "#4D5663"
         },
         "title": {
          "font": {
           "color": "#4D5663"
          },
          "text": ""
         },
         "zerolinecolor": "#E1E5ED"
        }
       }
      },
      "text/html": [
       "<div>                            <div id=\"e0cb4fb7-7dc4-482f-84d7-99558834427f\" class=\"plotly-graph-div\" style=\"height:525px; width:100%;\"></div>            <script type=\"text/javascript\">                require([\"plotly\"], function(Plotly) {                    window.PLOTLYENV=window.PLOTLYENV || {};\n",
       "                    window.PLOTLYENV.BASE_URL='https://plot.ly';                                    if (document.getElementById(\"e0cb4fb7-7dc4-482f-84d7-99558834427f\")) {                    Plotly.newPlot(                        \"e0cb4fb7-7dc4-482f-84d7-99558834427f\",                        [{\"marker\":{\"color\":[\"rgb(255, 153, 51)\",\"rgb(55, 128, 191)\",\"rgb(50, 171, 96)\",\"rgb(128, 0, 128)\",\"rgb(219, 64, 82)\",\"rgb(0, 128, 128)\",\"rgb(255, 255, 51)\",\"rgb(128, 128, 0)\",\"rgb(251, 128, 114)\",\"rgb(128, 177, 211)\"],\"line\":{\"width\":1.3},\"size\":[62,74,68,60,43,79,62,61,66,63,79,86,71,96,25,46,72,73,37,65,22,45,39,46,78,68,48,87,56,70,108,95,21,71,40,54,95,38,48,41,61,71,73,91,69,45,65,70,31,55,71,12,65,60,45,99,41,43,83,40,64,65,49,90,56,32,33,108,43,96,34,61,93,57,73,31,77,21,37,31,63,75,51,73,42,64,57,73,41,48,112,62,42,88,28,73,96,18,45,59],\"symbol\":\"circle\"},\"mode\":\"markers\",\"text\":\"\",\"x\":[0.020344460919605414,0.3462067161994248,0.17475916773203,1.5090626015195374,-0.4122208025818858,1.325337250095666,1.029866726130267,0.35064166507739725,0.9018799479323362,0.5046379467013828,0.534879942562968,0.10842387462848369,0.588422036103608,-0.01982207886584693,-0.6602670412667222,2.0594232095291405,-1.0664536958778772,0.9971590272421421,-0.419793450722026,-0.2868524725708644,1.5868280287464456,1.3642100845066147,0.4340492999209859,0.45187959111753234,0.7078472047688987,0.09622795159705001,-1.1278129617893926,0.9977539884117823,0.3898509544393391,-1.4453076915556564,-1.576959872160643,-1.7046069712375977,-0.9231990158881069,-1.539771719932798,0.1566058015997379,0.9036201624310277,0.40922130611714763,-0.614293801940151,-0.6273421217949555,1.2278507854586656,-0.6407675535419343,0.6540944755362336,0.7604357209718133,-1.5958031294720738,0.6384119218048553,1.6936312784352094,0.027377691105506207,0.5974207515989416,0.9732777312488076,-0.7983686208973904,-0.45929109595605755,0.42291223822053114,-0.3962140944152771,-2.0538570270466128,0.8055831452517226,0.08283220045954048,-2.0530799664162123,0.99407542444314,-0.6081559207174255,-0.6100039706517446,-0.059202928282162136,0.7638558716751972,1.5591072081500168,0.1407648608438338,0.1305287174305653,-0.24890282654787316,0.1960182491909555,-0.7395354388428351,-0.4900693987853215,-0.5829714807721302,0.4102840775139383,-0.8148124122744025,-0.0925608094388613,0.28783455859141643,-0.14238079545525237,-0.6251148156843083,0.6926933942593309,1.1229363887483916,-0.3104205138275535,1.2285728076630065,0.7072976367701932,-0.451354424910134,0.8305601329639444,1.6559291353284744,-0.331227360650665,0.45302812066839865,-0.4871842256267353,-2.0964124991912985,-0.6806087424626511,0.058105948903216506,3.202042974898475,-0.7410960417431232,0.18837589717535844,-0.31757443030843835,-0.09035881966556931,-0.8820890438553275,-0.357131255166717,0.006772012697767498,0.10935341583295807,1.359680187829212],\"y\":[0.24937027334314316,-1.291424215603698,-0.4884012392345033,0.9532605534879363,2.3477005384206446,-1.0144239588546686,0.977099564603622,0.6168188802196694,-0.47560848458068333,0.8824737194957732,-1.4446977790153614,0.12627289529585273,0.24452288567558209,1.4803110759003795,1.8756290628133423,1.508162373590915,1.599052533345483,0.2618922581459752,2.12104217913582,0.808950397331336,-1.109094108308861,1.602083088917013,1.5768855759488984,1.005546370581314,-0.028537663788296124,-0.9521565165466842,-0.2694289632388691,0.33914099158362493,1.4848879735793097,-0.15952953831767577,0.5182428314779433,1.1493720658921305,0.30439104363373704,2.205722994703418,-0.9470086306875309,1.177834410972747,-0.9282409641187047,-1.1566182571832813,-0.5294052252444668,0.902653589829433,1.483146465740587,0.03747260476148352,-1.9110923237948987,-0.6612479030226804,0.5060241559272375,-1.7917820122316197,-0.4334998009209104,-1.6900226944935148,0.32390106016061765,-1.7753081467012586,1.7314152310140727,1.105940310866183,1.1211825454639375,-1.6068916682728345,-0.720547522323849,0.18068597517981844,-1.955738411816919,0.6726488254609667,0.5008582854675393,-0.6348169547283224,0.7258906936858436,-1.6280533559714265,-0.8452387063567807,-1.3127124095500966,1.4963497910833603,-0.27598207528628477,-0.22898495696167098,3.2675260228973384,-0.1862118745000819,0.352276323220306,0.29507517067968014,-0.3942808789972401,1.0284427652707993,1.2898001084397912,0.7705846439237007,-0.07355561105383403,-0.8449567375803194,-0.2530211972433086,-0.554226570610661,1.3099790240284408,-1.4976695060801464,-0.584939513569232,1.5641595185858919,1.018081520470552,1.4032815131925347,-0.6098160950068922,1.7619258459944727,-0.10746200784864435,-1.5375281243471617,-1.922579834123578,-0.8169181127599872,-0.0786697122584202,0.7677043271127714,0.33516517396777745,0.08496112422441039,0.09309029552920575,0.774275523501191,0.6168438544923766,-0.762326463653972,-0.7329996342331008],\"type\":\"scatter\"}],                        {\"legend\":{\"bgcolor\":\"#F5F6F9\",\"font\":{\"color\":\"#4D5663\"}},\"paper_bgcolor\":\"#F5F6F9\",\"plot_bgcolor\":\"#F5F6F9\",\"template\":{\"data\":{\"barpolar\":[{\"marker\":{\"line\":{\"color\":\"#E5ECF6\",\"width\":0.5},\"pattern\":{\"fillmode\":\"overlay\",\"size\":10,\"solidity\":0.2}},\"type\":\"barpolar\"}],\"bar\":[{\"error_x\":{\"color\":\"#2a3f5f\"},\"error_y\":{\"color\":\"#2a3f5f\"},\"marker\":{\"line\":{\"color\":\"#E5ECF6\",\"width\":0.5},\"pattern\":{\"fillmode\":\"overlay\",\"size\":10,\"solidity\":0.2}},\"type\":\"bar\"}],\"carpet\":[{\"aaxis\":{\"endlinecolor\":\"#2a3f5f\",\"gridcolor\":\"white\",\"linecolor\":\"white\",\"minorgridcolor\":\"white\",\"startlinecolor\":\"#2a3f5f\"},\"baxis\":{\"endlinecolor\":\"#2a3f5f\",\"gridcolor\":\"white\",\"linecolor\":\"white\",\"minorgridcolor\":\"white\",\"startlinecolor\":\"#2a3f5f\"},\"type\":\"carpet\"}],\"choropleth\":[{\"colorbar\":{\"outlinewidth\":0,\"ticks\":\"\"},\"type\":\"choropleth\"}],\"contourcarpet\":[{\"colorbar\":{\"outlinewidth\":0,\"ticks\":\"\"},\"type\":\"contourcarpet\"}],\"contour\":[{\"colorbar\":{\"outlinewidth\":0,\"ticks\":\"\"},\"colorscale\":[[0.0,\"#0d0887\"],[0.1111111111111111,\"#46039f\"],[0.2222222222222222,\"#7201a8\"],[0.3333333333333333,\"#9c179e\"],[0.4444444444444444,\"#bd3786\"],[0.5555555555555556,\"#d8576b\"],[0.6666666666666666,\"#ed7953\"],[0.7777777777777778,\"#fb9f3a\"],[0.8888888888888888,\"#fdca26\"],[1.0,\"#f0f921\"]],\"type\":\"contour\"}],\"heatmapgl\":[{\"colorbar\":{\"outlinewidth\":0,\"ticks\":\"\"},\"colorscale\":[[0.0,\"#0d0887\"],[0.1111111111111111,\"#46039f\"],[0.2222222222222222,\"#7201a8\"],[0.3333333333333333,\"#9c179e\"],[0.4444444444444444,\"#bd3786\"],[0.5555555555555556,\"#d8576b\"],[0.6666666666666666,\"#ed7953\"],[0.7777777777777778,\"#fb9f3a\"],[0.8888888888888888,\"#fdca26\"],[1.0,\"#f0f921\"]],\"type\":\"heatmapgl\"}],\"heatmap\":[{\"colorbar\":{\"outlinewidth\":0,\"ticks\":\"\"},\"colorscale\":[[0.0,\"#0d0887\"],[0.1111111111111111,\"#46039f\"],[0.2222222222222222,\"#7201a8\"],[0.3333333333333333,\"#9c179e\"],[0.4444444444444444,\"#bd3786\"],[0.5555555555555556,\"#d8576b\"],[0.6666666666666666,\"#ed7953\"],[0.7777777777777778,\"#fb9f3a\"],[0.8888888888888888,\"#fdca26\"],[1.0,\"#f0f921\"]],\"type\":\"heatmap\"}],\"histogram2dcontour\":[{\"colorbar\":{\"outlinewidth\":0,\"ticks\":\"\"},\"colorscale\":[[0.0,\"#0d0887\"],[0.1111111111111111,\"#46039f\"],[0.2222222222222222,\"#7201a8\"],[0.3333333333333333,\"#9c179e\"],[0.4444444444444444,\"#bd3786\"],[0.5555555555555556,\"#d8576b\"],[0.6666666666666666,\"#ed7953\"],[0.7777777777777778,\"#fb9f3a\"],[0.8888888888888888,\"#fdca26\"],[1.0,\"#f0f921\"]],\"type\":\"histogram2dcontour\"}],\"histogram2d\":[{\"colorbar\":{\"outlinewidth\":0,\"ticks\":\"\"},\"colorscale\":[[0.0,\"#0d0887\"],[0.1111111111111111,\"#46039f\"],[0.2222222222222222,\"#7201a8\"],[0.3333333333333333,\"#9c179e\"],[0.4444444444444444,\"#bd3786\"],[0.5555555555555556,\"#d8576b\"],[0.6666666666666666,\"#ed7953\"],[0.7777777777777778,\"#fb9f3a\"],[0.8888888888888888,\"#fdca26\"],[1.0,\"#f0f921\"]],\"type\":\"histogram2d\"}],\"histogram\":[{\"marker\":{\"pattern\":{\"fillmode\":\"overlay\",\"size\":10,\"solidity\":0.2}},\"type\":\"histogram\"}],\"mesh3d\":[{\"colorbar\":{\"outlinewidth\":0,\"ticks\":\"\"},\"type\":\"mesh3d\"}],\"parcoords\":[{\"line\":{\"colorbar\":{\"outlinewidth\":0,\"ticks\":\"\"}},\"type\":\"parcoords\"}],\"pie\":[{\"automargin\":true,\"type\":\"pie\"}],\"scatter3d\":[{\"line\":{\"colorbar\":{\"outlinewidth\":0,\"ticks\":\"\"}},\"marker\":{\"colorbar\":{\"outlinewidth\":0,\"ticks\":\"\"}},\"type\":\"scatter3d\"}],\"scattercarpet\":[{\"marker\":{\"colorbar\":{\"outlinewidth\":0,\"ticks\":\"\"}},\"type\":\"scattercarpet\"}],\"scattergeo\":[{\"marker\":{\"colorbar\":{\"outlinewidth\":0,\"ticks\":\"\"}},\"type\":\"scattergeo\"}],\"scattergl\":[{\"marker\":{\"colorbar\":{\"outlinewidth\":0,\"ticks\":\"\"}},\"type\":\"scattergl\"}],\"scattermapbox\":[{\"marker\":{\"colorbar\":{\"outlinewidth\":0,\"ticks\":\"\"}},\"type\":\"scattermapbox\"}],\"scatterpolargl\":[{\"marker\":{\"colorbar\":{\"outlinewidth\":0,\"ticks\":\"\"}},\"type\":\"scatterpolargl\"}],\"scatterpolar\":[{\"marker\":{\"colorbar\":{\"outlinewidth\":0,\"ticks\":\"\"}},\"type\":\"scatterpolar\"}],\"scatter\":[{\"fillpattern\":{\"fillmode\":\"overlay\",\"size\":10,\"solidity\":0.2},\"type\":\"scatter\"}],\"scatterternary\":[{\"marker\":{\"colorbar\":{\"outlinewidth\":0,\"ticks\":\"\"}},\"type\":\"scatterternary\"}],\"surface\":[{\"colorbar\":{\"outlinewidth\":0,\"ticks\":\"\"},\"colorscale\":[[0.0,\"#0d0887\"],[0.1111111111111111,\"#46039f\"],[0.2222222222222222,\"#7201a8\"],[0.3333333333333333,\"#9c179e\"],[0.4444444444444444,\"#bd3786\"],[0.5555555555555556,\"#d8576b\"],[0.6666666666666666,\"#ed7953\"],[0.7777777777777778,\"#fb9f3a\"],[0.8888888888888888,\"#fdca26\"],[1.0,\"#f0f921\"]],\"type\":\"surface\"}],\"table\":[{\"cells\":{\"fill\":{\"color\":\"#EBF0F8\"},\"line\":{\"color\":\"white\"}},\"header\":{\"fill\":{\"color\":\"#C8D4E3\"},\"line\":{\"color\":\"white\"}},\"type\":\"table\"}]},\"layout\":{\"annotationdefaults\":{\"arrowcolor\":\"#2a3f5f\",\"arrowhead\":0,\"arrowwidth\":1},\"autotypenumbers\":\"strict\",\"coloraxis\":{\"colorbar\":{\"outlinewidth\":0,\"ticks\":\"\"}},\"colorscale\":{\"diverging\":[[0,\"#8e0152\"],[0.1,\"#c51b7d\"],[0.2,\"#de77ae\"],[0.3,\"#f1b6da\"],[0.4,\"#fde0ef\"],[0.5,\"#f7f7f7\"],[0.6,\"#e6f5d0\"],[0.7,\"#b8e186\"],[0.8,\"#7fbc41\"],[0.9,\"#4d9221\"],[1,\"#276419\"]],\"sequential\":[[0.0,\"#0d0887\"],[0.1111111111111111,\"#46039f\"],[0.2222222222222222,\"#7201a8\"],[0.3333333333333333,\"#9c179e\"],[0.4444444444444444,\"#bd3786\"],[0.5555555555555556,\"#d8576b\"],[0.6666666666666666,\"#ed7953\"],[0.7777777777777778,\"#fb9f3a\"],[0.8888888888888888,\"#fdca26\"],[1.0,\"#f0f921\"]],\"sequentialminus\":[[0.0,\"#0d0887\"],[0.1111111111111111,\"#46039f\"],[0.2222222222222222,\"#7201a8\"],[0.3333333333333333,\"#9c179e\"],[0.4444444444444444,\"#bd3786\"],[0.5555555555555556,\"#d8576b\"],[0.6666666666666666,\"#ed7953\"],[0.7777777777777778,\"#fb9f3a\"],[0.8888888888888888,\"#fdca26\"],[1.0,\"#f0f921\"]]},\"colorway\":[\"#636efa\",\"#EF553B\",\"#00cc96\",\"#ab63fa\",\"#FFA15A\",\"#19d3f3\",\"#FF6692\",\"#B6E880\",\"#FF97FF\",\"#FECB52\"],\"font\":{\"color\":\"#2a3f5f\"},\"geo\":{\"bgcolor\":\"white\",\"lakecolor\":\"white\",\"landcolor\":\"#E5ECF6\",\"showlakes\":true,\"showland\":true,\"subunitcolor\":\"white\"},\"hoverlabel\":{\"align\":\"left\"},\"hovermode\":\"closest\",\"mapbox\":{\"style\":\"light\"},\"paper_bgcolor\":\"white\",\"plot_bgcolor\":\"#E5ECF6\",\"polar\":{\"angularaxis\":{\"gridcolor\":\"white\",\"linecolor\":\"white\",\"ticks\":\"\"},\"bgcolor\":\"#E5ECF6\",\"radialaxis\":{\"gridcolor\":\"white\",\"linecolor\":\"white\",\"ticks\":\"\"}},\"scene\":{\"xaxis\":{\"backgroundcolor\":\"#E5ECF6\",\"gridcolor\":\"white\",\"gridwidth\":2,\"linecolor\":\"white\",\"showbackground\":true,\"ticks\":\"\",\"zerolinecolor\":\"white\"},\"yaxis\":{\"backgroundcolor\":\"#E5ECF6\",\"gridcolor\":\"white\",\"gridwidth\":2,\"linecolor\":\"white\",\"showbackground\":true,\"ticks\":\"\",\"zerolinecolor\":\"white\"},\"zaxis\":{\"backgroundcolor\":\"#E5ECF6\",\"gridcolor\":\"white\",\"gridwidth\":2,\"linecolor\":\"white\",\"showbackground\":true,\"ticks\":\"\",\"zerolinecolor\":\"white\"}},\"shapedefaults\":{\"line\":{\"color\":\"#2a3f5f\"}},\"ternary\":{\"aaxis\":{\"gridcolor\":\"white\",\"linecolor\":\"white\",\"ticks\":\"\"},\"baxis\":{\"gridcolor\":\"white\",\"linecolor\":\"white\",\"ticks\":\"\"},\"bgcolor\":\"#E5ECF6\",\"caxis\":{\"gridcolor\":\"white\",\"linecolor\":\"white\",\"ticks\":\"\"}},\"title\":{\"x\":0.05},\"xaxis\":{\"automargin\":true,\"gridcolor\":\"white\",\"linecolor\":\"white\",\"ticks\":\"\",\"title\":{\"standoff\":15},\"zerolinecolor\":\"white\",\"zerolinewidth\":2},\"yaxis\":{\"automargin\":true,\"gridcolor\":\"white\",\"linecolor\":\"white\",\"ticks\":\"\",\"title\":{\"standoff\":15},\"zerolinecolor\":\"white\",\"zerolinewidth\":2}}},\"title\":{\"font\":{\"color\":\"#4D5663\"}},\"xaxis\":{\"gridcolor\":\"#E1E5ED\",\"showgrid\":true,\"tickfont\":{\"color\":\"#4D5663\"},\"title\":{\"font\":{\"color\":\"#4D5663\"},\"text\":\"\"},\"zerolinecolor\":\"#E1E5ED\"},\"yaxis\":{\"gridcolor\":\"#E1E5ED\",\"showgrid\":true,\"tickfont\":{\"color\":\"#4D5663\"},\"title\":{\"font\":{\"color\":\"#4D5663\"},\"text\":\"\"},\"zerolinecolor\":\"#E1E5ED\"}},                        {\"showLink\": true, \"linkText\": \"Export to plot.ly\", \"plotlyServerURL\": \"https://plot.ly\", \"responsive\": true}                    ).then(function(){\n",
       "                            \n",
       "var gd = document.getElementById('e0cb4fb7-7dc4-482f-84d7-99558834427f');\n",
       "var x = new MutationObserver(function (mutations, observer) {{\n",
       "        var display = window.getComputedStyle(gd).display;\n",
       "        if (!display || display === 'none') {{\n",
       "            console.log([gd, 'removed!']);\n",
       "            Plotly.purge(gd);\n",
       "            observer.disconnect();\n",
       "        }}\n",
       "}});\n",
       "\n",
       "// Listen for the removal of the full notebook cells\n",
       "var notebookContainer = gd.closest('#notebook-container');\n",
       "if (notebookContainer) {{\n",
       "    x.observe(notebookContainer, {childList: true});\n",
       "}}\n",
       "\n",
       "// Listen for the clearing of the current output cell\n",
       "var outputEl = gd.closest('.output');\n",
       "if (outputEl) {{\n",
       "    x.observe(outputEl, {childList: true});\n",
       "}}\n",
       "\n",
       "                        })                };                });            </script>        </div>"
      ]
     },
     "metadata": {},
     "output_type": "display_data"
    }
   ],
   "source": [
    "df.iplot(kind='bubble',x='Jane',y='Alice',size='John')"
   ]
  },
  {
   "cell_type": "code",
   "execution_count": 23,
   "id": "8d7c0311-5f89-4f33-8c21-6c46ea63f2bb",
   "metadata": {},
   "outputs": [
    {
     "data": {
      "application/vnd.plotly.v1+json": {
       "config": {
        "linkText": "Export to plot.ly",
        "plotlyServerURL": "https://plot.ly",
        "showLink": true
       },
       "data": [
        {
         "histfunc": "count",
         "histnorm": "",
         "marker": {
          "color": "rgba(255, 153, 51, 1.0)",
          "line": {
           "color": "#4D5663",
           "width": 1.3
          }
         },
         "name": "John",
         "nbinsx": 10,
         "opacity": 0.8,
         "orientation": "v",
         "type": "histogram",
         "x": [
          0.019642646998532538,
          0.5102977624801204,
          0.24449280881659421,
          -0.09964374543098901,
          -0.8336301504091984,
          0.7633960938278734,
          0.008888279313414483,
          -0.04559506706851624,
          0.1928875749925488,
          0.03414630485056338,
          0.7264465808915783,
          1.0658884808652351,
          0.38523365088508876,
          1.5124214398730913,
          -1.6377485347546827,
          -0.7010980666045677,
          0.45739260615720606,
          0.4876140496185153,
          -1.0773443173458792,
          0.1156850759183294,
          -1.7276705506695154,
          -0.7605787719199244,
          -1.0185765341213795,
          -0.6973825682764789,
          0.6891443271530647,
          0.2866451570554162,
          -0.6019547431882285,
          1.0946069931759237,
          -0.25809283296644064,
          0.3711605045232904,
          2.016529005040461,
          1.4362079476882181,
          -1.8065697572276622,
          0.41709344375999546,
          -0.952273483938806,
          -0.33790763860390516,
          1.4653354860476666,
          -1.0364187829767437,
          -0.5958291555412103,
          -0.9095925468162066,
          -0.03443570936609096,
          0.41796253085085777,
          0.4985597267149191,
          1.256230814302931,
          0.3041815809519573,
          -0.7314944255391029,
          0.1347390648641512,
          0.36668711521731945,
          -1.345745456849986,
          -0.3024870212580657,
          0.38946023142969144,
          -2.2080623777024857,
          0.14690798112419792,
          -0.10214577252644914,
          -0.7558190914775792,
          1.636096524673409,
          -0.9350054629918986,
          -0.834717261048946,
          0.9042211849377907,
          -0.970097819261639,
          0.08302084353049828,
          0.122533351733746,
          -0.5668598556840447,
          1.2122897430202741,
          -0.2628230583023596,
          -1.319033630348968,
          -1.2725064526718661,
          2.0358158967569318,
          -0.8468257533048923,
          1.4882729870233895,
          -1.2205022462300505,
          -0.05757188230792311,
          1.367768040891796,
          -0.19921297667841037,
          0.4697389292048797,
          -1.3381417318782258,
          0.6524847805507301,
          -1.7994321764509653,
          -1.077881485573476,
          -1.3625099426155498,
          0.045648147491829216,
          0.563618810148228,
          -0.4786892358293386,
          0.47606615646569794,
          -0.8543313928147953,
          0.0925095317870382,
          -0.21597284215262857,
          0.4834183462334682,
          -0.9360044456206287,
          -0.6269954947934127,
          2.1712068293506985,
          0.016129286645642983,
          -0.8759971648778004,
          1.1406389788304063,
          -1.500404007263379,
          0.4829784953373957,
          1.5084272190275951,
          -1.9175664929088536,
          -0.7413752267077025,
          -0.13980204256336462
         ],
         "xaxis": "x",
         "yaxis": "y"
        },
        {
         "line": {
          "color": "rgba(128, 128, 128, 1.0)",
          "dash": "solid",
          "shape": "linear",
          "width": 1.3
         },
         "marker": {
          "size": 2,
          "symbol": "circle"
         },
         "mode": "markers",
         "name": "John",
         "text": "",
         "type": "scatter",
         "x": [
          0.18932288313259496,
          1.3281660265941044,
          0.08260420682700166,
          0.19766344985332351,
          -1.3519755938004667,
          0.7152547986319213,
          2.1061290065425045,
          -0.4536884731298851,
          -1.314290670147277,
          1.2162156869830907,
          0.38627757098814897,
          1.0778958970219656,
          1.0172005524466166,
          -0.8363987977283873,
          0.6219718214710519,
          -0.10941421275248397,
          0.1834145301165497,
          1.6905631473724685,
          0.2830379714000602,
          0.8209176571110884,
          0.2712601644922478,
          2.6709808829839905,
          -0.038019966272632134,
          -0.800964216187689,
          -0.9772594874158484,
          -0.9996924316330814,
          0.6757843694951967,
          -0.9172910777638664,
          0.21534798195889704,
          -0.6649356062395503,
          -1.2190835483281803,
          1.6237785328878958,
          -0.17059875405261618,
          0.5863516626635352,
          -0.10759342108696314,
          -0.593705778613284,
          0.8306281292382299,
          2.1589815543497193,
          -1.0911341602641766,
          -0.40761643718218465,
          -2.383684095369639,
          0.009333505772728184,
          0.08093342989807364,
          -0.33071099419622413,
          -0.26004567740817947,
          -0.06395831153582572,
          -0.5989402137637061,
          -0.6142660522286667,
          -2.1372805837605546,
          1.5015600737392012,
          -1.4841755895742048,
          -0.4063083689229514,
          -1.4867589787693356,
          -0.7562643323620777,
          0.4865696831994064,
          -0.6436237599111508,
          -0.05723995074100056,
          0.41887052392231416,
          0.3141993864196437,
          -0.24322500286511342,
          0.7610647654161666,
          -0.5576576400296814,
          -0.01206385658904262,
          -0.9750812100109979,
          0.684081164985671,
          -1.5261851048875195,
          0.37714545839915764,
          -0.8713897574661608,
          -0.2241657499226878,
          -0.6870427813507797,
          -0.47336276072954436,
          0.26368992576199496,
          -0.20034751046151145,
          0.45876070741422004,
          -0.16879611580477616,
          1.576773398907753,
          0.30704353862755446,
          -0.4911660185041354,
          0.6111210148978148,
          -2.213938060785341,
          0.020347578904885685,
          -0.5256163213064886,
          -1.693539773930717,
          -0.2737625049855568,
          1.1277007342060812,
          -0.4849370930878959,
          -0.5219300157008511,
          -1.112720153303619,
          1.4405568615058983,
          -1.7859008692500788,
          1.2443992275160747,
          -0.3448053249356195,
          -1.1315614753988137,
          0.40563336698552666,
          0.4595262640725895,
          -0.5381022646055008,
          -0.5132149097842915,
          -0.31065608999022215,
          0.8944689282816258,
          -0.5132298585680108
         ],
         "xaxis": "x2",
         "y": [
          0.019642646998532538,
          0.5102977624801204,
          0.24449280881659421,
          -0.09964374543098901,
          -0.8336301504091984,
          0.7633960938278734,
          0.008888279313414483,
          -0.04559506706851624,
          0.1928875749925488,
          0.03414630485056338,
          0.7264465808915783,
          1.0658884808652351,
          0.38523365088508876,
          1.5124214398730913,
          -1.6377485347546827,
          -0.7010980666045677,
          0.45739260615720606,
          0.4876140496185153,
          -1.0773443173458792,
          0.1156850759183294,
          -1.7276705506695154,
          -0.7605787719199244,
          -1.0185765341213795,
          -0.6973825682764789,
          0.6891443271530647,
          0.2866451570554162,
          -0.6019547431882285,
          1.0946069931759237,
          -0.25809283296644064,
          0.3711605045232904,
          2.016529005040461,
          1.4362079476882181,
          -1.8065697572276622,
          0.41709344375999546,
          -0.952273483938806,
          -0.33790763860390516,
          1.4653354860476666,
          -1.0364187829767437,
          -0.5958291555412103,
          -0.9095925468162066,
          -0.03443570936609096,
          0.41796253085085777,
          0.4985597267149191,
          1.256230814302931,
          0.3041815809519573,
          -0.7314944255391029,
          0.1347390648641512,
          0.36668711521731945,
          -1.345745456849986,
          -0.3024870212580657,
          0.38946023142969144,
          -2.2080623777024857,
          0.14690798112419792,
          -0.10214577252644914,
          -0.7558190914775792,
          1.636096524673409,
          -0.9350054629918986,
          -0.834717261048946,
          0.9042211849377907,
          -0.970097819261639,
          0.08302084353049828,
          0.122533351733746,
          -0.5668598556840447,
          1.2122897430202741,
          -0.2628230583023596,
          -1.319033630348968,
          -1.2725064526718661,
          2.0358158967569318,
          -0.8468257533048923,
          1.4882729870233895,
          -1.2205022462300505,
          -0.05757188230792311,
          1.367768040891796,
          -0.19921297667841037,
          0.4697389292048797,
          -1.3381417318782258,
          0.6524847805507301,
          -1.7994321764509653,
          -1.077881485573476,
          -1.3625099426155498,
          0.045648147491829216,
          0.563618810148228,
          -0.4786892358293386,
          0.47606615646569794,
          -0.8543313928147953,
          0.0925095317870382,
          -0.21597284215262857,
          0.4834183462334682,
          -0.9360044456206287,
          -0.6269954947934127,
          2.1712068293506985,
          0.016129286645642983,
          -0.8759971648778004,
          1.1406389788304063,
          -1.500404007263379,
          0.4829784953373957,
          1.5084272190275951,
          -1.9175664929088536,
          -0.7413752267077025,
          -0.13980204256336462
         ],
         "yaxis": "y2"
        },
        {
         "line": {
          "color": "rgba(128, 128, 128, 1.0)",
          "dash": "solid",
          "shape": "linear",
          "width": 1.3
         },
         "marker": {
          "size": 2,
          "symbol": "circle"
         },
         "mode": "markers",
         "name": "John",
         "text": "",
         "type": "scatter",
         "x": [
          0.020344460919605414,
          0.3462067161994248,
          0.17475916773203,
          1.5090626015195374,
          -0.4122208025818858,
          1.325337250095666,
          1.029866726130267,
          0.35064166507739725,
          0.9018799479323362,
          0.5046379467013828,
          0.534879942562968,
          0.10842387462848369,
          0.588422036103608,
          -0.01982207886584693,
          -0.6602670412667222,
          2.0594232095291405,
          -1.0664536958778772,
          0.9971590272421421,
          -0.419793450722026,
          -0.2868524725708644,
          1.5868280287464456,
          1.3642100845066147,
          0.4340492999209859,
          0.45187959111753234,
          0.7078472047688987,
          0.09622795159705001,
          -1.1278129617893926,
          0.9977539884117823,
          0.3898509544393391,
          -1.4453076915556564,
          -1.576959872160643,
          -1.7046069712375977,
          -0.9231990158881069,
          -1.539771719932798,
          0.1566058015997379,
          0.9036201624310277,
          0.40922130611714763,
          -0.614293801940151,
          -0.6273421217949555,
          1.2278507854586656,
          -0.6407675535419343,
          0.6540944755362336,
          0.7604357209718133,
          -1.5958031294720738,
          0.6384119218048553,
          1.6936312784352094,
          0.027377691105506207,
          0.5974207515989416,
          0.9732777312488076,
          -0.7983686208973904,
          -0.45929109595605755,
          0.42291223822053114,
          -0.3962140944152771,
          -2.0538570270466128,
          0.8055831452517226,
          0.08283220045954048,
          -2.0530799664162123,
          0.99407542444314,
          -0.6081559207174255,
          -0.6100039706517446,
          -0.059202928282162136,
          0.7638558716751972,
          1.5591072081500168,
          0.1407648608438338,
          0.1305287174305653,
          -0.24890282654787316,
          0.1960182491909555,
          -0.7395354388428351,
          -0.4900693987853215,
          -0.5829714807721302,
          0.4102840775139383,
          -0.8148124122744025,
          -0.0925608094388613,
          0.28783455859141643,
          -0.14238079545525237,
          -0.6251148156843083,
          0.6926933942593309,
          1.1229363887483916,
          -0.3104205138275535,
          1.2285728076630065,
          0.7072976367701932,
          -0.451354424910134,
          0.8305601329639444,
          1.6559291353284744,
          -0.331227360650665,
          0.45302812066839865,
          -0.4871842256267353,
          -2.0964124991912985,
          -0.6806087424626511,
          0.058105948903216506,
          3.202042974898475,
          -0.7410960417431232,
          0.18837589717535844,
          -0.31757443030843835,
          -0.09035881966556931,
          -0.8820890438553275,
          -0.357131255166717,
          0.006772012697767498,
          0.10935341583295807,
          1.359680187829212
         ],
         "xaxis": "x3",
         "y": [
          0.019642646998532538,
          0.5102977624801204,
          0.24449280881659421,
          -0.09964374543098901,
          -0.8336301504091984,
          0.7633960938278734,
          0.008888279313414483,
          -0.04559506706851624,
          0.1928875749925488,
          0.03414630485056338,
          0.7264465808915783,
          1.0658884808652351,
          0.38523365088508876,
          1.5124214398730913,
          -1.6377485347546827,
          -0.7010980666045677,
          0.45739260615720606,
          0.4876140496185153,
          -1.0773443173458792,
          0.1156850759183294,
          -1.7276705506695154,
          -0.7605787719199244,
          -1.0185765341213795,
          -0.6973825682764789,
          0.6891443271530647,
          0.2866451570554162,
          -0.6019547431882285,
          1.0946069931759237,
          -0.25809283296644064,
          0.3711605045232904,
          2.016529005040461,
          1.4362079476882181,
          -1.8065697572276622,
          0.41709344375999546,
          -0.952273483938806,
          -0.33790763860390516,
          1.4653354860476666,
          -1.0364187829767437,
          -0.5958291555412103,
          -0.9095925468162066,
          -0.03443570936609096,
          0.41796253085085777,
          0.4985597267149191,
          1.256230814302931,
          0.3041815809519573,
          -0.7314944255391029,
          0.1347390648641512,
          0.36668711521731945,
          -1.345745456849986,
          -0.3024870212580657,
          0.38946023142969144,
          -2.2080623777024857,
          0.14690798112419792,
          -0.10214577252644914,
          -0.7558190914775792,
          1.636096524673409,
          -0.9350054629918986,
          -0.834717261048946,
          0.9042211849377907,
          -0.970097819261639,
          0.08302084353049828,
          0.122533351733746,
          -0.5668598556840447,
          1.2122897430202741,
          -0.2628230583023596,
          -1.319033630348968,
          -1.2725064526718661,
          2.0358158967569318,
          -0.8468257533048923,
          1.4882729870233895,
          -1.2205022462300505,
          -0.05757188230792311,
          1.367768040891796,
          -0.19921297667841037,
          0.4697389292048797,
          -1.3381417318782258,
          0.6524847805507301,
          -1.7994321764509653,
          -1.077881485573476,
          -1.3625099426155498,
          0.045648147491829216,
          0.563618810148228,
          -0.4786892358293386,
          0.47606615646569794,
          -0.8543313928147953,
          0.0925095317870382,
          -0.21597284215262857,
          0.4834183462334682,
          -0.9360044456206287,
          -0.6269954947934127,
          2.1712068293506985,
          0.016129286645642983,
          -0.8759971648778004,
          1.1406389788304063,
          -1.500404007263379,
          0.4829784953373957,
          1.5084272190275951,
          -1.9175664929088536,
          -0.7413752267077025,
          -0.13980204256336462
         ],
         "yaxis": "y3"
        },
        {
         "line": {
          "color": "rgba(128, 128, 128, 1.0)",
          "dash": "solid",
          "shape": "linear",
          "width": 1.3
         },
         "marker": {
          "size": 2,
          "symbol": "circle"
         },
         "mode": "markers",
         "name": "John",
         "text": "",
         "type": "scatter",
         "x": [
          0.24937027334314316,
          -1.291424215603698,
          -0.4884012392345033,
          0.9532605534879363,
          2.3477005384206446,
          -1.0144239588546686,
          0.977099564603622,
          0.6168188802196694,
          -0.47560848458068333,
          0.8824737194957732,
          -1.4446977790153614,
          0.12627289529585273,
          0.24452288567558209,
          1.4803110759003795,
          1.8756290628133423,
          1.508162373590915,
          1.599052533345483,
          0.2618922581459752,
          2.12104217913582,
          0.808950397331336,
          -1.109094108308861,
          1.602083088917013,
          1.5768855759488984,
          1.005546370581314,
          -0.028537663788296124,
          -0.9521565165466842,
          -0.2694289632388691,
          0.33914099158362493,
          1.4848879735793097,
          -0.15952953831767577,
          0.5182428314779433,
          1.1493720658921305,
          0.30439104363373704,
          2.205722994703418,
          -0.9470086306875309,
          1.177834410972747,
          -0.9282409641187047,
          -1.1566182571832813,
          -0.5294052252444668,
          0.902653589829433,
          1.483146465740587,
          0.03747260476148352,
          -1.9110923237948987,
          -0.6612479030226804,
          0.5060241559272375,
          -1.7917820122316197,
          -0.4334998009209104,
          -1.6900226944935148,
          0.32390106016061765,
          -1.7753081467012586,
          1.7314152310140727,
          1.105940310866183,
          1.1211825454639375,
          -1.6068916682728345,
          -0.720547522323849,
          0.18068597517981844,
          -1.955738411816919,
          0.6726488254609667,
          0.5008582854675393,
          -0.6348169547283224,
          0.7258906936858436,
          -1.6280533559714265,
          -0.8452387063567807,
          -1.3127124095500966,
          1.4963497910833603,
          -0.27598207528628477,
          -0.22898495696167098,
          3.2675260228973384,
          -0.1862118745000819,
          0.352276323220306,
          0.29507517067968014,
          -0.3942808789972401,
          1.0284427652707993,
          1.2898001084397912,
          0.7705846439237007,
          -0.07355561105383403,
          -0.8449567375803194,
          -0.2530211972433086,
          -0.554226570610661,
          1.3099790240284408,
          -1.4976695060801464,
          -0.584939513569232,
          1.5641595185858919,
          1.018081520470552,
          1.4032815131925347,
          -0.6098160950068922,
          1.7619258459944727,
          -0.10746200784864435,
          -1.5375281243471617,
          -1.922579834123578,
          -0.8169181127599872,
          -0.0786697122584202,
          0.7677043271127714,
          0.33516517396777745,
          0.08496112422441039,
          0.09309029552920575,
          0.774275523501191,
          0.6168438544923766,
          -0.762326463653972,
          -0.7329996342331008
         ],
         "xaxis": "x4",
         "y": [
          0.019642646998532538,
          0.5102977624801204,
          0.24449280881659421,
          -0.09964374543098901,
          -0.8336301504091984,
          0.7633960938278734,
          0.008888279313414483,
          -0.04559506706851624,
          0.1928875749925488,
          0.03414630485056338,
          0.7264465808915783,
          1.0658884808652351,
          0.38523365088508876,
          1.5124214398730913,
          -1.6377485347546827,
          -0.7010980666045677,
          0.45739260615720606,
          0.4876140496185153,
          -1.0773443173458792,
          0.1156850759183294,
          -1.7276705506695154,
          -0.7605787719199244,
          -1.0185765341213795,
          -0.6973825682764789,
          0.6891443271530647,
          0.2866451570554162,
          -0.6019547431882285,
          1.0946069931759237,
          -0.25809283296644064,
          0.3711605045232904,
          2.016529005040461,
          1.4362079476882181,
          -1.8065697572276622,
          0.41709344375999546,
          -0.952273483938806,
          -0.33790763860390516,
          1.4653354860476666,
          -1.0364187829767437,
          -0.5958291555412103,
          -0.9095925468162066,
          -0.03443570936609096,
          0.41796253085085777,
          0.4985597267149191,
          1.256230814302931,
          0.3041815809519573,
          -0.7314944255391029,
          0.1347390648641512,
          0.36668711521731945,
          -1.345745456849986,
          -0.3024870212580657,
          0.38946023142969144,
          -2.2080623777024857,
          0.14690798112419792,
          -0.10214577252644914,
          -0.7558190914775792,
          1.636096524673409,
          -0.9350054629918986,
          -0.834717261048946,
          0.9042211849377907,
          -0.970097819261639,
          0.08302084353049828,
          0.122533351733746,
          -0.5668598556840447,
          1.2122897430202741,
          -0.2628230583023596,
          -1.319033630348968,
          -1.2725064526718661,
          2.0358158967569318,
          -0.8468257533048923,
          1.4882729870233895,
          -1.2205022462300505,
          -0.05757188230792311,
          1.367768040891796,
          -0.19921297667841037,
          0.4697389292048797,
          -1.3381417318782258,
          0.6524847805507301,
          -1.7994321764509653,
          -1.077881485573476,
          -1.3625099426155498,
          0.045648147491829216,
          0.563618810148228,
          -0.4786892358293386,
          0.47606615646569794,
          -0.8543313928147953,
          0.0925095317870382,
          -0.21597284215262857,
          0.4834183462334682,
          -0.9360044456206287,
          -0.6269954947934127,
          2.1712068293506985,
          0.016129286645642983,
          -0.8759971648778004,
          1.1406389788304063,
          -1.500404007263379,
          0.4829784953373957,
          1.5084272190275951,
          -1.9175664929088536,
          -0.7413752267077025,
          -0.13980204256336462
         ],
         "yaxis": "y4"
        },
        {
         "line": {
          "color": "rgba(128, 128, 128, 1.0)",
          "dash": "solid",
          "shape": "linear",
          "width": 1.3
         },
         "marker": {
          "size": 2,
          "symbol": "circle"
         },
         "mode": "markers",
         "name": "Doe",
         "text": "",
         "type": "scatter",
         "x": [
          0.019642646998532538,
          0.5102977624801204,
          0.24449280881659421,
          -0.09964374543098901,
          -0.8336301504091984,
          0.7633960938278734,
          0.008888279313414483,
          -0.04559506706851624,
          0.1928875749925488,
          0.03414630485056338,
          0.7264465808915783,
          1.0658884808652351,
          0.38523365088508876,
          1.5124214398730913,
          -1.6377485347546827,
          -0.7010980666045677,
          0.45739260615720606,
          0.4876140496185153,
          -1.0773443173458792,
          0.1156850759183294,
          -1.7276705506695154,
          -0.7605787719199244,
          -1.0185765341213795,
          -0.6973825682764789,
          0.6891443271530647,
          0.2866451570554162,
          -0.6019547431882285,
          1.0946069931759237,
          -0.25809283296644064,
          0.3711605045232904,
          2.016529005040461,
          1.4362079476882181,
          -1.8065697572276622,
          0.41709344375999546,
          -0.952273483938806,
          -0.33790763860390516,
          1.4653354860476666,
          -1.0364187829767437,
          -0.5958291555412103,
          -0.9095925468162066,
          -0.03443570936609096,
          0.41796253085085777,
          0.4985597267149191,
          1.256230814302931,
          0.3041815809519573,
          -0.7314944255391029,
          0.1347390648641512,
          0.36668711521731945,
          -1.345745456849986,
          -0.3024870212580657,
          0.38946023142969144,
          -2.2080623777024857,
          0.14690798112419792,
          -0.10214577252644914,
          -0.7558190914775792,
          1.636096524673409,
          -0.9350054629918986,
          -0.834717261048946,
          0.9042211849377907,
          -0.970097819261639,
          0.08302084353049828,
          0.122533351733746,
          -0.5668598556840447,
          1.2122897430202741,
          -0.2628230583023596,
          -1.319033630348968,
          -1.2725064526718661,
          2.0358158967569318,
          -0.8468257533048923,
          1.4882729870233895,
          -1.2205022462300505,
          -0.05757188230792311,
          1.367768040891796,
          -0.19921297667841037,
          0.4697389292048797,
          -1.3381417318782258,
          0.6524847805507301,
          -1.7994321764509653,
          -1.077881485573476,
          -1.3625099426155498,
          0.045648147491829216,
          0.563618810148228,
          -0.4786892358293386,
          0.47606615646569794,
          -0.8543313928147953,
          0.0925095317870382,
          -0.21597284215262857,
          0.4834183462334682,
          -0.9360044456206287,
          -0.6269954947934127,
          2.1712068293506985,
          0.016129286645642983,
          -0.8759971648778004,
          1.1406389788304063,
          -1.500404007263379,
          0.4829784953373957,
          1.5084272190275951,
          -1.9175664929088536,
          -0.7413752267077025,
          -0.13980204256336462
         ],
         "xaxis": "x5",
         "y": [
          0.18932288313259496,
          1.3281660265941044,
          0.08260420682700166,
          0.19766344985332351,
          -1.3519755938004667,
          0.7152547986319213,
          2.1061290065425045,
          -0.4536884731298851,
          -1.314290670147277,
          1.2162156869830907,
          0.38627757098814897,
          1.0778958970219656,
          1.0172005524466166,
          -0.8363987977283873,
          0.6219718214710519,
          -0.10941421275248397,
          0.1834145301165497,
          1.6905631473724685,
          0.2830379714000602,
          0.8209176571110884,
          0.2712601644922478,
          2.6709808829839905,
          -0.038019966272632134,
          -0.800964216187689,
          -0.9772594874158484,
          -0.9996924316330814,
          0.6757843694951967,
          -0.9172910777638664,
          0.21534798195889704,
          -0.6649356062395503,
          -1.2190835483281803,
          1.6237785328878958,
          -0.17059875405261618,
          0.5863516626635352,
          -0.10759342108696314,
          -0.593705778613284,
          0.8306281292382299,
          2.1589815543497193,
          -1.0911341602641766,
          -0.40761643718218465,
          -2.383684095369639,
          0.009333505772728184,
          0.08093342989807364,
          -0.33071099419622413,
          -0.26004567740817947,
          -0.06395831153582572,
          -0.5989402137637061,
          -0.6142660522286667,
          -2.1372805837605546,
          1.5015600737392012,
          -1.4841755895742048,
          -0.4063083689229514,
          -1.4867589787693356,
          -0.7562643323620777,
          0.4865696831994064,
          -0.6436237599111508,
          -0.05723995074100056,
          0.41887052392231416,
          0.3141993864196437,
          -0.24322500286511342,
          0.7610647654161666,
          -0.5576576400296814,
          -0.01206385658904262,
          -0.9750812100109979,
          0.684081164985671,
          -1.5261851048875195,
          0.37714545839915764,
          -0.8713897574661608,
          -0.2241657499226878,
          -0.6870427813507797,
          -0.47336276072954436,
          0.26368992576199496,
          -0.20034751046151145,
          0.45876070741422004,
          -0.16879611580477616,
          1.576773398907753,
          0.30704353862755446,
          -0.4911660185041354,
          0.6111210148978148,
          -2.213938060785341,
          0.020347578904885685,
          -0.5256163213064886,
          -1.693539773930717,
          -0.2737625049855568,
          1.1277007342060812,
          -0.4849370930878959,
          -0.5219300157008511,
          -1.112720153303619,
          1.4405568615058983,
          -1.7859008692500788,
          1.2443992275160747,
          -0.3448053249356195,
          -1.1315614753988137,
          0.40563336698552666,
          0.4595262640725895,
          -0.5381022646055008,
          -0.5132149097842915,
          -0.31065608999022215,
          0.8944689282816258,
          -0.5132298585680108
         ],
         "yaxis": "y5"
        },
        {
         "histfunc": "count",
         "histnorm": "",
         "marker": {
          "color": "rgba(55, 128, 191, 1.0)",
          "line": {
           "color": "#4D5663",
           "width": 1.3
          }
         },
         "name": "Doe",
         "nbinsx": 10,
         "opacity": 0.8,
         "orientation": "v",
         "type": "histogram",
         "x": [
          0.18932288313259496,
          1.3281660265941044,
          0.08260420682700166,
          0.19766344985332351,
          -1.3519755938004667,
          0.7152547986319213,
          2.1061290065425045,
          -0.4536884731298851,
          -1.314290670147277,
          1.2162156869830907,
          0.38627757098814897,
          1.0778958970219656,
          1.0172005524466166,
          -0.8363987977283873,
          0.6219718214710519,
          -0.10941421275248397,
          0.1834145301165497,
          1.6905631473724685,
          0.2830379714000602,
          0.8209176571110884,
          0.2712601644922478,
          2.6709808829839905,
          -0.038019966272632134,
          -0.800964216187689,
          -0.9772594874158484,
          -0.9996924316330814,
          0.6757843694951967,
          -0.9172910777638664,
          0.21534798195889704,
          -0.6649356062395503,
          -1.2190835483281803,
          1.6237785328878958,
          -0.17059875405261618,
          0.5863516626635352,
          -0.10759342108696314,
          -0.593705778613284,
          0.8306281292382299,
          2.1589815543497193,
          -1.0911341602641766,
          -0.40761643718218465,
          -2.383684095369639,
          0.009333505772728184,
          0.08093342989807364,
          -0.33071099419622413,
          -0.26004567740817947,
          -0.06395831153582572,
          -0.5989402137637061,
          -0.6142660522286667,
          -2.1372805837605546,
          1.5015600737392012,
          -1.4841755895742048,
          -0.4063083689229514,
          -1.4867589787693356,
          -0.7562643323620777,
          0.4865696831994064,
          -0.6436237599111508,
          -0.05723995074100056,
          0.41887052392231416,
          0.3141993864196437,
          -0.24322500286511342,
          0.7610647654161666,
          -0.5576576400296814,
          -0.01206385658904262,
          -0.9750812100109979,
          0.684081164985671,
          -1.5261851048875195,
          0.37714545839915764,
          -0.8713897574661608,
          -0.2241657499226878,
          -0.6870427813507797,
          -0.47336276072954436,
          0.26368992576199496,
          -0.20034751046151145,
          0.45876070741422004,
          -0.16879611580477616,
          1.576773398907753,
          0.30704353862755446,
          -0.4911660185041354,
          0.6111210148978148,
          -2.213938060785341,
          0.020347578904885685,
          -0.5256163213064886,
          -1.693539773930717,
          -0.2737625049855568,
          1.1277007342060812,
          -0.4849370930878959,
          -0.5219300157008511,
          -1.112720153303619,
          1.4405568615058983,
          -1.7859008692500788,
          1.2443992275160747,
          -0.3448053249356195,
          -1.1315614753988137,
          0.40563336698552666,
          0.4595262640725895,
          -0.5381022646055008,
          -0.5132149097842915,
          -0.31065608999022215,
          0.8944689282816258,
          -0.5132298585680108
         ],
         "xaxis": "x6",
         "yaxis": "y6"
        },
        {
         "line": {
          "color": "rgba(128, 128, 128, 1.0)",
          "dash": "solid",
          "shape": "linear",
          "width": 1.3
         },
         "marker": {
          "size": 2,
          "symbol": "circle"
         },
         "mode": "markers",
         "name": "Doe",
         "text": "",
         "type": "scatter",
         "x": [
          0.020344460919605414,
          0.3462067161994248,
          0.17475916773203,
          1.5090626015195374,
          -0.4122208025818858,
          1.325337250095666,
          1.029866726130267,
          0.35064166507739725,
          0.9018799479323362,
          0.5046379467013828,
          0.534879942562968,
          0.10842387462848369,
          0.588422036103608,
          -0.01982207886584693,
          -0.6602670412667222,
          2.0594232095291405,
          -1.0664536958778772,
          0.9971590272421421,
          -0.419793450722026,
          -0.2868524725708644,
          1.5868280287464456,
          1.3642100845066147,
          0.4340492999209859,
          0.45187959111753234,
          0.7078472047688987,
          0.09622795159705001,
          -1.1278129617893926,
          0.9977539884117823,
          0.3898509544393391,
          -1.4453076915556564,
          -1.576959872160643,
          -1.7046069712375977,
          -0.9231990158881069,
          -1.539771719932798,
          0.1566058015997379,
          0.9036201624310277,
          0.40922130611714763,
          -0.614293801940151,
          -0.6273421217949555,
          1.2278507854586656,
          -0.6407675535419343,
          0.6540944755362336,
          0.7604357209718133,
          -1.5958031294720738,
          0.6384119218048553,
          1.6936312784352094,
          0.027377691105506207,
          0.5974207515989416,
          0.9732777312488076,
          -0.7983686208973904,
          -0.45929109595605755,
          0.42291223822053114,
          -0.3962140944152771,
          -2.0538570270466128,
          0.8055831452517226,
          0.08283220045954048,
          -2.0530799664162123,
          0.99407542444314,
          -0.6081559207174255,
          -0.6100039706517446,
          -0.059202928282162136,
          0.7638558716751972,
          1.5591072081500168,
          0.1407648608438338,
          0.1305287174305653,
          -0.24890282654787316,
          0.1960182491909555,
          -0.7395354388428351,
          -0.4900693987853215,
          -0.5829714807721302,
          0.4102840775139383,
          -0.8148124122744025,
          -0.0925608094388613,
          0.28783455859141643,
          -0.14238079545525237,
          -0.6251148156843083,
          0.6926933942593309,
          1.1229363887483916,
          -0.3104205138275535,
          1.2285728076630065,
          0.7072976367701932,
          -0.451354424910134,
          0.8305601329639444,
          1.6559291353284744,
          -0.331227360650665,
          0.45302812066839865,
          -0.4871842256267353,
          -2.0964124991912985,
          -0.6806087424626511,
          0.058105948903216506,
          3.202042974898475,
          -0.7410960417431232,
          0.18837589717535844,
          -0.31757443030843835,
          -0.09035881966556931,
          -0.8820890438553275,
          -0.357131255166717,
          0.006772012697767498,
          0.10935341583295807,
          1.359680187829212
         ],
         "xaxis": "x7",
         "y": [
          0.18932288313259496,
          1.3281660265941044,
          0.08260420682700166,
          0.19766344985332351,
          -1.3519755938004667,
          0.7152547986319213,
          2.1061290065425045,
          -0.4536884731298851,
          -1.314290670147277,
          1.2162156869830907,
          0.38627757098814897,
          1.0778958970219656,
          1.0172005524466166,
          -0.8363987977283873,
          0.6219718214710519,
          -0.10941421275248397,
          0.1834145301165497,
          1.6905631473724685,
          0.2830379714000602,
          0.8209176571110884,
          0.2712601644922478,
          2.6709808829839905,
          -0.038019966272632134,
          -0.800964216187689,
          -0.9772594874158484,
          -0.9996924316330814,
          0.6757843694951967,
          -0.9172910777638664,
          0.21534798195889704,
          -0.6649356062395503,
          -1.2190835483281803,
          1.6237785328878958,
          -0.17059875405261618,
          0.5863516626635352,
          -0.10759342108696314,
          -0.593705778613284,
          0.8306281292382299,
          2.1589815543497193,
          -1.0911341602641766,
          -0.40761643718218465,
          -2.383684095369639,
          0.009333505772728184,
          0.08093342989807364,
          -0.33071099419622413,
          -0.26004567740817947,
          -0.06395831153582572,
          -0.5989402137637061,
          -0.6142660522286667,
          -2.1372805837605546,
          1.5015600737392012,
          -1.4841755895742048,
          -0.4063083689229514,
          -1.4867589787693356,
          -0.7562643323620777,
          0.4865696831994064,
          -0.6436237599111508,
          -0.05723995074100056,
          0.41887052392231416,
          0.3141993864196437,
          -0.24322500286511342,
          0.7610647654161666,
          -0.5576576400296814,
          -0.01206385658904262,
          -0.9750812100109979,
          0.684081164985671,
          -1.5261851048875195,
          0.37714545839915764,
          -0.8713897574661608,
          -0.2241657499226878,
          -0.6870427813507797,
          -0.47336276072954436,
          0.26368992576199496,
          -0.20034751046151145,
          0.45876070741422004,
          -0.16879611580477616,
          1.576773398907753,
          0.30704353862755446,
          -0.4911660185041354,
          0.6111210148978148,
          -2.213938060785341,
          0.020347578904885685,
          -0.5256163213064886,
          -1.693539773930717,
          -0.2737625049855568,
          1.1277007342060812,
          -0.4849370930878959,
          -0.5219300157008511,
          -1.112720153303619,
          1.4405568615058983,
          -1.7859008692500788,
          1.2443992275160747,
          -0.3448053249356195,
          -1.1315614753988137,
          0.40563336698552666,
          0.4595262640725895,
          -0.5381022646055008,
          -0.5132149097842915,
          -0.31065608999022215,
          0.8944689282816258,
          -0.5132298585680108
         ],
         "yaxis": "y7"
        },
        {
         "line": {
          "color": "rgba(128, 128, 128, 1.0)",
          "dash": "solid",
          "shape": "linear",
          "width": 1.3
         },
         "marker": {
          "size": 2,
          "symbol": "circle"
         },
         "mode": "markers",
         "name": "Doe",
         "text": "",
         "type": "scatter",
         "x": [
          0.24937027334314316,
          -1.291424215603698,
          -0.4884012392345033,
          0.9532605534879363,
          2.3477005384206446,
          -1.0144239588546686,
          0.977099564603622,
          0.6168188802196694,
          -0.47560848458068333,
          0.8824737194957732,
          -1.4446977790153614,
          0.12627289529585273,
          0.24452288567558209,
          1.4803110759003795,
          1.8756290628133423,
          1.508162373590915,
          1.599052533345483,
          0.2618922581459752,
          2.12104217913582,
          0.808950397331336,
          -1.109094108308861,
          1.602083088917013,
          1.5768855759488984,
          1.005546370581314,
          -0.028537663788296124,
          -0.9521565165466842,
          -0.2694289632388691,
          0.33914099158362493,
          1.4848879735793097,
          -0.15952953831767577,
          0.5182428314779433,
          1.1493720658921305,
          0.30439104363373704,
          2.205722994703418,
          -0.9470086306875309,
          1.177834410972747,
          -0.9282409641187047,
          -1.1566182571832813,
          -0.5294052252444668,
          0.902653589829433,
          1.483146465740587,
          0.03747260476148352,
          -1.9110923237948987,
          -0.6612479030226804,
          0.5060241559272375,
          -1.7917820122316197,
          -0.4334998009209104,
          -1.6900226944935148,
          0.32390106016061765,
          -1.7753081467012586,
          1.7314152310140727,
          1.105940310866183,
          1.1211825454639375,
          -1.6068916682728345,
          -0.720547522323849,
          0.18068597517981844,
          -1.955738411816919,
          0.6726488254609667,
          0.5008582854675393,
          -0.6348169547283224,
          0.7258906936858436,
          -1.6280533559714265,
          -0.8452387063567807,
          -1.3127124095500966,
          1.4963497910833603,
          -0.27598207528628477,
          -0.22898495696167098,
          3.2675260228973384,
          -0.1862118745000819,
          0.352276323220306,
          0.29507517067968014,
          -0.3942808789972401,
          1.0284427652707993,
          1.2898001084397912,
          0.7705846439237007,
          -0.07355561105383403,
          -0.8449567375803194,
          -0.2530211972433086,
          -0.554226570610661,
          1.3099790240284408,
          -1.4976695060801464,
          -0.584939513569232,
          1.5641595185858919,
          1.018081520470552,
          1.4032815131925347,
          -0.6098160950068922,
          1.7619258459944727,
          -0.10746200784864435,
          -1.5375281243471617,
          -1.922579834123578,
          -0.8169181127599872,
          -0.0786697122584202,
          0.7677043271127714,
          0.33516517396777745,
          0.08496112422441039,
          0.09309029552920575,
          0.774275523501191,
          0.6168438544923766,
          -0.762326463653972,
          -0.7329996342331008
         ],
         "xaxis": "x8",
         "y": [
          0.18932288313259496,
          1.3281660265941044,
          0.08260420682700166,
          0.19766344985332351,
          -1.3519755938004667,
          0.7152547986319213,
          2.1061290065425045,
          -0.4536884731298851,
          -1.314290670147277,
          1.2162156869830907,
          0.38627757098814897,
          1.0778958970219656,
          1.0172005524466166,
          -0.8363987977283873,
          0.6219718214710519,
          -0.10941421275248397,
          0.1834145301165497,
          1.6905631473724685,
          0.2830379714000602,
          0.8209176571110884,
          0.2712601644922478,
          2.6709808829839905,
          -0.038019966272632134,
          -0.800964216187689,
          -0.9772594874158484,
          -0.9996924316330814,
          0.6757843694951967,
          -0.9172910777638664,
          0.21534798195889704,
          -0.6649356062395503,
          -1.2190835483281803,
          1.6237785328878958,
          -0.17059875405261618,
          0.5863516626635352,
          -0.10759342108696314,
          -0.593705778613284,
          0.8306281292382299,
          2.1589815543497193,
          -1.0911341602641766,
          -0.40761643718218465,
          -2.383684095369639,
          0.009333505772728184,
          0.08093342989807364,
          -0.33071099419622413,
          -0.26004567740817947,
          -0.06395831153582572,
          -0.5989402137637061,
          -0.6142660522286667,
          -2.1372805837605546,
          1.5015600737392012,
          -1.4841755895742048,
          -0.4063083689229514,
          -1.4867589787693356,
          -0.7562643323620777,
          0.4865696831994064,
          -0.6436237599111508,
          -0.05723995074100056,
          0.41887052392231416,
          0.3141993864196437,
          -0.24322500286511342,
          0.7610647654161666,
          -0.5576576400296814,
          -0.01206385658904262,
          -0.9750812100109979,
          0.684081164985671,
          -1.5261851048875195,
          0.37714545839915764,
          -0.8713897574661608,
          -0.2241657499226878,
          -0.6870427813507797,
          -0.47336276072954436,
          0.26368992576199496,
          -0.20034751046151145,
          0.45876070741422004,
          -0.16879611580477616,
          1.576773398907753,
          0.30704353862755446,
          -0.4911660185041354,
          0.6111210148978148,
          -2.213938060785341,
          0.020347578904885685,
          -0.5256163213064886,
          -1.693539773930717,
          -0.2737625049855568,
          1.1277007342060812,
          -0.4849370930878959,
          -0.5219300157008511,
          -1.112720153303619,
          1.4405568615058983,
          -1.7859008692500788,
          1.2443992275160747,
          -0.3448053249356195,
          -1.1315614753988137,
          0.40563336698552666,
          0.4595262640725895,
          -0.5381022646055008,
          -0.5132149097842915,
          -0.31065608999022215,
          0.8944689282816258,
          -0.5132298585680108
         ],
         "yaxis": "y8"
        },
        {
         "line": {
          "color": "rgba(128, 128, 128, 1.0)",
          "dash": "solid",
          "shape": "linear",
          "width": 1.3
         },
         "marker": {
          "size": 2,
          "symbol": "circle"
         },
         "mode": "markers",
         "name": "Jane",
         "text": "",
         "type": "scatter",
         "x": [
          0.019642646998532538,
          0.5102977624801204,
          0.24449280881659421,
          -0.09964374543098901,
          -0.8336301504091984,
          0.7633960938278734,
          0.008888279313414483,
          -0.04559506706851624,
          0.1928875749925488,
          0.03414630485056338,
          0.7264465808915783,
          1.0658884808652351,
          0.38523365088508876,
          1.5124214398730913,
          -1.6377485347546827,
          -0.7010980666045677,
          0.45739260615720606,
          0.4876140496185153,
          -1.0773443173458792,
          0.1156850759183294,
          -1.7276705506695154,
          -0.7605787719199244,
          -1.0185765341213795,
          -0.6973825682764789,
          0.6891443271530647,
          0.2866451570554162,
          -0.6019547431882285,
          1.0946069931759237,
          -0.25809283296644064,
          0.3711605045232904,
          2.016529005040461,
          1.4362079476882181,
          -1.8065697572276622,
          0.41709344375999546,
          -0.952273483938806,
          -0.33790763860390516,
          1.4653354860476666,
          -1.0364187829767437,
          -0.5958291555412103,
          -0.9095925468162066,
          -0.03443570936609096,
          0.41796253085085777,
          0.4985597267149191,
          1.256230814302931,
          0.3041815809519573,
          -0.7314944255391029,
          0.1347390648641512,
          0.36668711521731945,
          -1.345745456849986,
          -0.3024870212580657,
          0.38946023142969144,
          -2.2080623777024857,
          0.14690798112419792,
          -0.10214577252644914,
          -0.7558190914775792,
          1.636096524673409,
          -0.9350054629918986,
          -0.834717261048946,
          0.9042211849377907,
          -0.970097819261639,
          0.08302084353049828,
          0.122533351733746,
          -0.5668598556840447,
          1.2122897430202741,
          -0.2628230583023596,
          -1.319033630348968,
          -1.2725064526718661,
          2.0358158967569318,
          -0.8468257533048923,
          1.4882729870233895,
          -1.2205022462300505,
          -0.05757188230792311,
          1.367768040891796,
          -0.19921297667841037,
          0.4697389292048797,
          -1.3381417318782258,
          0.6524847805507301,
          -1.7994321764509653,
          -1.077881485573476,
          -1.3625099426155498,
          0.045648147491829216,
          0.563618810148228,
          -0.4786892358293386,
          0.47606615646569794,
          -0.8543313928147953,
          0.0925095317870382,
          -0.21597284215262857,
          0.4834183462334682,
          -0.9360044456206287,
          -0.6269954947934127,
          2.1712068293506985,
          0.016129286645642983,
          -0.8759971648778004,
          1.1406389788304063,
          -1.500404007263379,
          0.4829784953373957,
          1.5084272190275951,
          -1.9175664929088536,
          -0.7413752267077025,
          -0.13980204256336462
         ],
         "xaxis": "x9",
         "y": [
          0.020344460919605414,
          0.3462067161994248,
          0.17475916773203,
          1.5090626015195374,
          -0.4122208025818858,
          1.325337250095666,
          1.029866726130267,
          0.35064166507739725,
          0.9018799479323362,
          0.5046379467013828,
          0.534879942562968,
          0.10842387462848369,
          0.588422036103608,
          -0.01982207886584693,
          -0.6602670412667222,
          2.0594232095291405,
          -1.0664536958778772,
          0.9971590272421421,
          -0.419793450722026,
          -0.2868524725708644,
          1.5868280287464456,
          1.3642100845066147,
          0.4340492999209859,
          0.45187959111753234,
          0.7078472047688987,
          0.09622795159705001,
          -1.1278129617893926,
          0.9977539884117823,
          0.3898509544393391,
          -1.4453076915556564,
          -1.576959872160643,
          -1.7046069712375977,
          -0.9231990158881069,
          -1.539771719932798,
          0.1566058015997379,
          0.9036201624310277,
          0.40922130611714763,
          -0.614293801940151,
          -0.6273421217949555,
          1.2278507854586656,
          -0.6407675535419343,
          0.6540944755362336,
          0.7604357209718133,
          -1.5958031294720738,
          0.6384119218048553,
          1.6936312784352094,
          0.027377691105506207,
          0.5974207515989416,
          0.9732777312488076,
          -0.7983686208973904,
          -0.45929109595605755,
          0.42291223822053114,
          -0.3962140944152771,
          -2.0538570270466128,
          0.8055831452517226,
          0.08283220045954048,
          -2.0530799664162123,
          0.99407542444314,
          -0.6081559207174255,
          -0.6100039706517446,
          -0.059202928282162136,
          0.7638558716751972,
          1.5591072081500168,
          0.1407648608438338,
          0.1305287174305653,
          -0.24890282654787316,
          0.1960182491909555,
          -0.7395354388428351,
          -0.4900693987853215,
          -0.5829714807721302,
          0.4102840775139383,
          -0.8148124122744025,
          -0.0925608094388613,
          0.28783455859141643,
          -0.14238079545525237,
          -0.6251148156843083,
          0.6926933942593309,
          1.1229363887483916,
          -0.3104205138275535,
          1.2285728076630065,
          0.7072976367701932,
          -0.451354424910134,
          0.8305601329639444,
          1.6559291353284744,
          -0.331227360650665,
          0.45302812066839865,
          -0.4871842256267353,
          -2.0964124991912985,
          -0.6806087424626511,
          0.058105948903216506,
          3.202042974898475,
          -0.7410960417431232,
          0.18837589717535844,
          -0.31757443030843835,
          -0.09035881966556931,
          -0.8820890438553275,
          -0.357131255166717,
          0.006772012697767498,
          0.10935341583295807,
          1.359680187829212
         ],
         "yaxis": "y9"
        },
        {
         "line": {
          "color": "rgba(128, 128, 128, 1.0)",
          "dash": "solid",
          "shape": "linear",
          "width": 1.3
         },
         "marker": {
          "size": 2,
          "symbol": "circle"
         },
         "mode": "markers",
         "name": "Jane",
         "text": "",
         "type": "scatter",
         "x": [
          0.18932288313259496,
          1.3281660265941044,
          0.08260420682700166,
          0.19766344985332351,
          -1.3519755938004667,
          0.7152547986319213,
          2.1061290065425045,
          -0.4536884731298851,
          -1.314290670147277,
          1.2162156869830907,
          0.38627757098814897,
          1.0778958970219656,
          1.0172005524466166,
          -0.8363987977283873,
          0.6219718214710519,
          -0.10941421275248397,
          0.1834145301165497,
          1.6905631473724685,
          0.2830379714000602,
          0.8209176571110884,
          0.2712601644922478,
          2.6709808829839905,
          -0.038019966272632134,
          -0.800964216187689,
          -0.9772594874158484,
          -0.9996924316330814,
          0.6757843694951967,
          -0.9172910777638664,
          0.21534798195889704,
          -0.6649356062395503,
          -1.2190835483281803,
          1.6237785328878958,
          -0.17059875405261618,
          0.5863516626635352,
          -0.10759342108696314,
          -0.593705778613284,
          0.8306281292382299,
          2.1589815543497193,
          -1.0911341602641766,
          -0.40761643718218465,
          -2.383684095369639,
          0.009333505772728184,
          0.08093342989807364,
          -0.33071099419622413,
          -0.26004567740817947,
          -0.06395831153582572,
          -0.5989402137637061,
          -0.6142660522286667,
          -2.1372805837605546,
          1.5015600737392012,
          -1.4841755895742048,
          -0.4063083689229514,
          -1.4867589787693356,
          -0.7562643323620777,
          0.4865696831994064,
          -0.6436237599111508,
          -0.05723995074100056,
          0.41887052392231416,
          0.3141993864196437,
          -0.24322500286511342,
          0.7610647654161666,
          -0.5576576400296814,
          -0.01206385658904262,
          -0.9750812100109979,
          0.684081164985671,
          -1.5261851048875195,
          0.37714545839915764,
          -0.8713897574661608,
          -0.2241657499226878,
          -0.6870427813507797,
          -0.47336276072954436,
          0.26368992576199496,
          -0.20034751046151145,
          0.45876070741422004,
          -0.16879611580477616,
          1.576773398907753,
          0.30704353862755446,
          -0.4911660185041354,
          0.6111210148978148,
          -2.213938060785341,
          0.020347578904885685,
          -0.5256163213064886,
          -1.693539773930717,
          -0.2737625049855568,
          1.1277007342060812,
          -0.4849370930878959,
          -0.5219300157008511,
          -1.112720153303619,
          1.4405568615058983,
          -1.7859008692500788,
          1.2443992275160747,
          -0.3448053249356195,
          -1.1315614753988137,
          0.40563336698552666,
          0.4595262640725895,
          -0.5381022646055008,
          -0.5132149097842915,
          -0.31065608999022215,
          0.8944689282816258,
          -0.5132298585680108
         ],
         "xaxis": "x10",
         "y": [
          0.020344460919605414,
          0.3462067161994248,
          0.17475916773203,
          1.5090626015195374,
          -0.4122208025818858,
          1.325337250095666,
          1.029866726130267,
          0.35064166507739725,
          0.9018799479323362,
          0.5046379467013828,
          0.534879942562968,
          0.10842387462848369,
          0.588422036103608,
          -0.01982207886584693,
          -0.6602670412667222,
          2.0594232095291405,
          -1.0664536958778772,
          0.9971590272421421,
          -0.419793450722026,
          -0.2868524725708644,
          1.5868280287464456,
          1.3642100845066147,
          0.4340492999209859,
          0.45187959111753234,
          0.7078472047688987,
          0.09622795159705001,
          -1.1278129617893926,
          0.9977539884117823,
          0.3898509544393391,
          -1.4453076915556564,
          -1.576959872160643,
          -1.7046069712375977,
          -0.9231990158881069,
          -1.539771719932798,
          0.1566058015997379,
          0.9036201624310277,
          0.40922130611714763,
          -0.614293801940151,
          -0.6273421217949555,
          1.2278507854586656,
          -0.6407675535419343,
          0.6540944755362336,
          0.7604357209718133,
          -1.5958031294720738,
          0.6384119218048553,
          1.6936312784352094,
          0.027377691105506207,
          0.5974207515989416,
          0.9732777312488076,
          -0.7983686208973904,
          -0.45929109595605755,
          0.42291223822053114,
          -0.3962140944152771,
          -2.0538570270466128,
          0.8055831452517226,
          0.08283220045954048,
          -2.0530799664162123,
          0.99407542444314,
          -0.6081559207174255,
          -0.6100039706517446,
          -0.059202928282162136,
          0.7638558716751972,
          1.5591072081500168,
          0.1407648608438338,
          0.1305287174305653,
          -0.24890282654787316,
          0.1960182491909555,
          -0.7395354388428351,
          -0.4900693987853215,
          -0.5829714807721302,
          0.4102840775139383,
          -0.8148124122744025,
          -0.0925608094388613,
          0.28783455859141643,
          -0.14238079545525237,
          -0.6251148156843083,
          0.6926933942593309,
          1.1229363887483916,
          -0.3104205138275535,
          1.2285728076630065,
          0.7072976367701932,
          -0.451354424910134,
          0.8305601329639444,
          1.6559291353284744,
          -0.331227360650665,
          0.45302812066839865,
          -0.4871842256267353,
          -2.0964124991912985,
          -0.6806087424626511,
          0.058105948903216506,
          3.202042974898475,
          -0.7410960417431232,
          0.18837589717535844,
          -0.31757443030843835,
          -0.09035881966556931,
          -0.8820890438553275,
          -0.357131255166717,
          0.006772012697767498,
          0.10935341583295807,
          1.359680187829212
         ],
         "yaxis": "y10"
        },
        {
         "histfunc": "count",
         "histnorm": "",
         "marker": {
          "color": "rgba(50, 171, 96, 1.0)",
          "line": {
           "color": "#4D5663",
           "width": 1.3
          }
         },
         "name": "Jane",
         "nbinsx": 10,
         "opacity": 0.8,
         "orientation": "v",
         "type": "histogram",
         "x": [
          0.020344460919605414,
          0.3462067161994248,
          0.17475916773203,
          1.5090626015195374,
          -0.4122208025818858,
          1.325337250095666,
          1.029866726130267,
          0.35064166507739725,
          0.9018799479323362,
          0.5046379467013828,
          0.534879942562968,
          0.10842387462848369,
          0.588422036103608,
          -0.01982207886584693,
          -0.6602670412667222,
          2.0594232095291405,
          -1.0664536958778772,
          0.9971590272421421,
          -0.419793450722026,
          -0.2868524725708644,
          1.5868280287464456,
          1.3642100845066147,
          0.4340492999209859,
          0.45187959111753234,
          0.7078472047688987,
          0.09622795159705001,
          -1.1278129617893926,
          0.9977539884117823,
          0.3898509544393391,
          -1.4453076915556564,
          -1.576959872160643,
          -1.7046069712375977,
          -0.9231990158881069,
          -1.539771719932798,
          0.1566058015997379,
          0.9036201624310277,
          0.40922130611714763,
          -0.614293801940151,
          -0.6273421217949555,
          1.2278507854586656,
          -0.6407675535419343,
          0.6540944755362336,
          0.7604357209718133,
          -1.5958031294720738,
          0.6384119218048553,
          1.6936312784352094,
          0.027377691105506207,
          0.5974207515989416,
          0.9732777312488076,
          -0.7983686208973904,
          -0.45929109595605755,
          0.42291223822053114,
          -0.3962140944152771,
          -2.0538570270466128,
          0.8055831452517226,
          0.08283220045954048,
          -2.0530799664162123,
          0.99407542444314,
          -0.6081559207174255,
          -0.6100039706517446,
          -0.059202928282162136,
          0.7638558716751972,
          1.5591072081500168,
          0.1407648608438338,
          0.1305287174305653,
          -0.24890282654787316,
          0.1960182491909555,
          -0.7395354388428351,
          -0.4900693987853215,
          -0.5829714807721302,
          0.4102840775139383,
          -0.8148124122744025,
          -0.0925608094388613,
          0.28783455859141643,
          -0.14238079545525237,
          -0.6251148156843083,
          0.6926933942593309,
          1.1229363887483916,
          -0.3104205138275535,
          1.2285728076630065,
          0.7072976367701932,
          -0.451354424910134,
          0.8305601329639444,
          1.6559291353284744,
          -0.331227360650665,
          0.45302812066839865,
          -0.4871842256267353,
          -2.0964124991912985,
          -0.6806087424626511,
          0.058105948903216506,
          3.202042974898475,
          -0.7410960417431232,
          0.18837589717535844,
          -0.31757443030843835,
          -0.09035881966556931,
          -0.8820890438553275,
          -0.357131255166717,
          0.006772012697767498,
          0.10935341583295807,
          1.359680187829212
         ],
         "xaxis": "x11",
         "yaxis": "y11"
        },
        {
         "line": {
          "color": "rgba(128, 128, 128, 1.0)",
          "dash": "solid",
          "shape": "linear",
          "width": 1.3
         },
         "marker": {
          "size": 2,
          "symbol": "circle"
         },
         "mode": "markers",
         "name": "Jane",
         "text": "",
         "type": "scatter",
         "x": [
          0.24937027334314316,
          -1.291424215603698,
          -0.4884012392345033,
          0.9532605534879363,
          2.3477005384206446,
          -1.0144239588546686,
          0.977099564603622,
          0.6168188802196694,
          -0.47560848458068333,
          0.8824737194957732,
          -1.4446977790153614,
          0.12627289529585273,
          0.24452288567558209,
          1.4803110759003795,
          1.8756290628133423,
          1.508162373590915,
          1.599052533345483,
          0.2618922581459752,
          2.12104217913582,
          0.808950397331336,
          -1.109094108308861,
          1.602083088917013,
          1.5768855759488984,
          1.005546370581314,
          -0.028537663788296124,
          -0.9521565165466842,
          -0.2694289632388691,
          0.33914099158362493,
          1.4848879735793097,
          -0.15952953831767577,
          0.5182428314779433,
          1.1493720658921305,
          0.30439104363373704,
          2.205722994703418,
          -0.9470086306875309,
          1.177834410972747,
          -0.9282409641187047,
          -1.1566182571832813,
          -0.5294052252444668,
          0.902653589829433,
          1.483146465740587,
          0.03747260476148352,
          -1.9110923237948987,
          -0.6612479030226804,
          0.5060241559272375,
          -1.7917820122316197,
          -0.4334998009209104,
          -1.6900226944935148,
          0.32390106016061765,
          -1.7753081467012586,
          1.7314152310140727,
          1.105940310866183,
          1.1211825454639375,
          -1.6068916682728345,
          -0.720547522323849,
          0.18068597517981844,
          -1.955738411816919,
          0.6726488254609667,
          0.5008582854675393,
          -0.6348169547283224,
          0.7258906936858436,
          -1.6280533559714265,
          -0.8452387063567807,
          -1.3127124095500966,
          1.4963497910833603,
          -0.27598207528628477,
          -0.22898495696167098,
          3.2675260228973384,
          -0.1862118745000819,
          0.352276323220306,
          0.29507517067968014,
          -0.3942808789972401,
          1.0284427652707993,
          1.2898001084397912,
          0.7705846439237007,
          -0.07355561105383403,
          -0.8449567375803194,
          -0.2530211972433086,
          -0.554226570610661,
          1.3099790240284408,
          -1.4976695060801464,
          -0.584939513569232,
          1.5641595185858919,
          1.018081520470552,
          1.4032815131925347,
          -0.6098160950068922,
          1.7619258459944727,
          -0.10746200784864435,
          -1.5375281243471617,
          -1.922579834123578,
          -0.8169181127599872,
          -0.0786697122584202,
          0.7677043271127714,
          0.33516517396777745,
          0.08496112422441039,
          0.09309029552920575,
          0.774275523501191,
          0.6168438544923766,
          -0.762326463653972,
          -0.7329996342331008
         ],
         "xaxis": "x12",
         "y": [
          0.020344460919605414,
          0.3462067161994248,
          0.17475916773203,
          1.5090626015195374,
          -0.4122208025818858,
          1.325337250095666,
          1.029866726130267,
          0.35064166507739725,
          0.9018799479323362,
          0.5046379467013828,
          0.534879942562968,
          0.10842387462848369,
          0.588422036103608,
          -0.01982207886584693,
          -0.6602670412667222,
          2.0594232095291405,
          -1.0664536958778772,
          0.9971590272421421,
          -0.419793450722026,
          -0.2868524725708644,
          1.5868280287464456,
          1.3642100845066147,
          0.4340492999209859,
          0.45187959111753234,
          0.7078472047688987,
          0.09622795159705001,
          -1.1278129617893926,
          0.9977539884117823,
          0.3898509544393391,
          -1.4453076915556564,
          -1.576959872160643,
          -1.7046069712375977,
          -0.9231990158881069,
          -1.539771719932798,
          0.1566058015997379,
          0.9036201624310277,
          0.40922130611714763,
          -0.614293801940151,
          -0.6273421217949555,
          1.2278507854586656,
          -0.6407675535419343,
          0.6540944755362336,
          0.7604357209718133,
          -1.5958031294720738,
          0.6384119218048553,
          1.6936312784352094,
          0.027377691105506207,
          0.5974207515989416,
          0.9732777312488076,
          -0.7983686208973904,
          -0.45929109595605755,
          0.42291223822053114,
          -0.3962140944152771,
          -2.0538570270466128,
          0.8055831452517226,
          0.08283220045954048,
          -2.0530799664162123,
          0.99407542444314,
          -0.6081559207174255,
          -0.6100039706517446,
          -0.059202928282162136,
          0.7638558716751972,
          1.5591072081500168,
          0.1407648608438338,
          0.1305287174305653,
          -0.24890282654787316,
          0.1960182491909555,
          -0.7395354388428351,
          -0.4900693987853215,
          -0.5829714807721302,
          0.4102840775139383,
          -0.8148124122744025,
          -0.0925608094388613,
          0.28783455859141643,
          -0.14238079545525237,
          -0.6251148156843083,
          0.6926933942593309,
          1.1229363887483916,
          -0.3104205138275535,
          1.2285728076630065,
          0.7072976367701932,
          -0.451354424910134,
          0.8305601329639444,
          1.6559291353284744,
          -0.331227360650665,
          0.45302812066839865,
          -0.4871842256267353,
          -2.0964124991912985,
          -0.6806087424626511,
          0.058105948903216506,
          3.202042974898475,
          -0.7410960417431232,
          0.18837589717535844,
          -0.31757443030843835,
          -0.09035881966556931,
          -0.8820890438553275,
          -0.357131255166717,
          0.006772012697767498,
          0.10935341583295807,
          1.359680187829212
         ],
         "yaxis": "y12"
        },
        {
         "line": {
          "color": "rgba(128, 128, 128, 1.0)",
          "dash": "solid",
          "shape": "linear",
          "width": 1.3
         },
         "marker": {
          "size": 2,
          "symbol": "circle"
         },
         "mode": "markers",
         "name": "Alice",
         "text": "",
         "type": "scatter",
         "x": [
          0.019642646998532538,
          0.5102977624801204,
          0.24449280881659421,
          -0.09964374543098901,
          -0.8336301504091984,
          0.7633960938278734,
          0.008888279313414483,
          -0.04559506706851624,
          0.1928875749925488,
          0.03414630485056338,
          0.7264465808915783,
          1.0658884808652351,
          0.38523365088508876,
          1.5124214398730913,
          -1.6377485347546827,
          -0.7010980666045677,
          0.45739260615720606,
          0.4876140496185153,
          -1.0773443173458792,
          0.1156850759183294,
          -1.7276705506695154,
          -0.7605787719199244,
          -1.0185765341213795,
          -0.6973825682764789,
          0.6891443271530647,
          0.2866451570554162,
          -0.6019547431882285,
          1.0946069931759237,
          -0.25809283296644064,
          0.3711605045232904,
          2.016529005040461,
          1.4362079476882181,
          -1.8065697572276622,
          0.41709344375999546,
          -0.952273483938806,
          -0.33790763860390516,
          1.4653354860476666,
          -1.0364187829767437,
          -0.5958291555412103,
          -0.9095925468162066,
          -0.03443570936609096,
          0.41796253085085777,
          0.4985597267149191,
          1.256230814302931,
          0.3041815809519573,
          -0.7314944255391029,
          0.1347390648641512,
          0.36668711521731945,
          -1.345745456849986,
          -0.3024870212580657,
          0.38946023142969144,
          -2.2080623777024857,
          0.14690798112419792,
          -0.10214577252644914,
          -0.7558190914775792,
          1.636096524673409,
          -0.9350054629918986,
          -0.834717261048946,
          0.9042211849377907,
          -0.970097819261639,
          0.08302084353049828,
          0.122533351733746,
          -0.5668598556840447,
          1.2122897430202741,
          -0.2628230583023596,
          -1.319033630348968,
          -1.2725064526718661,
          2.0358158967569318,
          -0.8468257533048923,
          1.4882729870233895,
          -1.2205022462300505,
          -0.05757188230792311,
          1.367768040891796,
          -0.19921297667841037,
          0.4697389292048797,
          -1.3381417318782258,
          0.6524847805507301,
          -1.7994321764509653,
          -1.077881485573476,
          -1.3625099426155498,
          0.045648147491829216,
          0.563618810148228,
          -0.4786892358293386,
          0.47606615646569794,
          -0.8543313928147953,
          0.0925095317870382,
          -0.21597284215262857,
          0.4834183462334682,
          -0.9360044456206287,
          -0.6269954947934127,
          2.1712068293506985,
          0.016129286645642983,
          -0.8759971648778004,
          1.1406389788304063,
          -1.500404007263379,
          0.4829784953373957,
          1.5084272190275951,
          -1.9175664929088536,
          -0.7413752267077025,
          -0.13980204256336462
         ],
         "xaxis": "x13",
         "y": [
          0.24937027334314316,
          -1.291424215603698,
          -0.4884012392345033,
          0.9532605534879363,
          2.3477005384206446,
          -1.0144239588546686,
          0.977099564603622,
          0.6168188802196694,
          -0.47560848458068333,
          0.8824737194957732,
          -1.4446977790153614,
          0.12627289529585273,
          0.24452288567558209,
          1.4803110759003795,
          1.8756290628133423,
          1.508162373590915,
          1.599052533345483,
          0.2618922581459752,
          2.12104217913582,
          0.808950397331336,
          -1.109094108308861,
          1.602083088917013,
          1.5768855759488984,
          1.005546370581314,
          -0.028537663788296124,
          -0.9521565165466842,
          -0.2694289632388691,
          0.33914099158362493,
          1.4848879735793097,
          -0.15952953831767577,
          0.5182428314779433,
          1.1493720658921305,
          0.30439104363373704,
          2.205722994703418,
          -0.9470086306875309,
          1.177834410972747,
          -0.9282409641187047,
          -1.1566182571832813,
          -0.5294052252444668,
          0.902653589829433,
          1.483146465740587,
          0.03747260476148352,
          -1.9110923237948987,
          -0.6612479030226804,
          0.5060241559272375,
          -1.7917820122316197,
          -0.4334998009209104,
          -1.6900226944935148,
          0.32390106016061765,
          -1.7753081467012586,
          1.7314152310140727,
          1.105940310866183,
          1.1211825454639375,
          -1.6068916682728345,
          -0.720547522323849,
          0.18068597517981844,
          -1.955738411816919,
          0.6726488254609667,
          0.5008582854675393,
          -0.6348169547283224,
          0.7258906936858436,
          -1.6280533559714265,
          -0.8452387063567807,
          -1.3127124095500966,
          1.4963497910833603,
          -0.27598207528628477,
          -0.22898495696167098,
          3.2675260228973384,
          -0.1862118745000819,
          0.352276323220306,
          0.29507517067968014,
          -0.3942808789972401,
          1.0284427652707993,
          1.2898001084397912,
          0.7705846439237007,
          -0.07355561105383403,
          -0.8449567375803194,
          -0.2530211972433086,
          -0.554226570610661,
          1.3099790240284408,
          -1.4976695060801464,
          -0.584939513569232,
          1.5641595185858919,
          1.018081520470552,
          1.4032815131925347,
          -0.6098160950068922,
          1.7619258459944727,
          -0.10746200784864435,
          -1.5375281243471617,
          -1.922579834123578,
          -0.8169181127599872,
          -0.0786697122584202,
          0.7677043271127714,
          0.33516517396777745,
          0.08496112422441039,
          0.09309029552920575,
          0.774275523501191,
          0.6168438544923766,
          -0.762326463653972,
          -0.7329996342331008
         ],
         "yaxis": "y13"
        },
        {
         "line": {
          "color": "rgba(128, 128, 128, 1.0)",
          "dash": "solid",
          "shape": "linear",
          "width": 1.3
         },
         "marker": {
          "size": 2,
          "symbol": "circle"
         },
         "mode": "markers",
         "name": "Alice",
         "text": "",
         "type": "scatter",
         "x": [
          0.18932288313259496,
          1.3281660265941044,
          0.08260420682700166,
          0.19766344985332351,
          -1.3519755938004667,
          0.7152547986319213,
          2.1061290065425045,
          -0.4536884731298851,
          -1.314290670147277,
          1.2162156869830907,
          0.38627757098814897,
          1.0778958970219656,
          1.0172005524466166,
          -0.8363987977283873,
          0.6219718214710519,
          -0.10941421275248397,
          0.1834145301165497,
          1.6905631473724685,
          0.2830379714000602,
          0.8209176571110884,
          0.2712601644922478,
          2.6709808829839905,
          -0.038019966272632134,
          -0.800964216187689,
          -0.9772594874158484,
          -0.9996924316330814,
          0.6757843694951967,
          -0.9172910777638664,
          0.21534798195889704,
          -0.6649356062395503,
          -1.2190835483281803,
          1.6237785328878958,
          -0.17059875405261618,
          0.5863516626635352,
          -0.10759342108696314,
          -0.593705778613284,
          0.8306281292382299,
          2.1589815543497193,
          -1.0911341602641766,
          -0.40761643718218465,
          -2.383684095369639,
          0.009333505772728184,
          0.08093342989807364,
          -0.33071099419622413,
          -0.26004567740817947,
          -0.06395831153582572,
          -0.5989402137637061,
          -0.6142660522286667,
          -2.1372805837605546,
          1.5015600737392012,
          -1.4841755895742048,
          -0.4063083689229514,
          -1.4867589787693356,
          -0.7562643323620777,
          0.4865696831994064,
          -0.6436237599111508,
          -0.05723995074100056,
          0.41887052392231416,
          0.3141993864196437,
          -0.24322500286511342,
          0.7610647654161666,
          -0.5576576400296814,
          -0.01206385658904262,
          -0.9750812100109979,
          0.684081164985671,
          -1.5261851048875195,
          0.37714545839915764,
          -0.8713897574661608,
          -0.2241657499226878,
          -0.6870427813507797,
          -0.47336276072954436,
          0.26368992576199496,
          -0.20034751046151145,
          0.45876070741422004,
          -0.16879611580477616,
          1.576773398907753,
          0.30704353862755446,
          -0.4911660185041354,
          0.6111210148978148,
          -2.213938060785341,
          0.020347578904885685,
          -0.5256163213064886,
          -1.693539773930717,
          -0.2737625049855568,
          1.1277007342060812,
          -0.4849370930878959,
          -0.5219300157008511,
          -1.112720153303619,
          1.4405568615058983,
          -1.7859008692500788,
          1.2443992275160747,
          -0.3448053249356195,
          -1.1315614753988137,
          0.40563336698552666,
          0.4595262640725895,
          -0.5381022646055008,
          -0.5132149097842915,
          -0.31065608999022215,
          0.8944689282816258,
          -0.5132298585680108
         ],
         "xaxis": "x14",
         "y": [
          0.24937027334314316,
          -1.291424215603698,
          -0.4884012392345033,
          0.9532605534879363,
          2.3477005384206446,
          -1.0144239588546686,
          0.977099564603622,
          0.6168188802196694,
          -0.47560848458068333,
          0.8824737194957732,
          -1.4446977790153614,
          0.12627289529585273,
          0.24452288567558209,
          1.4803110759003795,
          1.8756290628133423,
          1.508162373590915,
          1.599052533345483,
          0.2618922581459752,
          2.12104217913582,
          0.808950397331336,
          -1.109094108308861,
          1.602083088917013,
          1.5768855759488984,
          1.005546370581314,
          -0.028537663788296124,
          -0.9521565165466842,
          -0.2694289632388691,
          0.33914099158362493,
          1.4848879735793097,
          -0.15952953831767577,
          0.5182428314779433,
          1.1493720658921305,
          0.30439104363373704,
          2.205722994703418,
          -0.9470086306875309,
          1.177834410972747,
          -0.9282409641187047,
          -1.1566182571832813,
          -0.5294052252444668,
          0.902653589829433,
          1.483146465740587,
          0.03747260476148352,
          -1.9110923237948987,
          -0.6612479030226804,
          0.5060241559272375,
          -1.7917820122316197,
          -0.4334998009209104,
          -1.6900226944935148,
          0.32390106016061765,
          -1.7753081467012586,
          1.7314152310140727,
          1.105940310866183,
          1.1211825454639375,
          -1.6068916682728345,
          -0.720547522323849,
          0.18068597517981844,
          -1.955738411816919,
          0.6726488254609667,
          0.5008582854675393,
          -0.6348169547283224,
          0.7258906936858436,
          -1.6280533559714265,
          -0.8452387063567807,
          -1.3127124095500966,
          1.4963497910833603,
          -0.27598207528628477,
          -0.22898495696167098,
          3.2675260228973384,
          -0.1862118745000819,
          0.352276323220306,
          0.29507517067968014,
          -0.3942808789972401,
          1.0284427652707993,
          1.2898001084397912,
          0.7705846439237007,
          -0.07355561105383403,
          -0.8449567375803194,
          -0.2530211972433086,
          -0.554226570610661,
          1.3099790240284408,
          -1.4976695060801464,
          -0.584939513569232,
          1.5641595185858919,
          1.018081520470552,
          1.4032815131925347,
          -0.6098160950068922,
          1.7619258459944727,
          -0.10746200784864435,
          -1.5375281243471617,
          -1.922579834123578,
          -0.8169181127599872,
          -0.0786697122584202,
          0.7677043271127714,
          0.33516517396777745,
          0.08496112422441039,
          0.09309029552920575,
          0.774275523501191,
          0.6168438544923766,
          -0.762326463653972,
          -0.7329996342331008
         ],
         "yaxis": "y14"
        },
        {
         "line": {
          "color": "rgba(128, 128, 128, 1.0)",
          "dash": "solid",
          "shape": "linear",
          "width": 1.3
         },
         "marker": {
          "size": 2,
          "symbol": "circle"
         },
         "mode": "markers",
         "name": "Alice",
         "text": "",
         "type": "scatter",
         "x": [
          0.020344460919605414,
          0.3462067161994248,
          0.17475916773203,
          1.5090626015195374,
          -0.4122208025818858,
          1.325337250095666,
          1.029866726130267,
          0.35064166507739725,
          0.9018799479323362,
          0.5046379467013828,
          0.534879942562968,
          0.10842387462848369,
          0.588422036103608,
          -0.01982207886584693,
          -0.6602670412667222,
          2.0594232095291405,
          -1.0664536958778772,
          0.9971590272421421,
          -0.419793450722026,
          -0.2868524725708644,
          1.5868280287464456,
          1.3642100845066147,
          0.4340492999209859,
          0.45187959111753234,
          0.7078472047688987,
          0.09622795159705001,
          -1.1278129617893926,
          0.9977539884117823,
          0.3898509544393391,
          -1.4453076915556564,
          -1.576959872160643,
          -1.7046069712375977,
          -0.9231990158881069,
          -1.539771719932798,
          0.1566058015997379,
          0.9036201624310277,
          0.40922130611714763,
          -0.614293801940151,
          -0.6273421217949555,
          1.2278507854586656,
          -0.6407675535419343,
          0.6540944755362336,
          0.7604357209718133,
          -1.5958031294720738,
          0.6384119218048553,
          1.6936312784352094,
          0.027377691105506207,
          0.5974207515989416,
          0.9732777312488076,
          -0.7983686208973904,
          -0.45929109595605755,
          0.42291223822053114,
          -0.3962140944152771,
          -2.0538570270466128,
          0.8055831452517226,
          0.08283220045954048,
          -2.0530799664162123,
          0.99407542444314,
          -0.6081559207174255,
          -0.6100039706517446,
          -0.059202928282162136,
          0.7638558716751972,
          1.5591072081500168,
          0.1407648608438338,
          0.1305287174305653,
          -0.24890282654787316,
          0.1960182491909555,
          -0.7395354388428351,
          -0.4900693987853215,
          -0.5829714807721302,
          0.4102840775139383,
          -0.8148124122744025,
          -0.0925608094388613,
          0.28783455859141643,
          -0.14238079545525237,
          -0.6251148156843083,
          0.6926933942593309,
          1.1229363887483916,
          -0.3104205138275535,
          1.2285728076630065,
          0.7072976367701932,
          -0.451354424910134,
          0.8305601329639444,
          1.6559291353284744,
          -0.331227360650665,
          0.45302812066839865,
          -0.4871842256267353,
          -2.0964124991912985,
          -0.6806087424626511,
          0.058105948903216506,
          3.202042974898475,
          -0.7410960417431232,
          0.18837589717535844,
          -0.31757443030843835,
          -0.09035881966556931,
          -0.8820890438553275,
          -0.357131255166717,
          0.006772012697767498,
          0.10935341583295807,
          1.359680187829212
         ],
         "xaxis": "x15",
         "y": [
          0.24937027334314316,
          -1.291424215603698,
          -0.4884012392345033,
          0.9532605534879363,
          2.3477005384206446,
          -1.0144239588546686,
          0.977099564603622,
          0.6168188802196694,
          -0.47560848458068333,
          0.8824737194957732,
          -1.4446977790153614,
          0.12627289529585273,
          0.24452288567558209,
          1.4803110759003795,
          1.8756290628133423,
          1.508162373590915,
          1.599052533345483,
          0.2618922581459752,
          2.12104217913582,
          0.808950397331336,
          -1.109094108308861,
          1.602083088917013,
          1.5768855759488984,
          1.005546370581314,
          -0.028537663788296124,
          -0.9521565165466842,
          -0.2694289632388691,
          0.33914099158362493,
          1.4848879735793097,
          -0.15952953831767577,
          0.5182428314779433,
          1.1493720658921305,
          0.30439104363373704,
          2.205722994703418,
          -0.9470086306875309,
          1.177834410972747,
          -0.9282409641187047,
          -1.1566182571832813,
          -0.5294052252444668,
          0.902653589829433,
          1.483146465740587,
          0.03747260476148352,
          -1.9110923237948987,
          -0.6612479030226804,
          0.5060241559272375,
          -1.7917820122316197,
          -0.4334998009209104,
          -1.6900226944935148,
          0.32390106016061765,
          -1.7753081467012586,
          1.7314152310140727,
          1.105940310866183,
          1.1211825454639375,
          -1.6068916682728345,
          -0.720547522323849,
          0.18068597517981844,
          -1.955738411816919,
          0.6726488254609667,
          0.5008582854675393,
          -0.6348169547283224,
          0.7258906936858436,
          -1.6280533559714265,
          -0.8452387063567807,
          -1.3127124095500966,
          1.4963497910833603,
          -0.27598207528628477,
          -0.22898495696167098,
          3.2675260228973384,
          -0.1862118745000819,
          0.352276323220306,
          0.29507517067968014,
          -0.3942808789972401,
          1.0284427652707993,
          1.2898001084397912,
          0.7705846439237007,
          -0.07355561105383403,
          -0.8449567375803194,
          -0.2530211972433086,
          -0.554226570610661,
          1.3099790240284408,
          -1.4976695060801464,
          -0.584939513569232,
          1.5641595185858919,
          1.018081520470552,
          1.4032815131925347,
          -0.6098160950068922,
          1.7619258459944727,
          -0.10746200784864435,
          -1.5375281243471617,
          -1.922579834123578,
          -0.8169181127599872,
          -0.0786697122584202,
          0.7677043271127714,
          0.33516517396777745,
          0.08496112422441039,
          0.09309029552920575,
          0.774275523501191,
          0.6168438544923766,
          -0.762326463653972,
          -0.7329996342331008
         ],
         "yaxis": "y15"
        },
        {
         "histfunc": "count",
         "histnorm": "",
         "marker": {
          "color": "rgba(128, 0, 128, 1.0)",
          "line": {
           "color": "#4D5663",
           "width": 1.3
          }
         },
         "name": "Alice",
         "nbinsx": 10,
         "opacity": 0.8,
         "orientation": "v",
         "type": "histogram",
         "x": [
          0.24937027334314316,
          -1.291424215603698,
          -0.4884012392345033,
          0.9532605534879363,
          2.3477005384206446,
          -1.0144239588546686,
          0.977099564603622,
          0.6168188802196694,
          -0.47560848458068333,
          0.8824737194957732,
          -1.4446977790153614,
          0.12627289529585273,
          0.24452288567558209,
          1.4803110759003795,
          1.8756290628133423,
          1.508162373590915,
          1.599052533345483,
          0.2618922581459752,
          2.12104217913582,
          0.808950397331336,
          -1.109094108308861,
          1.602083088917013,
          1.5768855759488984,
          1.005546370581314,
          -0.028537663788296124,
          -0.9521565165466842,
          -0.2694289632388691,
          0.33914099158362493,
          1.4848879735793097,
          -0.15952953831767577,
          0.5182428314779433,
          1.1493720658921305,
          0.30439104363373704,
          2.205722994703418,
          -0.9470086306875309,
          1.177834410972747,
          -0.9282409641187047,
          -1.1566182571832813,
          -0.5294052252444668,
          0.902653589829433,
          1.483146465740587,
          0.03747260476148352,
          -1.9110923237948987,
          -0.6612479030226804,
          0.5060241559272375,
          -1.7917820122316197,
          -0.4334998009209104,
          -1.6900226944935148,
          0.32390106016061765,
          -1.7753081467012586,
          1.7314152310140727,
          1.105940310866183,
          1.1211825454639375,
          -1.6068916682728345,
          -0.720547522323849,
          0.18068597517981844,
          -1.955738411816919,
          0.6726488254609667,
          0.5008582854675393,
          -0.6348169547283224,
          0.7258906936858436,
          -1.6280533559714265,
          -0.8452387063567807,
          -1.3127124095500966,
          1.4963497910833603,
          -0.27598207528628477,
          -0.22898495696167098,
          3.2675260228973384,
          -0.1862118745000819,
          0.352276323220306,
          0.29507517067968014,
          -0.3942808789972401,
          1.0284427652707993,
          1.2898001084397912,
          0.7705846439237007,
          -0.07355561105383403,
          -0.8449567375803194,
          -0.2530211972433086,
          -0.554226570610661,
          1.3099790240284408,
          -1.4976695060801464,
          -0.584939513569232,
          1.5641595185858919,
          1.018081520470552,
          1.4032815131925347,
          -0.6098160950068922,
          1.7619258459944727,
          -0.10746200784864435,
          -1.5375281243471617,
          -1.922579834123578,
          -0.8169181127599872,
          -0.0786697122584202,
          0.7677043271127714,
          0.33516517396777745,
          0.08496112422441039,
          0.09309029552920575,
          0.774275523501191,
          0.6168438544923766,
          -0.762326463653972,
          -0.7329996342331008
         ],
         "xaxis": "x16",
         "yaxis": "y16"
        }
       ],
       "layout": {
        "bargap": 0.02,
        "legend": {
         "bgcolor": "#F5F6F9",
         "font": {
          "color": "#4D5663"
         }
        },
        "paper_bgcolor": "#F5F6F9",
        "plot_bgcolor": "#F5F6F9",
        "showlegend": false,
        "template": {
         "data": {
          "bar": [
           {
            "error_x": {
             "color": "#2a3f5f"
            },
            "error_y": {
             "color": "#2a3f5f"
            },
            "marker": {
             "line": {
              "color": "#E5ECF6",
              "width": 0.5
             },
             "pattern": {
              "fillmode": "overlay",
              "size": 10,
              "solidity": 0.2
             }
            },
            "type": "bar"
           }
          ],
          "barpolar": [
           {
            "marker": {
             "line": {
              "color": "#E5ECF6",
              "width": 0.5
             },
             "pattern": {
              "fillmode": "overlay",
              "size": 10,
              "solidity": 0.2
             }
            },
            "type": "barpolar"
           }
          ],
          "carpet": [
           {
            "aaxis": {
             "endlinecolor": "#2a3f5f",
             "gridcolor": "white",
             "linecolor": "white",
             "minorgridcolor": "white",
             "startlinecolor": "#2a3f5f"
            },
            "baxis": {
             "endlinecolor": "#2a3f5f",
             "gridcolor": "white",
             "linecolor": "white",
             "minorgridcolor": "white",
             "startlinecolor": "#2a3f5f"
            },
            "type": "carpet"
           }
          ],
          "choropleth": [
           {
            "colorbar": {
             "outlinewidth": 0,
             "ticks": ""
            },
            "type": "choropleth"
           }
          ],
          "contour": [
           {
            "colorbar": {
             "outlinewidth": 0,
             "ticks": ""
            },
            "colorscale": [
             [
              0,
              "#0d0887"
             ],
             [
              0.1111111111111111,
              "#46039f"
             ],
             [
              0.2222222222222222,
              "#7201a8"
             ],
             [
              0.3333333333333333,
              "#9c179e"
             ],
             [
              0.4444444444444444,
              "#bd3786"
             ],
             [
              0.5555555555555556,
              "#d8576b"
             ],
             [
              0.6666666666666666,
              "#ed7953"
             ],
             [
              0.7777777777777778,
              "#fb9f3a"
             ],
             [
              0.8888888888888888,
              "#fdca26"
             ],
             [
              1,
              "#f0f921"
             ]
            ],
            "type": "contour"
           }
          ],
          "contourcarpet": [
           {
            "colorbar": {
             "outlinewidth": 0,
             "ticks": ""
            },
            "type": "contourcarpet"
           }
          ],
          "heatmap": [
           {
            "colorbar": {
             "outlinewidth": 0,
             "ticks": ""
            },
            "colorscale": [
             [
              0,
              "#0d0887"
             ],
             [
              0.1111111111111111,
              "#46039f"
             ],
             [
              0.2222222222222222,
              "#7201a8"
             ],
             [
              0.3333333333333333,
              "#9c179e"
             ],
             [
              0.4444444444444444,
              "#bd3786"
             ],
             [
              0.5555555555555556,
              "#d8576b"
             ],
             [
              0.6666666666666666,
              "#ed7953"
             ],
             [
              0.7777777777777778,
              "#fb9f3a"
             ],
             [
              0.8888888888888888,
              "#fdca26"
             ],
             [
              1,
              "#f0f921"
             ]
            ],
            "type": "heatmap"
           }
          ],
          "heatmapgl": [
           {
            "colorbar": {
             "outlinewidth": 0,
             "ticks": ""
            },
            "colorscale": [
             [
              0,
              "#0d0887"
             ],
             [
              0.1111111111111111,
              "#46039f"
             ],
             [
              0.2222222222222222,
              "#7201a8"
             ],
             [
              0.3333333333333333,
              "#9c179e"
             ],
             [
              0.4444444444444444,
              "#bd3786"
             ],
             [
              0.5555555555555556,
              "#d8576b"
             ],
             [
              0.6666666666666666,
              "#ed7953"
             ],
             [
              0.7777777777777778,
              "#fb9f3a"
             ],
             [
              0.8888888888888888,
              "#fdca26"
             ],
             [
              1,
              "#f0f921"
             ]
            ],
            "type": "heatmapgl"
           }
          ],
          "histogram": [
           {
            "marker": {
             "pattern": {
              "fillmode": "overlay",
              "size": 10,
              "solidity": 0.2
             }
            },
            "type": "histogram"
           }
          ],
          "histogram2d": [
           {
            "colorbar": {
             "outlinewidth": 0,
             "ticks": ""
            },
            "colorscale": [
             [
              0,
              "#0d0887"
             ],
             [
              0.1111111111111111,
              "#46039f"
             ],
             [
              0.2222222222222222,
              "#7201a8"
             ],
             [
              0.3333333333333333,
              "#9c179e"
             ],
             [
              0.4444444444444444,
              "#bd3786"
             ],
             [
              0.5555555555555556,
              "#d8576b"
             ],
             [
              0.6666666666666666,
              "#ed7953"
             ],
             [
              0.7777777777777778,
              "#fb9f3a"
             ],
             [
              0.8888888888888888,
              "#fdca26"
             ],
             [
              1,
              "#f0f921"
             ]
            ],
            "type": "histogram2d"
           }
          ],
          "histogram2dcontour": [
           {
            "colorbar": {
             "outlinewidth": 0,
             "ticks": ""
            },
            "colorscale": [
             [
              0,
              "#0d0887"
             ],
             [
              0.1111111111111111,
              "#46039f"
             ],
             [
              0.2222222222222222,
              "#7201a8"
             ],
             [
              0.3333333333333333,
              "#9c179e"
             ],
             [
              0.4444444444444444,
              "#bd3786"
             ],
             [
              0.5555555555555556,
              "#d8576b"
             ],
             [
              0.6666666666666666,
              "#ed7953"
             ],
             [
              0.7777777777777778,
              "#fb9f3a"
             ],
             [
              0.8888888888888888,
              "#fdca26"
             ],
             [
              1,
              "#f0f921"
             ]
            ],
            "type": "histogram2dcontour"
           }
          ],
          "mesh3d": [
           {
            "colorbar": {
             "outlinewidth": 0,
             "ticks": ""
            },
            "type": "mesh3d"
           }
          ],
          "parcoords": [
           {
            "line": {
             "colorbar": {
              "outlinewidth": 0,
              "ticks": ""
             }
            },
            "type": "parcoords"
           }
          ],
          "pie": [
           {
            "automargin": true,
            "type": "pie"
           }
          ],
          "scatter": [
           {
            "fillpattern": {
             "fillmode": "overlay",
             "size": 10,
             "solidity": 0.2
            },
            "type": "scatter"
           }
          ],
          "scatter3d": [
           {
            "line": {
             "colorbar": {
              "outlinewidth": 0,
              "ticks": ""
             }
            },
            "marker": {
             "colorbar": {
              "outlinewidth": 0,
              "ticks": ""
             }
            },
            "type": "scatter3d"
           }
          ],
          "scattercarpet": [
           {
            "marker": {
             "colorbar": {
              "outlinewidth": 0,
              "ticks": ""
             }
            },
            "type": "scattercarpet"
           }
          ],
          "scattergeo": [
           {
            "marker": {
             "colorbar": {
              "outlinewidth": 0,
              "ticks": ""
             }
            },
            "type": "scattergeo"
           }
          ],
          "scattergl": [
           {
            "marker": {
             "colorbar": {
              "outlinewidth": 0,
              "ticks": ""
             }
            },
            "type": "scattergl"
           }
          ],
          "scattermapbox": [
           {
            "marker": {
             "colorbar": {
              "outlinewidth": 0,
              "ticks": ""
             }
            },
            "type": "scattermapbox"
           }
          ],
          "scatterpolar": [
           {
            "marker": {
             "colorbar": {
              "outlinewidth": 0,
              "ticks": ""
             }
            },
            "type": "scatterpolar"
           }
          ],
          "scatterpolargl": [
           {
            "marker": {
             "colorbar": {
              "outlinewidth": 0,
              "ticks": ""
             }
            },
            "type": "scatterpolargl"
           }
          ],
          "scatterternary": [
           {
            "marker": {
             "colorbar": {
              "outlinewidth": 0,
              "ticks": ""
             }
            },
            "type": "scatterternary"
           }
          ],
          "surface": [
           {
            "colorbar": {
             "outlinewidth": 0,
             "ticks": ""
            },
            "colorscale": [
             [
              0,
              "#0d0887"
             ],
             [
              0.1111111111111111,
              "#46039f"
             ],
             [
              0.2222222222222222,
              "#7201a8"
             ],
             [
              0.3333333333333333,
              "#9c179e"
             ],
             [
              0.4444444444444444,
              "#bd3786"
             ],
             [
              0.5555555555555556,
              "#d8576b"
             ],
             [
              0.6666666666666666,
              "#ed7953"
             ],
             [
              0.7777777777777778,
              "#fb9f3a"
             ],
             [
              0.8888888888888888,
              "#fdca26"
             ],
             [
              1,
              "#f0f921"
             ]
            ],
            "type": "surface"
           }
          ],
          "table": [
           {
            "cells": {
             "fill": {
              "color": "#EBF0F8"
             },
             "line": {
              "color": "white"
             }
            },
            "header": {
             "fill": {
              "color": "#C8D4E3"
             },
             "line": {
              "color": "white"
             }
            },
            "type": "table"
           }
          ]
         },
         "layout": {
          "annotationdefaults": {
           "arrowcolor": "#2a3f5f",
           "arrowhead": 0,
           "arrowwidth": 1
          },
          "autotypenumbers": "strict",
          "coloraxis": {
           "colorbar": {
            "outlinewidth": 0,
            "ticks": ""
           }
          },
          "colorscale": {
           "diverging": [
            [
             0,
             "#8e0152"
            ],
            [
             0.1,
             "#c51b7d"
            ],
            [
             0.2,
             "#de77ae"
            ],
            [
             0.3,
             "#f1b6da"
            ],
            [
             0.4,
             "#fde0ef"
            ],
            [
             0.5,
             "#f7f7f7"
            ],
            [
             0.6,
             "#e6f5d0"
            ],
            [
             0.7,
             "#b8e186"
            ],
            [
             0.8,
             "#7fbc41"
            ],
            [
             0.9,
             "#4d9221"
            ],
            [
             1,
             "#276419"
            ]
           ],
           "sequential": [
            [
             0,
             "#0d0887"
            ],
            [
             0.1111111111111111,
             "#46039f"
            ],
            [
             0.2222222222222222,
             "#7201a8"
            ],
            [
             0.3333333333333333,
             "#9c179e"
            ],
            [
             0.4444444444444444,
             "#bd3786"
            ],
            [
             0.5555555555555556,
             "#d8576b"
            ],
            [
             0.6666666666666666,
             "#ed7953"
            ],
            [
             0.7777777777777778,
             "#fb9f3a"
            ],
            [
             0.8888888888888888,
             "#fdca26"
            ],
            [
             1,
             "#f0f921"
            ]
           ],
           "sequentialminus": [
            [
             0,
             "#0d0887"
            ],
            [
             0.1111111111111111,
             "#46039f"
            ],
            [
             0.2222222222222222,
             "#7201a8"
            ],
            [
             0.3333333333333333,
             "#9c179e"
            ],
            [
             0.4444444444444444,
             "#bd3786"
            ],
            [
             0.5555555555555556,
             "#d8576b"
            ],
            [
             0.6666666666666666,
             "#ed7953"
            ],
            [
             0.7777777777777778,
             "#fb9f3a"
            ],
            [
             0.8888888888888888,
             "#fdca26"
            ],
            [
             1,
             "#f0f921"
            ]
           ]
          },
          "colorway": [
           "#636efa",
           "#EF553B",
           "#00cc96",
           "#ab63fa",
           "#FFA15A",
           "#19d3f3",
           "#FF6692",
           "#B6E880",
           "#FF97FF",
           "#FECB52"
          ],
          "font": {
           "color": "#2a3f5f"
          },
          "geo": {
           "bgcolor": "white",
           "lakecolor": "white",
           "landcolor": "#E5ECF6",
           "showlakes": true,
           "showland": true,
           "subunitcolor": "white"
          },
          "hoverlabel": {
           "align": "left"
          },
          "hovermode": "closest",
          "mapbox": {
           "style": "light"
          },
          "paper_bgcolor": "white",
          "plot_bgcolor": "#E5ECF6",
          "polar": {
           "angularaxis": {
            "gridcolor": "white",
            "linecolor": "white",
            "ticks": ""
           },
           "bgcolor": "#E5ECF6",
           "radialaxis": {
            "gridcolor": "white",
            "linecolor": "white",
            "ticks": ""
           }
          },
          "scene": {
           "xaxis": {
            "backgroundcolor": "#E5ECF6",
            "gridcolor": "white",
            "gridwidth": 2,
            "linecolor": "white",
            "showbackground": true,
            "ticks": "",
            "zerolinecolor": "white"
           },
           "yaxis": {
            "backgroundcolor": "#E5ECF6",
            "gridcolor": "white",
            "gridwidth": 2,
            "linecolor": "white",
            "showbackground": true,
            "ticks": "",
            "zerolinecolor": "white"
           },
           "zaxis": {
            "backgroundcolor": "#E5ECF6",
            "gridcolor": "white",
            "gridwidth": 2,
            "linecolor": "white",
            "showbackground": true,
            "ticks": "",
            "zerolinecolor": "white"
           }
          },
          "shapedefaults": {
           "line": {
            "color": "#2a3f5f"
           }
          },
          "ternary": {
           "aaxis": {
            "gridcolor": "white",
            "linecolor": "white",
            "ticks": ""
           },
           "baxis": {
            "gridcolor": "white",
            "linecolor": "white",
            "ticks": ""
           },
           "bgcolor": "#E5ECF6",
           "caxis": {
            "gridcolor": "white",
            "linecolor": "white",
            "ticks": ""
           }
          },
          "title": {
           "x": 0.05
          },
          "xaxis": {
           "automargin": true,
           "gridcolor": "white",
           "linecolor": "white",
           "ticks": "",
           "title": {
            "standoff": 15
           },
           "zerolinecolor": "white",
           "zerolinewidth": 2
          },
          "yaxis": {
           "automargin": true,
           "gridcolor": "white",
           "linecolor": "white",
           "ticks": "",
           "title": {
            "standoff": 15
           },
           "zerolinecolor": "white",
           "zerolinewidth": 2
          }
         }
        },
        "title": {
         "font": {
          "color": "#4D5663"
         }
        },
        "xaxis": {
         "anchor": "y",
         "domain": [
          0,
          0.2125
         ],
         "gridcolor": "#E1E5ED",
         "showgrid": false,
         "tickfont": {
          "color": "#4D5663"
         },
         "title": {
          "font": {
           "color": "#4D5663"
          },
          "text": ""
         },
         "zerolinecolor": "#E1E5ED"
        },
        "xaxis10": {
         "anchor": "y10",
         "domain": [
          0.2625,
          0.475
         ],
         "gridcolor": "#E1E5ED",
         "showgrid": false,
         "tickfont": {
          "color": "#4D5663"
         },
         "title": {
          "font": {
           "color": "#4D5663"
          },
          "text": ""
         },
         "zerolinecolor": "#E1E5ED"
        },
        "xaxis11": {
         "anchor": "y11",
         "domain": [
          0.525,
          0.7375
         ],
         "gridcolor": "#E1E5ED",
         "showgrid": false,
         "tickfont": {
          "color": "#4D5663"
         },
         "title": {
          "font": {
           "color": "#4D5663"
          },
          "text": ""
         },
         "zerolinecolor": "#E1E5ED"
        },
        "xaxis12": {
         "anchor": "y12",
         "domain": [
          0.7875,
          1
         ],
         "gridcolor": "#E1E5ED",
         "showgrid": false,
         "tickfont": {
          "color": "#4D5663"
         },
         "title": {
          "font": {
           "color": "#4D5663"
          },
          "text": ""
         },
         "zerolinecolor": "#E1E5ED"
        },
        "xaxis13": {
         "anchor": "y13",
         "domain": [
          0,
          0.2125
         ],
         "gridcolor": "#E1E5ED",
         "showgrid": false,
         "tickfont": {
          "color": "#4D5663"
         },
         "title": {
          "font": {
           "color": "#4D5663"
          },
          "text": ""
         },
         "zerolinecolor": "#E1E5ED"
        },
        "xaxis14": {
         "anchor": "y14",
         "domain": [
          0.2625,
          0.475
         ],
         "gridcolor": "#E1E5ED",
         "showgrid": false,
         "tickfont": {
          "color": "#4D5663"
         },
         "title": {
          "font": {
           "color": "#4D5663"
          },
          "text": ""
         },
         "zerolinecolor": "#E1E5ED"
        },
        "xaxis15": {
         "anchor": "y15",
         "domain": [
          0.525,
          0.7375
         ],
         "gridcolor": "#E1E5ED",
         "showgrid": false,
         "tickfont": {
          "color": "#4D5663"
         },
         "title": {
          "font": {
           "color": "#4D5663"
          },
          "text": ""
         },
         "zerolinecolor": "#E1E5ED"
        },
        "xaxis16": {
         "anchor": "y16",
         "domain": [
          0.7875,
          1
         ],
         "gridcolor": "#E1E5ED",
         "showgrid": false,
         "tickfont": {
          "color": "#4D5663"
         },
         "title": {
          "font": {
           "color": "#4D5663"
          },
          "text": ""
         },
         "zerolinecolor": "#E1E5ED"
        },
        "xaxis2": {
         "anchor": "y2",
         "domain": [
          0.2625,
          0.475
         ],
         "gridcolor": "#E1E5ED",
         "showgrid": false,
         "tickfont": {
          "color": "#4D5663"
         },
         "title": {
          "font": {
           "color": "#4D5663"
          },
          "text": ""
         },
         "zerolinecolor": "#E1E5ED"
        },
        "xaxis3": {
         "anchor": "y3",
         "domain": [
          0.525,
          0.7375
         ],
         "gridcolor": "#E1E5ED",
         "showgrid": false,
         "tickfont": {
          "color": "#4D5663"
         },
         "title": {
          "font": {
           "color": "#4D5663"
          },
          "text": ""
         },
         "zerolinecolor": "#E1E5ED"
        },
        "xaxis4": {
         "anchor": "y4",
         "domain": [
          0.7875,
          1
         ],
         "gridcolor": "#E1E5ED",
         "showgrid": false,
         "tickfont": {
          "color": "#4D5663"
         },
         "title": {
          "font": {
           "color": "#4D5663"
          },
          "text": ""
         },
         "zerolinecolor": "#E1E5ED"
        },
        "xaxis5": {
         "anchor": "y5",
         "domain": [
          0,
          0.2125
         ],
         "gridcolor": "#E1E5ED",
         "showgrid": false,
         "tickfont": {
          "color": "#4D5663"
         },
         "title": {
          "font": {
           "color": "#4D5663"
          },
          "text": ""
         },
         "zerolinecolor": "#E1E5ED"
        },
        "xaxis6": {
         "anchor": "y6",
         "domain": [
          0.2625,
          0.475
         ],
         "gridcolor": "#E1E5ED",
         "showgrid": false,
         "tickfont": {
          "color": "#4D5663"
         },
         "title": {
          "font": {
           "color": "#4D5663"
          },
          "text": ""
         },
         "zerolinecolor": "#E1E5ED"
        },
        "xaxis7": {
         "anchor": "y7",
         "domain": [
          0.525,
          0.7375
         ],
         "gridcolor": "#E1E5ED",
         "showgrid": false,
         "tickfont": {
          "color": "#4D5663"
         },
         "title": {
          "font": {
           "color": "#4D5663"
          },
          "text": ""
         },
         "zerolinecolor": "#E1E5ED"
        },
        "xaxis8": {
         "anchor": "y8",
         "domain": [
          0.7875,
          1
         ],
         "gridcolor": "#E1E5ED",
         "showgrid": false,
         "tickfont": {
          "color": "#4D5663"
         },
         "title": {
          "font": {
           "color": "#4D5663"
          },
          "text": ""
         },
         "zerolinecolor": "#E1E5ED"
        },
        "xaxis9": {
         "anchor": "y9",
         "domain": [
          0,
          0.2125
         ],
         "gridcolor": "#E1E5ED",
         "showgrid": false,
         "tickfont": {
          "color": "#4D5663"
         },
         "title": {
          "font": {
           "color": "#4D5663"
          },
          "text": ""
         },
         "zerolinecolor": "#E1E5ED"
        },
        "yaxis": {
         "anchor": "x",
         "domain": [
          0.8025,
          1
         ],
         "gridcolor": "#E1E5ED",
         "showgrid": false,
         "tickfont": {
          "color": "#4D5663"
         },
         "title": {
          "font": {
           "color": "#4D5663"
          },
          "text": ""
         },
         "zerolinecolor": "#E1E5ED"
        },
        "yaxis10": {
         "anchor": "x10",
         "domain": [
          0.2675,
          0.465
         ],
         "gridcolor": "#E1E5ED",
         "showgrid": false,
         "tickfont": {
          "color": "#4D5663"
         },
         "title": {
          "font": {
           "color": "#4D5663"
          },
          "text": ""
         },
         "zerolinecolor": "#E1E5ED"
        },
        "yaxis11": {
         "anchor": "x11",
         "domain": [
          0.2675,
          0.465
         ],
         "gridcolor": "#E1E5ED",
         "showgrid": false,
         "tickfont": {
          "color": "#4D5663"
         },
         "title": {
          "font": {
           "color": "#4D5663"
          },
          "text": ""
         },
         "zerolinecolor": "#E1E5ED"
        },
        "yaxis12": {
         "anchor": "x12",
         "domain": [
          0.2675,
          0.465
         ],
         "gridcolor": "#E1E5ED",
         "showgrid": false,
         "tickfont": {
          "color": "#4D5663"
         },
         "title": {
          "font": {
           "color": "#4D5663"
          },
          "text": ""
         },
         "zerolinecolor": "#E1E5ED"
        },
        "yaxis13": {
         "anchor": "x13",
         "domain": [
          0,
          0.1975
         ],
         "gridcolor": "#E1E5ED",
         "showgrid": false,
         "tickfont": {
          "color": "#4D5663"
         },
         "title": {
          "font": {
           "color": "#4D5663"
          },
          "text": ""
         },
         "zerolinecolor": "#E1E5ED"
        },
        "yaxis14": {
         "anchor": "x14",
         "domain": [
          0,
          0.1975
         ],
         "gridcolor": "#E1E5ED",
         "showgrid": false,
         "tickfont": {
          "color": "#4D5663"
         },
         "title": {
          "font": {
           "color": "#4D5663"
          },
          "text": ""
         },
         "zerolinecolor": "#E1E5ED"
        },
        "yaxis15": {
         "anchor": "x15",
         "domain": [
          0,
          0.1975
         ],
         "gridcolor": "#E1E5ED",
         "showgrid": false,
         "tickfont": {
          "color": "#4D5663"
         },
         "title": {
          "font": {
           "color": "#4D5663"
          },
          "text": ""
         },
         "zerolinecolor": "#E1E5ED"
        },
        "yaxis16": {
         "anchor": "x16",
         "domain": [
          0,
          0.1975
         ],
         "gridcolor": "#E1E5ED",
         "showgrid": false,
         "tickfont": {
          "color": "#4D5663"
         },
         "title": {
          "font": {
           "color": "#4D5663"
          },
          "text": ""
         },
         "zerolinecolor": "#E1E5ED"
        },
        "yaxis2": {
         "anchor": "x2",
         "domain": [
          0.8025,
          1
         ],
         "gridcolor": "#E1E5ED",
         "showgrid": false,
         "tickfont": {
          "color": "#4D5663"
         },
         "title": {
          "font": {
           "color": "#4D5663"
          },
          "text": ""
         },
         "zerolinecolor": "#E1E5ED"
        },
        "yaxis3": {
         "anchor": "x3",
         "domain": [
          0.8025,
          1
         ],
         "gridcolor": "#E1E5ED",
         "showgrid": false,
         "tickfont": {
          "color": "#4D5663"
         },
         "title": {
          "font": {
           "color": "#4D5663"
          },
          "text": ""
         },
         "zerolinecolor": "#E1E5ED"
        },
        "yaxis4": {
         "anchor": "x4",
         "domain": [
          0.8025,
          1
         ],
         "gridcolor": "#E1E5ED",
         "showgrid": false,
         "tickfont": {
          "color": "#4D5663"
         },
         "title": {
          "font": {
           "color": "#4D5663"
          },
          "text": ""
         },
         "zerolinecolor": "#E1E5ED"
        },
        "yaxis5": {
         "anchor": "x5",
         "domain": [
          0.535,
          0.7325
         ],
         "gridcolor": "#E1E5ED",
         "showgrid": false,
         "tickfont": {
          "color": "#4D5663"
         },
         "title": {
          "font": {
           "color": "#4D5663"
          },
          "text": ""
         },
         "zerolinecolor": "#E1E5ED"
        },
        "yaxis6": {
         "anchor": "x6",
         "domain": [
          0.535,
          0.7325
         ],
         "gridcolor": "#E1E5ED",
         "showgrid": false,
         "tickfont": {
          "color": "#4D5663"
         },
         "title": {
          "font": {
           "color": "#4D5663"
          },
          "text": ""
         },
         "zerolinecolor": "#E1E5ED"
        },
        "yaxis7": {
         "anchor": "x7",
         "domain": [
          0.535,
          0.7325
         ],
         "gridcolor": "#E1E5ED",
         "showgrid": false,
         "tickfont": {
          "color": "#4D5663"
         },
         "title": {
          "font": {
           "color": "#4D5663"
          },
          "text": ""
         },
         "zerolinecolor": "#E1E5ED"
        },
        "yaxis8": {
         "anchor": "x8",
         "domain": [
          0.535,
          0.7325
         ],
         "gridcolor": "#E1E5ED",
         "showgrid": false,
         "tickfont": {
          "color": "#4D5663"
         },
         "title": {
          "font": {
           "color": "#4D5663"
          },
          "text": ""
         },
         "zerolinecolor": "#E1E5ED"
        },
        "yaxis9": {
         "anchor": "x9",
         "domain": [
          0.2675,
          0.465
         ],
         "gridcolor": "#E1E5ED",
         "showgrid": false,
         "tickfont": {
          "color": "#4D5663"
         },
         "title": {
          "font": {
           "color": "#4D5663"
          },
          "text": ""
         },
         "zerolinecolor": "#E1E5ED"
        }
       }
      },
      "text/html": [
       "<div>                            <div id=\"9ef43afb-e3ea-4375-aedc-2f6b4018aa98\" class=\"plotly-graph-div\" style=\"height:525px; width:100%;\"></div>            <script type=\"text/javascript\">                require([\"plotly\"], function(Plotly) {                    window.PLOTLYENV=window.PLOTLYENV || {};\n",
       "                    window.PLOTLYENV.BASE_URL='https://plot.ly';                                    if (document.getElementById(\"9ef43afb-e3ea-4375-aedc-2f6b4018aa98\")) {                    Plotly.newPlot(                        \"9ef43afb-e3ea-4375-aedc-2f6b4018aa98\",                        [{\"histfunc\":\"count\",\"histnorm\":\"\",\"marker\":{\"color\":\"rgba(255, 153, 51, 1.0)\",\"line\":{\"color\":\"#4D5663\",\"width\":1.3}},\"name\":\"John\",\"nbinsx\":10,\"opacity\":0.8,\"orientation\":\"v\",\"x\":[0.019642646998532538,0.5102977624801204,0.24449280881659421,-0.09964374543098901,-0.8336301504091984,0.7633960938278734,0.008888279313414483,-0.04559506706851624,0.1928875749925488,0.03414630485056338,0.7264465808915783,1.0658884808652351,0.38523365088508876,1.5124214398730913,-1.6377485347546827,-0.7010980666045677,0.45739260615720606,0.4876140496185153,-1.0773443173458792,0.1156850759183294,-1.7276705506695154,-0.7605787719199244,-1.0185765341213795,-0.6973825682764789,0.6891443271530647,0.2866451570554162,-0.6019547431882285,1.0946069931759237,-0.25809283296644064,0.3711605045232904,2.016529005040461,1.4362079476882181,-1.8065697572276622,0.41709344375999546,-0.952273483938806,-0.33790763860390516,1.4653354860476666,-1.0364187829767437,-0.5958291555412103,-0.9095925468162066,-0.03443570936609096,0.41796253085085777,0.4985597267149191,1.256230814302931,0.3041815809519573,-0.7314944255391029,0.1347390648641512,0.36668711521731945,-1.345745456849986,-0.3024870212580657,0.38946023142969144,-2.2080623777024857,0.14690798112419792,-0.10214577252644914,-0.7558190914775792,1.636096524673409,-0.9350054629918986,-0.834717261048946,0.9042211849377907,-0.970097819261639,0.08302084353049828,0.122533351733746,-0.5668598556840447,1.2122897430202741,-0.2628230583023596,-1.319033630348968,-1.2725064526718661,2.0358158967569318,-0.8468257533048923,1.4882729870233895,-1.2205022462300505,-0.05757188230792311,1.367768040891796,-0.19921297667841037,0.4697389292048797,-1.3381417318782258,0.6524847805507301,-1.7994321764509653,-1.077881485573476,-1.3625099426155498,0.045648147491829216,0.563618810148228,-0.4786892358293386,0.47606615646569794,-0.8543313928147953,0.0925095317870382,-0.21597284215262857,0.4834183462334682,-0.9360044456206287,-0.6269954947934127,2.1712068293506985,0.016129286645642983,-0.8759971648778004,1.1406389788304063,-1.500404007263379,0.4829784953373957,1.5084272190275951,-1.9175664929088536,-0.7413752267077025,-0.13980204256336462],\"xaxis\":\"x\",\"yaxis\":\"y\",\"type\":\"histogram\"},{\"line\":{\"color\":\"rgba(128, 128, 128, 1.0)\",\"dash\":\"solid\",\"shape\":\"linear\",\"width\":1.3},\"marker\":{\"size\":2,\"symbol\":\"circle\"},\"mode\":\"markers\",\"name\":\"John\",\"text\":\"\",\"x\":[0.18932288313259496,1.3281660265941044,0.08260420682700166,0.19766344985332351,-1.3519755938004667,0.7152547986319213,2.1061290065425045,-0.4536884731298851,-1.314290670147277,1.2162156869830907,0.38627757098814897,1.0778958970219656,1.0172005524466166,-0.8363987977283873,0.6219718214710519,-0.10941421275248397,0.1834145301165497,1.6905631473724685,0.2830379714000602,0.8209176571110884,0.2712601644922478,2.6709808829839905,-0.038019966272632134,-0.800964216187689,-0.9772594874158484,-0.9996924316330814,0.6757843694951967,-0.9172910777638664,0.21534798195889704,-0.6649356062395503,-1.2190835483281803,1.6237785328878958,-0.17059875405261618,0.5863516626635352,-0.10759342108696314,-0.593705778613284,0.8306281292382299,2.1589815543497193,-1.0911341602641766,-0.40761643718218465,-2.383684095369639,0.009333505772728184,0.08093342989807364,-0.33071099419622413,-0.26004567740817947,-0.06395831153582572,-0.5989402137637061,-0.6142660522286667,-2.1372805837605546,1.5015600737392012,-1.4841755895742048,-0.4063083689229514,-1.4867589787693356,-0.7562643323620777,0.4865696831994064,-0.6436237599111508,-0.05723995074100056,0.41887052392231416,0.3141993864196437,-0.24322500286511342,0.7610647654161666,-0.5576576400296814,-0.01206385658904262,-0.9750812100109979,0.684081164985671,-1.5261851048875195,0.37714545839915764,-0.8713897574661608,-0.2241657499226878,-0.6870427813507797,-0.47336276072954436,0.26368992576199496,-0.20034751046151145,0.45876070741422004,-0.16879611580477616,1.576773398907753,0.30704353862755446,-0.4911660185041354,0.6111210148978148,-2.213938060785341,0.020347578904885685,-0.5256163213064886,-1.693539773930717,-0.2737625049855568,1.1277007342060812,-0.4849370930878959,-0.5219300157008511,-1.112720153303619,1.4405568615058983,-1.7859008692500788,1.2443992275160747,-0.3448053249356195,-1.1315614753988137,0.40563336698552666,0.4595262640725895,-0.5381022646055008,-0.5132149097842915,-0.31065608999022215,0.8944689282816258,-0.5132298585680108],\"xaxis\":\"x2\",\"y\":[0.019642646998532538,0.5102977624801204,0.24449280881659421,-0.09964374543098901,-0.8336301504091984,0.7633960938278734,0.008888279313414483,-0.04559506706851624,0.1928875749925488,0.03414630485056338,0.7264465808915783,1.0658884808652351,0.38523365088508876,1.5124214398730913,-1.6377485347546827,-0.7010980666045677,0.45739260615720606,0.4876140496185153,-1.0773443173458792,0.1156850759183294,-1.7276705506695154,-0.7605787719199244,-1.0185765341213795,-0.6973825682764789,0.6891443271530647,0.2866451570554162,-0.6019547431882285,1.0946069931759237,-0.25809283296644064,0.3711605045232904,2.016529005040461,1.4362079476882181,-1.8065697572276622,0.41709344375999546,-0.952273483938806,-0.33790763860390516,1.4653354860476666,-1.0364187829767437,-0.5958291555412103,-0.9095925468162066,-0.03443570936609096,0.41796253085085777,0.4985597267149191,1.256230814302931,0.3041815809519573,-0.7314944255391029,0.1347390648641512,0.36668711521731945,-1.345745456849986,-0.3024870212580657,0.38946023142969144,-2.2080623777024857,0.14690798112419792,-0.10214577252644914,-0.7558190914775792,1.636096524673409,-0.9350054629918986,-0.834717261048946,0.9042211849377907,-0.970097819261639,0.08302084353049828,0.122533351733746,-0.5668598556840447,1.2122897430202741,-0.2628230583023596,-1.319033630348968,-1.2725064526718661,2.0358158967569318,-0.8468257533048923,1.4882729870233895,-1.2205022462300505,-0.05757188230792311,1.367768040891796,-0.19921297667841037,0.4697389292048797,-1.3381417318782258,0.6524847805507301,-1.7994321764509653,-1.077881485573476,-1.3625099426155498,0.045648147491829216,0.563618810148228,-0.4786892358293386,0.47606615646569794,-0.8543313928147953,0.0925095317870382,-0.21597284215262857,0.4834183462334682,-0.9360044456206287,-0.6269954947934127,2.1712068293506985,0.016129286645642983,-0.8759971648778004,1.1406389788304063,-1.500404007263379,0.4829784953373957,1.5084272190275951,-1.9175664929088536,-0.7413752267077025,-0.13980204256336462],\"yaxis\":\"y2\",\"type\":\"scatter\"},{\"line\":{\"color\":\"rgba(128, 128, 128, 1.0)\",\"dash\":\"solid\",\"shape\":\"linear\",\"width\":1.3},\"marker\":{\"size\":2,\"symbol\":\"circle\"},\"mode\":\"markers\",\"name\":\"John\",\"text\":\"\",\"x\":[0.020344460919605414,0.3462067161994248,0.17475916773203,1.5090626015195374,-0.4122208025818858,1.325337250095666,1.029866726130267,0.35064166507739725,0.9018799479323362,0.5046379467013828,0.534879942562968,0.10842387462848369,0.588422036103608,-0.01982207886584693,-0.6602670412667222,2.0594232095291405,-1.0664536958778772,0.9971590272421421,-0.419793450722026,-0.2868524725708644,1.5868280287464456,1.3642100845066147,0.4340492999209859,0.45187959111753234,0.7078472047688987,0.09622795159705001,-1.1278129617893926,0.9977539884117823,0.3898509544393391,-1.4453076915556564,-1.576959872160643,-1.7046069712375977,-0.9231990158881069,-1.539771719932798,0.1566058015997379,0.9036201624310277,0.40922130611714763,-0.614293801940151,-0.6273421217949555,1.2278507854586656,-0.6407675535419343,0.6540944755362336,0.7604357209718133,-1.5958031294720738,0.6384119218048553,1.6936312784352094,0.027377691105506207,0.5974207515989416,0.9732777312488076,-0.7983686208973904,-0.45929109595605755,0.42291223822053114,-0.3962140944152771,-2.0538570270466128,0.8055831452517226,0.08283220045954048,-2.0530799664162123,0.99407542444314,-0.6081559207174255,-0.6100039706517446,-0.059202928282162136,0.7638558716751972,1.5591072081500168,0.1407648608438338,0.1305287174305653,-0.24890282654787316,0.1960182491909555,-0.7395354388428351,-0.4900693987853215,-0.5829714807721302,0.4102840775139383,-0.8148124122744025,-0.0925608094388613,0.28783455859141643,-0.14238079545525237,-0.6251148156843083,0.6926933942593309,1.1229363887483916,-0.3104205138275535,1.2285728076630065,0.7072976367701932,-0.451354424910134,0.8305601329639444,1.6559291353284744,-0.331227360650665,0.45302812066839865,-0.4871842256267353,-2.0964124991912985,-0.6806087424626511,0.058105948903216506,3.202042974898475,-0.7410960417431232,0.18837589717535844,-0.31757443030843835,-0.09035881966556931,-0.8820890438553275,-0.357131255166717,0.006772012697767498,0.10935341583295807,1.359680187829212],\"xaxis\":\"x3\",\"y\":[0.019642646998532538,0.5102977624801204,0.24449280881659421,-0.09964374543098901,-0.8336301504091984,0.7633960938278734,0.008888279313414483,-0.04559506706851624,0.1928875749925488,0.03414630485056338,0.7264465808915783,1.0658884808652351,0.38523365088508876,1.5124214398730913,-1.6377485347546827,-0.7010980666045677,0.45739260615720606,0.4876140496185153,-1.0773443173458792,0.1156850759183294,-1.7276705506695154,-0.7605787719199244,-1.0185765341213795,-0.6973825682764789,0.6891443271530647,0.2866451570554162,-0.6019547431882285,1.0946069931759237,-0.25809283296644064,0.3711605045232904,2.016529005040461,1.4362079476882181,-1.8065697572276622,0.41709344375999546,-0.952273483938806,-0.33790763860390516,1.4653354860476666,-1.0364187829767437,-0.5958291555412103,-0.9095925468162066,-0.03443570936609096,0.41796253085085777,0.4985597267149191,1.256230814302931,0.3041815809519573,-0.7314944255391029,0.1347390648641512,0.36668711521731945,-1.345745456849986,-0.3024870212580657,0.38946023142969144,-2.2080623777024857,0.14690798112419792,-0.10214577252644914,-0.7558190914775792,1.636096524673409,-0.9350054629918986,-0.834717261048946,0.9042211849377907,-0.970097819261639,0.08302084353049828,0.122533351733746,-0.5668598556840447,1.2122897430202741,-0.2628230583023596,-1.319033630348968,-1.2725064526718661,2.0358158967569318,-0.8468257533048923,1.4882729870233895,-1.2205022462300505,-0.05757188230792311,1.367768040891796,-0.19921297667841037,0.4697389292048797,-1.3381417318782258,0.6524847805507301,-1.7994321764509653,-1.077881485573476,-1.3625099426155498,0.045648147491829216,0.563618810148228,-0.4786892358293386,0.47606615646569794,-0.8543313928147953,0.0925095317870382,-0.21597284215262857,0.4834183462334682,-0.9360044456206287,-0.6269954947934127,2.1712068293506985,0.016129286645642983,-0.8759971648778004,1.1406389788304063,-1.500404007263379,0.4829784953373957,1.5084272190275951,-1.9175664929088536,-0.7413752267077025,-0.13980204256336462],\"yaxis\":\"y3\",\"type\":\"scatter\"},{\"line\":{\"color\":\"rgba(128, 128, 128, 1.0)\",\"dash\":\"solid\",\"shape\":\"linear\",\"width\":1.3},\"marker\":{\"size\":2,\"symbol\":\"circle\"},\"mode\":\"markers\",\"name\":\"John\",\"text\":\"\",\"x\":[0.24937027334314316,-1.291424215603698,-0.4884012392345033,0.9532605534879363,2.3477005384206446,-1.0144239588546686,0.977099564603622,0.6168188802196694,-0.47560848458068333,0.8824737194957732,-1.4446977790153614,0.12627289529585273,0.24452288567558209,1.4803110759003795,1.8756290628133423,1.508162373590915,1.599052533345483,0.2618922581459752,2.12104217913582,0.808950397331336,-1.109094108308861,1.602083088917013,1.5768855759488984,1.005546370581314,-0.028537663788296124,-0.9521565165466842,-0.2694289632388691,0.33914099158362493,1.4848879735793097,-0.15952953831767577,0.5182428314779433,1.1493720658921305,0.30439104363373704,2.205722994703418,-0.9470086306875309,1.177834410972747,-0.9282409641187047,-1.1566182571832813,-0.5294052252444668,0.902653589829433,1.483146465740587,0.03747260476148352,-1.9110923237948987,-0.6612479030226804,0.5060241559272375,-1.7917820122316197,-0.4334998009209104,-1.6900226944935148,0.32390106016061765,-1.7753081467012586,1.7314152310140727,1.105940310866183,1.1211825454639375,-1.6068916682728345,-0.720547522323849,0.18068597517981844,-1.955738411816919,0.6726488254609667,0.5008582854675393,-0.6348169547283224,0.7258906936858436,-1.6280533559714265,-0.8452387063567807,-1.3127124095500966,1.4963497910833603,-0.27598207528628477,-0.22898495696167098,3.2675260228973384,-0.1862118745000819,0.352276323220306,0.29507517067968014,-0.3942808789972401,1.0284427652707993,1.2898001084397912,0.7705846439237007,-0.07355561105383403,-0.8449567375803194,-0.2530211972433086,-0.554226570610661,1.3099790240284408,-1.4976695060801464,-0.584939513569232,1.5641595185858919,1.018081520470552,1.4032815131925347,-0.6098160950068922,1.7619258459944727,-0.10746200784864435,-1.5375281243471617,-1.922579834123578,-0.8169181127599872,-0.0786697122584202,0.7677043271127714,0.33516517396777745,0.08496112422441039,0.09309029552920575,0.774275523501191,0.6168438544923766,-0.762326463653972,-0.7329996342331008],\"xaxis\":\"x4\",\"y\":[0.019642646998532538,0.5102977624801204,0.24449280881659421,-0.09964374543098901,-0.8336301504091984,0.7633960938278734,0.008888279313414483,-0.04559506706851624,0.1928875749925488,0.03414630485056338,0.7264465808915783,1.0658884808652351,0.38523365088508876,1.5124214398730913,-1.6377485347546827,-0.7010980666045677,0.45739260615720606,0.4876140496185153,-1.0773443173458792,0.1156850759183294,-1.7276705506695154,-0.7605787719199244,-1.0185765341213795,-0.6973825682764789,0.6891443271530647,0.2866451570554162,-0.6019547431882285,1.0946069931759237,-0.25809283296644064,0.3711605045232904,2.016529005040461,1.4362079476882181,-1.8065697572276622,0.41709344375999546,-0.952273483938806,-0.33790763860390516,1.4653354860476666,-1.0364187829767437,-0.5958291555412103,-0.9095925468162066,-0.03443570936609096,0.41796253085085777,0.4985597267149191,1.256230814302931,0.3041815809519573,-0.7314944255391029,0.1347390648641512,0.36668711521731945,-1.345745456849986,-0.3024870212580657,0.38946023142969144,-2.2080623777024857,0.14690798112419792,-0.10214577252644914,-0.7558190914775792,1.636096524673409,-0.9350054629918986,-0.834717261048946,0.9042211849377907,-0.970097819261639,0.08302084353049828,0.122533351733746,-0.5668598556840447,1.2122897430202741,-0.2628230583023596,-1.319033630348968,-1.2725064526718661,2.0358158967569318,-0.8468257533048923,1.4882729870233895,-1.2205022462300505,-0.05757188230792311,1.367768040891796,-0.19921297667841037,0.4697389292048797,-1.3381417318782258,0.6524847805507301,-1.7994321764509653,-1.077881485573476,-1.3625099426155498,0.045648147491829216,0.563618810148228,-0.4786892358293386,0.47606615646569794,-0.8543313928147953,0.0925095317870382,-0.21597284215262857,0.4834183462334682,-0.9360044456206287,-0.6269954947934127,2.1712068293506985,0.016129286645642983,-0.8759971648778004,1.1406389788304063,-1.500404007263379,0.4829784953373957,1.5084272190275951,-1.9175664929088536,-0.7413752267077025,-0.13980204256336462],\"yaxis\":\"y4\",\"type\":\"scatter\"},{\"line\":{\"color\":\"rgba(128, 128, 128, 1.0)\",\"dash\":\"solid\",\"shape\":\"linear\",\"width\":1.3},\"marker\":{\"size\":2,\"symbol\":\"circle\"},\"mode\":\"markers\",\"name\":\"Doe\",\"text\":\"\",\"x\":[0.019642646998532538,0.5102977624801204,0.24449280881659421,-0.09964374543098901,-0.8336301504091984,0.7633960938278734,0.008888279313414483,-0.04559506706851624,0.1928875749925488,0.03414630485056338,0.7264465808915783,1.0658884808652351,0.38523365088508876,1.5124214398730913,-1.6377485347546827,-0.7010980666045677,0.45739260615720606,0.4876140496185153,-1.0773443173458792,0.1156850759183294,-1.7276705506695154,-0.7605787719199244,-1.0185765341213795,-0.6973825682764789,0.6891443271530647,0.2866451570554162,-0.6019547431882285,1.0946069931759237,-0.25809283296644064,0.3711605045232904,2.016529005040461,1.4362079476882181,-1.8065697572276622,0.41709344375999546,-0.952273483938806,-0.33790763860390516,1.4653354860476666,-1.0364187829767437,-0.5958291555412103,-0.9095925468162066,-0.03443570936609096,0.41796253085085777,0.4985597267149191,1.256230814302931,0.3041815809519573,-0.7314944255391029,0.1347390648641512,0.36668711521731945,-1.345745456849986,-0.3024870212580657,0.38946023142969144,-2.2080623777024857,0.14690798112419792,-0.10214577252644914,-0.7558190914775792,1.636096524673409,-0.9350054629918986,-0.834717261048946,0.9042211849377907,-0.970097819261639,0.08302084353049828,0.122533351733746,-0.5668598556840447,1.2122897430202741,-0.2628230583023596,-1.319033630348968,-1.2725064526718661,2.0358158967569318,-0.8468257533048923,1.4882729870233895,-1.2205022462300505,-0.05757188230792311,1.367768040891796,-0.19921297667841037,0.4697389292048797,-1.3381417318782258,0.6524847805507301,-1.7994321764509653,-1.077881485573476,-1.3625099426155498,0.045648147491829216,0.563618810148228,-0.4786892358293386,0.47606615646569794,-0.8543313928147953,0.0925095317870382,-0.21597284215262857,0.4834183462334682,-0.9360044456206287,-0.6269954947934127,2.1712068293506985,0.016129286645642983,-0.8759971648778004,1.1406389788304063,-1.500404007263379,0.4829784953373957,1.5084272190275951,-1.9175664929088536,-0.7413752267077025,-0.13980204256336462],\"xaxis\":\"x5\",\"y\":[0.18932288313259496,1.3281660265941044,0.08260420682700166,0.19766344985332351,-1.3519755938004667,0.7152547986319213,2.1061290065425045,-0.4536884731298851,-1.314290670147277,1.2162156869830907,0.38627757098814897,1.0778958970219656,1.0172005524466166,-0.8363987977283873,0.6219718214710519,-0.10941421275248397,0.1834145301165497,1.6905631473724685,0.2830379714000602,0.8209176571110884,0.2712601644922478,2.6709808829839905,-0.038019966272632134,-0.800964216187689,-0.9772594874158484,-0.9996924316330814,0.6757843694951967,-0.9172910777638664,0.21534798195889704,-0.6649356062395503,-1.2190835483281803,1.6237785328878958,-0.17059875405261618,0.5863516626635352,-0.10759342108696314,-0.593705778613284,0.8306281292382299,2.1589815543497193,-1.0911341602641766,-0.40761643718218465,-2.383684095369639,0.009333505772728184,0.08093342989807364,-0.33071099419622413,-0.26004567740817947,-0.06395831153582572,-0.5989402137637061,-0.6142660522286667,-2.1372805837605546,1.5015600737392012,-1.4841755895742048,-0.4063083689229514,-1.4867589787693356,-0.7562643323620777,0.4865696831994064,-0.6436237599111508,-0.05723995074100056,0.41887052392231416,0.3141993864196437,-0.24322500286511342,0.7610647654161666,-0.5576576400296814,-0.01206385658904262,-0.9750812100109979,0.684081164985671,-1.5261851048875195,0.37714545839915764,-0.8713897574661608,-0.2241657499226878,-0.6870427813507797,-0.47336276072954436,0.26368992576199496,-0.20034751046151145,0.45876070741422004,-0.16879611580477616,1.576773398907753,0.30704353862755446,-0.4911660185041354,0.6111210148978148,-2.213938060785341,0.020347578904885685,-0.5256163213064886,-1.693539773930717,-0.2737625049855568,1.1277007342060812,-0.4849370930878959,-0.5219300157008511,-1.112720153303619,1.4405568615058983,-1.7859008692500788,1.2443992275160747,-0.3448053249356195,-1.1315614753988137,0.40563336698552666,0.4595262640725895,-0.5381022646055008,-0.5132149097842915,-0.31065608999022215,0.8944689282816258,-0.5132298585680108],\"yaxis\":\"y5\",\"type\":\"scatter\"},{\"histfunc\":\"count\",\"histnorm\":\"\",\"marker\":{\"color\":\"rgba(55, 128, 191, 1.0)\",\"line\":{\"color\":\"#4D5663\",\"width\":1.3}},\"name\":\"Doe\",\"nbinsx\":10,\"opacity\":0.8,\"orientation\":\"v\",\"x\":[0.18932288313259496,1.3281660265941044,0.08260420682700166,0.19766344985332351,-1.3519755938004667,0.7152547986319213,2.1061290065425045,-0.4536884731298851,-1.314290670147277,1.2162156869830907,0.38627757098814897,1.0778958970219656,1.0172005524466166,-0.8363987977283873,0.6219718214710519,-0.10941421275248397,0.1834145301165497,1.6905631473724685,0.2830379714000602,0.8209176571110884,0.2712601644922478,2.6709808829839905,-0.038019966272632134,-0.800964216187689,-0.9772594874158484,-0.9996924316330814,0.6757843694951967,-0.9172910777638664,0.21534798195889704,-0.6649356062395503,-1.2190835483281803,1.6237785328878958,-0.17059875405261618,0.5863516626635352,-0.10759342108696314,-0.593705778613284,0.8306281292382299,2.1589815543497193,-1.0911341602641766,-0.40761643718218465,-2.383684095369639,0.009333505772728184,0.08093342989807364,-0.33071099419622413,-0.26004567740817947,-0.06395831153582572,-0.5989402137637061,-0.6142660522286667,-2.1372805837605546,1.5015600737392012,-1.4841755895742048,-0.4063083689229514,-1.4867589787693356,-0.7562643323620777,0.4865696831994064,-0.6436237599111508,-0.05723995074100056,0.41887052392231416,0.3141993864196437,-0.24322500286511342,0.7610647654161666,-0.5576576400296814,-0.01206385658904262,-0.9750812100109979,0.684081164985671,-1.5261851048875195,0.37714545839915764,-0.8713897574661608,-0.2241657499226878,-0.6870427813507797,-0.47336276072954436,0.26368992576199496,-0.20034751046151145,0.45876070741422004,-0.16879611580477616,1.576773398907753,0.30704353862755446,-0.4911660185041354,0.6111210148978148,-2.213938060785341,0.020347578904885685,-0.5256163213064886,-1.693539773930717,-0.2737625049855568,1.1277007342060812,-0.4849370930878959,-0.5219300157008511,-1.112720153303619,1.4405568615058983,-1.7859008692500788,1.2443992275160747,-0.3448053249356195,-1.1315614753988137,0.40563336698552666,0.4595262640725895,-0.5381022646055008,-0.5132149097842915,-0.31065608999022215,0.8944689282816258,-0.5132298585680108],\"xaxis\":\"x6\",\"yaxis\":\"y6\",\"type\":\"histogram\"},{\"line\":{\"color\":\"rgba(128, 128, 128, 1.0)\",\"dash\":\"solid\",\"shape\":\"linear\",\"width\":1.3},\"marker\":{\"size\":2,\"symbol\":\"circle\"},\"mode\":\"markers\",\"name\":\"Doe\",\"text\":\"\",\"x\":[0.020344460919605414,0.3462067161994248,0.17475916773203,1.5090626015195374,-0.4122208025818858,1.325337250095666,1.029866726130267,0.35064166507739725,0.9018799479323362,0.5046379467013828,0.534879942562968,0.10842387462848369,0.588422036103608,-0.01982207886584693,-0.6602670412667222,2.0594232095291405,-1.0664536958778772,0.9971590272421421,-0.419793450722026,-0.2868524725708644,1.5868280287464456,1.3642100845066147,0.4340492999209859,0.45187959111753234,0.7078472047688987,0.09622795159705001,-1.1278129617893926,0.9977539884117823,0.3898509544393391,-1.4453076915556564,-1.576959872160643,-1.7046069712375977,-0.9231990158881069,-1.539771719932798,0.1566058015997379,0.9036201624310277,0.40922130611714763,-0.614293801940151,-0.6273421217949555,1.2278507854586656,-0.6407675535419343,0.6540944755362336,0.7604357209718133,-1.5958031294720738,0.6384119218048553,1.6936312784352094,0.027377691105506207,0.5974207515989416,0.9732777312488076,-0.7983686208973904,-0.45929109595605755,0.42291223822053114,-0.3962140944152771,-2.0538570270466128,0.8055831452517226,0.08283220045954048,-2.0530799664162123,0.99407542444314,-0.6081559207174255,-0.6100039706517446,-0.059202928282162136,0.7638558716751972,1.5591072081500168,0.1407648608438338,0.1305287174305653,-0.24890282654787316,0.1960182491909555,-0.7395354388428351,-0.4900693987853215,-0.5829714807721302,0.4102840775139383,-0.8148124122744025,-0.0925608094388613,0.28783455859141643,-0.14238079545525237,-0.6251148156843083,0.6926933942593309,1.1229363887483916,-0.3104205138275535,1.2285728076630065,0.7072976367701932,-0.451354424910134,0.8305601329639444,1.6559291353284744,-0.331227360650665,0.45302812066839865,-0.4871842256267353,-2.0964124991912985,-0.6806087424626511,0.058105948903216506,3.202042974898475,-0.7410960417431232,0.18837589717535844,-0.31757443030843835,-0.09035881966556931,-0.8820890438553275,-0.357131255166717,0.006772012697767498,0.10935341583295807,1.359680187829212],\"xaxis\":\"x7\",\"y\":[0.18932288313259496,1.3281660265941044,0.08260420682700166,0.19766344985332351,-1.3519755938004667,0.7152547986319213,2.1061290065425045,-0.4536884731298851,-1.314290670147277,1.2162156869830907,0.38627757098814897,1.0778958970219656,1.0172005524466166,-0.8363987977283873,0.6219718214710519,-0.10941421275248397,0.1834145301165497,1.6905631473724685,0.2830379714000602,0.8209176571110884,0.2712601644922478,2.6709808829839905,-0.038019966272632134,-0.800964216187689,-0.9772594874158484,-0.9996924316330814,0.6757843694951967,-0.9172910777638664,0.21534798195889704,-0.6649356062395503,-1.2190835483281803,1.6237785328878958,-0.17059875405261618,0.5863516626635352,-0.10759342108696314,-0.593705778613284,0.8306281292382299,2.1589815543497193,-1.0911341602641766,-0.40761643718218465,-2.383684095369639,0.009333505772728184,0.08093342989807364,-0.33071099419622413,-0.26004567740817947,-0.06395831153582572,-0.5989402137637061,-0.6142660522286667,-2.1372805837605546,1.5015600737392012,-1.4841755895742048,-0.4063083689229514,-1.4867589787693356,-0.7562643323620777,0.4865696831994064,-0.6436237599111508,-0.05723995074100056,0.41887052392231416,0.3141993864196437,-0.24322500286511342,0.7610647654161666,-0.5576576400296814,-0.01206385658904262,-0.9750812100109979,0.684081164985671,-1.5261851048875195,0.37714545839915764,-0.8713897574661608,-0.2241657499226878,-0.6870427813507797,-0.47336276072954436,0.26368992576199496,-0.20034751046151145,0.45876070741422004,-0.16879611580477616,1.576773398907753,0.30704353862755446,-0.4911660185041354,0.6111210148978148,-2.213938060785341,0.020347578904885685,-0.5256163213064886,-1.693539773930717,-0.2737625049855568,1.1277007342060812,-0.4849370930878959,-0.5219300157008511,-1.112720153303619,1.4405568615058983,-1.7859008692500788,1.2443992275160747,-0.3448053249356195,-1.1315614753988137,0.40563336698552666,0.4595262640725895,-0.5381022646055008,-0.5132149097842915,-0.31065608999022215,0.8944689282816258,-0.5132298585680108],\"yaxis\":\"y7\",\"type\":\"scatter\"},{\"line\":{\"color\":\"rgba(128, 128, 128, 1.0)\",\"dash\":\"solid\",\"shape\":\"linear\",\"width\":1.3},\"marker\":{\"size\":2,\"symbol\":\"circle\"},\"mode\":\"markers\",\"name\":\"Doe\",\"text\":\"\",\"x\":[0.24937027334314316,-1.291424215603698,-0.4884012392345033,0.9532605534879363,2.3477005384206446,-1.0144239588546686,0.977099564603622,0.6168188802196694,-0.47560848458068333,0.8824737194957732,-1.4446977790153614,0.12627289529585273,0.24452288567558209,1.4803110759003795,1.8756290628133423,1.508162373590915,1.599052533345483,0.2618922581459752,2.12104217913582,0.808950397331336,-1.109094108308861,1.602083088917013,1.5768855759488984,1.005546370581314,-0.028537663788296124,-0.9521565165466842,-0.2694289632388691,0.33914099158362493,1.4848879735793097,-0.15952953831767577,0.5182428314779433,1.1493720658921305,0.30439104363373704,2.205722994703418,-0.9470086306875309,1.177834410972747,-0.9282409641187047,-1.1566182571832813,-0.5294052252444668,0.902653589829433,1.483146465740587,0.03747260476148352,-1.9110923237948987,-0.6612479030226804,0.5060241559272375,-1.7917820122316197,-0.4334998009209104,-1.6900226944935148,0.32390106016061765,-1.7753081467012586,1.7314152310140727,1.105940310866183,1.1211825454639375,-1.6068916682728345,-0.720547522323849,0.18068597517981844,-1.955738411816919,0.6726488254609667,0.5008582854675393,-0.6348169547283224,0.7258906936858436,-1.6280533559714265,-0.8452387063567807,-1.3127124095500966,1.4963497910833603,-0.27598207528628477,-0.22898495696167098,3.2675260228973384,-0.1862118745000819,0.352276323220306,0.29507517067968014,-0.3942808789972401,1.0284427652707993,1.2898001084397912,0.7705846439237007,-0.07355561105383403,-0.8449567375803194,-0.2530211972433086,-0.554226570610661,1.3099790240284408,-1.4976695060801464,-0.584939513569232,1.5641595185858919,1.018081520470552,1.4032815131925347,-0.6098160950068922,1.7619258459944727,-0.10746200784864435,-1.5375281243471617,-1.922579834123578,-0.8169181127599872,-0.0786697122584202,0.7677043271127714,0.33516517396777745,0.08496112422441039,0.09309029552920575,0.774275523501191,0.6168438544923766,-0.762326463653972,-0.7329996342331008],\"xaxis\":\"x8\",\"y\":[0.18932288313259496,1.3281660265941044,0.08260420682700166,0.19766344985332351,-1.3519755938004667,0.7152547986319213,2.1061290065425045,-0.4536884731298851,-1.314290670147277,1.2162156869830907,0.38627757098814897,1.0778958970219656,1.0172005524466166,-0.8363987977283873,0.6219718214710519,-0.10941421275248397,0.1834145301165497,1.6905631473724685,0.2830379714000602,0.8209176571110884,0.2712601644922478,2.6709808829839905,-0.038019966272632134,-0.800964216187689,-0.9772594874158484,-0.9996924316330814,0.6757843694951967,-0.9172910777638664,0.21534798195889704,-0.6649356062395503,-1.2190835483281803,1.6237785328878958,-0.17059875405261618,0.5863516626635352,-0.10759342108696314,-0.593705778613284,0.8306281292382299,2.1589815543497193,-1.0911341602641766,-0.40761643718218465,-2.383684095369639,0.009333505772728184,0.08093342989807364,-0.33071099419622413,-0.26004567740817947,-0.06395831153582572,-0.5989402137637061,-0.6142660522286667,-2.1372805837605546,1.5015600737392012,-1.4841755895742048,-0.4063083689229514,-1.4867589787693356,-0.7562643323620777,0.4865696831994064,-0.6436237599111508,-0.05723995074100056,0.41887052392231416,0.3141993864196437,-0.24322500286511342,0.7610647654161666,-0.5576576400296814,-0.01206385658904262,-0.9750812100109979,0.684081164985671,-1.5261851048875195,0.37714545839915764,-0.8713897574661608,-0.2241657499226878,-0.6870427813507797,-0.47336276072954436,0.26368992576199496,-0.20034751046151145,0.45876070741422004,-0.16879611580477616,1.576773398907753,0.30704353862755446,-0.4911660185041354,0.6111210148978148,-2.213938060785341,0.020347578904885685,-0.5256163213064886,-1.693539773930717,-0.2737625049855568,1.1277007342060812,-0.4849370930878959,-0.5219300157008511,-1.112720153303619,1.4405568615058983,-1.7859008692500788,1.2443992275160747,-0.3448053249356195,-1.1315614753988137,0.40563336698552666,0.4595262640725895,-0.5381022646055008,-0.5132149097842915,-0.31065608999022215,0.8944689282816258,-0.5132298585680108],\"yaxis\":\"y8\",\"type\":\"scatter\"},{\"line\":{\"color\":\"rgba(128, 128, 128, 1.0)\",\"dash\":\"solid\",\"shape\":\"linear\",\"width\":1.3},\"marker\":{\"size\":2,\"symbol\":\"circle\"},\"mode\":\"markers\",\"name\":\"Jane\",\"text\":\"\",\"x\":[0.019642646998532538,0.5102977624801204,0.24449280881659421,-0.09964374543098901,-0.8336301504091984,0.7633960938278734,0.008888279313414483,-0.04559506706851624,0.1928875749925488,0.03414630485056338,0.7264465808915783,1.0658884808652351,0.38523365088508876,1.5124214398730913,-1.6377485347546827,-0.7010980666045677,0.45739260615720606,0.4876140496185153,-1.0773443173458792,0.1156850759183294,-1.7276705506695154,-0.7605787719199244,-1.0185765341213795,-0.6973825682764789,0.6891443271530647,0.2866451570554162,-0.6019547431882285,1.0946069931759237,-0.25809283296644064,0.3711605045232904,2.016529005040461,1.4362079476882181,-1.8065697572276622,0.41709344375999546,-0.952273483938806,-0.33790763860390516,1.4653354860476666,-1.0364187829767437,-0.5958291555412103,-0.9095925468162066,-0.03443570936609096,0.41796253085085777,0.4985597267149191,1.256230814302931,0.3041815809519573,-0.7314944255391029,0.1347390648641512,0.36668711521731945,-1.345745456849986,-0.3024870212580657,0.38946023142969144,-2.2080623777024857,0.14690798112419792,-0.10214577252644914,-0.7558190914775792,1.636096524673409,-0.9350054629918986,-0.834717261048946,0.9042211849377907,-0.970097819261639,0.08302084353049828,0.122533351733746,-0.5668598556840447,1.2122897430202741,-0.2628230583023596,-1.319033630348968,-1.2725064526718661,2.0358158967569318,-0.8468257533048923,1.4882729870233895,-1.2205022462300505,-0.05757188230792311,1.367768040891796,-0.19921297667841037,0.4697389292048797,-1.3381417318782258,0.6524847805507301,-1.7994321764509653,-1.077881485573476,-1.3625099426155498,0.045648147491829216,0.563618810148228,-0.4786892358293386,0.47606615646569794,-0.8543313928147953,0.0925095317870382,-0.21597284215262857,0.4834183462334682,-0.9360044456206287,-0.6269954947934127,2.1712068293506985,0.016129286645642983,-0.8759971648778004,1.1406389788304063,-1.500404007263379,0.4829784953373957,1.5084272190275951,-1.9175664929088536,-0.7413752267077025,-0.13980204256336462],\"xaxis\":\"x9\",\"y\":[0.020344460919605414,0.3462067161994248,0.17475916773203,1.5090626015195374,-0.4122208025818858,1.325337250095666,1.029866726130267,0.35064166507739725,0.9018799479323362,0.5046379467013828,0.534879942562968,0.10842387462848369,0.588422036103608,-0.01982207886584693,-0.6602670412667222,2.0594232095291405,-1.0664536958778772,0.9971590272421421,-0.419793450722026,-0.2868524725708644,1.5868280287464456,1.3642100845066147,0.4340492999209859,0.45187959111753234,0.7078472047688987,0.09622795159705001,-1.1278129617893926,0.9977539884117823,0.3898509544393391,-1.4453076915556564,-1.576959872160643,-1.7046069712375977,-0.9231990158881069,-1.539771719932798,0.1566058015997379,0.9036201624310277,0.40922130611714763,-0.614293801940151,-0.6273421217949555,1.2278507854586656,-0.6407675535419343,0.6540944755362336,0.7604357209718133,-1.5958031294720738,0.6384119218048553,1.6936312784352094,0.027377691105506207,0.5974207515989416,0.9732777312488076,-0.7983686208973904,-0.45929109595605755,0.42291223822053114,-0.3962140944152771,-2.0538570270466128,0.8055831452517226,0.08283220045954048,-2.0530799664162123,0.99407542444314,-0.6081559207174255,-0.6100039706517446,-0.059202928282162136,0.7638558716751972,1.5591072081500168,0.1407648608438338,0.1305287174305653,-0.24890282654787316,0.1960182491909555,-0.7395354388428351,-0.4900693987853215,-0.5829714807721302,0.4102840775139383,-0.8148124122744025,-0.0925608094388613,0.28783455859141643,-0.14238079545525237,-0.6251148156843083,0.6926933942593309,1.1229363887483916,-0.3104205138275535,1.2285728076630065,0.7072976367701932,-0.451354424910134,0.8305601329639444,1.6559291353284744,-0.331227360650665,0.45302812066839865,-0.4871842256267353,-2.0964124991912985,-0.6806087424626511,0.058105948903216506,3.202042974898475,-0.7410960417431232,0.18837589717535844,-0.31757443030843835,-0.09035881966556931,-0.8820890438553275,-0.357131255166717,0.006772012697767498,0.10935341583295807,1.359680187829212],\"yaxis\":\"y9\",\"type\":\"scatter\"},{\"line\":{\"color\":\"rgba(128, 128, 128, 1.0)\",\"dash\":\"solid\",\"shape\":\"linear\",\"width\":1.3},\"marker\":{\"size\":2,\"symbol\":\"circle\"},\"mode\":\"markers\",\"name\":\"Jane\",\"text\":\"\",\"x\":[0.18932288313259496,1.3281660265941044,0.08260420682700166,0.19766344985332351,-1.3519755938004667,0.7152547986319213,2.1061290065425045,-0.4536884731298851,-1.314290670147277,1.2162156869830907,0.38627757098814897,1.0778958970219656,1.0172005524466166,-0.8363987977283873,0.6219718214710519,-0.10941421275248397,0.1834145301165497,1.6905631473724685,0.2830379714000602,0.8209176571110884,0.2712601644922478,2.6709808829839905,-0.038019966272632134,-0.800964216187689,-0.9772594874158484,-0.9996924316330814,0.6757843694951967,-0.9172910777638664,0.21534798195889704,-0.6649356062395503,-1.2190835483281803,1.6237785328878958,-0.17059875405261618,0.5863516626635352,-0.10759342108696314,-0.593705778613284,0.8306281292382299,2.1589815543497193,-1.0911341602641766,-0.40761643718218465,-2.383684095369639,0.009333505772728184,0.08093342989807364,-0.33071099419622413,-0.26004567740817947,-0.06395831153582572,-0.5989402137637061,-0.6142660522286667,-2.1372805837605546,1.5015600737392012,-1.4841755895742048,-0.4063083689229514,-1.4867589787693356,-0.7562643323620777,0.4865696831994064,-0.6436237599111508,-0.05723995074100056,0.41887052392231416,0.3141993864196437,-0.24322500286511342,0.7610647654161666,-0.5576576400296814,-0.01206385658904262,-0.9750812100109979,0.684081164985671,-1.5261851048875195,0.37714545839915764,-0.8713897574661608,-0.2241657499226878,-0.6870427813507797,-0.47336276072954436,0.26368992576199496,-0.20034751046151145,0.45876070741422004,-0.16879611580477616,1.576773398907753,0.30704353862755446,-0.4911660185041354,0.6111210148978148,-2.213938060785341,0.020347578904885685,-0.5256163213064886,-1.693539773930717,-0.2737625049855568,1.1277007342060812,-0.4849370930878959,-0.5219300157008511,-1.112720153303619,1.4405568615058983,-1.7859008692500788,1.2443992275160747,-0.3448053249356195,-1.1315614753988137,0.40563336698552666,0.4595262640725895,-0.5381022646055008,-0.5132149097842915,-0.31065608999022215,0.8944689282816258,-0.5132298585680108],\"xaxis\":\"x10\",\"y\":[0.020344460919605414,0.3462067161994248,0.17475916773203,1.5090626015195374,-0.4122208025818858,1.325337250095666,1.029866726130267,0.35064166507739725,0.9018799479323362,0.5046379467013828,0.534879942562968,0.10842387462848369,0.588422036103608,-0.01982207886584693,-0.6602670412667222,2.0594232095291405,-1.0664536958778772,0.9971590272421421,-0.419793450722026,-0.2868524725708644,1.5868280287464456,1.3642100845066147,0.4340492999209859,0.45187959111753234,0.7078472047688987,0.09622795159705001,-1.1278129617893926,0.9977539884117823,0.3898509544393391,-1.4453076915556564,-1.576959872160643,-1.7046069712375977,-0.9231990158881069,-1.539771719932798,0.1566058015997379,0.9036201624310277,0.40922130611714763,-0.614293801940151,-0.6273421217949555,1.2278507854586656,-0.6407675535419343,0.6540944755362336,0.7604357209718133,-1.5958031294720738,0.6384119218048553,1.6936312784352094,0.027377691105506207,0.5974207515989416,0.9732777312488076,-0.7983686208973904,-0.45929109595605755,0.42291223822053114,-0.3962140944152771,-2.0538570270466128,0.8055831452517226,0.08283220045954048,-2.0530799664162123,0.99407542444314,-0.6081559207174255,-0.6100039706517446,-0.059202928282162136,0.7638558716751972,1.5591072081500168,0.1407648608438338,0.1305287174305653,-0.24890282654787316,0.1960182491909555,-0.7395354388428351,-0.4900693987853215,-0.5829714807721302,0.4102840775139383,-0.8148124122744025,-0.0925608094388613,0.28783455859141643,-0.14238079545525237,-0.6251148156843083,0.6926933942593309,1.1229363887483916,-0.3104205138275535,1.2285728076630065,0.7072976367701932,-0.451354424910134,0.8305601329639444,1.6559291353284744,-0.331227360650665,0.45302812066839865,-0.4871842256267353,-2.0964124991912985,-0.6806087424626511,0.058105948903216506,3.202042974898475,-0.7410960417431232,0.18837589717535844,-0.31757443030843835,-0.09035881966556931,-0.8820890438553275,-0.357131255166717,0.006772012697767498,0.10935341583295807,1.359680187829212],\"yaxis\":\"y10\",\"type\":\"scatter\"},{\"histfunc\":\"count\",\"histnorm\":\"\",\"marker\":{\"color\":\"rgba(50, 171, 96, 1.0)\",\"line\":{\"color\":\"#4D5663\",\"width\":1.3}},\"name\":\"Jane\",\"nbinsx\":10,\"opacity\":0.8,\"orientation\":\"v\",\"x\":[0.020344460919605414,0.3462067161994248,0.17475916773203,1.5090626015195374,-0.4122208025818858,1.325337250095666,1.029866726130267,0.35064166507739725,0.9018799479323362,0.5046379467013828,0.534879942562968,0.10842387462848369,0.588422036103608,-0.01982207886584693,-0.6602670412667222,2.0594232095291405,-1.0664536958778772,0.9971590272421421,-0.419793450722026,-0.2868524725708644,1.5868280287464456,1.3642100845066147,0.4340492999209859,0.45187959111753234,0.7078472047688987,0.09622795159705001,-1.1278129617893926,0.9977539884117823,0.3898509544393391,-1.4453076915556564,-1.576959872160643,-1.7046069712375977,-0.9231990158881069,-1.539771719932798,0.1566058015997379,0.9036201624310277,0.40922130611714763,-0.614293801940151,-0.6273421217949555,1.2278507854586656,-0.6407675535419343,0.6540944755362336,0.7604357209718133,-1.5958031294720738,0.6384119218048553,1.6936312784352094,0.027377691105506207,0.5974207515989416,0.9732777312488076,-0.7983686208973904,-0.45929109595605755,0.42291223822053114,-0.3962140944152771,-2.0538570270466128,0.8055831452517226,0.08283220045954048,-2.0530799664162123,0.99407542444314,-0.6081559207174255,-0.6100039706517446,-0.059202928282162136,0.7638558716751972,1.5591072081500168,0.1407648608438338,0.1305287174305653,-0.24890282654787316,0.1960182491909555,-0.7395354388428351,-0.4900693987853215,-0.5829714807721302,0.4102840775139383,-0.8148124122744025,-0.0925608094388613,0.28783455859141643,-0.14238079545525237,-0.6251148156843083,0.6926933942593309,1.1229363887483916,-0.3104205138275535,1.2285728076630065,0.7072976367701932,-0.451354424910134,0.8305601329639444,1.6559291353284744,-0.331227360650665,0.45302812066839865,-0.4871842256267353,-2.0964124991912985,-0.6806087424626511,0.058105948903216506,3.202042974898475,-0.7410960417431232,0.18837589717535844,-0.31757443030843835,-0.09035881966556931,-0.8820890438553275,-0.357131255166717,0.006772012697767498,0.10935341583295807,1.359680187829212],\"xaxis\":\"x11\",\"yaxis\":\"y11\",\"type\":\"histogram\"},{\"line\":{\"color\":\"rgba(128, 128, 128, 1.0)\",\"dash\":\"solid\",\"shape\":\"linear\",\"width\":1.3},\"marker\":{\"size\":2,\"symbol\":\"circle\"},\"mode\":\"markers\",\"name\":\"Jane\",\"text\":\"\",\"x\":[0.24937027334314316,-1.291424215603698,-0.4884012392345033,0.9532605534879363,2.3477005384206446,-1.0144239588546686,0.977099564603622,0.6168188802196694,-0.47560848458068333,0.8824737194957732,-1.4446977790153614,0.12627289529585273,0.24452288567558209,1.4803110759003795,1.8756290628133423,1.508162373590915,1.599052533345483,0.2618922581459752,2.12104217913582,0.808950397331336,-1.109094108308861,1.602083088917013,1.5768855759488984,1.005546370581314,-0.028537663788296124,-0.9521565165466842,-0.2694289632388691,0.33914099158362493,1.4848879735793097,-0.15952953831767577,0.5182428314779433,1.1493720658921305,0.30439104363373704,2.205722994703418,-0.9470086306875309,1.177834410972747,-0.9282409641187047,-1.1566182571832813,-0.5294052252444668,0.902653589829433,1.483146465740587,0.03747260476148352,-1.9110923237948987,-0.6612479030226804,0.5060241559272375,-1.7917820122316197,-0.4334998009209104,-1.6900226944935148,0.32390106016061765,-1.7753081467012586,1.7314152310140727,1.105940310866183,1.1211825454639375,-1.6068916682728345,-0.720547522323849,0.18068597517981844,-1.955738411816919,0.6726488254609667,0.5008582854675393,-0.6348169547283224,0.7258906936858436,-1.6280533559714265,-0.8452387063567807,-1.3127124095500966,1.4963497910833603,-0.27598207528628477,-0.22898495696167098,3.2675260228973384,-0.1862118745000819,0.352276323220306,0.29507517067968014,-0.3942808789972401,1.0284427652707993,1.2898001084397912,0.7705846439237007,-0.07355561105383403,-0.8449567375803194,-0.2530211972433086,-0.554226570610661,1.3099790240284408,-1.4976695060801464,-0.584939513569232,1.5641595185858919,1.018081520470552,1.4032815131925347,-0.6098160950068922,1.7619258459944727,-0.10746200784864435,-1.5375281243471617,-1.922579834123578,-0.8169181127599872,-0.0786697122584202,0.7677043271127714,0.33516517396777745,0.08496112422441039,0.09309029552920575,0.774275523501191,0.6168438544923766,-0.762326463653972,-0.7329996342331008],\"xaxis\":\"x12\",\"y\":[0.020344460919605414,0.3462067161994248,0.17475916773203,1.5090626015195374,-0.4122208025818858,1.325337250095666,1.029866726130267,0.35064166507739725,0.9018799479323362,0.5046379467013828,0.534879942562968,0.10842387462848369,0.588422036103608,-0.01982207886584693,-0.6602670412667222,2.0594232095291405,-1.0664536958778772,0.9971590272421421,-0.419793450722026,-0.2868524725708644,1.5868280287464456,1.3642100845066147,0.4340492999209859,0.45187959111753234,0.7078472047688987,0.09622795159705001,-1.1278129617893926,0.9977539884117823,0.3898509544393391,-1.4453076915556564,-1.576959872160643,-1.7046069712375977,-0.9231990158881069,-1.539771719932798,0.1566058015997379,0.9036201624310277,0.40922130611714763,-0.614293801940151,-0.6273421217949555,1.2278507854586656,-0.6407675535419343,0.6540944755362336,0.7604357209718133,-1.5958031294720738,0.6384119218048553,1.6936312784352094,0.027377691105506207,0.5974207515989416,0.9732777312488076,-0.7983686208973904,-0.45929109595605755,0.42291223822053114,-0.3962140944152771,-2.0538570270466128,0.8055831452517226,0.08283220045954048,-2.0530799664162123,0.99407542444314,-0.6081559207174255,-0.6100039706517446,-0.059202928282162136,0.7638558716751972,1.5591072081500168,0.1407648608438338,0.1305287174305653,-0.24890282654787316,0.1960182491909555,-0.7395354388428351,-0.4900693987853215,-0.5829714807721302,0.4102840775139383,-0.8148124122744025,-0.0925608094388613,0.28783455859141643,-0.14238079545525237,-0.6251148156843083,0.6926933942593309,1.1229363887483916,-0.3104205138275535,1.2285728076630065,0.7072976367701932,-0.451354424910134,0.8305601329639444,1.6559291353284744,-0.331227360650665,0.45302812066839865,-0.4871842256267353,-2.0964124991912985,-0.6806087424626511,0.058105948903216506,3.202042974898475,-0.7410960417431232,0.18837589717535844,-0.31757443030843835,-0.09035881966556931,-0.8820890438553275,-0.357131255166717,0.006772012697767498,0.10935341583295807,1.359680187829212],\"yaxis\":\"y12\",\"type\":\"scatter\"},{\"line\":{\"color\":\"rgba(128, 128, 128, 1.0)\",\"dash\":\"solid\",\"shape\":\"linear\",\"width\":1.3},\"marker\":{\"size\":2,\"symbol\":\"circle\"},\"mode\":\"markers\",\"name\":\"Alice\",\"text\":\"\",\"x\":[0.019642646998532538,0.5102977624801204,0.24449280881659421,-0.09964374543098901,-0.8336301504091984,0.7633960938278734,0.008888279313414483,-0.04559506706851624,0.1928875749925488,0.03414630485056338,0.7264465808915783,1.0658884808652351,0.38523365088508876,1.5124214398730913,-1.6377485347546827,-0.7010980666045677,0.45739260615720606,0.4876140496185153,-1.0773443173458792,0.1156850759183294,-1.7276705506695154,-0.7605787719199244,-1.0185765341213795,-0.6973825682764789,0.6891443271530647,0.2866451570554162,-0.6019547431882285,1.0946069931759237,-0.25809283296644064,0.3711605045232904,2.016529005040461,1.4362079476882181,-1.8065697572276622,0.41709344375999546,-0.952273483938806,-0.33790763860390516,1.4653354860476666,-1.0364187829767437,-0.5958291555412103,-0.9095925468162066,-0.03443570936609096,0.41796253085085777,0.4985597267149191,1.256230814302931,0.3041815809519573,-0.7314944255391029,0.1347390648641512,0.36668711521731945,-1.345745456849986,-0.3024870212580657,0.38946023142969144,-2.2080623777024857,0.14690798112419792,-0.10214577252644914,-0.7558190914775792,1.636096524673409,-0.9350054629918986,-0.834717261048946,0.9042211849377907,-0.970097819261639,0.08302084353049828,0.122533351733746,-0.5668598556840447,1.2122897430202741,-0.2628230583023596,-1.319033630348968,-1.2725064526718661,2.0358158967569318,-0.8468257533048923,1.4882729870233895,-1.2205022462300505,-0.05757188230792311,1.367768040891796,-0.19921297667841037,0.4697389292048797,-1.3381417318782258,0.6524847805507301,-1.7994321764509653,-1.077881485573476,-1.3625099426155498,0.045648147491829216,0.563618810148228,-0.4786892358293386,0.47606615646569794,-0.8543313928147953,0.0925095317870382,-0.21597284215262857,0.4834183462334682,-0.9360044456206287,-0.6269954947934127,2.1712068293506985,0.016129286645642983,-0.8759971648778004,1.1406389788304063,-1.500404007263379,0.4829784953373957,1.5084272190275951,-1.9175664929088536,-0.7413752267077025,-0.13980204256336462],\"xaxis\":\"x13\",\"y\":[0.24937027334314316,-1.291424215603698,-0.4884012392345033,0.9532605534879363,2.3477005384206446,-1.0144239588546686,0.977099564603622,0.6168188802196694,-0.47560848458068333,0.8824737194957732,-1.4446977790153614,0.12627289529585273,0.24452288567558209,1.4803110759003795,1.8756290628133423,1.508162373590915,1.599052533345483,0.2618922581459752,2.12104217913582,0.808950397331336,-1.109094108308861,1.602083088917013,1.5768855759488984,1.005546370581314,-0.028537663788296124,-0.9521565165466842,-0.2694289632388691,0.33914099158362493,1.4848879735793097,-0.15952953831767577,0.5182428314779433,1.1493720658921305,0.30439104363373704,2.205722994703418,-0.9470086306875309,1.177834410972747,-0.9282409641187047,-1.1566182571832813,-0.5294052252444668,0.902653589829433,1.483146465740587,0.03747260476148352,-1.9110923237948987,-0.6612479030226804,0.5060241559272375,-1.7917820122316197,-0.4334998009209104,-1.6900226944935148,0.32390106016061765,-1.7753081467012586,1.7314152310140727,1.105940310866183,1.1211825454639375,-1.6068916682728345,-0.720547522323849,0.18068597517981844,-1.955738411816919,0.6726488254609667,0.5008582854675393,-0.6348169547283224,0.7258906936858436,-1.6280533559714265,-0.8452387063567807,-1.3127124095500966,1.4963497910833603,-0.27598207528628477,-0.22898495696167098,3.2675260228973384,-0.1862118745000819,0.352276323220306,0.29507517067968014,-0.3942808789972401,1.0284427652707993,1.2898001084397912,0.7705846439237007,-0.07355561105383403,-0.8449567375803194,-0.2530211972433086,-0.554226570610661,1.3099790240284408,-1.4976695060801464,-0.584939513569232,1.5641595185858919,1.018081520470552,1.4032815131925347,-0.6098160950068922,1.7619258459944727,-0.10746200784864435,-1.5375281243471617,-1.922579834123578,-0.8169181127599872,-0.0786697122584202,0.7677043271127714,0.33516517396777745,0.08496112422441039,0.09309029552920575,0.774275523501191,0.6168438544923766,-0.762326463653972,-0.7329996342331008],\"yaxis\":\"y13\",\"type\":\"scatter\"},{\"line\":{\"color\":\"rgba(128, 128, 128, 1.0)\",\"dash\":\"solid\",\"shape\":\"linear\",\"width\":1.3},\"marker\":{\"size\":2,\"symbol\":\"circle\"},\"mode\":\"markers\",\"name\":\"Alice\",\"text\":\"\",\"x\":[0.18932288313259496,1.3281660265941044,0.08260420682700166,0.19766344985332351,-1.3519755938004667,0.7152547986319213,2.1061290065425045,-0.4536884731298851,-1.314290670147277,1.2162156869830907,0.38627757098814897,1.0778958970219656,1.0172005524466166,-0.8363987977283873,0.6219718214710519,-0.10941421275248397,0.1834145301165497,1.6905631473724685,0.2830379714000602,0.8209176571110884,0.2712601644922478,2.6709808829839905,-0.038019966272632134,-0.800964216187689,-0.9772594874158484,-0.9996924316330814,0.6757843694951967,-0.9172910777638664,0.21534798195889704,-0.6649356062395503,-1.2190835483281803,1.6237785328878958,-0.17059875405261618,0.5863516626635352,-0.10759342108696314,-0.593705778613284,0.8306281292382299,2.1589815543497193,-1.0911341602641766,-0.40761643718218465,-2.383684095369639,0.009333505772728184,0.08093342989807364,-0.33071099419622413,-0.26004567740817947,-0.06395831153582572,-0.5989402137637061,-0.6142660522286667,-2.1372805837605546,1.5015600737392012,-1.4841755895742048,-0.4063083689229514,-1.4867589787693356,-0.7562643323620777,0.4865696831994064,-0.6436237599111508,-0.05723995074100056,0.41887052392231416,0.3141993864196437,-0.24322500286511342,0.7610647654161666,-0.5576576400296814,-0.01206385658904262,-0.9750812100109979,0.684081164985671,-1.5261851048875195,0.37714545839915764,-0.8713897574661608,-0.2241657499226878,-0.6870427813507797,-0.47336276072954436,0.26368992576199496,-0.20034751046151145,0.45876070741422004,-0.16879611580477616,1.576773398907753,0.30704353862755446,-0.4911660185041354,0.6111210148978148,-2.213938060785341,0.020347578904885685,-0.5256163213064886,-1.693539773930717,-0.2737625049855568,1.1277007342060812,-0.4849370930878959,-0.5219300157008511,-1.112720153303619,1.4405568615058983,-1.7859008692500788,1.2443992275160747,-0.3448053249356195,-1.1315614753988137,0.40563336698552666,0.4595262640725895,-0.5381022646055008,-0.5132149097842915,-0.31065608999022215,0.8944689282816258,-0.5132298585680108],\"xaxis\":\"x14\",\"y\":[0.24937027334314316,-1.291424215603698,-0.4884012392345033,0.9532605534879363,2.3477005384206446,-1.0144239588546686,0.977099564603622,0.6168188802196694,-0.47560848458068333,0.8824737194957732,-1.4446977790153614,0.12627289529585273,0.24452288567558209,1.4803110759003795,1.8756290628133423,1.508162373590915,1.599052533345483,0.2618922581459752,2.12104217913582,0.808950397331336,-1.109094108308861,1.602083088917013,1.5768855759488984,1.005546370581314,-0.028537663788296124,-0.9521565165466842,-0.2694289632388691,0.33914099158362493,1.4848879735793097,-0.15952953831767577,0.5182428314779433,1.1493720658921305,0.30439104363373704,2.205722994703418,-0.9470086306875309,1.177834410972747,-0.9282409641187047,-1.1566182571832813,-0.5294052252444668,0.902653589829433,1.483146465740587,0.03747260476148352,-1.9110923237948987,-0.6612479030226804,0.5060241559272375,-1.7917820122316197,-0.4334998009209104,-1.6900226944935148,0.32390106016061765,-1.7753081467012586,1.7314152310140727,1.105940310866183,1.1211825454639375,-1.6068916682728345,-0.720547522323849,0.18068597517981844,-1.955738411816919,0.6726488254609667,0.5008582854675393,-0.6348169547283224,0.7258906936858436,-1.6280533559714265,-0.8452387063567807,-1.3127124095500966,1.4963497910833603,-0.27598207528628477,-0.22898495696167098,3.2675260228973384,-0.1862118745000819,0.352276323220306,0.29507517067968014,-0.3942808789972401,1.0284427652707993,1.2898001084397912,0.7705846439237007,-0.07355561105383403,-0.8449567375803194,-0.2530211972433086,-0.554226570610661,1.3099790240284408,-1.4976695060801464,-0.584939513569232,1.5641595185858919,1.018081520470552,1.4032815131925347,-0.6098160950068922,1.7619258459944727,-0.10746200784864435,-1.5375281243471617,-1.922579834123578,-0.8169181127599872,-0.0786697122584202,0.7677043271127714,0.33516517396777745,0.08496112422441039,0.09309029552920575,0.774275523501191,0.6168438544923766,-0.762326463653972,-0.7329996342331008],\"yaxis\":\"y14\",\"type\":\"scatter\"},{\"line\":{\"color\":\"rgba(128, 128, 128, 1.0)\",\"dash\":\"solid\",\"shape\":\"linear\",\"width\":1.3},\"marker\":{\"size\":2,\"symbol\":\"circle\"},\"mode\":\"markers\",\"name\":\"Alice\",\"text\":\"\",\"x\":[0.020344460919605414,0.3462067161994248,0.17475916773203,1.5090626015195374,-0.4122208025818858,1.325337250095666,1.029866726130267,0.35064166507739725,0.9018799479323362,0.5046379467013828,0.534879942562968,0.10842387462848369,0.588422036103608,-0.01982207886584693,-0.6602670412667222,2.0594232095291405,-1.0664536958778772,0.9971590272421421,-0.419793450722026,-0.2868524725708644,1.5868280287464456,1.3642100845066147,0.4340492999209859,0.45187959111753234,0.7078472047688987,0.09622795159705001,-1.1278129617893926,0.9977539884117823,0.3898509544393391,-1.4453076915556564,-1.576959872160643,-1.7046069712375977,-0.9231990158881069,-1.539771719932798,0.1566058015997379,0.9036201624310277,0.40922130611714763,-0.614293801940151,-0.6273421217949555,1.2278507854586656,-0.6407675535419343,0.6540944755362336,0.7604357209718133,-1.5958031294720738,0.6384119218048553,1.6936312784352094,0.027377691105506207,0.5974207515989416,0.9732777312488076,-0.7983686208973904,-0.45929109595605755,0.42291223822053114,-0.3962140944152771,-2.0538570270466128,0.8055831452517226,0.08283220045954048,-2.0530799664162123,0.99407542444314,-0.6081559207174255,-0.6100039706517446,-0.059202928282162136,0.7638558716751972,1.5591072081500168,0.1407648608438338,0.1305287174305653,-0.24890282654787316,0.1960182491909555,-0.7395354388428351,-0.4900693987853215,-0.5829714807721302,0.4102840775139383,-0.8148124122744025,-0.0925608094388613,0.28783455859141643,-0.14238079545525237,-0.6251148156843083,0.6926933942593309,1.1229363887483916,-0.3104205138275535,1.2285728076630065,0.7072976367701932,-0.451354424910134,0.8305601329639444,1.6559291353284744,-0.331227360650665,0.45302812066839865,-0.4871842256267353,-2.0964124991912985,-0.6806087424626511,0.058105948903216506,3.202042974898475,-0.7410960417431232,0.18837589717535844,-0.31757443030843835,-0.09035881966556931,-0.8820890438553275,-0.357131255166717,0.006772012697767498,0.10935341583295807,1.359680187829212],\"xaxis\":\"x15\",\"y\":[0.24937027334314316,-1.291424215603698,-0.4884012392345033,0.9532605534879363,2.3477005384206446,-1.0144239588546686,0.977099564603622,0.6168188802196694,-0.47560848458068333,0.8824737194957732,-1.4446977790153614,0.12627289529585273,0.24452288567558209,1.4803110759003795,1.8756290628133423,1.508162373590915,1.599052533345483,0.2618922581459752,2.12104217913582,0.808950397331336,-1.109094108308861,1.602083088917013,1.5768855759488984,1.005546370581314,-0.028537663788296124,-0.9521565165466842,-0.2694289632388691,0.33914099158362493,1.4848879735793097,-0.15952953831767577,0.5182428314779433,1.1493720658921305,0.30439104363373704,2.205722994703418,-0.9470086306875309,1.177834410972747,-0.9282409641187047,-1.1566182571832813,-0.5294052252444668,0.902653589829433,1.483146465740587,0.03747260476148352,-1.9110923237948987,-0.6612479030226804,0.5060241559272375,-1.7917820122316197,-0.4334998009209104,-1.6900226944935148,0.32390106016061765,-1.7753081467012586,1.7314152310140727,1.105940310866183,1.1211825454639375,-1.6068916682728345,-0.720547522323849,0.18068597517981844,-1.955738411816919,0.6726488254609667,0.5008582854675393,-0.6348169547283224,0.7258906936858436,-1.6280533559714265,-0.8452387063567807,-1.3127124095500966,1.4963497910833603,-0.27598207528628477,-0.22898495696167098,3.2675260228973384,-0.1862118745000819,0.352276323220306,0.29507517067968014,-0.3942808789972401,1.0284427652707993,1.2898001084397912,0.7705846439237007,-0.07355561105383403,-0.8449567375803194,-0.2530211972433086,-0.554226570610661,1.3099790240284408,-1.4976695060801464,-0.584939513569232,1.5641595185858919,1.018081520470552,1.4032815131925347,-0.6098160950068922,1.7619258459944727,-0.10746200784864435,-1.5375281243471617,-1.922579834123578,-0.8169181127599872,-0.0786697122584202,0.7677043271127714,0.33516517396777745,0.08496112422441039,0.09309029552920575,0.774275523501191,0.6168438544923766,-0.762326463653972,-0.7329996342331008],\"yaxis\":\"y15\",\"type\":\"scatter\"},{\"histfunc\":\"count\",\"histnorm\":\"\",\"marker\":{\"color\":\"rgba(128, 0, 128, 1.0)\",\"line\":{\"color\":\"#4D5663\",\"width\":1.3}},\"name\":\"Alice\",\"nbinsx\":10,\"opacity\":0.8,\"orientation\":\"v\",\"x\":[0.24937027334314316,-1.291424215603698,-0.4884012392345033,0.9532605534879363,2.3477005384206446,-1.0144239588546686,0.977099564603622,0.6168188802196694,-0.47560848458068333,0.8824737194957732,-1.4446977790153614,0.12627289529585273,0.24452288567558209,1.4803110759003795,1.8756290628133423,1.508162373590915,1.599052533345483,0.2618922581459752,2.12104217913582,0.808950397331336,-1.109094108308861,1.602083088917013,1.5768855759488984,1.005546370581314,-0.028537663788296124,-0.9521565165466842,-0.2694289632388691,0.33914099158362493,1.4848879735793097,-0.15952953831767577,0.5182428314779433,1.1493720658921305,0.30439104363373704,2.205722994703418,-0.9470086306875309,1.177834410972747,-0.9282409641187047,-1.1566182571832813,-0.5294052252444668,0.902653589829433,1.483146465740587,0.03747260476148352,-1.9110923237948987,-0.6612479030226804,0.5060241559272375,-1.7917820122316197,-0.4334998009209104,-1.6900226944935148,0.32390106016061765,-1.7753081467012586,1.7314152310140727,1.105940310866183,1.1211825454639375,-1.6068916682728345,-0.720547522323849,0.18068597517981844,-1.955738411816919,0.6726488254609667,0.5008582854675393,-0.6348169547283224,0.7258906936858436,-1.6280533559714265,-0.8452387063567807,-1.3127124095500966,1.4963497910833603,-0.27598207528628477,-0.22898495696167098,3.2675260228973384,-0.1862118745000819,0.352276323220306,0.29507517067968014,-0.3942808789972401,1.0284427652707993,1.2898001084397912,0.7705846439237007,-0.07355561105383403,-0.8449567375803194,-0.2530211972433086,-0.554226570610661,1.3099790240284408,-1.4976695060801464,-0.584939513569232,1.5641595185858919,1.018081520470552,1.4032815131925347,-0.6098160950068922,1.7619258459944727,-0.10746200784864435,-1.5375281243471617,-1.922579834123578,-0.8169181127599872,-0.0786697122584202,0.7677043271127714,0.33516517396777745,0.08496112422441039,0.09309029552920575,0.774275523501191,0.6168438544923766,-0.762326463653972,-0.7329996342331008],\"xaxis\":\"x16\",\"yaxis\":\"y16\",\"type\":\"histogram\"}],                        {\"bargap\":0.02,\"legend\":{\"bgcolor\":\"#F5F6F9\",\"font\":{\"color\":\"#4D5663\"}},\"paper_bgcolor\":\"#F5F6F9\",\"plot_bgcolor\":\"#F5F6F9\",\"showlegend\":false,\"template\":{\"data\":{\"barpolar\":[{\"marker\":{\"line\":{\"color\":\"#E5ECF6\",\"width\":0.5},\"pattern\":{\"fillmode\":\"overlay\",\"size\":10,\"solidity\":0.2}},\"type\":\"barpolar\"}],\"bar\":[{\"error_x\":{\"color\":\"#2a3f5f\"},\"error_y\":{\"color\":\"#2a3f5f\"},\"marker\":{\"line\":{\"color\":\"#E5ECF6\",\"width\":0.5},\"pattern\":{\"fillmode\":\"overlay\",\"size\":10,\"solidity\":0.2}},\"type\":\"bar\"}],\"carpet\":[{\"aaxis\":{\"endlinecolor\":\"#2a3f5f\",\"gridcolor\":\"white\",\"linecolor\":\"white\",\"minorgridcolor\":\"white\",\"startlinecolor\":\"#2a3f5f\"},\"baxis\":{\"endlinecolor\":\"#2a3f5f\",\"gridcolor\":\"white\",\"linecolor\":\"white\",\"minorgridcolor\":\"white\",\"startlinecolor\":\"#2a3f5f\"},\"type\":\"carpet\"}],\"choropleth\":[{\"colorbar\":{\"outlinewidth\":0,\"ticks\":\"\"},\"type\":\"choropleth\"}],\"contourcarpet\":[{\"colorbar\":{\"outlinewidth\":0,\"ticks\":\"\"},\"type\":\"contourcarpet\"}],\"contour\":[{\"colorbar\":{\"outlinewidth\":0,\"ticks\":\"\"},\"colorscale\":[[0.0,\"#0d0887\"],[0.1111111111111111,\"#46039f\"],[0.2222222222222222,\"#7201a8\"],[0.3333333333333333,\"#9c179e\"],[0.4444444444444444,\"#bd3786\"],[0.5555555555555556,\"#d8576b\"],[0.6666666666666666,\"#ed7953\"],[0.7777777777777778,\"#fb9f3a\"],[0.8888888888888888,\"#fdca26\"],[1.0,\"#f0f921\"]],\"type\":\"contour\"}],\"heatmapgl\":[{\"colorbar\":{\"outlinewidth\":0,\"ticks\":\"\"},\"colorscale\":[[0.0,\"#0d0887\"],[0.1111111111111111,\"#46039f\"],[0.2222222222222222,\"#7201a8\"],[0.3333333333333333,\"#9c179e\"],[0.4444444444444444,\"#bd3786\"],[0.5555555555555556,\"#d8576b\"],[0.6666666666666666,\"#ed7953\"],[0.7777777777777778,\"#fb9f3a\"],[0.8888888888888888,\"#fdca26\"],[1.0,\"#f0f921\"]],\"type\":\"heatmapgl\"}],\"heatmap\":[{\"colorbar\":{\"outlinewidth\":0,\"ticks\":\"\"},\"colorscale\":[[0.0,\"#0d0887\"],[0.1111111111111111,\"#46039f\"],[0.2222222222222222,\"#7201a8\"],[0.3333333333333333,\"#9c179e\"],[0.4444444444444444,\"#bd3786\"],[0.5555555555555556,\"#d8576b\"],[0.6666666666666666,\"#ed7953\"],[0.7777777777777778,\"#fb9f3a\"],[0.8888888888888888,\"#fdca26\"],[1.0,\"#f0f921\"]],\"type\":\"heatmap\"}],\"histogram2dcontour\":[{\"colorbar\":{\"outlinewidth\":0,\"ticks\":\"\"},\"colorscale\":[[0.0,\"#0d0887\"],[0.1111111111111111,\"#46039f\"],[0.2222222222222222,\"#7201a8\"],[0.3333333333333333,\"#9c179e\"],[0.4444444444444444,\"#bd3786\"],[0.5555555555555556,\"#d8576b\"],[0.6666666666666666,\"#ed7953\"],[0.7777777777777778,\"#fb9f3a\"],[0.8888888888888888,\"#fdca26\"],[1.0,\"#f0f921\"]],\"type\":\"histogram2dcontour\"}],\"histogram2d\":[{\"colorbar\":{\"outlinewidth\":0,\"ticks\":\"\"},\"colorscale\":[[0.0,\"#0d0887\"],[0.1111111111111111,\"#46039f\"],[0.2222222222222222,\"#7201a8\"],[0.3333333333333333,\"#9c179e\"],[0.4444444444444444,\"#bd3786\"],[0.5555555555555556,\"#d8576b\"],[0.6666666666666666,\"#ed7953\"],[0.7777777777777778,\"#fb9f3a\"],[0.8888888888888888,\"#fdca26\"],[1.0,\"#f0f921\"]],\"type\":\"histogram2d\"}],\"histogram\":[{\"marker\":{\"pattern\":{\"fillmode\":\"overlay\",\"size\":10,\"solidity\":0.2}},\"type\":\"histogram\"}],\"mesh3d\":[{\"colorbar\":{\"outlinewidth\":0,\"ticks\":\"\"},\"type\":\"mesh3d\"}],\"parcoords\":[{\"line\":{\"colorbar\":{\"outlinewidth\":0,\"ticks\":\"\"}},\"type\":\"parcoords\"}],\"pie\":[{\"automargin\":true,\"type\":\"pie\"}],\"scatter3d\":[{\"line\":{\"colorbar\":{\"outlinewidth\":0,\"ticks\":\"\"}},\"marker\":{\"colorbar\":{\"outlinewidth\":0,\"ticks\":\"\"}},\"type\":\"scatter3d\"}],\"scattercarpet\":[{\"marker\":{\"colorbar\":{\"outlinewidth\":0,\"ticks\":\"\"}},\"type\":\"scattercarpet\"}],\"scattergeo\":[{\"marker\":{\"colorbar\":{\"outlinewidth\":0,\"ticks\":\"\"}},\"type\":\"scattergeo\"}],\"scattergl\":[{\"marker\":{\"colorbar\":{\"outlinewidth\":0,\"ticks\":\"\"}},\"type\":\"scattergl\"}],\"scattermapbox\":[{\"marker\":{\"colorbar\":{\"outlinewidth\":0,\"ticks\":\"\"}},\"type\":\"scattermapbox\"}],\"scatterpolargl\":[{\"marker\":{\"colorbar\":{\"outlinewidth\":0,\"ticks\":\"\"}},\"type\":\"scatterpolargl\"}],\"scatterpolar\":[{\"marker\":{\"colorbar\":{\"outlinewidth\":0,\"ticks\":\"\"}},\"type\":\"scatterpolar\"}],\"scatter\":[{\"fillpattern\":{\"fillmode\":\"overlay\",\"size\":10,\"solidity\":0.2},\"type\":\"scatter\"}],\"scatterternary\":[{\"marker\":{\"colorbar\":{\"outlinewidth\":0,\"ticks\":\"\"}},\"type\":\"scatterternary\"}],\"surface\":[{\"colorbar\":{\"outlinewidth\":0,\"ticks\":\"\"},\"colorscale\":[[0.0,\"#0d0887\"],[0.1111111111111111,\"#46039f\"],[0.2222222222222222,\"#7201a8\"],[0.3333333333333333,\"#9c179e\"],[0.4444444444444444,\"#bd3786\"],[0.5555555555555556,\"#d8576b\"],[0.6666666666666666,\"#ed7953\"],[0.7777777777777778,\"#fb9f3a\"],[0.8888888888888888,\"#fdca26\"],[1.0,\"#f0f921\"]],\"type\":\"surface\"}],\"table\":[{\"cells\":{\"fill\":{\"color\":\"#EBF0F8\"},\"line\":{\"color\":\"white\"}},\"header\":{\"fill\":{\"color\":\"#C8D4E3\"},\"line\":{\"color\":\"white\"}},\"type\":\"table\"}]},\"layout\":{\"annotationdefaults\":{\"arrowcolor\":\"#2a3f5f\",\"arrowhead\":0,\"arrowwidth\":1},\"autotypenumbers\":\"strict\",\"coloraxis\":{\"colorbar\":{\"outlinewidth\":0,\"ticks\":\"\"}},\"colorscale\":{\"diverging\":[[0,\"#8e0152\"],[0.1,\"#c51b7d\"],[0.2,\"#de77ae\"],[0.3,\"#f1b6da\"],[0.4,\"#fde0ef\"],[0.5,\"#f7f7f7\"],[0.6,\"#e6f5d0\"],[0.7,\"#b8e186\"],[0.8,\"#7fbc41\"],[0.9,\"#4d9221\"],[1,\"#276419\"]],\"sequential\":[[0.0,\"#0d0887\"],[0.1111111111111111,\"#46039f\"],[0.2222222222222222,\"#7201a8\"],[0.3333333333333333,\"#9c179e\"],[0.4444444444444444,\"#bd3786\"],[0.5555555555555556,\"#d8576b\"],[0.6666666666666666,\"#ed7953\"],[0.7777777777777778,\"#fb9f3a\"],[0.8888888888888888,\"#fdca26\"],[1.0,\"#f0f921\"]],\"sequentialminus\":[[0.0,\"#0d0887\"],[0.1111111111111111,\"#46039f\"],[0.2222222222222222,\"#7201a8\"],[0.3333333333333333,\"#9c179e\"],[0.4444444444444444,\"#bd3786\"],[0.5555555555555556,\"#d8576b\"],[0.6666666666666666,\"#ed7953\"],[0.7777777777777778,\"#fb9f3a\"],[0.8888888888888888,\"#fdca26\"],[1.0,\"#f0f921\"]]},\"colorway\":[\"#636efa\",\"#EF553B\",\"#00cc96\",\"#ab63fa\",\"#FFA15A\",\"#19d3f3\",\"#FF6692\",\"#B6E880\",\"#FF97FF\",\"#FECB52\"],\"font\":{\"color\":\"#2a3f5f\"},\"geo\":{\"bgcolor\":\"white\",\"lakecolor\":\"white\",\"landcolor\":\"#E5ECF6\",\"showlakes\":true,\"showland\":true,\"subunitcolor\":\"white\"},\"hoverlabel\":{\"align\":\"left\"},\"hovermode\":\"closest\",\"mapbox\":{\"style\":\"light\"},\"paper_bgcolor\":\"white\",\"plot_bgcolor\":\"#E5ECF6\",\"polar\":{\"angularaxis\":{\"gridcolor\":\"white\",\"linecolor\":\"white\",\"ticks\":\"\"},\"bgcolor\":\"#E5ECF6\",\"radialaxis\":{\"gridcolor\":\"white\",\"linecolor\":\"white\",\"ticks\":\"\"}},\"scene\":{\"xaxis\":{\"backgroundcolor\":\"#E5ECF6\",\"gridcolor\":\"white\",\"gridwidth\":2,\"linecolor\":\"white\",\"showbackground\":true,\"ticks\":\"\",\"zerolinecolor\":\"white\"},\"yaxis\":{\"backgroundcolor\":\"#E5ECF6\",\"gridcolor\":\"white\",\"gridwidth\":2,\"linecolor\":\"white\",\"showbackground\":true,\"ticks\":\"\",\"zerolinecolor\":\"white\"},\"zaxis\":{\"backgroundcolor\":\"#E5ECF6\",\"gridcolor\":\"white\",\"gridwidth\":2,\"linecolor\":\"white\",\"showbackground\":true,\"ticks\":\"\",\"zerolinecolor\":\"white\"}},\"shapedefaults\":{\"line\":{\"color\":\"#2a3f5f\"}},\"ternary\":{\"aaxis\":{\"gridcolor\":\"white\",\"linecolor\":\"white\",\"ticks\":\"\"},\"baxis\":{\"gridcolor\":\"white\",\"linecolor\":\"white\",\"ticks\":\"\"},\"bgcolor\":\"#E5ECF6\",\"caxis\":{\"gridcolor\":\"white\",\"linecolor\":\"white\",\"ticks\":\"\"}},\"title\":{\"x\":0.05},\"xaxis\":{\"automargin\":true,\"gridcolor\":\"white\",\"linecolor\":\"white\",\"ticks\":\"\",\"title\":{\"standoff\":15},\"zerolinecolor\":\"white\",\"zerolinewidth\":2},\"yaxis\":{\"automargin\":true,\"gridcolor\":\"white\",\"linecolor\":\"white\",\"ticks\":\"\",\"title\":{\"standoff\":15},\"zerolinecolor\":\"white\",\"zerolinewidth\":2}}},\"title\":{\"font\":{\"color\":\"#4D5663\"}},\"xaxis\":{\"anchor\":\"y\",\"domain\":[0.0,0.2125],\"gridcolor\":\"#E1E5ED\",\"showgrid\":false,\"tickfont\":{\"color\":\"#4D5663\"},\"title\":{\"font\":{\"color\":\"#4D5663\"},\"text\":\"\"},\"zerolinecolor\":\"#E1E5ED\"},\"yaxis\":{\"anchor\":\"x\",\"domain\":[0.8025,1.0],\"gridcolor\":\"#E1E5ED\",\"showgrid\":false,\"tickfont\":{\"color\":\"#4D5663\"},\"title\":{\"font\":{\"color\":\"#4D5663\"},\"text\":\"\"},\"zerolinecolor\":\"#E1E5ED\"},\"xaxis2\":{\"anchor\":\"y2\",\"domain\":[0.2625,0.475],\"gridcolor\":\"#E1E5ED\",\"showgrid\":false,\"tickfont\":{\"color\":\"#4D5663\"},\"title\":{\"font\":{\"color\":\"#4D5663\"},\"text\":\"\"},\"zerolinecolor\":\"#E1E5ED\"},\"yaxis2\":{\"anchor\":\"x2\",\"domain\":[0.8025,1.0],\"gridcolor\":\"#E1E5ED\",\"showgrid\":false,\"tickfont\":{\"color\":\"#4D5663\"},\"title\":{\"font\":{\"color\":\"#4D5663\"},\"text\":\"\"},\"zerolinecolor\":\"#E1E5ED\"},\"xaxis3\":{\"anchor\":\"y3\",\"domain\":[0.525,0.7375],\"gridcolor\":\"#E1E5ED\",\"showgrid\":false,\"tickfont\":{\"color\":\"#4D5663\"},\"title\":{\"font\":{\"color\":\"#4D5663\"},\"text\":\"\"},\"zerolinecolor\":\"#E1E5ED\"},\"yaxis3\":{\"anchor\":\"x3\",\"domain\":[0.8025,1.0],\"gridcolor\":\"#E1E5ED\",\"showgrid\":false,\"tickfont\":{\"color\":\"#4D5663\"},\"title\":{\"font\":{\"color\":\"#4D5663\"},\"text\":\"\"},\"zerolinecolor\":\"#E1E5ED\"},\"xaxis4\":{\"anchor\":\"y4\",\"domain\":[0.7875,1.0],\"gridcolor\":\"#E1E5ED\",\"showgrid\":false,\"tickfont\":{\"color\":\"#4D5663\"},\"title\":{\"font\":{\"color\":\"#4D5663\"},\"text\":\"\"},\"zerolinecolor\":\"#E1E5ED\"},\"yaxis4\":{\"anchor\":\"x4\",\"domain\":[0.8025,1.0],\"gridcolor\":\"#E1E5ED\",\"showgrid\":false,\"tickfont\":{\"color\":\"#4D5663\"},\"title\":{\"font\":{\"color\":\"#4D5663\"},\"text\":\"\"},\"zerolinecolor\":\"#E1E5ED\"},\"xaxis5\":{\"anchor\":\"y5\",\"domain\":[0.0,0.2125],\"gridcolor\":\"#E1E5ED\",\"showgrid\":false,\"tickfont\":{\"color\":\"#4D5663\"},\"title\":{\"font\":{\"color\":\"#4D5663\"},\"text\":\"\"},\"zerolinecolor\":\"#E1E5ED\"},\"yaxis5\":{\"anchor\":\"x5\",\"domain\":[0.535,0.7325],\"gridcolor\":\"#E1E5ED\",\"showgrid\":false,\"tickfont\":{\"color\":\"#4D5663\"},\"title\":{\"font\":{\"color\":\"#4D5663\"},\"text\":\"\"},\"zerolinecolor\":\"#E1E5ED\"},\"xaxis6\":{\"anchor\":\"y6\",\"domain\":[0.2625,0.475],\"gridcolor\":\"#E1E5ED\",\"showgrid\":false,\"tickfont\":{\"color\":\"#4D5663\"},\"title\":{\"font\":{\"color\":\"#4D5663\"},\"text\":\"\"},\"zerolinecolor\":\"#E1E5ED\"},\"yaxis6\":{\"anchor\":\"x6\",\"domain\":[0.535,0.7325],\"gridcolor\":\"#E1E5ED\",\"showgrid\":false,\"tickfont\":{\"color\":\"#4D5663\"},\"title\":{\"font\":{\"color\":\"#4D5663\"},\"text\":\"\"},\"zerolinecolor\":\"#E1E5ED\"},\"xaxis7\":{\"anchor\":\"y7\",\"domain\":[0.525,0.7375],\"gridcolor\":\"#E1E5ED\",\"showgrid\":false,\"tickfont\":{\"color\":\"#4D5663\"},\"title\":{\"font\":{\"color\":\"#4D5663\"},\"text\":\"\"},\"zerolinecolor\":\"#E1E5ED\"},\"yaxis7\":{\"anchor\":\"x7\",\"domain\":[0.535,0.7325],\"gridcolor\":\"#E1E5ED\",\"showgrid\":false,\"tickfont\":{\"color\":\"#4D5663\"},\"title\":{\"font\":{\"color\":\"#4D5663\"},\"text\":\"\"},\"zerolinecolor\":\"#E1E5ED\"},\"xaxis8\":{\"anchor\":\"y8\",\"domain\":[0.7875,1.0],\"gridcolor\":\"#E1E5ED\",\"showgrid\":false,\"tickfont\":{\"color\":\"#4D5663\"},\"title\":{\"font\":{\"color\":\"#4D5663\"},\"text\":\"\"},\"zerolinecolor\":\"#E1E5ED\"},\"yaxis8\":{\"anchor\":\"x8\",\"domain\":[0.535,0.7325],\"gridcolor\":\"#E1E5ED\",\"showgrid\":false,\"tickfont\":{\"color\":\"#4D5663\"},\"title\":{\"font\":{\"color\":\"#4D5663\"},\"text\":\"\"},\"zerolinecolor\":\"#E1E5ED\"},\"xaxis9\":{\"anchor\":\"y9\",\"domain\":[0.0,0.2125],\"gridcolor\":\"#E1E5ED\",\"showgrid\":false,\"tickfont\":{\"color\":\"#4D5663\"},\"title\":{\"font\":{\"color\":\"#4D5663\"},\"text\":\"\"},\"zerolinecolor\":\"#E1E5ED\"},\"yaxis9\":{\"anchor\":\"x9\",\"domain\":[0.2675,0.465],\"gridcolor\":\"#E1E5ED\",\"showgrid\":false,\"tickfont\":{\"color\":\"#4D5663\"},\"title\":{\"font\":{\"color\":\"#4D5663\"},\"text\":\"\"},\"zerolinecolor\":\"#E1E5ED\"},\"xaxis10\":{\"anchor\":\"y10\",\"domain\":[0.2625,0.475],\"gridcolor\":\"#E1E5ED\",\"showgrid\":false,\"tickfont\":{\"color\":\"#4D5663\"},\"title\":{\"font\":{\"color\":\"#4D5663\"},\"text\":\"\"},\"zerolinecolor\":\"#E1E5ED\"},\"yaxis10\":{\"anchor\":\"x10\",\"domain\":[0.2675,0.465],\"gridcolor\":\"#E1E5ED\",\"showgrid\":false,\"tickfont\":{\"color\":\"#4D5663\"},\"title\":{\"font\":{\"color\":\"#4D5663\"},\"text\":\"\"},\"zerolinecolor\":\"#E1E5ED\"},\"xaxis11\":{\"anchor\":\"y11\",\"domain\":[0.525,0.7375],\"gridcolor\":\"#E1E5ED\",\"showgrid\":false,\"tickfont\":{\"color\":\"#4D5663\"},\"title\":{\"font\":{\"color\":\"#4D5663\"},\"text\":\"\"},\"zerolinecolor\":\"#E1E5ED\"},\"yaxis11\":{\"anchor\":\"x11\",\"domain\":[0.2675,0.465],\"gridcolor\":\"#E1E5ED\",\"showgrid\":false,\"tickfont\":{\"color\":\"#4D5663\"},\"title\":{\"font\":{\"color\":\"#4D5663\"},\"text\":\"\"},\"zerolinecolor\":\"#E1E5ED\"},\"xaxis12\":{\"anchor\":\"y12\",\"domain\":[0.7875,1.0],\"gridcolor\":\"#E1E5ED\",\"showgrid\":false,\"tickfont\":{\"color\":\"#4D5663\"},\"title\":{\"font\":{\"color\":\"#4D5663\"},\"text\":\"\"},\"zerolinecolor\":\"#E1E5ED\"},\"yaxis12\":{\"anchor\":\"x12\",\"domain\":[0.2675,0.465],\"gridcolor\":\"#E1E5ED\",\"showgrid\":false,\"tickfont\":{\"color\":\"#4D5663\"},\"title\":{\"font\":{\"color\":\"#4D5663\"},\"text\":\"\"},\"zerolinecolor\":\"#E1E5ED\"},\"xaxis13\":{\"anchor\":\"y13\",\"domain\":[0.0,0.2125],\"gridcolor\":\"#E1E5ED\",\"showgrid\":false,\"tickfont\":{\"color\":\"#4D5663\"},\"title\":{\"font\":{\"color\":\"#4D5663\"},\"text\":\"\"},\"zerolinecolor\":\"#E1E5ED\"},\"yaxis13\":{\"anchor\":\"x13\",\"domain\":[0.0,0.1975],\"gridcolor\":\"#E1E5ED\",\"showgrid\":false,\"tickfont\":{\"color\":\"#4D5663\"},\"title\":{\"font\":{\"color\":\"#4D5663\"},\"text\":\"\"},\"zerolinecolor\":\"#E1E5ED\"},\"xaxis14\":{\"anchor\":\"y14\",\"domain\":[0.2625,0.475],\"gridcolor\":\"#E1E5ED\",\"showgrid\":false,\"tickfont\":{\"color\":\"#4D5663\"},\"title\":{\"font\":{\"color\":\"#4D5663\"},\"text\":\"\"},\"zerolinecolor\":\"#E1E5ED\"},\"yaxis14\":{\"anchor\":\"x14\",\"domain\":[0.0,0.1975],\"gridcolor\":\"#E1E5ED\",\"showgrid\":false,\"tickfont\":{\"color\":\"#4D5663\"},\"title\":{\"font\":{\"color\":\"#4D5663\"},\"text\":\"\"},\"zerolinecolor\":\"#E1E5ED\"},\"xaxis15\":{\"anchor\":\"y15\",\"domain\":[0.525,0.7375],\"gridcolor\":\"#E1E5ED\",\"showgrid\":false,\"tickfont\":{\"color\":\"#4D5663\"},\"title\":{\"font\":{\"color\":\"#4D5663\"},\"text\":\"\"},\"zerolinecolor\":\"#E1E5ED\"},\"yaxis15\":{\"anchor\":\"x15\",\"domain\":[0.0,0.1975],\"gridcolor\":\"#E1E5ED\",\"showgrid\":false,\"tickfont\":{\"color\":\"#4D5663\"},\"title\":{\"font\":{\"color\":\"#4D5663\"},\"text\":\"\"},\"zerolinecolor\":\"#E1E5ED\"},\"xaxis16\":{\"anchor\":\"y16\",\"domain\":[0.7875,1.0],\"gridcolor\":\"#E1E5ED\",\"showgrid\":false,\"tickfont\":{\"color\":\"#4D5663\"},\"title\":{\"font\":{\"color\":\"#4D5663\"},\"text\":\"\"},\"zerolinecolor\":\"#E1E5ED\"},\"yaxis16\":{\"anchor\":\"x16\",\"domain\":[0.0,0.1975],\"gridcolor\":\"#E1E5ED\",\"showgrid\":false,\"tickfont\":{\"color\":\"#4D5663\"},\"title\":{\"font\":{\"color\":\"#4D5663\"},\"text\":\"\"},\"zerolinecolor\":\"#E1E5ED\"}},                        {\"showLink\": true, \"linkText\": \"Export to plot.ly\", \"plotlyServerURL\": \"https://plot.ly\", \"responsive\": true}                    ).then(function(){\n",
       "                            \n",
       "var gd = document.getElementById('9ef43afb-e3ea-4375-aedc-2f6b4018aa98');\n",
       "var x = new MutationObserver(function (mutations, observer) {{\n",
       "        var display = window.getComputedStyle(gd).display;\n",
       "        if (!display || display === 'none') {{\n",
       "            console.log([gd, 'removed!']);\n",
       "            Plotly.purge(gd);\n",
       "            observer.disconnect();\n",
       "        }}\n",
       "}});\n",
       "\n",
       "// Listen for the removal of the full notebook cells\n",
       "var notebookContainer = gd.closest('#notebook-container');\n",
       "if (notebookContainer) {{\n",
       "    x.observe(notebookContainer, {childList: true});\n",
       "}}\n",
       "\n",
       "// Listen for the clearing of the current output cell\n",
       "var outputEl = gd.closest('.output');\n",
       "if (outputEl) {{\n",
       "    x.observe(outputEl, {childList: true});\n",
       "}}\n",
       "\n",
       "                        })                };                });            </script>        </div>"
      ]
     },
     "metadata": {},
     "output_type": "display_data"
    }
   ],
   "source": [
    "df.scatter_matrix()"
   ]
  },
  {
   "cell_type": "code",
   "execution_count": null,
   "id": "fd203a9b-cec7-4d46-b9f6-e24d3b49dd2d",
   "metadata": {},
   "outputs": [],
   "source": []
  },
  {
   "cell_type": "code",
   "execution_count": null,
   "id": "f93313e9-c5d5-44ab-9265-23870afcf7ba",
   "metadata": {},
   "outputs": [],
   "source": []
  }
 ],
 "metadata": {
  "kernelspec": {
   "display_name": "base",
   "language": "python",
   "name": "python3"
  },
  "language_info": {
   "codemirror_mode": {
    "name": "ipython",
    "version": 3
   },
   "file_extension": ".py",
   "mimetype": "text/x-python",
   "name": "python",
   "nbconvert_exporter": "python",
   "pygments_lexer": "ipython3",
   "version": "3.12.3"
  }
 },
 "nbformat": 4,
 "nbformat_minor": 5
}
